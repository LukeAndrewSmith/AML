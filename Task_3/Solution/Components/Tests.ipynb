{
 "cells": [
  {
   "cell_type": "code",
   "execution_count": null,
   "metadata": {},
   "outputs": [],
   "source": [
    "# General\n",
    "# ! pip install biosppy\n",
    "# ! pip install neurokit2\n",
    "import matplotlib.pyplot as plt\n",
    "import pandas as pd\n",
    "import numpy as np\n",
    "import neurokit2 as nk\n",
    "from pprint import pprint\n",
    "\n",
    "# ML\n",
    "from sklearn.svm import SVC\n",
    "from sklearn.metrics import f1_score\n",
    "from sklearn.model_selection import cross_val_score\n",
    "from sklearn.preprocessing import StandardScaler\n",
    "\n",
    "# Custom\n",
    "import sys,os\n",
    "sys.path.append( '.' )\n",
    "sys.path.append( '..' )\n",
    "import Components.Normalisation as Normalisation\n",
    "import Components.data_fetching as data_fetching\n",
    "import Components.Feature_Engineering as Feature_Engineering\n",
    "\n",
    "\n",
    "# CAREFUL:\n",
    "# If you make changes to a custom module, you have to reload it, i.e rerun this cell\n",
    "import importlib\n",
    "importlib.reload(Normalisation)\n",
    "importlib.reload(data_fetching)\n",
    "importlib.reload(Feature_Engineering)"
   ]
  },
  {
   "cell_type": "markdown",
   "metadata": {},
   "source": [
    "# Feature_Engineering Tests"
   ]
  },
  {
   "cell_type": "markdown",
   "metadata": {},
   "source": [
    "## peaks_cleaning"
   ]
  },
  {
   "cell_type": "code",
   "execution_count": null,
   "metadata": {},
   "outputs": [],
   "source": [
    "import copy as cp\n",
    "\n",
    "test = [[141, 405, 658, 1476, 1746, 2009, 2267, 2522, 2780, 3026],\n",
    " [170, 431, 678, 954, 1498, 1761, 2031, 2291, 2554, 2803, 3046],\n",
    " [183, 446, 706, 969, 1237, 1517, 1783, 2050, 2306, 2566, 2817, 3068],\n",
    " [209, 465, 746, 998, 1257, 1536, 1809, 2069, 2326, 2583, 2839, 3087],\n",
    " [288, 502, 803, 1084, 1289, 1572, 1852, 2109, 2685, 2872, 3124]]\n",
    "\n",
    "print(\"Test 1:\")\n",
    "t1 = cp.deepcopy(test)\n",
    "t1[0][0] = None\n",
    "pprint(t1)\n",
    "t1[0].pop(0)\n",
    "pprint(peaks_cleaning(t1))\n",
    "\n",
    "print(\"\\nTest 2:\")\n",
    "t2 = cp.deepcopy(test)\n",
    "t2[2][5] = None\n",
    "pprint(t2)\n",
    "t2[2].pop(5)\n",
    "pk2 = peaks_cleaning(t2)\n",
    "pprint(pk2)\n",
    "\n",
    "# p_t2 = peaks_cleaning(t2)\n",
    "# print(np.array(p_t2[-1])-np.array(p_t2[0]))"
   ]
  },
  {
   "cell_type": "markdown",
   "metadata": {},
   "source": [
    "## NeuroKit2 Problems..."
   ]
  },
  {
   "cell_type": "code",
   "execution_count": null,
   "metadata": {},
   "outputs": [],
   "source": [
    "nk.ecg_process(X.iloc[62].dropna(), sampling_rate=300)\n",
    "\n",
    "import biosppy.signals.ecg as ecg\n",
    "ecg.ecg(signal=X.iloc[62].dropna(), sampling_rate=300.0)"
   ]
  }
 ],
 "metadata": {
  "environment": {
   "name": "common-cpu.m58",
   "type": "gcloud",
   "uri": "gcr.io/deeplearning-platform-release/base-cpu:m58"
  },
  "kernelspec": {
   "display_name": "Python 3",
   "language": "python",
   "name": "python3"
  },
  "language_info": {
   "codemirror_mode": {
    "name": "ipython",
    "version": 3
   },
   "file_extension": ".py",
   "mimetype": "text/x-python",
   "name": "python",
   "nbconvert_exporter": "python",
   "pygments_lexer": "ipython3",
   "version": "3.7.8"
  }
 },
 "nbformat": 4,
 "nbformat_minor": 4
}
