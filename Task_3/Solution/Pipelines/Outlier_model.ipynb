{
 "cells": [
  {
   "cell_type": "code",
   "execution_count": 35,
   "metadata": {},
   "outputs": [],
   "source": [
    "# General\n",
    "import matplotlib.pyplot as plt\n",
    "import pandas as pd\n",
    "import numpy as np\n",
    "\n",
    "# ML\n",
    "\n",
    "from sklearn.metrics import balanced_accuracy_score\n",
    "from sklearn.model_selection import cross_validate\n",
    "from sklearn.model_selection import train_test_split\n",
    "from sklearn.model_selection import cross_val_score, GridSearchCV\n",
    "from sklearn.linear_model import LogisticRegression\n",
    "from sklearn.multiclass import OneVsRestClassifier\n",
    "from sklearn.svm import SVC\n",
    "from sklearn.preprocessing import StandardScaler\n",
    "from sklearn.metrics import f1_score, confusion_matrix\n",
    "from sklearn.pipeline import Pipeline\n",
    "from sklearn.decomposition import PCA\n",
    "from xgboost import XGBClassifier\n",
    "\n",
    "\n",
    "# feature extraction\n",
    "import biosppy.signals.ecg as ecg\n",
    "\n",
    "# Custom\n",
    "import sys,os\n",
    "sys.path.append( '.' )\n",
    "sys.path.append( '..' )\n",
    "import Components.Outlier_Detection as Outlier_Detection\n",
    "import Components.Feature_Selection as Feature_Selection\n",
    "import Components.Normalisation as Normalisation\n",
    "import Components.data_fetching as data_fetching\n",
    "import Components.feature_extraction as feature_extraction\n",
    "import Components.Two_Step_Model as Two_Step_Model\n",
    "\n",
    "# CAREFUL:\n",
    "# If you make changes to a custom module, you have to reload it, i.e rerun this cell\n",
    "import importlib\n",
    "importlib.reload(Outlier_Detection)\n",
    "importlib.reload(Feature_Selection)\n",
    "importlib.reload(Normalisation)\n",
    "importlib.reload(data_fetching)\n",
    "importlib.reload(feature_extraction)\n",
    "importlib.reload(Two_Step_Model)\n",
    "\n",
    "\n",
    "\n",
    "from ipywidgets import interact, interactive, fixed, interact_manual\n",
    "import ipywidgets as widgets\n",
    "\n"
   ]
  },
  {
   "cell_type": "markdown",
   "metadata": {},
   "source": [
    "### Data Input"
   ]
  },
  {
   "cell_type": "code",
   "execution_count": 3,
   "metadata": {},
   "outputs": [
    {
     "name": "stderr",
     "output_type": "stream",
     "text": [
      "/opt/conda/lib/python3.7/site-packages/IPython/core/interactiveshell.py:3337: DtypeWarning: Columns (17979) have mixed types.Specify dtype option on import or set low_memory=False.\n",
      "  if (await self.run_code(code, result,  async_=asy)):\n"
     ]
    }
   ],
   "source": [
    "X, y = data_fetching.get_train_data()"
   ]
  },
  {
   "cell_type": "code",
   "execution_count": 47,
   "metadata": {},
   "outputs": [
    {
     "name": "stdout",
     "output_type": "stream",
     "text": [
      "<class 'pandas.core.frame.DataFrame'>\n",
      "(5117, 1)\n",
      "             1           2             3           4             5    \\\n",
      "0      68.630849  320.555556  30973.802469  287.600000   7399.240000   \n",
      "1      61.726883  328.750000   9966.687500  303.307692   3872.366864   \n",
      "2      84.916201  229.314286   4131.929796  229.400000   3534.982857   \n",
      "3      67.432567  287.037037  11692.702332  287.037037  11852.480110   \n",
      "4      59.495192  553.666667  73455.555556  411.500000  49303.000000   \n",
      "...          ...         ...           ...         ...           ...   \n",
      "5112   70.249174  312.555556  11353.358025  279.083333   8635.909722   \n",
      "5113  100.600962  178.967742    125.364551  178.924731     87.037345   \n",
      "5114   83.731456  216.027027    224.945215  214.972973     51.647918   \n",
      "5115   72.080089  275.346939   5942.063307  275.081633   5983.830071   \n",
      "5116   80.042689  225.000000    261.440000  225.280000     88.921600   \n",
      "\n",
      "             6            7           8             9           10   ...  \\\n",
      "0     262.272727    62.561983  261.636364    109.140496  283.600000  ...   \n",
      "1     291.607143   531.167092  291.571429    531.959184  291.500000  ...   \n",
      "2     211.973684    21.130886  211.921053     59.651662  212.631579  ...   \n",
      "3     266.933333   298.195556  265.966667    736.232222  267.133333  ...   \n",
      "4     302.545455  2098.066116  326.000000  20880.400000  334.888889  ...   \n",
      "...          ...          ...         ...           ...         ...  ...   \n",
      "5112  256.230769  2704.946746  256.076923   3281.301775  252.153846  ...   \n",
      "5113  178.924731    55.768528  178.817204    101.224650  178.946237  ...   \n",
      "5114  214.972973    50.891161  215.891892    486.853178  214.861111  ...   \n",
      "5115  249.722222    46.163580  249.925926    148.290809  249.660377  ...   \n",
      "5116  224.880000     7.865600  223.640000    149.110400  223.680000  ...   \n",
      "\n",
      "             102            103         104            105         106  \\\n",
      "0    -408.127061   56193.019592  107.258791  159655.692900  328.706735   \n",
      "1    -432.377390    2000.030874  190.485731    1415.981985  232.135447   \n",
      "2    -330.160110   13872.000382  180.985503   59220.878746  315.897609   \n",
      "3    -475.635966  120651.663275   64.850668   25468.043188  178.981357   \n",
      "4     -66.743637   67387.120350  335.216606  864843.253992  619.582401   \n",
      "...          ...            ...         ...            ...         ...   \n",
      "5112 -732.615068  483869.226326 -224.281858  668809.460227  313.238943   \n",
      "5113 -313.565891    2574.904557  133.096370    3560.797758  260.600009   \n",
      "5114 -348.799962   12973.339493   37.530878   11964.547857  754.293138   \n",
      "5115 -452.613045    8812.313426  255.850339    9377.812428  388.553328   \n",
      "5116 -140.297677    8044.784110   37.419900    4511.557109  126.315457   \n",
      "\n",
      "               107          108            109         110            111  \n",
      "0     9.107153e+04  -963.973365  165427.693220  408.127061   56193.019592  \n",
      "1     1.643267e+03  -111.035887    4232.048023  432.377390    2000.030874  \n",
      "2     3.213636e+04  -427.485916   16243.998310  330.160110   13872.000382  \n",
      "3     2.635081e+04  -654.597320   52324.335560  475.635966  120651.663275  \n",
      "4     1.548150e+06  -661.814995  423035.259629   66.743637   67387.120350  \n",
      "...            ...          ...            ...         ...            ...  \n",
      "5112  5.515724e+05 -1033.099121  312752.368310  732.615068  483869.226326  \n",
      "5113  3.102087e+03 -1044.367051    8265.089065  313.565891    2574.904557  \n",
      "5114  8.521871e+03   -66.550077    5375.799447  348.799962   12973.339493  \n",
      "5115  1.152435e+04  -796.960937   17038.924884  452.613045    8812.313426  \n",
      "5116  1.971968e+04  -238.263730    2501.035010  140.297677    8044.784110  \n",
      "\n",
      "[5117 rows x 111 columns]\n"
     ]
    }
   ],
   "source": [
    "X_luke, y_luke = data_fetching.get_engineered_train_data()\n",
    "print(type(X_luke))\n",
    "print(np.shape(y_luke))\n",
    "X_luke = X_luke.drop(0, 1)\n",
    "print(X_luke)"
   ]
  },
  {
   "cell_type": "code",
   "execution_count": 55,
   "metadata": {},
   "outputs": [
    {
     "name": "stdout",
     "output_type": "stream",
     "text": [
      "(5117, 504)\n"
     ]
    }
   ],
   "source": [
    "X = pd.concat([X_transf, X_luke], axis=1)\n",
    "print(np.shape(X))"
   ]
  },
  {
   "cell_type": "markdown",
   "metadata": {},
   "source": [
    "### Feature Extraction"
   ]
  },
  {
   "cell_type": "code",
   "execution_count": 4,
   "metadata": {},
   "outputs": [],
   "source": [
    "X_transf = feature_extraction.get_features(X=X,types=['heartbeats', 'timeseries'], verbose=True, precomputed='train')"
   ]
  },
  {
   "cell_type": "code",
   "execution_count": 7,
   "metadata": {},
   "outputs": [
    {
     "name": "stdout",
     "output_type": "stream",
     "text": [
      "(5117, 1)\n"
     ]
    }
   ],
   "source": [
    "print(np.shape(y))"
   ]
  },
  {
   "cell_type": "code",
   "execution_count": 233,
   "metadata": {},
   "outputs": [
    {
     "name": "stdout",
     "output_type": "stream",
     "text": [
      "[[<AxesSubplot:title={'center':'y'}>]]\n"
     ]
    },
    {
     "data": {
      "image/png": "[encoded data removed]",
      "text/plain": [
       "<Figure size 432x288 with 1 Axes>"
      ]
     },
     "metadata": {
      "needs_background": "light"
     },
     "output_type": "display_data"
    }
   ],
   "source": [
    "# check pca: \n",
    "y_1 = y.copy()\n",
    "y_1['y'] = np.where((y_1.y == 1), 0, y_1.y)\n",
    "y_1['y'] = np.where((y_1.y == 2), 0, y_1.y)\n",
    "print(y_1.hist())"
   ]
  },
  {
   "cell_type": "code",
   "execution_count": 238,
   "metadata": {},
   "outputs": [],
   "source": [
    "pipe = Pipeline([('scaling',StandardScaler()),\n",
    "                 ('classification',\n",
    "                  SVC(C=5.0, gamma=0.0001, class_weight={0:1, 3:100}))\n",
    "                ])"
   ]
  },
  {
   "cell_type": "code",
   "execution_count": 240,
   "metadata": {},
   "outputs": [
    {
     "name": "stderr",
     "output_type": "stream",
     "text": [
      "/opt/conda/lib/python3.7/site-packages/sklearn/utils/validation.py:72: DataConversionWarning: A column-vector y was passed when a 1d array was expected. Please change the shape of y to (n_samples, ), for example using ravel().\n",
      "  return f(**kwargs)\n",
      "/opt/conda/lib/python3.7/site-packages/sklearn/utils/validation.py:72: DataConversionWarning: A column-vector y was passed when a 1d array was expected. Please change the shape of y to (n_samples, ), for example using ravel().\n",
      "  return f(**kwargs)\n",
      "/opt/conda/lib/python3.7/site-packages/sklearn/utils/validation.py:72: DataConversionWarning: A column-vector y was passed when a 1d array was expected. Please change the shape of y to (n_samples, ), for example using ravel().\n",
      "  return f(**kwargs)\n",
      "/opt/conda/lib/python3.7/site-packages/sklearn/utils/validation.py:72: DataConversionWarning: A column-vector y was passed when a 1d array was expected. Please change the shape of y to (n_samples, ), for example using ravel().\n",
      "  return f(**kwargs)\n",
      "/opt/conda/lib/python3.7/site-packages/sklearn/utils/validation.py:72: DataConversionWarning: A column-vector y was passed when a 1d array was expected. Please change the shape of y to (n_samples, ), for example using ravel().\n",
      "  return f(**kwargs)\n",
      "/opt/conda/lib/python3.7/site-packages/sklearn/utils/validation.py:72: DataConversionWarning: A column-vector y was passed when a 1d array was expected. Please change the shape of y to (n_samples, ), for example using ravel().\n",
      "  return f(**kwargs)\n",
      "/opt/conda/lib/python3.7/site-packages/sklearn/utils/validation.py:72: DataConversionWarning: A column-vector y was passed when a 1d array was expected. Please change the shape of y to (n_samples, ), for example using ravel().\n",
      "  return f(**kwargs)\n",
      "/opt/conda/lib/python3.7/site-packages/sklearn/utils/validation.py:72: DataConversionWarning: A column-vector y was passed when a 1d array was expected. Please change the shape of y to (n_samples, ), for example using ravel().\n",
      "  return f(**kwargs)\n",
      "/opt/conda/lib/python3.7/site-packages/sklearn/utils/validation.py:72: DataConversionWarning: A column-vector y was passed when a 1d array was expected. Please change the shape of y to (n_samples, ), for example using ravel().\n",
      "  return f(**kwargs)\n",
      "/opt/conda/lib/python3.7/site-packages/sklearn/utils/validation.py:72: DataConversionWarning: A column-vector y was passed when a 1d array was expected. Please change the shape of y to (n_samples, ), for example using ravel().\n",
      "  return f(**kwargs)\n"
     ]
    },
    {
     "name": "stdout",
     "output_type": "stream",
     "text": [
      "[0.80078125 0.80664062 0.78710938 0.82226562 0.82226562 0.80273438\n",
      " 0.81604697 0.81213307 0.79060665 0.80626223]\n",
      "Accuracy: 0.81 (+/- 0.02)\n"
     ]
    }
   ],
   "source": [
    "scores = cross_val_score(pipe, X_transf, y_1[0:5116], cv=10, scoring='f1_micro')\n",
    "print(scores)\n",
    "print(\"Accuracy: %0.2f (+/- %0.2f)\" % (scores.mean(), scores.std() * 2))"
   ]
  },
  {
   "cell_type": "code",
   "execution_count": 80,
   "metadata": {},
   "outputs": [
    {
     "data": {
      "image/png": "[encoded data removed]",
      "text/plain": [
       "<Figure size 432x288 with 1 Axes>"
      ]
     },
     "metadata": {
      "needs_background": "light"
     },
     "output_type": "display_data"
    }
   ],
   "source": [
    "pca = PCA(n_components=2)\n",
    "pca.fit(X_transf)\n",
    "X_pca = pca.transform(X_transf)\n",
    "X_pca = pd.DataFrame(X_pca)\n",
    "idx_1 = np.where(y[:1500].y == 1)\n",
    "idx_0 = np.where(y[:1500].y == 0)\n",
    "idx_2 = np.where(y[:1500].y == 2)\n",
    "idx_3 = np.where(y[:1500].y == 3)\n",
    "\n",
    "class_0 = pd.DataFrame(X_pca.iloc[idx_0])\n",
    "class_1 = pd.DataFrame(X_pca.iloc[idx_1])\n",
    "class_2 = pd.DataFrame(X_pca.iloc[idx_2])\n",
    "class_3 = pd.DataFrame(X_pca.iloc[idx_3])\n",
    "\n",
    "\n",
    "\n",
    "#print(class_1[0])\n",
    "\n",
    "\n",
    "plt.scatter(class_1[0], class_1[1], c='r')\n",
    "plt.scatter(class_0[0], class_0[1], c='b')\n",
    "plt.scatter(class_2[0], class_2[1], c='g')\n",
    "plt.scatter(class_3[0], class_3[1], c='y')\n",
    "\n",
    "\n",
    "\n",
    "plt.show()"
   ]
  },
  {
   "cell_type": "code",
   "execution_count": 68,
   "metadata": {},
   "outputs": [
    {
     "name": "stdout",
     "output_type": "stream",
     "text": [
      "[[<AxesSubplot:title={'center':'y'}>]]\n"
     ]
    },
    {
     "data": {
      "image/png": "[encoded data removed]",
      "text/plain": [
       "<Figure size 432x288 with 1 Axes>"
      ]
     },
     "metadata": {
      "needs_background": "light"
     },
     "output_type": "display_data"
    }
   ],
   "source": []
  },
  {
   "cell_type": "markdown",
   "metadata": {},
   "source": [
    "### Pipeline for Outlier Detection of Class 2"
   ]
  },
  {
   "cell_type": "code",
   "execution_count": 48,
   "metadata": {},
   "outputs": [],
   "source": [
    "clf1 = SVC(shrinking=True, cache_size=1000)\n",
    "clf2 = SVC(shrinking=True, cache_size=1000)\n",
    "clf1_args = {'C':1.0, 'kernel': 'rbf', 'gamma': 'auto', 'shrinking':True, 'cache_size':1000, 'class_weight': 'balanced'}\n",
    "clf2_args = {'C':1.0, 'kernel': 'rbf', 'gamma': 'auto', 'shrinking':True, 'cache_size':1000, 'class_weight': 'balanced'}"
   ]
  },
  {
   "cell_type": "code",
   "execution_count": 49,
   "metadata": {},
   "outputs": [],
   "source": [
    "pipe = Pipeline([('scaling',StandardScaler()),\n",
    "                 ('classification',\n",
    "                  Two_Step_Model.TwoStepModel(clf1, clf2))\n",
    "                ])"
   ]
  },
  {
   "cell_type": "code",
   "execution_count": 209,
   "metadata": {},
   "outputs": [
    {
     "name": "stderr",
     "output_type": "stream",
     "text": [
      "/opt/conda/lib/python3.7/site-packages/sklearn/utils/validation.py:72: DataConversionWarning: A column-vector y was passed when a 1d array was expected. Please change the shape of y to (n_samples, ), for example using ravel().\n",
      "  return f(**kwargs)\n",
      "/opt/conda/lib/python3.7/site-packages/sklearn/utils/validation.py:72: DataConversionWarning: A column-vector y was passed when a 1d array was expected. Please change the shape of y to (n_samples, ), for example using ravel().\n",
      "  return f(**kwargs)\n",
      "/opt/conda/lib/python3.7/site-packages/sklearn/utils/validation.py:72: DataConversionWarning: A column-vector y was passed when a 1d array was expected. Please change the shape of y to (n_samples, ), for example using ravel().\n",
      "  return f(**kwargs)\n",
      "/opt/conda/lib/python3.7/site-packages/sklearn/utils/validation.py:72: DataConversionWarning: A column-vector y was passed when a 1d array was expected. Please change the shape of y to (n_samples, ), for example using ravel().\n",
      "  return f(**kwargs)\n"
     ]
    },
    {
     "name": "stdout",
     "output_type": "stream",
     "text": [
      "[0.63995309 0.65949961]\n",
      "Accuracy: 0.65 (+/- 0.02)\n"
     ]
    }
   ],
   "source": [
    "# fit the pipeline and evaluate\n",
    "\n",
    "scores = cross_val_score(pipe, X_transf, y[0:5116], cv=2, scoring='f1_micro')\n",
    "print(scores)\n",
    "print(\"Accuracy: %0.2f (+/- %0.2f)\" % (scores.mean(), scores.std() * 2))"
   ]
  },
  {
   "cell_type": "code",
   "execution_count": 58,
   "metadata": {},
   "outputs": [],
   "source": [
    "# do a grid search:\n",
    "gamma_range = np.logspace(-5, -3, 2)\n",
    "parameters = [{'classification__clf1' : [SVC(C=0.1, gamma=0.0001, class_weight=None), \n",
    "               SVC(C=1.0, gamma=0.0001, class_weight=None), SVC(C=5.0, gamma=0.0001, class_weight=None),\n",
    "               SVC(C=0.1, gamma=0.01, class_weight=None), SVC(C=1.0, gamma=0.01, class_weight=None),\n",
    "               SVC(C=5.0, gamma=0.01, class_weight=None)], \n",
    "              'classification__clf2': [SVC(C=0.1, gamma=0.0001, class_weight=None), \n",
    "               SVC(C=1.0, gamma=0.0001, class_weight=None), SVC(C=5.0, gamma=0.0001, class_weight=None),\n",
    "               SVC(C=0.1, gamma=0.01, class_weight=None), SVC(C=1.0, gamma=0.01, class_weight=None),\n",
    "               SVC(C=5.0, gamma=0.01, class_weight=None)]}]\n",
    "\n"
   ]
  },
  {
   "cell_type": "code",
   "execution_count": 50,
   "metadata": {},
   "outputs": [],
   "source": [
    "parameters2 = [{'classification__clf1' : [SVC(C=20.0, gamma='auto', class_weight=None), \n",
    "               SVC(C=1.0, gamma='auto', class_weight=None), SVC(C=25.0, gamma='auto', class_weight=None)], \n",
    "              'classification__clf2': [SVC(C=20.0, gamma='auto', class_weight=None), \n",
    "               SVC(C=1.0, gamma='auto', class_weight=None), SVC(C=25.0, gamma='auto', class_weight=None)]}]\n",
    "\n",
    "# for gamma aito c=25 for both networks, the mdoel achieves 0.71\n"
   ]
  },
  {
   "cell_type": "code",
   "execution_count": 57,
   "metadata": {},
   "outputs": [],
   "source": [
    "#xgb params\n",
    "n_trees = [3,5,10]\n",
    "learning_rate = [0.05, 0.1]\n",
    "n_estimators = [100, 200]\n",
    "\n",
    "model_list = list()\n",
    "\n",
    "for tree in n_trees:\n",
    "    for lr in learning_rate:\n",
    "        for est in n_estimators:\n",
    "            model_list.append(XGBClassifier(max_depth=tree, learning_rate=lr, n_estimators=est))\n",
    "            \n",
    "xgb_parameters = [{'classification__clf1': model_list,\n",
    "                  'classification__clf2': model_list}]\n",
    "            "
   ]
  },
  {
   "cell_type": "code",
   "execution_count": null,
   "metadata": {},
   "outputs": [
    {
     "name": "stdout",
     "output_type": "stream",
     "text": [
      "Fitting 10 folds for each of 144 candidates, totalling 1440 fits\n"
     ]
    },
    {
     "name": "stderr",
     "output_type": "stream",
     "text": [
      "[Parallel(n_jobs=16)]: Using backend LokyBackend with 16 concurrent workers.\n",
      "[Parallel(n_jobs=16)]: Done   9 tasks      | elapsed:  1.8min\n",
      "[Parallel(n_jobs=16)]: Done  18 tasks      | elapsed:  3.6min\n",
      "[Parallel(n_jobs=16)]: Done  29 tasks      | elapsed:  5.0min\n"
     ]
    }
   ],
   "source": [
    "# View The Best Parameters\n",
    "#last on got an error\n",
    "clf = GridSearchCV(pipe, xgb_parameters,cv=10,n_jobs=16,scoring='f1_micro', verbose=10)\n",
    "clf.fit(X, y)\n",
    "print(clf.best_params_)\n",
    "print(clf.best_score_)"
   ]
  },
  {
   "cell_type": "code",
   "execution_count": 232,
   "metadata": {},
   "outputs": [
    {
     "data": {
      "text/html": [
       "<div>\n",
       "<style scoped>\n",
       "    .dataframe tbody tr th:only-of-type {\n",
       "        vertical-align: middle;\n",
       "    }\n",
       "\n",
       "    .dataframe tbody tr th {\n",
       "        vertical-align: top;\n",
       "    }\n",
       "\n",
       "    .dataframe thead th {\n",
       "        text-align: right;\n",
       "    }\n",
       "</style>\n",
       "<table border=\"1\" class=\"dataframe\">\n",
       "  <thead>\n",
       "    <tr style=\"text-align: right;\">\n",
       "      <th></th>\n",
       "      <th>params</th>\n",
       "      <th>mean_test_score</th>\n",
       "    </tr>\n",
       "  </thead>\n",
       "  <tbody>\n",
       "    <tr>\n",
       "      <th>0</th>\n",
       "      <td>{'classification__clf1': SVC(C=0.1, gamma=0.0001), 'classification__clf2': SVC(C=0.1, gamma=0.0001)}</td>\n",
       "      <td>0.592078</td>\n",
       "    </tr>\n",
       "    <tr>\n",
       "      <th>1</th>\n",
       "      <td>{'classification__clf1': SVC(C=0.1, gamma=0.0001), 'classification__clf2': SVC(gamma=0.0001)}</td>\n",
       "      <td>0.597939</td>\n",
       "    </tr>\n",
       "    <tr>\n",
       "      <th>2</th>\n",
       "      <td>{'classification__clf1': SVC(C=0.1, gamma=0.0001), 'classification__clf2': SVC(C=5.0, gamma=0.0001)}</td>\n",
       "      <td>0.609473</td>\n",
       "    </tr>\n",
       "    <tr>\n",
       "      <th>3</th>\n",
       "      <td>{'classification__clf1': SVC(C=0.1, gamma=0.0001), 'classification__clf2': SVC(C=0.1, gamma=0.01)}</td>\n",
       "      <td>0.595986</td>\n",
       "    </tr>\n",
       "    <tr>\n",
       "      <th>4</th>\n",
       "      <td>{'classification__clf1': SVC(C=0.1, gamma=0.0001), 'classification__clf2': SVC(gamma=0.01)}</td>\n",
       "      <td>0.675735</td>\n",
       "    </tr>\n",
       "    <tr>\n",
       "      <th>5</th>\n",
       "      <td>{'classification__clf1': SVC(C=0.1, gamma=0.0001), 'classification__clf2': SVC(C=5.0, gamma=0.01)}</td>\n",
       "      <td>0.689217</td>\n",
       "    </tr>\n",
       "    <tr>\n",
       "      <th>6</th>\n",
       "      <td>{'classification__clf1': SVC(gamma=0.0001), 'classification__clf2': SVC(C=0.1, gamma=0.0001)}</td>\n",
       "      <td>0.593250</td>\n",
       "    </tr>\n",
       "    <tr>\n",
       "      <th>7</th>\n",
       "      <td>{'classification__clf1': SVC(gamma=0.0001), 'classification__clf2': SVC(gamma=0.0001)}</td>\n",
       "      <td>0.599111</td>\n",
       "    </tr>\n",
       "    <tr>\n",
       "      <th>8</th>\n",
       "      <td>{'classification__clf1': SVC(gamma=0.0001), 'classification__clf2': SVC(C=5.0, gamma=0.0001)}</td>\n",
       "      <td>0.610645</td>\n",
       "    </tr>\n",
       "    <tr>\n",
       "      <th>9</th>\n",
       "      <td>{'classification__clf1': SVC(gamma=0.0001), 'classification__clf2': SVC(C=0.1, gamma=0.01)}</td>\n",
       "      <td>0.597158</td>\n",
       "    </tr>\n",
       "    <tr>\n",
       "      <th>10</th>\n",
       "      <td>{'classification__clf1': SVC(gamma=0.0001), 'classification__clf2': SVC(gamma=0.01)}</td>\n",
       "      <td>0.676907</td>\n",
       "    </tr>\n",
       "    <tr>\n",
       "      <th>11</th>\n",
       "      <td>{'classification__clf1': SVC(gamma=0.0001), 'classification__clf2': SVC(C=5.0, gamma=0.01)}</td>\n",
       "      <td>0.690389</td>\n",
       "    </tr>\n",
       "    <tr>\n",
       "      <th>12</th>\n",
       "      <td>{'classification__clf1': SVC(C=5.0, gamma=0.0001), 'classification__clf2': SVC(C=0.1, gamma=0.0001)}</td>\n",
       "      <td>0.594618</td>\n",
       "    </tr>\n",
       "    <tr>\n",
       "      <th>13</th>\n",
       "      <td>{'classification__clf1': SVC(C=5.0, gamma=0.0001), 'classification__clf2': SVC(gamma=0.0001)}</td>\n",
       "      <td>0.600284</td>\n",
       "    </tr>\n",
       "    <tr>\n",
       "      <th>14</th>\n",
       "      <td>{'classification__clf1': SVC(C=5.0, gamma=0.0001), 'classification__clf2': SVC(C=5.0, gamma=0.0001)}</td>\n",
       "      <td>0.611818</td>\n",
       "    </tr>\n",
       "    <tr>\n",
       "      <th>15</th>\n",
       "      <td>{'classification__clf1': SVC(C=5.0, gamma=0.0001), 'classification__clf2': SVC(C=0.1, gamma=0.01)}</td>\n",
       "      <td>0.598526</td>\n",
       "    </tr>\n",
       "    <tr>\n",
       "      <th>16</th>\n",
       "      <td>{'classification__clf1': SVC(C=5.0, gamma=0.0001), 'classification__clf2': SVC(gamma=0.01)}</td>\n",
       "      <td>0.678275</td>\n",
       "    </tr>\n",
       "    <tr>\n",
       "      <th>17</th>\n",
       "      <td>{'classification__clf1': SVC(C=5.0, gamma=0.0001), 'classification__clf2': SVC(C=5.0, gamma=0.01)}</td>\n",
       "      <td>0.691561</td>\n",
       "    </tr>\n",
       "    <tr>\n",
       "      <th>18</th>\n",
       "      <td>{'classification__clf1': SVC(C=0.1, gamma=0.01), 'classification__clf2': SVC(C=0.1, gamma=0.0001)}</td>\n",
       "      <td>0.592078</td>\n",
       "    </tr>\n",
       "    <tr>\n",
       "      <th>19</th>\n",
       "      <td>{'classification__clf1': SVC(C=0.1, gamma=0.01), 'classification__clf2': SVC(gamma=0.0001)}</td>\n",
       "      <td>0.597939</td>\n",
       "    </tr>\n",
       "    <tr>\n",
       "      <th>20</th>\n",
       "      <td>{'classification__clf1': SVC(C=0.1, gamma=0.01), 'classification__clf2': SVC(C=5.0, gamma=0.0001)}</td>\n",
       "      <td>0.609473</td>\n",
       "    </tr>\n",
       "    <tr>\n",
       "      <th>21</th>\n",
       "      <td>{'classification__clf1': SVC(C=0.1, gamma=0.01), 'classification__clf2': SVC(C=0.1, gamma=0.01)}</td>\n",
       "      <td>0.595986</td>\n",
       "    </tr>\n",
       "    <tr>\n",
       "      <th>22</th>\n",
       "      <td>{'classification__clf1': SVC(C=0.1, gamma=0.01), 'classification__clf2': SVC(gamma=0.01)}</td>\n",
       "      <td>0.675735</td>\n",
       "    </tr>\n",
       "    <tr>\n",
       "      <th>23</th>\n",
       "      <td>{'classification__clf1': SVC(C=0.1, gamma=0.01), 'classification__clf2': SVC(C=5.0, gamma=0.01)}</td>\n",
       "      <td>0.689217</td>\n",
       "    </tr>\n",
       "    <tr>\n",
       "      <th>24</th>\n",
       "      <td>{'classification__clf1': SVC(gamma=0.01), 'classification__clf2': SVC(C=0.1, gamma=0.0001)}</td>\n",
       "      <td>0.592078</td>\n",
       "    </tr>\n",
       "    <tr>\n",
       "      <th>25</th>\n",
       "      <td>{'classification__clf1': SVC(gamma=0.01), 'classification__clf2': SVC(gamma=0.0001)}</td>\n",
       "      <td>0.597939</td>\n",
       "    </tr>\n",
       "    <tr>\n",
       "      <th>26</th>\n",
       "      <td>{'classification__clf1': SVC(gamma=0.01), 'classification__clf2': SVC(C=5.0, gamma=0.0001)}</td>\n",
       "      <td>0.609473</td>\n",
       "    </tr>\n",
       "    <tr>\n",
       "      <th>27</th>\n",
       "      <td>{'classification__clf1': SVC(gamma=0.01), 'classification__clf2': SVC(C=0.1, gamma=0.01)}</td>\n",
       "      <td>0.595986</td>\n",
       "    </tr>\n",
       "    <tr>\n",
       "      <th>28</th>\n",
       "      <td>{'classification__clf1': SVC(gamma=0.01), 'classification__clf2': SVC(gamma=0.01)}</td>\n",
       "      <td>0.675735</td>\n",
       "    </tr>\n",
       "    <tr>\n",
       "      <th>29</th>\n",
       "      <td>{'classification__clf1': SVC(gamma=0.01), 'classification__clf2': SVC(C=5.0, gamma=0.01)}</td>\n",
       "      <td>0.689217</td>\n",
       "    </tr>\n",
       "    <tr>\n",
       "      <th>30</th>\n",
       "      <td>{'classification__clf1': SVC(C=5.0, gamma=0.01), 'classification__clf2': SVC(C=0.1, gamma=0.0001)}</td>\n",
       "      <td>0.594618</td>\n",
       "    </tr>\n",
       "    <tr>\n",
       "      <th>31</th>\n",
       "      <td>{'classification__clf1': SVC(C=5.0, gamma=0.01), 'classification__clf2': SVC(gamma=0.0001)}</td>\n",
       "      <td>0.600479</td>\n",
       "    </tr>\n",
       "    <tr>\n",
       "      <th>32</th>\n",
       "      <td>{'classification__clf1': SVC(C=5.0, gamma=0.01), 'classification__clf2': SVC(C=5.0, gamma=0.0001)}</td>\n",
       "      <td>0.612013</td>\n",
       "    </tr>\n",
       "    <tr>\n",
       "      <th>33</th>\n",
       "      <td>{'classification__clf1': SVC(C=5.0, gamma=0.01), 'classification__clf2': SVC(C=0.1, gamma=0.01)}</td>\n",
       "      <td>0.598526</td>\n",
       "    </tr>\n",
       "    <tr>\n",
       "      <th>34</th>\n",
       "      <td>{'classification__clf1': SVC(C=5.0, gamma=0.01), 'classification__clf2': SVC(gamma=0.01)}</td>\n",
       "      <td>0.677885</td>\n",
       "    </tr>\n",
       "    <tr>\n",
       "      <th>35</th>\n",
       "      <td>{'classification__clf1': SVC(C=5.0, gamma=0.01), 'classification__clf2': SVC(C=5.0, gamma=0.01)}</td>\n",
       "      <td>0.691366</td>\n",
       "    </tr>\n",
       "  </tbody>\n",
       "</table>\n",
       "</div>"
      ],
      "text/plain": [
       "                                                                                                  params  \\\n",
       "0   {'classification__clf1': SVC(C=0.1, gamma=0.0001), 'classification__clf2': SVC(C=0.1, gamma=0.0001)}   \n",
       "1          {'classification__clf1': SVC(C=0.1, gamma=0.0001), 'classification__clf2': SVC(gamma=0.0001)}   \n",
       "2   {'classification__clf1': SVC(C=0.1, gamma=0.0001), 'classification__clf2': SVC(C=5.0, gamma=0.0001)}   \n",
       "3     {'classification__clf1': SVC(C=0.1, gamma=0.0001), 'classification__clf2': SVC(C=0.1, gamma=0.01)}   \n",
       "4            {'classification__clf1': SVC(C=0.1, gamma=0.0001), 'classification__clf2': SVC(gamma=0.01)}   \n",
       "5     {'classification__clf1': SVC(C=0.1, gamma=0.0001), 'classification__clf2': SVC(C=5.0, gamma=0.01)}   \n",
       "6          {'classification__clf1': SVC(gamma=0.0001), 'classification__clf2': SVC(C=0.1, gamma=0.0001)}   \n",
       "7                 {'classification__clf1': SVC(gamma=0.0001), 'classification__clf2': SVC(gamma=0.0001)}   \n",
       "8          {'classification__clf1': SVC(gamma=0.0001), 'classification__clf2': SVC(C=5.0, gamma=0.0001)}   \n",
       "9            {'classification__clf1': SVC(gamma=0.0001), 'classification__clf2': SVC(C=0.1, gamma=0.01)}   \n",
       "10                  {'classification__clf1': SVC(gamma=0.0001), 'classification__clf2': SVC(gamma=0.01)}   \n",
       "11           {'classification__clf1': SVC(gamma=0.0001), 'classification__clf2': SVC(C=5.0, gamma=0.01)}   \n",
       "12  {'classification__clf1': SVC(C=5.0, gamma=0.0001), 'classification__clf2': SVC(C=0.1, gamma=0.0001)}   \n",
       "13         {'classification__clf1': SVC(C=5.0, gamma=0.0001), 'classification__clf2': SVC(gamma=0.0001)}   \n",
       "14  {'classification__clf1': SVC(C=5.0, gamma=0.0001), 'classification__clf2': SVC(C=5.0, gamma=0.0001)}   \n",
       "15    {'classification__clf1': SVC(C=5.0, gamma=0.0001), 'classification__clf2': SVC(C=0.1, gamma=0.01)}   \n",
       "16           {'classification__clf1': SVC(C=5.0, gamma=0.0001), 'classification__clf2': SVC(gamma=0.01)}   \n",
       "17    {'classification__clf1': SVC(C=5.0, gamma=0.0001), 'classification__clf2': SVC(C=5.0, gamma=0.01)}   \n",
       "18    {'classification__clf1': SVC(C=0.1, gamma=0.01), 'classification__clf2': SVC(C=0.1, gamma=0.0001)}   \n",
       "19           {'classification__clf1': SVC(C=0.1, gamma=0.01), 'classification__clf2': SVC(gamma=0.0001)}   \n",
       "20    {'classification__clf1': SVC(C=0.1, gamma=0.01), 'classification__clf2': SVC(C=5.0, gamma=0.0001)}   \n",
       "21      {'classification__clf1': SVC(C=0.1, gamma=0.01), 'classification__clf2': SVC(C=0.1, gamma=0.01)}   \n",
       "22             {'classification__clf1': SVC(C=0.1, gamma=0.01), 'classification__clf2': SVC(gamma=0.01)}   \n",
       "23      {'classification__clf1': SVC(C=0.1, gamma=0.01), 'classification__clf2': SVC(C=5.0, gamma=0.01)}   \n",
       "24           {'classification__clf1': SVC(gamma=0.01), 'classification__clf2': SVC(C=0.1, gamma=0.0001)}   \n",
       "25                  {'classification__clf1': SVC(gamma=0.01), 'classification__clf2': SVC(gamma=0.0001)}   \n",
       "26           {'classification__clf1': SVC(gamma=0.01), 'classification__clf2': SVC(C=5.0, gamma=0.0001)}   \n",
       "27             {'classification__clf1': SVC(gamma=0.01), 'classification__clf2': SVC(C=0.1, gamma=0.01)}   \n",
       "28                    {'classification__clf1': SVC(gamma=0.01), 'classification__clf2': SVC(gamma=0.01)}   \n",
       "29             {'classification__clf1': SVC(gamma=0.01), 'classification__clf2': SVC(C=5.0, gamma=0.01)}   \n",
       "30    {'classification__clf1': SVC(C=5.0, gamma=0.01), 'classification__clf2': SVC(C=0.1, gamma=0.0001)}   \n",
       "31           {'classification__clf1': SVC(C=5.0, gamma=0.01), 'classification__clf2': SVC(gamma=0.0001)}   \n",
       "32    {'classification__clf1': SVC(C=5.0, gamma=0.01), 'classification__clf2': SVC(C=5.0, gamma=0.0001)}   \n",
       "33      {'classification__clf1': SVC(C=5.0, gamma=0.01), 'classification__clf2': SVC(C=0.1, gamma=0.01)}   \n",
       "34             {'classification__clf1': SVC(C=5.0, gamma=0.01), 'classification__clf2': SVC(gamma=0.01)}   \n",
       "35      {'classification__clf1': SVC(C=5.0, gamma=0.01), 'classification__clf2': SVC(C=5.0, gamma=0.01)}   \n",
       "\n",
       "    mean_test_score  \n",
       "0          0.592078  \n",
       "1          0.597939  \n",
       "2          0.609473  \n",
       "3          0.595986  \n",
       "4          0.675735  \n",
       "5          0.689217  \n",
       "6          0.593250  \n",
       "7          0.599111  \n",
       "8          0.610645  \n",
       "9          0.597158  \n",
       "10         0.676907  \n",
       "11         0.690389  \n",
       "12         0.594618  \n",
       "13         0.600284  \n",
       "14         0.611818  \n",
       "15         0.598526  \n",
       "16         0.678275  \n",
       "17         0.691561  \n",
       "18         0.592078  \n",
       "19         0.597939  \n",
       "20         0.609473  \n",
       "21         0.595986  \n",
       "22         0.675735  \n",
       "23         0.689217  \n",
       "24         0.592078  \n",
       "25         0.597939  \n",
       "26         0.609473  \n",
       "27         0.595986  \n",
       "28         0.675735  \n",
       "29         0.689217  \n",
       "30         0.594618  \n",
       "31         0.600479  \n",
       "32         0.612013  \n",
       "33         0.598526  \n",
       "34         0.677885  \n",
       "35         0.691366  "
      ]
     },
     "execution_count": 232,
     "metadata": {},
     "output_type": "execute_result"
    }
   ],
   "source": [
    "results = pd.DataFrame(clf.cv_results_)\n",
    "pd.set_option(\"display.max_rows\", None, \"display.max_columns\", None, \"display.max_colwidth\",200) \n",
    "results[[\"params\",\"mean_test_score\"]] #.query('mean_test_score >= 0.69')"
   ]
  },
  {
   "cell_type": "code",
   "execution_count": 26,
   "metadata": {},
   "outputs": [],
   "source": [
    "# optimal pipeline: \n",
    "pipe_opt = Pipeline([('scaling',StandardScaler()),\n",
    "                 ('classification',\n",
    "                  Two_Step_Model.TwoStepModel(SVC(C=20.0, gamma='auto', class_weight=None), SVC(C=25.0, gamma='auto', class_weight=None)))\n",
    "                ])"
   ]
  },
  {
   "cell_type": "code",
   "execution_count": 27,
   "metadata": {},
   "outputs": [
    {
     "name": "stderr",
     "output_type": "stream",
     "text": [
      "/opt/conda/lib/python3.7/site-packages/sklearn/utils/validation.py:72: DataConversionWarning: A column-vector y was passed when a 1d array was expected. Please change the shape of y to (n_samples, ), for example using ravel().\n",
      "  return f(**kwargs)\n",
      "/opt/conda/lib/python3.7/site-packages/sklearn/utils/validation.py:72: DataConversionWarning: A column-vector y was passed when a 1d array was expected. Please change the shape of y to (n_samples, ), for example using ravel().\n",
      "  return f(**kwargs)\n"
     ]
    },
    {
     "data": {
      "text/plain": [
       "Pipeline(steps=[('scaling', StandardScaler()),\n",
       "                ('classification',\n",
       "                 TwoStepModel(clf1=SVC(C=20.0, gamma='auto'),\n",
       "                              clf2=SVC(C=25.0, gamma='auto')))])"
      ]
     },
     "execution_count": 27,
     "metadata": {},
     "output_type": "execute_result"
    }
   ],
   "source": [
    "# do a sampl training to look at predictions\n",
    "X_train, X_val, y_train, y_val = train_test_split(X_transf, y)\n",
    "pipe_opt.fit(X_train, y_train)\n"
   ]
  },
  {
   "cell_type": "code",
   "execution_count": 30,
   "metadata": {},
   "outputs": [
    {
     "name": "stdout",
     "output_type": "stream",
     "text": [
      "0.6984375\n",
      "[[663   8  60   8]\n",
      " [ 24  59  35   2]\n",
      " [201  15 154   7]\n",
      " [ 15   1  10  18]]\n"
     ]
    }
   ],
   "source": [
    "y_pred = pipe_opt.predict(X_val)\n",
    "print(f1_score(y_val, y_pred, average='micro'))\n",
    "print(confusion_matrix(y_val, y_pred))"
   ]
  },
  {
   "cell_type": "code",
   "execution_count": null,
   "metadata": {},
   "outputs": [],
   "source": []
  }
 ],
 "metadata": {
  "environment": {
   "name": "common-cpu.m58",
   "type": "gcloud",
   "uri": "gcr.io/deeplearning-platform-release/base-cpu:m58"
  },
  "kernelspec": {
   "display_name": "Python 3",
   "language": "python",
   "name": "python3"
  },
  "language_info": {
   "codemirror_mode": {
    "name": "ipython",
    "version": 3
   },
   "file_extension": ".py",
   "mimetype": "text/x-python",
   "name": "python",
   "nbconvert_exporter": "python",
   "pygments_lexer": "ipython3",
   "version": "3.7.8"
  }
 },
 "nbformat": 4,
 "nbformat_minor": 4
}
