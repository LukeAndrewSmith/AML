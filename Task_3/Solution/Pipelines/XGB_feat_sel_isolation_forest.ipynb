{
 "cells": [
  {
   "cell_type": "code",
   "execution_count": 2,
   "metadata": {},
   "outputs": [
    {
     "name": "stdout",
     "output_type": "stream",
     "text": [
      "Collecting neurokit2\n",
      "  Downloading https://files.pythonhosted.org/packages/23/53/82471d29fb3374a3813aad943eb4c9058b108ca477329a2b37343b0baf74/neurokit2-0.0.42-py2.py3-none-any.whl (985kB)\n",
      "Requirement already satisfied: matplotlib in c:\\users\\lea\\anaconda3\\lib\\site-packages (from neurokit2) (3.1.1)\n",
      "Requirement already satisfied: numpy in c:\\users\\lea\\anaconda3\\lib\\site-packages (from neurokit2) (1.16.5)\n",
      "Collecting sklearn (from neurokit2)\n",
      "  Downloading https://files.pythonhosted.org/packages/1e/7a/dbb3be0ce9bd5c8b7e3d87328e79063f8b263b2b1bfa4774cb1147bfcd3f/sklearn-0.0.tar.gz\n",
      "Requirement already satisfied: scipy in c:\\users\\lea\\anaconda3\\lib\\site-packages (from neurokit2) (1.3.1)\n",
      "Requirement already satisfied: pandas in c:\\users\\lea\\anaconda3\\lib\\site-packages (from neurokit2) (0.25.1)\n",
      "Requirement already satisfied: cycler>=0.10 in c:\\users\\lea\\anaconda3\\lib\\site-packages (from matplotlib->neurokit2) (0.10.0)\n",
      "Requirement already satisfied: kiwisolver>=1.0.1 in c:\\users\\lea\\anaconda3\\lib\\site-packages (from matplotlib->neurokit2) (1.1.0)\n",
      "Requirement already satisfied: pyparsing!=2.0.4,!=2.1.2,!=2.1.6,>=2.0.1 in c:\\users\\lea\\anaconda3\\lib\\site-packages (from matplotlib->neurokit2) (2.4.2)\n",
      "Requirement already satisfied: python-dateutil>=2.1 in c:\\users\\lea\\anaconda3\\lib\\site-packages (from matplotlib->neurokit2) (2.8.0)\n",
      "Requirement already satisfied: scikit-learn in c:\\users\\lea\\anaconda3\\lib\\site-packages (from sklearn->neurokit2) (0.21.3)\n",
      "Requirement already satisfied: pytz>=2017.2 in c:\\users\\lea\\anaconda3\\lib\\site-packages (from pandas->neurokit2) (2019.3)\n",
      "Requirement already satisfied: six in c:\\users\\lea\\anaconda3\\lib\\site-packages (from cycler>=0.10->matplotlib->neurokit2) (1.12.0)\n",
      "Requirement already satisfied: setuptools in c:\\users\\lea\\anaconda3\\lib\\site-packages (from kiwisolver>=1.0.1->matplotlib->neurokit2) (41.4.0)\n",
      "Requirement already satisfied: joblib>=0.11 in c:\\users\\lea\\anaconda3\\lib\\site-packages (from scikit-learn->sklearn->neurokit2) (0.13.2)\n",
      "Building wheels for collected packages: sklearn\n",
      "  Building wheel for sklearn (setup.py): started\n",
      "  Building wheel for sklearn (setup.py): finished with status 'done'\n",
      "  Created wheel for sklearn: filename=sklearn-0.0-py2.py3-none-any.whl size=1321 sha256=df3b0f5fcd30d741781d4f35d70d9f661f758ef6e7680e609fd1473125f37161\n",
      "  Stored in directory: C:\\Users\\Lea\\AppData\\Local\\pip\\Cache\\wheels\\76\\03\\bb\\589d421d27431bcd2c6da284d5f2286c8e3b2ea3cf1594c074\n",
      "Successfully built sklearn\n",
      "Installing collected packages: sklearn, neurokit2\n",
      "Successfully installed neurokit2-0.0.42 sklearn-0.0\n"
     ]
    }
   ],
   "source": [
    "!pip install neurokit2\n",
    "!pip install xgboost"
   ]
  },
  {
   "cell_type": "code",
   "execution_count": 2,
   "metadata": {},
   "outputs": [
    {
     "data": {
      "text/plain": [
       "<module 'Components.feature_extraction' from '../Components/feature_extraction.py'>"
      ]
     },
     "execution_count": 2,
     "metadata": {},
     "output_type": "execute_result"
    }
   ],
   "source": [
    "# General\n",
    "import matplotlib.pyplot as plt\n",
    "import pandas as pd\n",
    "import numpy as np\n",
    "import neurokit2 as nk\n",
    "from pprint import pprint\n",
    "\n",
    "# ML\n",
    "from sklearn.pipeline import Pipeline\n",
    "from sklearn.model_selection import cross_val_score\n",
    "from sklearn.preprocessing import StandardScaler\n",
    "from sklearn.ensemble import IsolationForest\n",
    "from sklearn.svm import LinearSVC\n",
    "from sklearn.feature_selection import SelectFromModel\n",
    "import xgboost as xgb\n",
    "\n",
    "# Custom\n",
    "import sys,os\n",
    "sys.path.append( '.' )\n",
    "sys.path.append( '..' )\n",
    "import Components.data_fetching as data_fetching\n",
    "import Components.feature_extraction as feature_extraction\n",
    "\n",
    "# CAREFUL:\n",
    "# If you make changes to a custom module, you have to reload it, i.e rerun this cell\n",
    "import importlib\n",
    "importlib.reload(data_fetching)\n",
    "importlib.reload(feature_extraction)"
   ]
  },
  {
   "cell_type": "markdown",
   "metadata": {},
   "source": [
    "# Data Fetching"
   ]
  },
  {
   "cell_type": "code",
   "execution_count": 7,
   "metadata": {},
   "outputs": [],
   "source": [
    "y = np.ravel(data_fetching.get_train_data(y_only=True))\n"
   ]
  },
  {
   "cell_type": "code",
   "execution_count": 4,
   "metadata": {},
   "outputs": [],
   "source": [
    "X = feature_extraction.get_features(types=['timeseries', 'heartbeats', 'peaks'], verbose=True, precomputed='train')\n",
    "X_test = feature_extraction.get_features(types=['timeseries', 'heartbeats', 'peaks'], verbose=True, precomputed='test')"
   ]
  },
  {
   "cell_type": "markdown",
   "metadata": {},
   "source": [
    "scaling"
   ]
  },
  {
   "cell_type": "code",
   "execution_count": 5,
   "metadata": {},
   "outputs": [],
   "source": [
    "scaler = StandardScaler()\n",
    "X = scaler.fit_transform(X)\n",
    "X_test_sc = scaler.transform(X_test)"
   ]
  },
  {
   "cell_type": "markdown",
   "metadata": {},
   "source": [
    "# Feature selection"
   ]
  },
  {
   "cell_type": "code",
   "execution_count": 8,
   "metadata": {},
   "outputs": [
    {
     "data": {
      "text/plain": [
       "(5117, 132)"
      ]
     },
     "execution_count": 8,
     "metadata": {},
     "output_type": "execute_result"
    }
   ],
   "source": [
    "lsvc = LinearSVC(C=0.01, penalty=\"l1\", dual=False,max_iter=5000).fit(X, y)\n",
    "model1 = SelectFromModel(lsvc, prefit=True)\n",
    "X_new = model1.transform(X)\n",
    "X_new.shape"
   ]
  },
  {
   "cell_type": "code",
   "execution_count": 18,
   "metadata": {},
   "outputs": [
    {
     "name": "stderr",
     "output_type": "stream",
     "text": [
      "/opt/conda/lib/python3.7/site-packages/sklearn/svm/_base.py:977: ConvergenceWarning: Liblinear failed to converge, increase the number of iterations.\n",
      "  \"the number of iterations.\", ConvergenceWarning)\n"
     ]
    },
    {
     "data": {
      "text/plain": [
       "(5117, 293)"
      ]
     },
     "execution_count": 18,
     "metadata": {},
     "output_type": "execute_result"
    }
   ],
   "source": [
    "lsvc = LinearSVC(C=0.1, penalty=\"l1\", dual=False,max_iter=5000).fit(X, y)\n",
    "model2 = SelectFromModel(lsvc, prefit=True)\n",
    "X_new2 = model2.transform(X)\n",
    "X_new2.shape"
   ]
  },
  {
   "cell_type": "code",
   "execution_count": 38,
   "metadata": {},
   "outputs": [
    {
     "data": {
      "text/plain": [
       "(5117, 417)"
      ]
     },
     "execution_count": 38,
     "metadata": {},
     "output_type": "execute_result"
    }
   ],
   "source": [
    "lsvc = LinearSVC(C=1, penalty=\"l1\", dual=False,max_iter=5000).fit(X, y)\n",
    "model3 = SelectFromModel(lsvc, prefit=True)\n",
    "X_new3 = model3.transform(X)\n",
    "X_new3.shape"
   ]
  },
  {
   "cell_type": "markdown",
   "metadata": {},
   "source": [
    "# Outlier detection"
   ]
  },
  {
   "cell_type": "markdown",
   "metadata": {},
   "source": [
    "with C=0.01"
   ]
  },
  {
   "cell_type": "code",
   "execution_count": 10,
   "metadata": {},
   "outputs": [
    {
     "data": {
      "text/plain": [
       "0    170\n",
       "dtype: int64"
      ]
     },
     "execution_count": 10,
     "metadata": {},
     "output_type": "execute_result"
    }
   ],
   "source": [
    "detector = IsolationForest(contamination=170/5117,random_state=42)\n",
    "labels = pd.DataFrame(detector.fit_predict(X_new))\n",
    "labels.where(labels ==  -1).count()"
   ]
  },
  {
   "cell_type": "code",
   "execution_count": 14,
   "metadata": {},
   "outputs": [
    {
     "data": {
      "text/plain": [
       "0    197\n",
       "dtype: int64"
      ]
     },
     "execution_count": 14,
     "metadata": {},
     "output_type": "execute_result"
    }
   ],
   "source": [
    "detector = IsolationForest()\n",
    "labels = pd.DataFrame(detector.fit_predict(X_new))\n",
    "labels.where(labels ==  -1).count()"
   ]
  },
  {
   "cell_type": "markdown",
   "metadata": {},
   "source": [
    "with C=0.1"
   ]
  },
  {
   "cell_type": "code",
   "execution_count": 24,
   "metadata": {},
   "outputs": [
    {
     "data": {
      "text/plain": [
       "0    173\n",
       "dtype: int64"
      ]
     },
     "execution_count": 24,
     "metadata": {},
     "output_type": "execute_result"
    }
   ],
   "source": [
    "detector = IsolationForest()\n",
    "labels2 = pd.DataFrame(detector.fit_predict(X_new2))\n",
    "labels2.where(labels2 ==  -1).count()"
   ]
  },
  {
   "cell_type": "markdown",
   "metadata": {},
   "source": [
    "with C=1"
   ]
  },
  {
   "cell_type": "code",
   "execution_count": 46,
   "metadata": {},
   "outputs": [
    {
     "name": "stderr",
     "output_type": "stream",
     "text": [
      "C:\\Users\\Lea\\Anaconda3\\lib\\site-packages\\sklearn\\ensemble\\iforest.py:415: DeprecationWarning: threshold_ attribute is deprecated in 0.20 and will be removed in 0.22.\n",
      "  \" be removed in 0.22.\", DeprecationWarning)\n"
     ]
    },
    {
     "data": {
      "text/plain": [
       "0    512\n",
       "dtype: int64"
      ]
     },
     "execution_count": 46,
     "metadata": {},
     "output_type": "execute_result"
    }
   ],
   "source": [
    "detector = IsolationForest()\n",
    "labels3 = pd.DataFrame(detector.fit_predict(X_new3))\n",
    "labels3.where(labels3 ==  -1).count()"
   ]
  },
  {
   "cell_type": "markdown",
   "metadata": {},
   "source": [
    "without any feature selection before"
   ]
  },
  {
   "cell_type": "code",
   "execution_count": 47,
   "metadata": {},
   "outputs": [
    {
     "name": "stderr",
     "output_type": "stream",
     "text": [
      "C:\\Users\\Lea\\Anaconda3\\lib\\site-packages\\sklearn\\ensemble\\iforest.py:415: DeprecationWarning: threshold_ attribute is deprecated in 0.20 and will be removed in 0.22.\n",
      "  \" be removed in 0.22.\", DeprecationWarning)\n"
     ]
    },
    {
     "data": {
      "text/plain": [
       "0    512\n",
       "dtype: int64"
      ]
     },
     "execution_count": 47,
     "metadata": {},
     "output_type": "execute_result"
    }
   ],
   "source": [
    "detector = IsolationForest()\n",
    "labels4 = pd.DataFrame(detector.fit_predict(X))\n",
    "labels4.where(labels4 ==  -1).count()"
   ]
  },
  {
   "cell_type": "markdown",
   "metadata": {},
   "source": [
    "remove found outliers"
   ]
  },
  {
   "cell_type": "code",
   "execution_count": 15,
   "metadata": {},
   "outputs": [],
   "source": [
    "X1 = pd.DataFrame(X_new)[labels[0]==1]\n",
    "X1_all = pd.DataFrame(X)[labels[0]==1]\n",
    "y1 = pd.DataFrame(y)[labels[0]==1]"
   ]
  },
  {
   "cell_type": "code",
   "execution_count": 25,
   "metadata": {},
   "outputs": [],
   "source": [
    "X2 = pd.DataFrame(X_new2)[labels2[0]==1]\n",
    "X2_all = pd.DataFrame(X)[labels2[0]==1]\n",
    "y2 = pd.DataFrame(y)[labels2[0]==1]"
   ]
  },
  {
   "cell_type": "code",
   "execution_count": 59,
   "metadata": {},
   "outputs": [],
   "source": [
    "X3 = pd.DataFrame(X_new3)[labels3[0]==1]\n",
    "X3_all = pd.DataFrame(X)[labels3[0]==1]\n",
    "y3 = pd.DataFrame(y)[labels3[0]==1]"
   ]
  },
  {
   "cell_type": "markdown",
   "metadata": {},
   "source": [
    "# Training"
   ]
  },
  {
   "cell_type": "code",
   "execution_count": 26,
   "metadata": {},
   "outputs": [
    {
     "name": "stdout",
     "output_type": "stream",
     "text": [
      "[0.8040404  0.7959596  0.84848485 0.81818182 0.82388664 0.81174089\n",
      " 0.81781377 0.78744939 0.80566802 0.81376518]\n",
      "0.8126990553306342\n"
     ]
    }
   ],
   "source": [
    "\n",
    "\n",
    "clf = xgb.XGBClassifier()\n",
    "cv_score = cross_val_score(clf, X2, np.ravel(y2), cv=10, scoring='f1_micro',n_jobs=16)\n",
    "print(cv_score)\n",
    "print(np.mean(cv_score))\n",
    "\n",
    "# 1st attempt\n",
    "# [0.62304688 0.71875    0.76953125 0.74414062 0.73046875 0.72265625\n",
    "# 0.7109375  0.7260274  0.72994129 0.66144814]\n",
    "# 0.7136948079745596\n",
    "\n",
    "# 2nd attempt\n",
    "# [0.73242188 0.74023438 0.83007812 0.7578125  0.75976562 0.74804688\n",
    "# 0.76171875 0.74168297 0.73972603 0.75342466]\n",
    "# 0.7564911784491194\n",
    "\n",
    "# 3rd attempt (luke's features)\n",
    "# [0.72070312 0.76171875 0.82421875 0.76757812 0.78515625 0.75585938\n",
    "# 0.76171875 0.76125245 0.7592955  0.77299413]\n",
    "# 0.7670495199363991\n",
    "\n",
    "# 4th attempt (luke's + lea's features)\n",
    "# [0.80859375 0.79492188 0.83984375 0.81640625 0.80273438 0.80664062\n",
    "# 0.81054688 0.78669276 0.7964775  0.82387476]\n",
    "# 0.8086732509784735\n",
    "\n",
    "# 147 outliers, 132 features\n",
    "#[0.81287726 0.80482897 0.83098592 0.81287726 0.80080483 0.80885312\n",
    "# 0.80684105 0.80885312 0.80885312 0.82293763]\n",
    "# 0.811871227364185\n",
    "\n",
    "# 147 outliers, all features\n",
    "# [0.81086519 0.80885312 0.82092555 0.81891348 0.82092555 0.81891348\n",
    "# 0.80885312 0.80482897 0.81891348 0.81488934]\n",
    "# 0.8146881287726357\n",
    "\n",
    "# 175 outliers, 282 features\n",
    "#[0.82626263 0.80606061 0.85222672 0.82995951 0.82186235 0.81174089\n",
    "# 0.81578947 0.7854251  0.8097166  0.82793522]\n",
    "# 0.8186979102768575\n",
    "\n",
    "#175 outliers, all features\n",
    "#[0.82222222 0.81414141 0.84008097 0.81578947 0.82591093 0.80769231\n",
    "# 0.80566802 0.78744939 0.80769231 0.82591093]\n",
    "#0.8152557968347441\n",
    "\n",
    "\n",
    "# 186 outliers, 407 features\n",
    "#[0.82388664 0.80324544 0.84381339 0.81947262 0.82758621 0.79918864\n",
    "# 0.82758621 0.78904665 0.80730223 0.82150101]\n",
    "#0.8162629033185242\n",
    "\n",
    "# 186 outliers, all features\n",
    "#[0.83805668 0.80730223 0.83772819 0.80933063 0.82352941 0.81135903\n",
    "# 0.81744422 0.78498986 0.80527383 0.8296146 ]\n",
    "# 0.8164628688275533"
   ]
  },
  {
   "cell_type": "markdown",
   "metadata": {},
   "source": [
    "# Predict"
   ]
  },
  {
   "cell_type": "code",
   "execution_count": 27,
   "metadata": {},
   "outputs": [
    {
     "data": {
      "text/plain": [
       "XGBClassifier(base_score=0.5, booster='gbtree', colsample_bylevel=1,\n",
       "              colsample_bynode=1, colsample_bytree=1, gamma=0, gpu_id=-1,\n",
       "              importance_type='gain', interaction_constraints='',\n",
       "              learning_rate=0.300000012, max_delta_step=0, max_depth=6,\n",
       "              min_child_weight=1, missing=nan, monotone_constraints='()',\n",
       "              n_estimators=100, n_jobs=0, num_parallel_tree=1,\n",
       "              objective='multi:softprob', random_state=0, reg_alpha=0,\n",
       "              reg_lambda=1, scale_pos_weight=None, subsample=1,\n",
       "              tree_method='exact', validate_parameters=1, verbosity=None)"
      ]
     },
     "execution_count": 27,
     "metadata": {},
     "output_type": "execute_result"
    }
   ],
   "source": [
    "clf = xgb.XGBClassifier()\n",
    "clf.fit(X2,np.ravel(y2))\n"
   ]
  },
  {
   "cell_type": "code",
   "execution_count": 29,
   "metadata": {},
   "outputs": [
    {
     "data": {
      "text/plain": [
       "(array([0.64966286, 0.07944884, 0.25007329, 0.02081501]),\n",
       " array([0, 1, 2, 3, 4]),\n",
       " <BarContainer object of 4 artists>)"
      ]
     },
     "execution_count": 29,
     "metadata": {},
     "output_type": "execute_result"
    },
    {
     "data": {
      "image/png": "[encoded data removed]",
      "text/plain": [
       "<Figure size 432x288 with 1 Axes>"
      ]
     },
     "metadata": {
      "needs_background": "light"
     },
     "output_type": "display_data"
    }
   ],
   "source": [
    "X_test_transf = pd.DataFrame(model2.transform(X_test_sc))\n",
    "y_pred = clf.predict(X_test_transf)\n",
    "plt.hist(y_pred,bins=[0,1, 2, 3, 4],density=True)"
   ]
  },
  {
   "cell_type": "code",
   "execution_count": 30,
   "metadata": {},
   "outputs": [],
   "source": [
    "y_pred_pd = pd.DataFrame(data=y_pred, columns=[\"y\"])\n",
    "y_pred_pd.to_csv('../../Predictions/XGB_173outliers_293features_test.csv', index_label='id')"
   ]
  }
 ],
 "metadata": {
  "environment": {
   "name": "common-cpu.m58",
   "type": "gcloud",
   "uri": "gcr.io/deeplearning-platform-release/base-cpu:m58"
  },
  "kernelspec": {
   "display_name": "Python 3",
   "language": "python",
   "name": "python3"
  },
  "language_info": {
   "codemirror_mode": {
    "name": "ipython",
    "version": 3
   },
   "file_extension": ".py",
   "mimetype": "text/x-python",
   "name": "python",
   "nbconvert_exporter": "python",
   "pygments_lexer": "ipython3",
   "version": "3.7.8"
  }
 },
 "nbformat": 4,
 "nbformat_minor": 4
}
