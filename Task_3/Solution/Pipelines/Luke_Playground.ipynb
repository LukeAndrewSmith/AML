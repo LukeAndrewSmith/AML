{
 "cells": [
  {
   "cell_type": "code",
   "execution_count": 165,
   "metadata": {},
   "outputs": [
    {
     "data": {
      "text/plain": [
       "<module 'Components.Feature_Engineering' from '../Components/Feature_Engineering.py'>"
      ]
     },
     "execution_count": 165,
     "metadata": {},
     "output_type": "execute_result"
    }
   ],
   "source": [
    "# General\n",
    "# ! pip install biosppy\n",
    "# ! pip install neurokit2\n",
    "import matplotlib.pyplot as plt\n",
    "import pandas as pd\n",
    "import numpy as np\n",
    "import neurokit2 as nk\n",
    "from pprint import pprint\n",
    "\n",
    "# ML\n",
    "from sklearn.svm import SVC\n",
    "from sklearn.metrics import f1_score\n",
    "from sklearn.model_selection import cross_val_score\n",
    "from sklearn.preprocessing import StandardScaler\n",
    "\n",
    "# Custom\n",
    "import sys,os\n",
    "sys.path.append( '.' )\n",
    "sys.path.append( '..' )\n",
    "import Components.Normalisation as Normalisation\n",
    "import Components.data_fetching as data_fetching\n",
    "import Components.Feature_Engineering as Feature_Engineering\n",
    "\n",
    "\n",
    "# CAREFUL:\n",
    "# If you make changes to a custom module, you have to reload it, i.e rerun this cell\n",
    "import importlib\n",
    "importlib.reload(Normalisation)\n",
    "importlib.reload(data_fetching)\n",
    "importlib.reload(Feature_Engineering)"
   ]
  },
  {
   "cell_type": "markdown",
   "metadata": {},
   "source": [
    "# Data"
   ]
  },
  {
   "cell_type": "code",
   "execution_count": 2,
   "metadata": {},
   "outputs": [],
   "source": [
    "X, y = data_fetching.get_train_data()\n",
    "#x_test = data_fetching.get_test_data()"
   ]
  },
  {
   "cell_type": "markdown",
   "metadata": {},
   "source": [
    "# Feature extraction"
   ]
  },
  {
   "cell_type": "code",
   "execution_count": 172,
   "metadata": {},
   "outputs": [
    {
     "name": "stderr",
     "output_type": "stream",
     "text": [
      "/opt/conda/lib/python3.7/site-packages/numpy/core/fromnumeric.py:3335: RuntimeWarning: Mean of empty slice.\n",
      "  out=out, **kwargs)\n",
      "/opt/conda/lib/python3.7/site-packages/numpy/core/fromnumeric.py:3584: RuntimeWarning: Degrees of freedom <= 0 for slice\n",
      "  **kwargs)\n"
     ]
    },
    {
     "name": "stdout",
     "output_type": "stream",
     "text": [
      "Index failed:  905\n"
     ]
    },
    {
     "name": "stderr",
     "output_type": "stream",
     "text": [
      "/opt/conda/lib/python3.7/site-packages/numpy/core/fromnumeric.py:3335: RuntimeWarning: Mean of empty slice.\n",
      "  out=out, **kwargs)\n",
      "/opt/conda/lib/python3.7/site-packages/numpy/core/fromnumeric.py:3584: RuntimeWarning: Degrees of freedom <= 0 for slice\n",
      "  **kwargs)\n"
     ]
    },
    {
     "name": "stdout",
     "output_type": "stream",
     "text": [
      "Index failed:  1017\n",
      "Index failed:  62\n"
     ]
    },
    {
     "name": "stderr",
     "output_type": "stream",
     "text": [
      "/opt/conda/lib/python3.7/site-packages/neurokit2/signal/signal_period.py:62: NeuroKitWarning: Too few peaks detected to compute the rate. Returning empty vector.\n",
      "  category=NeuroKitWarning\n"
     ]
    },
    {
     "name": "stdout",
     "output_type": "stream",
     "text": [
      "Index failed:  76\n"
     ]
    },
    {
     "name": "stderr",
     "output_type": "stream",
     "text": [
      "/opt/conda/lib/python3.7/site-packages/numpy/core/fromnumeric.py:3335: RuntimeWarning: Mean of empty slice.\n",
      "  out=out, **kwargs)\n",
      "/opt/conda/lib/python3.7/site-packages/neurokit2/signal/signal_period.py:62: NeuroKitWarning: Too few peaks detected to compute the rate. Returning empty vector.\n",
      "  category=NeuroKitWarning\n"
     ]
    },
    {
     "name": "stdout",
     "output_type": "stream",
     "text": [
      "Index failed:  957\n",
      "Index failed:  1371\n",
      "Index failed:  1694\n"
     ]
    },
    {
     "name": "stderr",
     "output_type": "stream",
     "text": [
      "/opt/conda/lib/python3.7/site-packages/numpy/core/fromnumeric.py:3335: RuntimeWarning: Mean of empty slice.\n",
      "  out=out, **kwargs)\n",
      "/opt/conda/lib/python3.7/site-packages/numpy/core/fromnumeric.py:3584: RuntimeWarning: Degrees of freedom <= 0 for slice\n",
      "  **kwargs)\n"
     ]
    },
    {
     "name": "stdout",
     "output_type": "stream",
     "text": [
      "Index failed:  1640\n"
     ]
    },
    {
     "name": "stderr",
     "output_type": "stream",
     "text": [
      "/opt/conda/lib/python3.7/site-packages/numpy/core/fromnumeric.py:3335: RuntimeWarning: Mean of empty slice.\n",
      "  out=out, **kwargs)\n",
      "/opt/conda/lib/python3.7/site-packages/numpy/core/fromnumeric.py:3584: RuntimeWarning: Degrees of freedom <= 0 for slice\n",
      "  **kwargs)\n",
      "/opt/conda/lib/python3.7/site-packages/numpy/core/fromnumeric.py:3335: RuntimeWarning: Mean of empty slice.\n",
      "  out=out, **kwargs)\n",
      "/opt/conda/lib/python3.7/site-packages/numpy/core/fromnumeric.py:3584: RuntimeWarning: Degrees of freedom <= 0 for slice\n",
      "  **kwargs)\n"
     ]
    },
    {
     "name": "stdout",
     "output_type": "stream",
     "text": [
      "Index failed:  1668\n",
      "Index failed:  1984\n"
     ]
    },
    {
     "name": "stderr",
     "output_type": "stream",
     "text": [
      "/opt/conda/lib/python3.7/site-packages/numpy/core/fromnumeric.py:3335: RuntimeWarning: Mean of empty slice.\n",
      "  out=out, **kwargs)\n",
      "/opt/conda/lib/python3.7/site-packages/numpy/core/fromnumeric.py:3584: RuntimeWarning: Degrees of freedom <= 0 for slice\n",
      "  **kwargs)\n",
      "/opt/conda/lib/python3.7/site-packages/numpy/core/fromnumeric.py:3335: RuntimeWarning: Mean of empty slice.\n",
      "  out=out, **kwargs)\n",
      "/opt/conda/lib/python3.7/site-packages/numpy/core/fromnumeric.py:3584: RuntimeWarning: Degrees of freedom <= 0 for slice\n",
      "  **kwargs)\n"
     ]
    },
    {
     "name": "stdout",
     "output_type": "stream",
     "text": [
      "Index failed:  2575\n",
      "Index failed:  3455\n"
     ]
    },
    {
     "name": "stderr",
     "output_type": "stream",
     "text": [
      "/opt/conda/lib/python3.7/site-packages/numpy/core/fromnumeric.py:3335: RuntimeWarning: Mean of empty slice.\n",
      "  out=out, **kwargs)\n",
      "/opt/conda/lib/python3.7/site-packages/numpy/core/fromnumeric.py:3584: RuntimeWarning: Degrees of freedom <= 0 for slice\n",
      "  **kwargs)\n"
     ]
    },
    {
     "name": "stdout",
     "output_type": "stream",
     "text": [
      "Index failed:  3627\n",
      "Index failed:  2603\n"
     ]
    },
    {
     "name": "stderr",
     "output_type": "stream",
     "text": [
      "/opt/conda/lib/python3.7/site-packages/numpy/core/fromnumeric.py:3335: RuntimeWarning: Mean of empty slice.\n",
      "  out=out, **kwargs)\n",
      "/opt/conda/lib/python3.7/site-packages/numpy/core/fromnumeric.py:3584: RuntimeWarning: Degrees of freedom <= 0 for slice\n",
      "  **kwargs)\n"
     ]
    },
    {
     "name": "stdout",
     "output_type": "stream",
     "text": [
      "Index failed:  2781\n",
      "Index failed:  3029\n"
     ]
    },
    {
     "name": "stderr",
     "output_type": "stream",
     "text": [
      "/opt/conda/lib/python3.7/site-packages/numpy/core/fromnumeric.py:3335: RuntimeWarning: Mean of empty slice.\n",
      "  out=out, **kwargs)\n",
      "/opt/conda/lib/python3.7/site-packages/numpy/core/fromnumeric.py:3584: RuntimeWarning: Degrees of freedom <= 0 for slice\n",
      "  **kwargs)\n",
      "/opt/conda/lib/python3.7/site-packages/numpy/core/fromnumeric.py:3335: RuntimeWarning: Mean of empty slice.\n",
      "  out=out, **kwargs)\n",
      "/opt/conda/lib/python3.7/site-packages/numpy/core/fromnumeric.py:3584: RuntimeWarning: Degrees of freedom <= 0 for slice\n",
      "  **kwargs)\n",
      "/opt/conda/lib/python3.7/site-packages/numpy/core/fromnumeric.py:3335: RuntimeWarning: Mean of empty slice.\n",
      "  out=out, **kwargs)\n",
      "/opt/conda/lib/python3.7/site-packages/numpy/core/fromnumeric.py:3584: RuntimeWarning: Degrees of freedom <= 0 for slice\n",
      "  **kwargs)\n"
     ]
    },
    {
     "name": "stdout",
     "output_type": "stream",
     "text": [
      "Index failed:  4035\n",
      "Index failed:  4466\n"
     ]
    },
    {
     "name": "stderr",
     "output_type": "stream",
     "text": [
      "/opt/conda/lib/python3.7/site-packages/numpy/core/fromnumeric.py:3335: RuntimeWarning: Mean of empty slice.\n",
      "  out=out, **kwargs)\n",
      "/opt/conda/lib/python3.7/site-packages/numpy/core/fromnumeric.py:3584: RuntimeWarning: Degrees of freedom <= 0 for slice\n",
      "  **kwargs)\n"
     ]
    },
    {
     "name": "stdout",
     "output_type": "stream",
     "text": [
      "              0            1             2           3             4   \\\n",
      "0      68.630849  1703.000000  9.262802e+05  320.555556  30973.802469   \n",
      "1      61.726883  4091.680000  5.982348e+06  328.750000   9966.687500   \n",
      "2      84.916201  4084.166667  5.727385e+06  229.314286   4131.929796   \n",
      "3      67.432567  4591.500000  5.375670e+06  287.037037  11692.702332   \n",
      "4      59.495192  1515.857143  1.277013e+06  553.666667  73455.555556   \n",
      "...          ...          ...           ...         ...           ...   \n",
      "5112   70.249174  1653.400000  7.825630e+05  312.555556  11353.358025   \n",
      "5113  100.600962  8503.159574  2.338257e+07  178.967742    125.364551   \n",
      "5114   83.731456  4222.263158  5.604869e+06  216.027027    224.945215   \n",
      "5115   72.080089  7115.640000  1.543488e+07  275.346939   5942.063307   \n",
      "5116   80.042689  2948.230769  2.859654e+06  225.000000    261.440000   \n",
      "\n",
      "               5             6           7             8            9   ...  \\\n",
      "0     1656.090909  8.901874e+05  287.600000   7399.240000  1637.333333  ...   \n",
      "1     4188.962963  5.663943e+06  303.307692   3872.366864  4327.482759  ...   \n",
      "2     4117.444444  5.717130e+06  229.400000   3534.982857  4278.846154  ...   \n",
      "3     4622.000000  5.374710e+06  287.037037  11852.480110  4346.935484  ...   \n",
      "4     1765.555556  1.188104e+06  411.500000  49303.000000  1827.250000  ...   \n",
      "...           ...           ...         ...           ...          ...  ...   \n",
      "5112  1956.461538  9.833075e+05  279.083333   8635.909722  1864.928571  ...   \n",
      "5113  8528.414894  2.337890e+07  178.924731     87.037345  8542.382979  ...   \n",
      "5114  4240.157895  5.587722e+06  214.972973     51.647918  4249.421053  ...   \n",
      "5115  7151.340000  1.543874e+07  275.081633   5983.830071  7029.400000  ...   \n",
      "5116  2976.423077  2.855210e+06  225.280000     88.921600  3002.000000  ...   \n",
      "\n",
      "              61            62          63            64          65  \\\n",
      "0     116.000000    669.777778   92.777778    551.950617   74.555556   \n",
      "1     114.000000     12.480000   98.040000      4.518400   82.720000   \n",
      "2     119.333333    385.166667   86.055556    144.441358   65.055556   \n",
      "3     149.500000    166.535714  119.000000     40.785714  105.250000   \n",
      "4     217.166667  23547.805556  185.166667  23451.805556  162.333333   \n",
      "...          ...           ...         ...           ...         ...   \n",
      "5112  126.500000    524.450000   94.500000    278.650000   74.400000   \n",
      "5113  104.680851     41.302399   79.425532     20.499774   65.457447   \n",
      "5114  122.513514     88.303871  104.432432     36.677867   95.162162   \n",
      "5115  132.142857     66.897959   96.163265     60.054977   78.367347   \n",
      "5116  123.846154    238.822485   95.653846    233.226331   70.076923   \n",
      "\n",
      "                66         67           68   69   70  \n",
      "0       570.246914  51.555556   504.913580  0.0  0.0  \n",
      "1         3.481600  72.160000     5.974400  0.0  0.0  \n",
      "2        26.830247  53.416667    44.243056  0.0  0.0  \n",
      "3        39.473214  81.142857    23.979592  0.0  0.0  \n",
      "4     24267.555556  63.333333  7779.888889  0.0  0.0  \n",
      "...            ...        ...          ...  ...  ...  \n",
      "5112    315.240000  44.300000   410.410000  0.0  0.0  \n",
      "5113      6.035423  44.489362    25.292440  0.0  0.0  \n",
      "5114     35.595325  42.756757   302.400292  0.0  0.0  \n",
      "5115      2.681383  55.122449    53.413578  0.0  0.0  \n",
      "5116    182.840237  47.384615   205.005917  0.0  0.0  \n",
      "\n",
      "[5117 rows x 71 columns]\n"
     ]
    }
   ],
   "source": [
    "f = Feature_Engineering.extract_features_parrallel(X)\n",
    "print(f)"
   ]
  },
  {
   "cell_type": "markdown",
   "metadata": {},
   "source": [
    "# Training"
   ]
  },
  {
   "cell_type": "code",
   "execution_count": 173,
   "metadata": {},
   "outputs": [
    {
     "name": "stdout",
     "output_type": "stream",
     "text": [
      "0      0\n",
      "1      6\n",
      "2      6\n",
      "3     11\n",
      "4     11\n",
      "      ..\n",
      "66     8\n",
      "67     8\n",
      "68     8\n",
      "69     8\n",
      "70     8\n",
      "Length: 71, dtype: int64\n"
     ]
    }
   ],
   "source": [
    "print(f.isna().sum())"
   ]
  },
  {
   "cell_type": "code",
   "execution_count": null,
   "metadata": {},
   "outputs": [],
   "source": [
    "scaler = StandardScaler()\n",
    "X_features = scaler.fit_transform(f,y)\n",
    "# pprint(f2)\n",
    "\n",
    "est = SVC(kernel='rbf')\n",
    "cv_score = cross_val_score(est, X_featurs, y, cv=10, scoring='balanced_accuracy') #'f1_micro')\n",
    "print(cv_score)\n",
    "print(np.mean(cv_score))"
   ]
  },
  {
   "cell_type": "markdown",
   "metadata": {},
   "source": [
    "# Testing"
   ]
  },
  {
   "cell_type": "code",
   "execution_count": 159,
   "metadata": {},
   "outputs": [
    {
     "name": "stdout",
     "output_type": "stream",
     "text": [
      "Test 1:\n",
      "[[None, 405, 658, 1476, 1746, 2009, 2267, 2522, 2780, 3026],\n",
      " [170, 431, 678, 954, 1498, 1761, 2031, 2291, 2554, 2803, 3046],\n",
      " [183, 446, 706, 969, 1237, 1517, 1783, 2050, 2306, 2566, 2817, 3068],\n",
      " [209, 465, 746, 998, 1257, 1536, 1809, 2069, 2326, 2583, 2839, 3087],\n",
      " [288, 502, 803, 1084, 1289, 1572, 1852, 2109, 2685, 2872, 3124]]\n",
      "[[405, 658, 1476, 1746, 2009, 2522, 2780, 3026],\n",
      " [431, 678, 1498, 1761, 2031, 2554, 2803, 3046],\n",
      " [446, 706, 1517, 1783, 2050, 2566, 2817, 3068],\n",
      " [465, 746, 1536, 1809, 2069, 2583, 2839, 3087],\n",
      " [502, 803, 1572, 1852, 2109, 2685, 2872, 3124]]\n",
      "\n",
      "Test 2:\n",
      "[[141, 405, 658, 1476, 1746, 2009, 2267, 2522, 2780, 3026],\n",
      " [170, 431, 678, 954, 1498, 1761, 2031, 2291, 2554, 2803, 3046],\n",
      " [183, 446, 706, 969, 1237, None, 1783, 2050, 2306, 2566, 2817, 3068],\n",
      " [209, 465, 746, 998, 1257, 1536, 1809, 2069, 2326, 2583, 2839, 3087],\n",
      " [288, 502, 803, 1084, 1289, 1572, 1852, 2109, 2685, 2872, 3124]]\n",
      "[[141, 405, 658, 1746, 2009, 2522, 2780, 3026],\n",
      " [170, 431, 678, 1761, 2031, 2554, 2803, 3046],\n",
      " [183, 446, 706, 1783, 2050, 2566, 2817, 3068],\n",
      " [209, 465, 746, 1809, 2069, 2583, 2839, 3087],\n",
      " [288, 502, 803, 1852, 2109, 2685, 2872, 3124]]\n"
     ]
    }
   ],
   "source": [
    "import copy as cp\n",
    "\n",
    "test = [[141, 405, 658, 1476, 1746, 2009, 2267, 2522, 2780, 3026],\n",
    " [170, 431, 678, 954, 1498, 1761, 2031, 2291, 2554, 2803, 3046],\n",
    " [183, 446, 706, 969, 1237, 1517, 1783, 2050, 2306, 2566, 2817, 3068],\n",
    " [209, 465, 746, 998, 1257, 1536, 1809, 2069, 2326, 2583, 2839, 3087],\n",
    " [288, 502, 803, 1084, 1289, 1572, 1852, 2109, 2685, 2872, 3124]]\n",
    "\n",
    "print(\"Test 1:\")\n",
    "t1 = cp.deepcopy(test)\n",
    "t1[0][0] = None\n",
    "pprint(t1)\n",
    "t1[0].pop(0)\n",
    "pprint(peaks_cleaning(t1))\n",
    "\n",
    "print(\"\\nTest 2:\")\n",
    "t2 = cp.deepcopy(test)\n",
    "t2[2][5] = None\n",
    "pprint(t2)\n",
    "t2[2].pop(5)\n",
    "pk2 = peaks_cleaning(t2)\n",
    "pprint(pk2)\n",
    "\n",
    "# p_t2 = peaks_cleaning(t2)\n",
    "# print(np.array(p_t2[-1])-np.array(p_t2[0]))"
   ]
  },
  {
   "cell_type": "code",
   "execution_count": 210,
   "metadata": {},
   "outputs": [
    {
     "ename": "ValueError",
     "evalue": "`x` must be strictly increasing sequence.",
     "output_type": "error",
     "traceback": [
      "\u001b[0;31m---------------------------------------------------------------------------\u001b[0m",
      "\u001b[0;31mValueError\u001b[0m                                Traceback (most recent call last)",
      "\u001b[0;32m<ipython-input-210-ba341426deb8>\u001b[0m in \u001b[0;36m<module>\u001b[0;34m\u001b[0m\n\u001b[0;32m----> 1\u001b[0;31m \u001b[0mnk\u001b[0m\u001b[0;34m.\u001b[0m\u001b[0mecg_process\u001b[0m\u001b[0;34m(\u001b[0m\u001b[0mX\u001b[0m\u001b[0;34m.\u001b[0m\u001b[0miloc\u001b[0m\u001b[0;34m[\u001b[0m\u001b[0;36m62\u001b[0m\u001b[0;34m]\u001b[0m\u001b[0;34m.\u001b[0m\u001b[0mdropna\u001b[0m\u001b[0;34m(\u001b[0m\u001b[0;34m)\u001b[0m\u001b[0;34m,\u001b[0m \u001b[0msampling_rate\u001b[0m\u001b[0;34m=\u001b[0m\u001b[0;36m300\u001b[0m\u001b[0;34m)\u001b[0m\u001b[0;34m\u001b[0m\u001b[0;34m\u001b[0m\u001b[0m\n\u001b[0m",
      "\u001b[0;32m/opt/conda/lib/python3.7/site-packages/neurokit2/ecg/ecg_process.py\u001b[0m in \u001b[0;36mecg_process\u001b[0;34m(ecg_signal, sampling_rate, method)\u001b[0m\n\u001b[1;32m     96\u001b[0m     )\n\u001b[1;32m     97\u001b[0m \u001b[0;34m\u001b[0m\u001b[0m\n\u001b[0;32m---> 98\u001b[0;31m     \u001b[0mrate\u001b[0m \u001b[0;34m=\u001b[0m \u001b[0msignal_rate\u001b[0m\u001b[0;34m(\u001b[0m\u001b[0mrpeaks\u001b[0m\u001b[0;34m,\u001b[0m \u001b[0msampling_rate\u001b[0m\u001b[0;34m=\u001b[0m\u001b[0msampling_rate\u001b[0m\u001b[0;34m,\u001b[0m \u001b[0mdesired_length\u001b[0m\u001b[0;34m=\u001b[0m\u001b[0mlen\u001b[0m\u001b[0;34m(\u001b[0m\u001b[0mecg_cleaned\u001b[0m\u001b[0;34m)\u001b[0m\u001b[0;34m)\u001b[0m\u001b[0;34m\u001b[0m\u001b[0;34m\u001b[0m\u001b[0m\n\u001b[0m\u001b[1;32m     99\u001b[0m \u001b[0;34m\u001b[0m\u001b[0m\n\u001b[1;32m    100\u001b[0m     \u001b[0mquality\u001b[0m \u001b[0;34m=\u001b[0m \u001b[0mecg_quality\u001b[0m\u001b[0;34m(\u001b[0m\u001b[0mecg_cleaned\u001b[0m\u001b[0;34m,\u001b[0m \u001b[0mrpeaks\u001b[0m\u001b[0;34m=\u001b[0m\u001b[0;32mNone\u001b[0m\u001b[0;34m,\u001b[0m \u001b[0msampling_rate\u001b[0m\u001b[0;34m=\u001b[0m\u001b[0msampling_rate\u001b[0m\u001b[0;34m)\u001b[0m\u001b[0;34m\u001b[0m\u001b[0;34m\u001b[0m\u001b[0m\n",
      "\u001b[0;32m/opt/conda/lib/python3.7/site-packages/neurokit2/signal/signal_rate.py\u001b[0m in \u001b[0;36msignal_rate\u001b[0;34m(peaks, sampling_rate, desired_length, interpolation_method)\u001b[0m\n\u001b[1;32m     52\u001b[0m \u001b[0;34m\u001b[0m\u001b[0m\n\u001b[1;32m     53\u001b[0m     \"\"\"\n\u001b[0;32m---> 54\u001b[0;31m     \u001b[0mperiod\u001b[0m \u001b[0;34m=\u001b[0m \u001b[0msignal_period\u001b[0m\u001b[0;34m(\u001b[0m\u001b[0mpeaks\u001b[0m\u001b[0;34m,\u001b[0m \u001b[0msampling_rate\u001b[0m\u001b[0;34m,\u001b[0m \u001b[0mdesired_length\u001b[0m\u001b[0;34m,\u001b[0m \u001b[0minterpolation_method\u001b[0m\u001b[0;34m)\u001b[0m\u001b[0;34m\u001b[0m\u001b[0;34m\u001b[0m\u001b[0m\n\u001b[0m\u001b[1;32m     55\u001b[0m     \u001b[0mrate\u001b[0m \u001b[0;34m=\u001b[0m \u001b[0;36m60\u001b[0m \u001b[0;34m/\u001b[0m \u001b[0mperiod\u001b[0m\u001b[0;34m\u001b[0m\u001b[0;34m\u001b[0m\u001b[0m\n\u001b[1;32m     56\u001b[0m \u001b[0;34m\u001b[0m\u001b[0m\n",
      "\u001b[0;32m/opt/conda/lib/python3.7/site-packages/neurokit2/signal/signal_period.py\u001b[0m in \u001b[0;36msignal_period\u001b[0;34m(peaks, sampling_rate, desired_length, interpolation_method)\u001b[0m\n\u001b[1;32m     76\u001b[0m     \u001b[0;31m# Interpolate all statistics to desired length.\u001b[0m\u001b[0;34m\u001b[0m\u001b[0;34m\u001b[0m\u001b[0;34m\u001b[0m\u001b[0m\n\u001b[1;32m     77\u001b[0m     \u001b[0;32mif\u001b[0m \u001b[0mdesired_length\u001b[0m \u001b[0;32mis\u001b[0m \u001b[0;32mnot\u001b[0m \u001b[0;32mNone\u001b[0m\u001b[0;34m:\u001b[0m\u001b[0;34m\u001b[0m\u001b[0;34m\u001b[0m\u001b[0m\n\u001b[0;32m---> 78\u001b[0;31m         \u001b[0mperiod\u001b[0m \u001b[0;34m=\u001b[0m \u001b[0msignal_interpolate\u001b[0m\u001b[0;34m(\u001b[0m\u001b[0mpeaks\u001b[0m\u001b[0;34m,\u001b[0m \u001b[0mperiod\u001b[0m\u001b[0;34m,\u001b[0m \u001b[0mx_new\u001b[0m\u001b[0;34m=\u001b[0m\u001b[0mnp\u001b[0m\u001b[0;34m.\u001b[0m\u001b[0marange\u001b[0m\u001b[0;34m(\u001b[0m\u001b[0mdesired_length\u001b[0m\u001b[0;34m)\u001b[0m\u001b[0;34m,\u001b[0m \u001b[0mmethod\u001b[0m\u001b[0;34m=\u001b[0m\u001b[0minterpolation_method\u001b[0m\u001b[0;34m)\u001b[0m\u001b[0;34m\u001b[0m\u001b[0;34m\u001b[0m\u001b[0m\n\u001b[0m\u001b[1;32m     79\u001b[0m \u001b[0;34m\u001b[0m\u001b[0m\n\u001b[1;32m     80\u001b[0m     \u001b[0;32mreturn\u001b[0m \u001b[0mperiod\u001b[0m\u001b[0;34m\u001b[0m\u001b[0;34m\u001b[0m\u001b[0m\n",
      "\u001b[0;32m/opt/conda/lib/python3.7/site-packages/neurokit2/signal/signal_interpolate.py\u001b[0m in \u001b[0;36msignal_interpolate\u001b[0;34m(x_values, y_values, x_new, method)\u001b[0m\n\u001b[1;32m     72\u001b[0m \u001b[0;34m\u001b[0m\u001b[0m\n\u001b[1;32m     73\u001b[0m     \u001b[0;32mif\u001b[0m \u001b[0mmonotone_cubic\u001b[0m\u001b[0;34m:\u001b[0m\u001b[0;34m\u001b[0m\u001b[0;34m\u001b[0m\u001b[0m\n\u001b[0;32m---> 74\u001b[0;31m         \u001b[0minterpolation_function\u001b[0m \u001b[0;34m=\u001b[0m \u001b[0mscipy\u001b[0m\u001b[0;34m.\u001b[0m\u001b[0minterpolate\u001b[0m\u001b[0;34m.\u001b[0m\u001b[0mPchipInterpolator\u001b[0m\u001b[0;34m(\u001b[0m\u001b[0mx_values\u001b[0m\u001b[0;34m,\u001b[0m \u001b[0my_values\u001b[0m\u001b[0;34m,\u001b[0m \u001b[0mextrapolate\u001b[0m\u001b[0;34m=\u001b[0m\u001b[0;32mTrue\u001b[0m\u001b[0;34m)\u001b[0m\u001b[0;34m\u001b[0m\u001b[0;34m\u001b[0m\u001b[0m\n\u001b[0m\u001b[1;32m     75\u001b[0m     \u001b[0;32melse\u001b[0m\u001b[0;34m:\u001b[0m\u001b[0;34m\u001b[0m\u001b[0;34m\u001b[0m\u001b[0m\n\u001b[1;32m     76\u001b[0m         interpolation_function = scipy.interpolate.interp1d(\n",
      "\u001b[0;32m/opt/conda/lib/python3.7/site-packages/scipy/interpolate/_cubic.py\u001b[0m in \u001b[0;36m__init__\u001b[0;34m(self, x, y, axis, extrapolate)\u001b[0m\n\u001b[1;32m    228\u001b[0m     \"\"\"\n\u001b[1;32m    229\u001b[0m     \u001b[0;32mdef\u001b[0m \u001b[0m__init__\u001b[0m\u001b[0;34m(\u001b[0m\u001b[0mself\u001b[0m\u001b[0;34m,\u001b[0m \u001b[0mx\u001b[0m\u001b[0;34m,\u001b[0m \u001b[0my\u001b[0m\u001b[0;34m,\u001b[0m \u001b[0maxis\u001b[0m\u001b[0;34m=\u001b[0m\u001b[0;36m0\u001b[0m\u001b[0;34m,\u001b[0m \u001b[0mextrapolate\u001b[0m\u001b[0;34m=\u001b[0m\u001b[0;32mNone\u001b[0m\u001b[0;34m)\u001b[0m\u001b[0;34m:\u001b[0m\u001b[0;34m\u001b[0m\u001b[0;34m\u001b[0m\u001b[0m\n\u001b[0;32m--> 230\u001b[0;31m         \u001b[0mx\u001b[0m\u001b[0;34m,\u001b[0m \u001b[0m_\u001b[0m\u001b[0;34m,\u001b[0m \u001b[0my\u001b[0m\u001b[0;34m,\u001b[0m \u001b[0maxis\u001b[0m\u001b[0;34m,\u001b[0m \u001b[0m_\u001b[0m \u001b[0;34m=\u001b[0m \u001b[0mprepare_input\u001b[0m\u001b[0;34m(\u001b[0m\u001b[0mx\u001b[0m\u001b[0;34m,\u001b[0m \u001b[0my\u001b[0m\u001b[0;34m,\u001b[0m \u001b[0maxis\u001b[0m\u001b[0;34m)\u001b[0m\u001b[0;34m\u001b[0m\u001b[0;34m\u001b[0m\u001b[0m\n\u001b[0m\u001b[1;32m    231\u001b[0m         \u001b[0mxp\u001b[0m \u001b[0;34m=\u001b[0m \u001b[0mx\u001b[0m\u001b[0;34m.\u001b[0m\u001b[0mreshape\u001b[0m\u001b[0;34m(\u001b[0m\u001b[0;34m(\u001b[0m\u001b[0mx\u001b[0m\u001b[0;34m.\u001b[0m\u001b[0mshape\u001b[0m\u001b[0;34m[\u001b[0m\u001b[0;36m0\u001b[0m\u001b[0;34m]\u001b[0m\u001b[0;34m,\u001b[0m\u001b[0;34m)\u001b[0m \u001b[0;34m+\u001b[0m \u001b[0;34m(\u001b[0m\u001b[0;36m1\u001b[0m\u001b[0;34m,\u001b[0m\u001b[0;34m)\u001b[0m\u001b[0;34m*\u001b[0m\u001b[0;34m(\u001b[0m\u001b[0my\u001b[0m\u001b[0;34m.\u001b[0m\u001b[0mndim\u001b[0m\u001b[0;34m-\u001b[0m\u001b[0;36m1\u001b[0m\u001b[0;34m)\u001b[0m\u001b[0;34m)\u001b[0m\u001b[0;34m\u001b[0m\u001b[0;34m\u001b[0m\u001b[0m\n\u001b[1;32m    232\u001b[0m         \u001b[0mdk\u001b[0m \u001b[0;34m=\u001b[0m \u001b[0mself\u001b[0m\u001b[0;34m.\u001b[0m\u001b[0m_find_derivatives\u001b[0m\u001b[0;34m(\u001b[0m\u001b[0mxp\u001b[0m\u001b[0;34m,\u001b[0m \u001b[0my\u001b[0m\u001b[0;34m)\u001b[0m\u001b[0;34m\u001b[0m\u001b[0;34m\u001b[0m\u001b[0m\n",
      "\u001b[0;32m/opt/conda/lib/python3.7/site-packages/scipy/interpolate/_cubic.py\u001b[0m in \u001b[0;36mprepare_input\u001b[0;34m(x, y, axis, dydx)\u001b[0m\n\u001b[1;32m     59\u001b[0m     \u001b[0mdx\u001b[0m \u001b[0;34m=\u001b[0m \u001b[0mnp\u001b[0m\u001b[0;34m.\u001b[0m\u001b[0mdiff\u001b[0m\u001b[0;34m(\u001b[0m\u001b[0mx\u001b[0m\u001b[0;34m)\u001b[0m\u001b[0;34m\u001b[0m\u001b[0;34m\u001b[0m\u001b[0m\n\u001b[1;32m     60\u001b[0m     \u001b[0;32mif\u001b[0m \u001b[0mnp\u001b[0m\u001b[0;34m.\u001b[0m\u001b[0many\u001b[0m\u001b[0;34m(\u001b[0m\u001b[0mdx\u001b[0m \u001b[0;34m<=\u001b[0m \u001b[0;36m0\u001b[0m\u001b[0;34m)\u001b[0m\u001b[0;34m:\u001b[0m\u001b[0;34m\u001b[0m\u001b[0;34m\u001b[0m\u001b[0m\n\u001b[0;32m---> 61\u001b[0;31m         \u001b[0;32mraise\u001b[0m \u001b[0mValueError\u001b[0m\u001b[0;34m(\u001b[0m\u001b[0;34m\"`x` must be strictly increasing sequence.\"\u001b[0m\u001b[0;34m)\u001b[0m\u001b[0;34m\u001b[0m\u001b[0;34m\u001b[0m\u001b[0m\n\u001b[0m\u001b[1;32m     62\u001b[0m \u001b[0;34m\u001b[0m\u001b[0m\n\u001b[1;32m     63\u001b[0m     \u001b[0my\u001b[0m \u001b[0;34m=\u001b[0m \u001b[0mnp\u001b[0m\u001b[0;34m.\u001b[0m\u001b[0mrollaxis\u001b[0m\u001b[0;34m(\u001b[0m\u001b[0my\u001b[0m\u001b[0;34m,\u001b[0m \u001b[0maxis\u001b[0m\u001b[0;34m)\u001b[0m\u001b[0;34m\u001b[0m\u001b[0;34m\u001b[0m\u001b[0m\n",
      "\u001b[0;31mValueError\u001b[0m: `x` must be strictly increasing sequence."
     ]
    }
   ],
   "source": [
    "nk.ecg_process(X.iloc[62].dropna(), sampling_rate=300)"
   ]
  },
  {
   "cell_type": "code",
   "execution_count": 207,
   "metadata": {},
   "outputs": [
    {
     "name": "stderr",
     "output_type": "stream",
     "text": [
      "/opt/conda/lib/python3.7/site-packages/biosppy/plotting.py:960: UserWarning: Tight layout not applied. tight_layout cannot make axes height small enough to accommodate all axes decorations\n",
      "  gs.tight_layout(fig)\n"
     ]
    },
    {
     "data": {
      "image/png": "[encoded data removed]",
      "text/plain": [
       "<Figure size 432x288 with 4 Axes>"
      ]
     },
     "metadata": {
      "needs_background": "light"
     },
     "output_type": "display_data"
    },
    {
     "data": {
      "text/plain": [
       "ReturnTuple(ts=array([0.00000000e+00, 3.33314230e-03, 6.66628460e-03, ...,\n",
       "       5.81500006e+01, 5.81533337e+01, 5.81566669e+01]), filtered=array([ 6.48712154e+00,  1.07411279e+01,  1.47387895e+01, ...,\n",
       "       -1.86092837e+01, -1.03572822e+01, -4.79262775e-16]), rpeaks=array([  160,   304,   626,   771,  1089,  1234,  1551,  1697,  2009,\n",
       "        2156,  2469,  2615,  2930,  3077,  3394,  3539,  3855,  4002,\n",
       "        4311,  4458,  4767,  4914,  5224,  5373,  5689,  5837,  6147,\n",
       "        6295,  6607,  6753,  7055,  7202,  7501,  7744,  7887,  8189,\n",
       "        8337,  8639,  8786,  9094,  9243,  9550,  9698, 10001, 10150,\n",
       "       10458, 10605, 10909, 11057, 11367, 11517, 11824, 11972, 12281,\n",
       "       12431, 12742, 12890, 13197, 13346, 13659, 13810, 14136, 14285,\n",
       "       14614, 14762, 15085, 15232, 15555, 15703, 16018, 16165, 16477,\n",
       "       16624, 16934, 17082]), templates_ts=array([-2.00000000e-01, -1.96666667e-01, -1.93333333e-01, -1.90000000e-01,\n",
       "       -1.86666667e-01, -1.83333333e-01, -1.80000000e-01, -1.76666667e-01,\n",
       "       -1.73333333e-01, -1.70000000e-01, -1.66666667e-01, -1.63333333e-01,\n",
       "       -1.60000000e-01, -1.56666667e-01, -1.53333333e-01, -1.50000000e-01,\n",
       "       -1.46666667e-01, -1.43333333e-01, -1.40000000e-01, -1.36666667e-01,\n",
       "       -1.33333333e-01, -1.30000000e-01, -1.26666667e-01, -1.23333333e-01,\n",
       "       -1.20000000e-01, -1.16666667e-01, -1.13333333e-01, -1.10000000e-01,\n",
       "       -1.06666667e-01, -1.03333333e-01, -1.00000000e-01, -9.66666667e-02,\n",
       "       -9.33333333e-02, -9.00000000e-02, -8.66666667e-02, -8.33333333e-02,\n",
       "       -8.00000000e-02, -7.66666667e-02, -7.33333333e-02, -7.00000000e-02,\n",
       "       -6.66666667e-02, -6.33333333e-02, -6.00000000e-02, -5.66666667e-02,\n",
       "       -5.33333333e-02, -5.00000000e-02, -4.66666667e-02, -4.33333333e-02,\n",
       "       -4.00000000e-02, -3.66666667e-02, -3.33333333e-02, -3.00000000e-02,\n",
       "       -2.66666667e-02, -2.33333333e-02, -2.00000000e-02, -1.66666667e-02,\n",
       "       -1.33333333e-02, -1.00000000e-02, -6.66666667e-03, -3.33333333e-03,\n",
       "        2.77555756e-17,  3.33333333e-03,  6.66666667e-03,  1.00000000e-02,\n",
       "        1.33333333e-02,  1.66666667e-02,  2.00000000e-02,  2.33333333e-02,\n",
       "        2.66666667e-02,  3.00000000e-02,  3.33333333e-02,  3.66666667e-02,\n",
       "        4.00000000e-02,  4.33333333e-02,  4.66666667e-02,  5.00000000e-02,\n",
       "        5.33333333e-02,  5.66666667e-02,  6.00000000e-02,  6.33333333e-02,\n",
       "        6.66666667e-02,  7.00000000e-02,  7.33333333e-02,  7.66666667e-02,\n",
       "        8.00000000e-02,  8.33333333e-02,  8.66666667e-02,  9.00000000e-02,\n",
       "        9.33333333e-02,  9.66666667e-02,  1.00000000e-01,  1.03333333e-01,\n",
       "        1.06666667e-01,  1.10000000e-01,  1.13333333e-01,  1.16666667e-01,\n",
       "        1.20000000e-01,  1.23333333e-01,  1.26666667e-01,  1.30000000e-01,\n",
       "        1.33333333e-01,  1.36666667e-01,  1.40000000e-01,  1.43333333e-01,\n",
       "        1.46666667e-01,  1.50000000e-01,  1.53333333e-01,  1.56666667e-01,\n",
       "        1.60000000e-01,  1.63333333e-01,  1.66666667e-01,  1.70000000e-01,\n",
       "        1.73333333e-01,  1.76666667e-01,  1.80000000e-01,  1.83333333e-01,\n",
       "        1.86666667e-01,  1.90000000e-01,  1.93333333e-01,  1.96666667e-01,\n",
       "        2.00000000e-01,  2.03333333e-01,  2.06666667e-01,  2.10000000e-01,\n",
       "        2.13333333e-01,  2.16666667e-01,  2.20000000e-01,  2.23333333e-01,\n",
       "        2.26666667e-01,  2.30000000e-01,  2.33333333e-01,  2.36666667e-01,\n",
       "        2.40000000e-01,  2.43333333e-01,  2.46666667e-01,  2.50000000e-01,\n",
       "        2.53333333e-01,  2.56666667e-01,  2.60000000e-01,  2.63333333e-01,\n",
       "        2.66666667e-01,  2.70000000e-01,  2.73333333e-01,  2.76666667e-01,\n",
       "        2.80000000e-01,  2.83333333e-01,  2.86666667e-01,  2.90000000e-01,\n",
       "        2.93333333e-01,  2.96666667e-01,  3.00000000e-01,  3.03333333e-01,\n",
       "        3.06666667e-01,  3.10000000e-01,  3.13333333e-01,  3.16666667e-01,\n",
       "        3.20000000e-01,  3.23333333e-01,  3.26666667e-01,  3.30000000e-01,\n",
       "        3.33333333e-01,  3.36666667e-01,  3.40000000e-01,  3.43333333e-01,\n",
       "        3.46666667e-01,  3.50000000e-01,  3.53333333e-01,  3.56666667e-01,\n",
       "        3.60000000e-01,  3.63333333e-01,  3.66666667e-01,  3.70000000e-01,\n",
       "        3.73333333e-01,  3.76666667e-01,  3.80000000e-01,  3.83333333e-01,\n",
       "        3.86666667e-01,  3.90000000e-01,  3.93333333e-01,  3.96666667e-01]), templates=array([[-12.4670676 ,  -2.54303929,   6.84788996, ..., -66.63378856,\n",
       "        -73.66717959, -78.2614263 ],\n",
       "       [ -1.30069152,   0.70876044,   3.42454189, ...,  17.86244921,\n",
       "         12.18382077,   6.86866276],\n",
       "       [  7.79418558,  16.58659595,  26.5198499 , ..., -33.33259557,\n",
       "        -45.28651077, -56.50253709],\n",
       "       ...,\n",
       "       [ 18.87494417,  20.87452526,  22.96857097, ...,  -7.08286973,\n",
       "         -5.28567155,  -3.71469022],\n",
       "       [ 10.4015943 ,   7.02037484,   2.6677896 , ..., -22.71895067,\n",
       "        -22.93648119, -23.84106557],\n",
       "       [ 16.28039733,  17.27392141,  18.34413749, ...,  -3.19840694,\n",
       "          1.05690581,   4.14304146]]), heart_rate_ts=array([ 1.01327526,  2.08654708,  2.56985271,  3.62979197,  4.1130976 ,\n",
       "        5.16970371,  5.65634248,  6.69628288,  7.1862548 ,  8.22952834,\n",
       "        8.71616712,  9.76610694, 10.25607886, 11.31268497, 11.7959906 ,\n",
       "       12.84926357, 13.33923549, 14.36917646, 14.85914838, 15.88908935,\n",
       "       16.37906126, 17.41233538, 17.90897358, 18.96224655, 19.45555161,\n",
       "       20.48882572, 20.98213078, 22.02207118, 22.50870995, 23.51531893,\n",
       "       24.00529085, 25.0019004 , 25.81185397, 26.28849332, 27.2951023 ,\n",
       "       27.78840736, 28.79501633, 29.28498825, 30.31159608, 30.80823428,\n",
       "       31.83150897, 32.32481403, 33.33475615, 33.83139435, 34.85800218,\n",
       "       35.3479741 , 36.36124936, 36.85455442, 37.88782853, 38.38779987,\n",
       "       39.41107456, 39.90437962, 40.93432059, 41.43429194, 42.47089919,\n",
       "       42.96420425, 43.98747894, 44.48411714, 45.52739068, 46.03069517,\n",
       "       47.11729956, 47.61393776, 48.71054158, 49.20384664, 50.2804516 ,\n",
       "       50.77042352, 51.84702848, 52.34033354, 53.39027337, 53.88024529,\n",
       "       54.92018568, 55.4101576 , 56.44343172, 56.93673678]), heart_rate=array([101.96687371, 101.67951738,  78.88077525, 101.62654522,\n",
       "        79.17467967, 101.40264555,  79.25410444, 101.14298617,\n",
       "        79.21642483, 101.08154602,  79.31283853, 100.95983599,\n",
       "        78.79139037, 101.12308167,  79.29409691, 101.18297865,\n",
       "        79.22114403, 101.05012879,  79.65127799, 101.05012879,\n",
       "        79.58864097, 100.43962162,  78.61063686,  99.79633869,\n",
       "        78.88272102, 100.43591979,  79.12614848, 100.86720018,\n",
       "        80.19420931, 101.77976661,  80.75076583,  85.57457419,\n",
       "        86.71628961,  86.51694965, 102.36613217,  80.27563988,\n",
       "       101.22441674,  80.16439568, 100.56530239,  79.2929498 ,\n",
       "       100.35297086,  79.88649468, 100.61097711,  79.55095605,\n",
       "       100.56530239,  80.03368812, 101.09370918,  79.63222136,\n",
       "        99.89537925,  78.89881265, 100.08451448,  79.50199021,\n",
       "        99.95801627,  78.71008023,  99.83314504,  79.37711898,\n",
       "       100.35297086,  78.98175939,  99.17288479,  77.30933639,\n",
       "        98.40846369,  76.91044642,  99.04607898,  77.353474  ,\n",
       "        99.93271846,  77.96802932,  99.93271846,  78.16401098,\n",
       "       100.40448612,  79.09471481, 100.86342229,  79.40193447,\n",
       "       100.71170578, 100.43591979]))"
      ]
     },
     "execution_count": 207,
     "metadata": {},
     "output_type": "execute_result"
    }
   ],
   "source": [
    "import biosppy.signals.ecg as ecg\n",
    "ecg.ecg(signal=X.iloc[62].dropna(), sampling_rate=300.0)"
   ]
  },
  {
   "cell_type": "code",
   "execution_count": null,
   "metadata": {},
   "outputs": [],
   "source": []
  }
 ],
 "metadata": {
  "environment": {
   "name": "common-cpu.m58",
   "type": "gcloud",
   "uri": "gcr.io/deeplearning-platform-release/base-cpu:m58"
  },
  "kernelspec": {
   "display_name": "Python 3",
   "language": "python",
   "name": "python3"
  },
  "language_info": {
   "codemirror_mode": {
    "name": "ipython",
    "version": 3
   },
   "file_extension": ".py",
   "mimetype": "text/x-python",
   "name": "python",
   "nbconvert_exporter": "python",
   "pygments_lexer": "ipython3",
   "version": "3.7.8"
  }
 },
 "nbformat": 4,
 "nbformat_minor": 4
}
