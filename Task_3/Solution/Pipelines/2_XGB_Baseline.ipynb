{
 "cells": [
  {
   "cell_type": "code",
   "execution_count": 50,
   "metadata": {},
   "outputs": [
    {
     "data": {
      "text/plain": [
       "<module 'Components.feature_extraction' from '../Components/feature_extraction.py'>"
      ]
     },
     "execution_count": 50,
     "metadata": {},
     "output_type": "execute_result"
    }
   ],
   "source": [
    "# General\n",
    "import matplotlib.pyplot as plt\n",
    "import pandas as pd\n",
    "import numpy as np\n",
    "import neurokit2 as nk\n",
    "from pprint import pprint\n",
    "\n",
    "# ML\n",
    "from sklearn.pipeline import Pipeline\n",
    "from sklearn.model_selection import cross_val_score\n",
    "from sklearn.preprocessing import StandardScaler\n",
    "import xgboost as xgb\n",
    "\n",
    "# Custom\n",
    "import sys,os\n",
    "sys.path.append( '.' )\n",
    "sys.path.append( '..' )\n",
    "import Components.data_fetching as data_fetching\n",
    "import Components.feature_extraction as feature_extraction\n",
    "\n",
    "# CAREFUL:\n",
    "# If you make changes to a custom module, you have to reload it, i.e rerun this cell\n",
    "import importlib\n",
    "importlib.reload(data_fetching)\n",
    "importlib.reload(feature_extraction)"
   ]
  },
  {
   "cell_type": "markdown",
   "metadata": {},
   "source": [
    "# Data Fetching"
   ]
  },
  {
   "cell_type": "code",
   "execution_count": 49,
   "metadata": {},
   "outputs": [],
   "source": [
    "_, y = data_fetching.get_train_data()\n",
    "y = np.ravel(y)\n",
    "\n",
    "X = feature_extraction.get_features(types=['timeseries', 'heartbeats', 'peaks'], verbose=True, precomputed='train')\n",
    "X_test = feature_extraction.get_features(types=['timeseries', 'heartbeats', 'peaks'], verbose=True, precomputed='test')"
   ]
  },
  {
   "cell_type": "markdown",
   "metadata": {},
   "source": [
    "# Training"
   ]
  },
  {
   "cell_type": "code",
   "execution_count": 42,
   "metadata": {},
   "outputs": [
    {
     "name": "stdout",
     "output_type": "stream",
     "text": [
      "[0.80859375 0.79492188 0.83984375 0.81640625 0.80273438 0.80664062\n",
      " 0.81054688 0.78669276 0.7964775  0.82387476]\n",
      "0.8086732509784735\n"
     ]
    }
   ],
   "source": [
    "scaler = StandardScaler()\n",
    "X_2 = scaler.fit_transform(X,y)\n",
    "\n",
    "clf = xgb.XGBClassifier()\n",
    "cv_score = cross_val_score(clf, X_2, y, cv=10, scoring='f1_micro')\n",
    "print(cv_score)\n",
    "print(np.mean(cv_score))\n",
    "\n",
    "# 1st attempt\n",
    "# [0.62304688 0.71875    0.76953125 0.74414062 0.73046875 0.72265625\n",
    "# 0.7109375  0.7260274  0.72994129 0.66144814]\n",
    "# 0.7136948079745596\n",
    "\n",
    "# 2nd attempt\n",
    "# [0.73242188 0.74023438 0.83007812 0.7578125  0.75976562 0.74804688\n",
    "# 0.76171875 0.74168297 0.73972603 0.75342466]\n",
    "# 0.7564911784491194\n",
    "\n",
    "# 3rd attempt (luke's features)\n",
    "# [0.72070312 0.76171875 0.82421875 0.76757812 0.78515625 0.75585938\n",
    "# 0.76171875 0.76125245 0.7592955  0.77299413]\n",
    "# 0.7670495199363991\n",
    "\n",
    "# 4th attempt (luke's + lea's features)\n",
    "# [0.80859375 0.79492188 0.83984375 0.81640625 0.80273438 0.80664062\n",
    "# 0.81054688 0.78669276 0.7964775  0.82387476]\n",
    "# 0.8086732509784735"
   ]
  },
  {
   "cell_type": "markdown",
   "metadata": {},
   "source": [
    "# Predict"
   ]
  },
  {
   "cell_type": "code",
   "execution_count": 36,
   "metadata": {},
   "outputs": [
    {
     "data": {
      "image/png": "[encoded data removed]",
      "text/plain": [
       "<Figure size 432x288 with 1 Axes>"
      ]
     },
     "metadata": {
      "needs_background": "light"
     },
     "output_type": "display_data"
    }
   ],
   "source": [
    "pipe = Pipeline([('scaling',StandardScaler()),\n",
    "                 ('classification', xgb.XGBClassifier())])\n",
    "\n",
    "pipe.fit(X,y)\n",
    "y_pred = pipe.predict(X_test)\n",
    "plt.hist(y_pred)\n",
    "\n",
    "y_pred_pd = pd.DataFrame(data=y_pred, columns=[\"y\"])\n",
    "y_pred_pd.to_csv('../../Predictions/XGB_Standard_All_Features.csv', index_label='id')"
   ]
  },
  {
   "cell_type": "code",
   "execution_count": null,
   "metadata": {},
   "outputs": [],
   "source": []
  }
 ],
 "metadata": {
  "environment": {
   "name": "common-cpu.m58",
   "type": "gcloud",
   "uri": "gcr.io/deeplearning-platform-release/base-cpu:m58"
  },
  "kernelspec": {
   "display_name": "Python 3",
   "language": "python",
   "name": "python3"
  },
  "language_info": {
   "codemirror_mode": {
    "name": "ipython",
    "version": 3
   },
   "file_extension": ".py",
   "mimetype": "text/x-python",
   "name": "python",
   "nbconvert_exporter": "python",
   "pygments_lexer": "ipython3",
   "version": "3.7.8"
  }
 },
 "nbformat": 4,
 "nbformat_minor": 4
}
