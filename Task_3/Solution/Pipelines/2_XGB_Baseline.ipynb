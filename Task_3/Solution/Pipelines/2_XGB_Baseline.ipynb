{
 "cells": [
  {
   "cell_type": "code",
   "execution_count": 12,
   "metadata": {},
   "outputs": [
    {
     "data": {
      "text/plain": [
       "<module 'Components.Feature_Engineering' from '../Components/Feature_Engineering.py'>"
      ]
     },
     "execution_count": 12,
     "metadata": {},
     "output_type": "execute_result"
    }
   ],
   "source": [
    "# General\n",
    "# ! pip install biosppy\n",
    "# ! pip install neurokit2\n",
    "import matplotlib.pyplot as plt\n",
    "import pandas as pd\n",
    "import numpy as np\n",
    "import neurokit2 as nk\n",
    "from pprint import pprint\n",
    "\n",
    "# ML\n",
    "from sklearn.model_selection import cross_val_score\n",
    "from sklearn.preprocessing import StandardScaler\n",
    "import xgboost as xgb\n",
    "\n",
    "# Custom\n",
    "import sys,os\n",
    "sys.path.append( '.' )\n",
    "sys.path.append( '..' )\n",
    "import Components.Normalisation as Normalisation\n",
    "import Components.data_fetching as data_fetching\n",
    "import Components.Feature_Engineering as Feature_Engineering\n",
    "\n",
    "\n",
    "# CAREFUL:\n",
    "# If you make changes to a custom module, you have to reload it, i.e rerun this cell\n",
    "import importlib\n",
    "importlib.reload(Normalisation)\n",
    "importlib.reload(data_fetching)\n",
    "importlib.reload(Feature_Engineering)"
   ]
  },
  {
   "cell_type": "markdown",
   "metadata": {},
   "source": [
    "# Data Fetching"
   ]
  },
  {
   "cell_type": "code",
   "execution_count": 6,
   "metadata": {},
   "outputs": [],
   "source": [
    "X, y = data_fetching.get_engineered_train_data()\n",
    "y = np.ravel(y)\n",
    "#x_test = data_fetching.get_test_data()"
   ]
  },
  {
   "cell_type": "markdown",
   "metadata": {},
   "source": [
    "# Training"
   ]
  },
  {
   "cell_type": "code",
   "execution_count": 7,
   "metadata": {},
   "outputs": [
    {
     "name": "stdout",
     "output_type": "stream",
     "text": [
      "[0.72070312 0.76171875 0.82421875 0.76757812 0.78515625 0.75585938\n",
      " 0.76171875 0.76125245 0.7592955  0.77299413]\n",
      "0.7670495199363991\n"
     ]
    }
   ],
   "source": [
    "scaler = StandardScaler()\n",
    "X_2 = scaler.fit_transform(X,y)\n",
    "\n",
    "clf = xgb.XGBClassifier()\n",
    "cv_score = cross_val_score(clf, X_2, y, cv=10, scoring='f1_micro')\n",
    "print(cv_score)\n",
    "print(np.mean(cv_score))\n",
    "\n",
    "# 1st attempt\n",
    "# [0.62304688 0.71875    0.76953125 0.74414062 0.73046875 0.72265625\n",
    "# 0.7109375  0.7260274  0.72994129 0.66144814]\n",
    "# 0.7136948079745596\n",
    "\n",
    "# 2nd attempt\n",
    "# [0.73242188 0.74023438 0.83007812 0.7578125  0.75976562 0.74804688\n",
    "# 0.76171875 0.74168297 0.73972603 0.75342466]\n",
    "# 0.7564911784491194\n",
    "\n",
    "# 3rd attempt\n",
    "# [0.72070312 0.76171875 0.82421875 0.76757812 0.78515625 0.75585938\n",
    "# 0.76171875 0.76125245 0.7592955  0.77299413]\n",
    "# 0.7670495199363991"
   ]
  },
  {
   "cell_type": "code",
   "execution_count": null,
   "metadata": {},
   "outputs": [],
   "source": [
    "X_test = data_fetching.get"
   ]
  },
  {
   "cell_type": "code",
   "execution_count": 13,
   "metadata": {},
   "outputs": [
    {
     "name": "stdout",
     "output_type": "stream",
     "text": [
      "(         0           1             2           3             4           5    \\\n",
      "0        0.0  320.555556  30973.802469  287.600000   7399.240000  262.272727   \n",
      "1        1.0  328.750000   9966.687500  303.307692   3872.366864  291.607143   \n",
      "2        2.0  229.314286   4131.929796  229.400000   3534.982857  211.973684   \n",
      "3        3.0  287.037037  11692.702332  287.037037  11852.480110  266.933333   \n",
      "4        4.0  553.666667  73455.555556  411.500000  49303.000000  302.545455   \n",
      "...      ...         ...           ...         ...           ...         ...   \n",
      "5112  5112.0  312.555556  11353.358025  279.083333   8635.909722  256.230769   \n",
      "5113  5113.0  178.967742    125.364551  178.924731     87.037345  178.924731   \n",
      "5114  5114.0  216.027027    224.945215  214.972973     51.647918  214.972973   \n",
      "5115  5115.0  275.346939   5942.063307  275.081633   5983.830071  249.722222   \n",
      "5116  5116.0  225.000000    261.440000  225.280000     88.921600  224.880000   \n",
      "\n",
      "              6           7             8           9    ...         101  \\\n",
      "0       62.561983  261.636364    109.140496  283.600000  ... -408.127061   \n",
      "1      531.167092  291.571429    531.959184  291.500000  ... -432.377390   \n",
      "2       21.130886  211.921053     59.651662  212.631579  ... -330.160110   \n",
      "3      298.195556  265.966667    736.232222  267.133333  ... -475.635966   \n",
      "4     2098.066116  326.000000  20880.400000  334.888889  ...  -66.743637   \n",
      "...           ...         ...           ...         ...  ...         ...   \n",
      "5112  2704.946746  256.076923   3281.301775  252.153846  ... -732.615068   \n",
      "5113    55.768528  178.817204    101.224650  178.946237  ... -313.565891   \n",
      "5114    50.891161  215.891892    486.853178  214.861111  ... -348.799962   \n",
      "5115    46.163580  249.925926    148.290809  249.660377  ... -452.613045   \n",
      "5116     7.865600  223.640000    149.110400  223.680000  ... -140.297677   \n",
      "\n",
      "                102         103            104         105           106  \\\n",
      "0      56193.019592  107.258791  159655.692900  328.706735  9.107153e+04   \n",
      "1       2000.030874  190.485731    1415.981985  232.135447  1.643267e+03   \n",
      "2      13872.000382  180.985503   59220.878746  315.897609  3.213636e+04   \n",
      "3     120651.663275   64.850668   25468.043188  178.981357  2.635081e+04   \n",
      "4      67387.120350  335.216606  864843.253992  619.582401  1.548150e+06   \n",
      "...             ...         ...            ...         ...           ...   \n",
      "5112  483869.226326 -224.281858  668809.460227  313.238943  5.515724e+05   \n",
      "5113    2574.904557  133.096370    3560.797758  260.600009  3.102087e+03   \n",
      "5114   12973.339493   37.530878   11964.547857  754.293138  8.521871e+03   \n",
      "5115    8812.313426  255.850339    9377.812428  388.553328  1.152435e+04   \n",
      "5116    8044.784110   37.419900    4511.557109  126.315457  1.971968e+04   \n",
      "\n",
      "              107            108         109            110  \n",
      "0     -963.973365  165427.693220  408.127061   56193.019592  \n",
      "1     -111.035887    4232.048023  432.377390    2000.030874  \n",
      "2     -427.485916   16243.998310  330.160110   13872.000382  \n",
      "3     -654.597320   52324.335560  475.635966  120651.663275  \n",
      "4     -661.814995  423035.259629   66.743637   67387.120350  \n",
      "...           ...            ...         ...            ...  \n",
      "5112 -1033.099121  312752.368310  732.615068  483869.226326  \n",
      "5113 -1044.367051    8265.089065  313.565891    2574.904557  \n",
      "5114   -66.550077    5375.799447  348.799962   12973.339493  \n",
      "5115  -796.960937   17038.924884  452.613045    8812.313426  \n",
      "5116  -238.263730    2501.035010  140.297677    8044.784110  \n",
      "\n",
      "[5117 rows x 111 columns],       y\n",
      "0     0\n",
      "1     0\n",
      "2     0\n",
      "3     2\n",
      "4     0\n",
      "...  ..\n",
      "5112  3\n",
      "5113  2\n",
      "5114  0\n",
      "5115  0\n",
      "5116  0\n",
      "\n",
      "[5117 rows x 1 columns])\n"
     ]
    }
   ],
   "source": [
    "print(data_fetching.get_engineered_train_data())"
   ]
  },
  {
   "cell_type": "code",
   "execution_count": null,
   "metadata": {},
   "outputs": [],
   "source": []
  }
 ],
 "metadata": {
  "environment": {
   "name": "common-cpu.m58",
   "type": "gcloud",
   "uri": "gcr.io/deeplearning-platform-release/base-cpu:m58"
  },
  "kernelspec": {
   "display_name": "Python 3",
   "language": "python",
   "name": "python3"
  },
  "language_info": {
   "codemirror_mode": {
    "name": "ipython",
    "version": 3
   },
   "file_extension": ".py",
   "mimetype": "text/x-python",
   "name": "python",
   "nbconvert_exporter": "python",
   "pygments_lexer": "ipython3",
   "version": "3.7.8"
  }
 },
 "nbformat": 4,
 "nbformat_minor": 4
}
