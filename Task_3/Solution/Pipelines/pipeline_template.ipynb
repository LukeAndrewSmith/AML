{
 "cells": [
  {
   "cell_type": "code",
   "execution_count": 57,
   "metadata": {},
   "outputs": [],
   "source": [
    "# General\n",
    "import matplotlib.pyplot as plt\n",
    "import pandas as pd\n",
    "import numpy as np\n",
    "\n",
    "# ML\n",
    "\n",
    "from sklearn.metrics import balanced_accuracy_score\n",
    "from sklearn.model_selection import cross_validate\n",
    "from sklearn.model_selection import train_test_split\n",
    "from sklearn.model_selection import cross_val_score\n",
    "from sklearn.linear_model import LogisticRegression\n",
    "from sklearn.multiclass import OneVsRestClassifier\n",
    "from sklearn.svm import SVC\n",
    "\n",
    "# feature extraction\n",
    "import biosppy.signals.ecg as ecg\n",
    "\n",
    "# Custom\n",
    "import sys,os\n",
    "sys.path.append( '.' )\n",
    "sys.path.append( '..' )\n",
    "import Components.Outlier_Detection as Outlier_Detection\n",
    "import Components.Feature_Selection as Feature_Selection\n",
    "import Components.Normalisation as Normalisation\n",
    "import Components.data_fetching as data_fetching\n",
    "import Components.feature_extraction as feature_extraction\n",
    "\n",
    "# CAREFUL:\n",
    "# If you make changes to a custom module, you have to reload it, i.e rerun this cell\n",
    "import importlib\n",
    "importlib.reload(Outlier_Detection)\n",
    "importlib.reload(Feature_Selection)\n",
    "importlib.reload(Normalisation)\n",
    "importlib.reload(data_fetching)\n",
    "importlib.reload(feature_extraction)\n",
    "\n",
    "from ipywidgets import interact, interactive, fixed, interact_manual\n",
    "import ipywidgets as widgets\n"
   ]
  },
  {
   "cell_type": "markdown",
   "metadata": {},
   "source": [
    "## Data Preprocessing"
   ]
  },
  {
   "cell_type": "markdown",
   "metadata": {},
   "source": [
    "### Data Input"
   ]
  },
  {
   "cell_type": "code",
   "execution_count": 2,
   "metadata": {},
   "outputs": [],
   "source": [
    "X, y = data_fetching.get_train_data()\n",
    "#x_test = data_fetching.get_test_data()"
   ]
  },
  {
   "source": [
    "### Feature extraction"
   ],
   "cell_type": "markdown",
   "metadata": {}
  },
  {
   "cell_type": "code",
   "execution_count": 59,
   "metadata": {
    "tags": []
   },
   "outputs": [],
   "source": [
    "X_transf = feature_extraction.get_features(X=X,types=['heartbeats'])"
   ]
  },
  {
   "cell_type": "code",
   "execution_count": null,
   "metadata": {},
   "outputs": [],
   "source": [
    "# do not forget to scale the features (for instance as part of the sklearn pipeline or manually)!!"
   ]
  }
 ],
 "metadata": {
  "environment": {
   "name": "common-cpu.m58",
   "type": "gcloud",
   "uri": "gcr.io/deeplearning-platform-release/base-cpu:m58"
  },
  "kernelspec": {
   "display_name": "Python 3",
   "language": "python",
   "name": "python3"
  },
  "language_info": {
   "codemirror_mode": {
    "name": "ipython",
    "version": 3
   },
   "file_extension": ".py",
   "mimetype": "text/x-python",
   "name": "python",
   "nbconvert_exporter": "python",
   "pygments_lexer": "ipython3",
   "version": "3.7.4-final"
  }
 },
 "nbformat": 4,
 "nbformat_minor": 4
}