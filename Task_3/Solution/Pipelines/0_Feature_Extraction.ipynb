{
 "cells": [
  {
   "cell_type": "code",
   "execution_count": 85,
   "metadata": {},
   "outputs": [
    {
     "data": {
      "text/plain": [
       "<module 'Components.Feature_Engineering' from '../Components/Feature_Engineering.py'>"
      ]
     },
     "execution_count": 85,
     "metadata": {},
     "output_type": "execute_result"
    }
   ],
   "source": [
    "# General\n",
    "# ! pip install neurokit2\n",
    "import pandas as pd\n",
    "import numpy as np\n",
    "from pprint import pprint\n",
    "\n",
    "# Custom\n",
    "import sys,os\n",
    "sys.path.append( '.' )\n",
    "sys.path.append( '..' )\n",
    "import Components.data_fetching as data_fetching\n",
    "import Components.Feature_Engineering as Feature_Engineering\n",
    "\n",
    "# CAREFUL:\n",
    "# If you make changes to a custom module, you have to reload it, i.e rerun this cell\n",
    "import importlib\n",
    "importlib.reload(data_fetching)\n",
    "importlib.reload(Feature_Engineering)"
   ]
  },
  {
   "cell_type": "markdown",
   "metadata": {},
   "source": [
    "# Feature Extraction"
   ]
  },
  {
   "cell_type": "code",
   "execution_count": null,
   "metadata": {},
   "outputs": [],
   "source": [
    "X,_ = data_fetching.get_train_data()\n",
    "X_test = data_fetching.get_test_data()"
   ]
  },
  {
   "cell_type": "code",
   "execution_count": null,
   "metadata": {},
   "outputs": [
    {
     "name": "stderr",
     "output_type": "stream",
     "text": [
      "/opt/conda/lib/python3.7/site-packages/numpy/core/fromnumeric.py:3335: RuntimeWarning: Mean of empty slice.\n",
      "  out=out, **kwargs)\n",
      "/opt/conda/lib/python3.7/site-packages/numpy/core/fromnumeric.py:3584: RuntimeWarning: Degrees of freedom <= 0 for slice\n",
      "  **kwargs)\n"
     ]
    },
    {
     "name": "stdout",
     "output_type": "stream",
     "text": [
      "406 : NaN in features\n"
     ]
    },
    {
     "name": "stderr",
     "output_type": "stream",
     "text": [
      "/opt/conda/lib/python3.7/site-packages/numpy/core/fromnumeric.py:3335: RuntimeWarning: Mean of empty slice.\n",
      "  out=out, **kwargs)\n",
      "/opt/conda/lib/python3.7/site-packages/numpy/core/fromnumeric.py:3584: RuntimeWarning: Degrees of freedom <= 0 for slice\n",
      "  **kwargs)\n"
     ]
    },
    {
     "name": "stdout",
     "output_type": "stream",
     "text": [
      "836 : NaN in features\n",
      "1017  failed with error:  `x` must be strictly increasing sequence.\n",
      "62  failed with error:  `x` must be strictly increasing sequence.\n"
     ]
    },
    {
     "name": "stderr",
     "output_type": "stream",
     "text": [
      "/opt/conda/lib/python3.7/site-packages/neurokit2/signal/signal_period.py:62: NeuroKitWarning: Too few peaks detected to compute the rate. Returning empty vector.\n",
      "  category=NeuroKitWarning\n"
     ]
    },
    {
     "name": "stdout",
     "output_type": "stream",
     "text": [
      "76  failed with error:  cannot convert float NaN to integer\n"
     ]
    },
    {
     "name": "stderr",
     "output_type": "stream",
     "text": [
      "/opt/conda/lib/python3.7/site-packages/numpy/core/fromnumeric.py:3335: RuntimeWarning: Mean of empty slice.\n",
      "  out=out, **kwargs)\n",
      "/opt/conda/lib/python3.7/site-packages/neurokit2/signal/signal_period.py:62: NeuroKitWarning: Too few peaks detected to compute the rate. Returning empty vector.\n",
      "  category=NeuroKitWarning\n"
     ]
    },
    {
     "name": "stdout",
     "output_type": "stream",
     "text": [
      "957  failed with error:  cannot convert float NaN to integer\n",
      "1694  failed with error:  `x` must be strictly increasing sequence.\n"
     ]
    },
    {
     "name": "stderr",
     "output_type": "stream",
     "text": [
      "/opt/conda/lib/python3.7/site-packages/numpy/core/fromnumeric.py:3335: RuntimeWarning: Mean of empty slice.\n",
      "  out=out, **kwargs)\n",
      "/opt/conda/lib/python3.7/site-packages/numpy/core/fromnumeric.py:3584: RuntimeWarning: Degrees of freedom <= 0 for slice\n",
      "  **kwargs)\n"
     ]
    },
    {
     "name": "stdout",
     "output_type": "stream",
     "text": [
      "1318 : NaN in features\n",
      "1640  failed with error:  `x` must be strictly increasing sequence.\n"
     ]
    },
    {
     "name": "stderr",
     "output_type": "stream",
     "text": [
      "/opt/conda/lib/python3.7/site-packages/numpy/core/fromnumeric.py:3335: RuntimeWarning: Mean of empty slice.\n",
      "  out=out, **kwargs)\n",
      "/opt/conda/lib/python3.7/site-packages/numpy/core/fromnumeric.py:3584: RuntimeWarning: Degrees of freedom <= 0 for slice\n",
      "  **kwargs)\n"
     ]
    },
    {
     "name": "stdout",
     "output_type": "stream",
     "text": [
      "2196 : NaN in features\n"
     ]
    },
    {
     "name": "stderr",
     "output_type": "stream",
     "text": [
      "/opt/conda/lib/python3.7/site-packages/numpy/core/fromnumeric.py:3335: RuntimeWarning: Mean of empty slice.\n",
      "  out=out, **kwargs)\n",
      "/opt/conda/lib/python3.7/site-packages/numpy/core/fromnumeric.py:3584: RuntimeWarning: Degrees of freedom <= 0 for slice\n",
      "  **kwargs)\n"
     ]
    },
    {
     "name": "stdout",
     "output_type": "stream",
     "text": [
      "2133 : NaN in features\n"
     ]
    },
    {
     "name": "stderr",
     "output_type": "stream",
     "text": [
      "/opt/conda/lib/python3.7/site-packages/numpy/core/fromnumeric.py:3335: RuntimeWarning: Mean of empty slice.\n",
      "  out=out, **kwargs)\n",
      "/opt/conda/lib/python3.7/site-packages/numpy/core/fromnumeric.py:3584: RuntimeWarning: Degrees of freedom <= 0 for slice\n",
      "  **kwargs)\n"
     ]
    },
    {
     "name": "stdout",
     "output_type": "stream",
     "text": [
      "2062 : NaN in features\n"
     ]
    },
    {
     "name": "stderr",
     "output_type": "stream",
     "text": [
      "/opt/conda/lib/python3.7/site-packages/numpy/core/fromnumeric.py:3335: RuntimeWarning: Mean of empty slice.\n",
      "  out=out, **kwargs)\n",
      "/opt/conda/lib/python3.7/site-packages/numpy/core/fromnumeric.py:3584: RuntimeWarning: Degrees of freedom <= 0 for slice\n",
      "  **kwargs)\n"
     ]
    },
    {
     "name": "stdout",
     "output_type": "stream",
     "text": [
      "2228 : NaN in features\n",
      "2575  failed with error:  `x` must be strictly increasing sequence.\n"
     ]
    },
    {
     "name": "stderr",
     "output_type": "stream",
     "text": [
      "/opt/conda/lib/python3.7/site-packages/numpy/core/fromnumeric.py:3335: RuntimeWarning: Mean of empty slice.\n",
      "  out=out, **kwargs)\n",
      "/opt/conda/lib/python3.7/site-packages/numpy/core/fromnumeric.py:3584: RuntimeWarning: Degrees of freedom <= 0 for slice\n",
      "  **kwargs)\n"
     ]
    },
    {
     "name": "stdout",
     "output_type": "stream",
     "text": [
      "3615 : NaN in features\n",
      "3627  failed with error:  `x` must be strictly increasing sequence.\n"
     ]
    },
    {
     "name": "stderr",
     "output_type": "stream",
     "text": [
      "/opt/conda/lib/python3.7/site-packages/numpy/core/fromnumeric.py:3335: RuntimeWarning: Mean of empty slice.\n",
      "  out=out, **kwargs)\n",
      "/opt/conda/lib/python3.7/site-packages/numpy/core/fromnumeric.py:3584: RuntimeWarning: Degrees of freedom <= 0 for slice\n",
      "  **kwargs)\n"
     ]
    },
    {
     "name": "stdout",
     "output_type": "stream",
     "text": [
      "3720 : NaN in features\n"
     ]
    },
    {
     "name": "stderr",
     "output_type": "stream",
     "text": [
      "/opt/conda/lib/python3.7/site-packages/numpy/core/fromnumeric.py:3335: RuntimeWarning: Mean of empty slice.\n",
      "  out=out, **kwargs)\n",
      "/opt/conda/lib/python3.7/site-packages/numpy/core/fromnumeric.py:3584: RuntimeWarning: Degrees of freedom <= 0 for slice\n",
      "  **kwargs)\n"
     ]
    },
    {
     "name": "stdout",
     "output_type": "stream",
     "text": [
      "2633 : NaN in features\n"
     ]
    },
    {
     "name": "stderr",
     "output_type": "stream",
     "text": [
      "/opt/conda/lib/python3.7/site-packages/numpy/core/fromnumeric.py:3335: RuntimeWarning: Mean of empty slice.\n",
      "  out=out, **kwargs)\n",
      "/opt/conda/lib/python3.7/site-packages/numpy/core/fromnumeric.py:3584: RuntimeWarning: Degrees of freedom <= 0 for slice\n",
      "  **kwargs)\n"
     ]
    },
    {
     "name": "stdout",
     "output_type": "stream",
     "text": [
      "3840 : NaN in features\n",
      "4466  failed with error:  `x` must be strictly increasing sequence.\n"
     ]
    },
    {
     "name": "stderr",
     "output_type": "stream",
     "text": [
      "/opt/conda/lib/python3.7/site-packages/numpy/core/fromnumeric.py:3335: RuntimeWarning: Mean of empty slice.\n",
      "  out=out, **kwargs)\n",
      "/opt/conda/lib/python3.7/site-packages/numpy/core/fromnumeric.py:3584: RuntimeWarning: Degrees of freedom <= 0 for slice\n",
      "  **kwargs)\n"
     ]
    },
    {
     "name": "stdout",
     "output_type": "stream",
     "text": [
      "4877 : NaN in features\n",
      "             0           1             2           3             4    \\\n",
      "0      68.630849  320.555556  30973.802469  287.600000   7399.240000   \n",
      "1      61.726883  328.750000   9966.687500  303.307692   3872.366864   \n",
      "2      84.916201  229.314286   4131.929796  229.400000   3534.982857   \n",
      "3      67.432567  287.037037  11692.702332  287.037037  11852.480110   \n",
      "4      59.495192  553.666667  73455.555556  411.500000  49303.000000   \n",
      "...          ...         ...           ...         ...           ...   \n",
      "5112   70.249174  312.555556  11353.358025  279.083333   8635.909722   \n",
      "5113  100.600962  178.967742    125.364551  178.924731     87.037345   \n",
      "5114   83.731456  216.027027    224.945215  214.972973     51.647918   \n",
      "5115   72.080089  275.346939   5942.063307  275.081633   5983.830071   \n",
      "5116   80.042689  225.000000    261.440000  225.280000     88.921600   \n",
      "\n",
      "             5            6           7             8           9    ...  \\\n",
      "0     262.272727    62.561983  261.636364    109.140496  283.600000  ...   \n",
      "1     291.607143   531.167092  291.571429    531.959184  291.500000  ...   \n",
      "2     211.973684    21.130886  211.921053     59.651662  212.631579  ...   \n",
      "3     266.933333   298.195556  265.966667    736.232222  267.133333  ...   \n",
      "4     302.545455  2098.066116  326.000000  20880.400000  334.888889  ...   \n",
      "...          ...          ...         ...           ...         ...  ...   \n",
      "5112  256.230769  2704.946746  256.076923   3281.301775  252.153846  ...   \n",
      "5113  178.924731    55.768528  178.817204    101.224650  178.946237  ...   \n",
      "5114  214.972973    50.891161  215.891892    486.853178  214.861111  ...   \n",
      "5115  249.722222    46.163580  249.925926    148.290809  249.660377  ...   \n",
      "5116  224.880000     7.865600  223.640000    149.110400  223.680000  ...   \n",
      "\n",
      "             101            102         103            104         105  \\\n",
      "0    -408.127061   56193.019592  107.258791  159655.692900  328.706735   \n",
      "1    -432.377390    2000.030874  190.485731    1415.981985  232.135447   \n",
      "2    -330.160110   13872.000382  180.985503   59220.878746  315.897609   \n",
      "3    -475.635966  120651.663275   64.850668   25468.043188  178.981357   \n",
      "4     -66.743637   67387.120350  335.216606  864843.253992  619.582401   \n",
      "...          ...            ...         ...            ...         ...   \n",
      "5112 -732.615068  483869.226326 -224.281858  668809.460227  313.238943   \n",
      "5113 -313.565891    2574.904557  133.096370    3560.797758  260.600009   \n",
      "5114 -348.799962   12973.339493   37.530878   11964.547857  754.293138   \n",
      "5115 -452.613045    8812.313426  255.850339    9377.812428  388.553328   \n",
      "5116 -140.297677    8044.784110   37.419900    4511.557109  126.315457   \n",
      "\n",
      "               106          107            108         109            110  \n",
      "0     9.107153e+04  -963.973365  165427.693220  408.127061   56193.019592  \n",
      "1     1.643267e+03  -111.035887    4232.048023  432.377390    2000.030874  \n",
      "2     3.213636e+04  -427.485916   16243.998310  330.160110   13872.000382  \n",
      "3     2.635081e+04  -654.597320   52324.335560  475.635966  120651.663275  \n",
      "4     1.548150e+06  -661.814995  423035.259629   66.743637   67387.120350  \n",
      "...            ...          ...            ...         ...            ...  \n",
      "5112  5.515724e+05 -1033.099121  312752.368310  732.615068  483869.226326  \n",
      "5113  3.102087e+03 -1044.367051    8265.089065  313.565891    2574.904557  \n",
      "5114  8.521871e+03   -66.550077    5375.799447  348.799962   12973.339493  \n",
      "5115  1.152435e+04  -796.960937   17038.924884  452.613045    8812.313426  \n",
      "5116  1.971968e+04  -238.263730    2501.035010  140.297677    8044.784110  \n",
      "\n",
      "[5117 rows x 111 columns]\n"
     ]
    },
    {
     "name": "stderr",
     "output_type": "stream",
     "text": [
      "/opt/conda/lib/python3.7/site-packages/numpy/core/fromnumeric.py:3335: RuntimeWarning: Mean of empty slice.\n",
      "  out=out, **kwargs)\n",
      "/opt/conda/lib/python3.7/site-packages/neurokit2/signal/signal_period.py:62: NeuroKitWarning: Too few peaks detected to compute the rate. Returning empty vector.\n",
      "  category=NeuroKitWarning\n"
     ]
    },
    {
     "name": "stdout",
     "output_type": "stream",
     "text": [
      "98  failed with error:  integer division or modulo by zero\n"
     ]
    },
    {
     "name": "stderr",
     "output_type": "stream",
     "text": [
      "/opt/conda/lib/python3.7/site-packages/neurokit2/signal/signal_period.py:62: NeuroKitWarning: Too few peaks detected to compute the rate. Returning empty vector.\n",
      "  category=NeuroKitWarning\n"
     ]
    },
    {
     "name": "stdout",
     "output_type": "stream",
     "text": [
      "639  failed with error:  cannot convert float NaN to integer\n"
     ]
    }
   ],
   "source": [
    "f = Feature_Engineering.extract_features_parrallel(X)\n",
    "print(f)\n",
    "f.to_csv('../../Data/X_Feature_Extracted.csv')\n",
    "\n",
    "f_test = Feature_Engineering.extract_features_parrallel(X_test)\n",
    "print(f_test)\n",
    "f_test.to_csv('../../Data/X_Test_Feature_Extracted.csv')"
   ]
  },
  {
   "cell_type": "code",
   "execution_count": null,
   "metadata": {},
   "outputs": [],
   "source": []
  }
 ],
 "metadata": {
  "environment": {
   "name": "common-cpu.m58",
   "type": "gcloud",
   "uri": "gcr.io/deeplearning-platform-release/base-cpu:m58"
  },
  "kernelspec": {
   "display_name": "Python 3",
   "language": "python",
   "name": "python3"
  },
  "language_info": {
   "codemirror_mode": {
    "name": "ipython",
    "version": 3
   },
   "file_extension": ".py",
   "mimetype": "text/x-python",
   "name": "python",
   "nbconvert_exporter": "python",
   "pygments_lexer": "ipython3",
   "version": "3.7.8"
  }
 },
 "nbformat": 4,
 "nbformat_minor": 4
}
