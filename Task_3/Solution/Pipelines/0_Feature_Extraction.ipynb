{
 "cells": [
  {
   "cell_type": "code",
   "execution_count": 22,
   "metadata": {},
   "outputs": [
    {
     "data": {
      "text/plain": [
       "<module 'Components.Feature_Engineering' from '../Components/Feature_Engineering.py'>"
      ]
     },
     "execution_count": 22,
     "metadata": {},
     "output_type": "execute_result"
    }
   ],
   "source": [
    "# General\n",
    "# ! pip install neurokit2\n",
    "import pandas as pd\n",
    "import numpy as np\n",
    "\n",
    "# Custom\n",
    "import sys,os\n",
    "sys.path.append( '.' )\n",
    "sys.path.append( '..' )\n",
    "import Components.data_fetching as data_fetching\n",
    "import Components.Feature_Engineering as Feature_Engineering\n",
    "\n",
    "# CAREFUL:\n",
    "# If you make changes to a custom module, you have to reload it, i.e rerun this cell\n",
    "import importlib\n",
    "importlib.reload(data_fetching)\n",
    "importlib.reload(Feature_Engineering)"
   ]
  },
  {
   "cell_type": "markdown",
   "metadata": {},
   "source": [
    "# Data"
   ]
  },
  {
   "cell_type": "code",
   "execution_count": 23,
   "metadata": {},
   "outputs": [],
   "source": [
    "X, y = data_fetching.get_train_data()\n",
    "y = np.ravel(y)\n",
    "#x_test = data_fetching.get_test_data()"
   ]
  },
  {
   "cell_type": "markdown",
   "metadata": {},
   "source": [
    "# Feature extraction"
   ]
  },
  {
   "cell_type": "code",
   "execution_count": 24,
   "metadata": {},
   "outputs": [
    {
     "name": "stderr",
     "output_type": "stream",
     "text": [
      "/opt/conda/lib/python3.7/site-packages/numpy/core/fromnumeric.py:3335: RuntimeWarning: Mean of empty slice.\n",
      "  out=out, **kwargs)\n",
      "/opt/conda/lib/python3.7/site-packages/numpy/core/fromnumeric.py:3584: RuntimeWarning: Degrees of freedom <= 0 for slice\n",
      "  **kwargs)\n"
     ]
    },
    {
     "name": "stdout",
     "output_type": "stream",
     "text": [
      "406 : NaN in features\n"
     ]
    },
    {
     "name": "stderr",
     "output_type": "stream",
     "text": [
      "/opt/conda/lib/python3.7/site-packages/numpy/core/fromnumeric.py:3335: RuntimeWarning: Mean of empty slice.\n",
      "  out=out, **kwargs)\n",
      "/opt/conda/lib/python3.7/site-packages/numpy/core/fromnumeric.py:3584: RuntimeWarning: Degrees of freedom <= 0 for slice\n",
      "  **kwargs)\n"
     ]
    },
    {
     "name": "stdout",
     "output_type": "stream",
     "text": [
      "836 : NaN in features\n",
      "1017  failed with error:  `x` must be strictly increasing sequence.\n",
      "62  failed with error:  `x` must be strictly increasing sequence.\n"
     ]
    },
    {
     "name": "stderr",
     "output_type": "stream",
     "text": [
      "/opt/conda/lib/python3.7/site-packages/neurokit2/signal/signal_period.py:62: NeuroKitWarning: Too few peaks detected to compute the rate. Returning empty vector.\n",
      "  category=NeuroKitWarning\n"
     ]
    },
    {
     "name": "stdout",
     "output_type": "stream",
     "text": [
      "76  failed with error:  cannot convert float NaN to integer\n"
     ]
    },
    {
     "name": "stderr",
     "output_type": "stream",
     "text": [
      "/opt/conda/lib/python3.7/site-packages/numpy/core/fromnumeric.py:3335: RuntimeWarning: Mean of empty slice.\n",
      "  out=out, **kwargs)\n",
      "/opt/conda/lib/python3.7/site-packages/neurokit2/signal/signal_period.py:62: NeuroKitWarning: Too few peaks detected to compute the rate. Returning empty vector.\n",
      "  category=NeuroKitWarning\n"
     ]
    },
    {
     "name": "stdout",
     "output_type": "stream",
     "text": [
      "957  failed with error:  cannot convert float NaN to integer\n",
      "1694  failed with error:  `x` must be strictly increasing sequence.\n"
     ]
    },
    {
     "name": "stderr",
     "output_type": "stream",
     "text": [
      "/opt/conda/lib/python3.7/site-packages/numpy/core/fromnumeric.py:3335: RuntimeWarning: Mean of empty slice.\n",
      "  out=out, **kwargs)\n",
      "/opt/conda/lib/python3.7/site-packages/numpy/core/fromnumeric.py:3584: RuntimeWarning: Degrees of freedom <= 0 for slice\n",
      "  **kwargs)\n"
     ]
    },
    {
     "name": "stdout",
     "output_type": "stream",
     "text": [
      "1318 : NaN in features\n",
      "1640  failed with error:  `x` must be strictly increasing sequence.\n"
     ]
    },
    {
     "name": "stderr",
     "output_type": "stream",
     "text": [
      "/opt/conda/lib/python3.7/site-packages/numpy/core/fromnumeric.py:3335: RuntimeWarning: Mean of empty slice.\n",
      "  out=out, **kwargs)\n",
      "/opt/conda/lib/python3.7/site-packages/numpy/core/fromnumeric.py:3584: RuntimeWarning: Degrees of freedom <= 0 for slice\n",
      "  **kwargs)\n"
     ]
    },
    {
     "name": "stdout",
     "output_type": "stream",
     "text": [
      "2196 : NaN in features\n"
     ]
    },
    {
     "name": "stderr",
     "output_type": "stream",
     "text": [
      "/opt/conda/lib/python3.7/site-packages/numpy/core/fromnumeric.py:3335: RuntimeWarning: Mean of empty slice.\n",
      "  out=out, **kwargs)\n",
      "/opt/conda/lib/python3.7/site-packages/numpy/core/fromnumeric.py:3584: RuntimeWarning: Degrees of freedom <= 0 for slice\n",
      "  **kwargs)\n"
     ]
    },
    {
     "name": "stdout",
     "output_type": "stream",
     "text": [
      "2133 : NaN in features\n"
     ]
    },
    {
     "name": "stderr",
     "output_type": "stream",
     "text": [
      "/opt/conda/lib/python3.7/site-packages/numpy/core/fromnumeric.py:3335: RuntimeWarning: Mean of empty slice.\n",
      "  out=out, **kwargs)\n",
      "/opt/conda/lib/python3.7/site-packages/numpy/core/fromnumeric.py:3584: RuntimeWarning: Degrees of freedom <= 0 for slice\n",
      "  **kwargs)\n"
     ]
    },
    {
     "name": "stdout",
     "output_type": "stream",
     "text": [
      "2062 : NaN in features\n"
     ]
    },
    {
     "name": "stderr",
     "output_type": "stream",
     "text": [
      "/opt/conda/lib/python3.7/site-packages/numpy/core/fromnumeric.py:3335: RuntimeWarning: Mean of empty slice.\n",
      "  out=out, **kwargs)\n",
      "/opt/conda/lib/python3.7/site-packages/numpy/core/fromnumeric.py:3584: RuntimeWarning: Degrees of freedom <= 0 for slice\n",
      "  **kwargs)\n"
     ]
    },
    {
     "name": "stdout",
     "output_type": "stream",
     "text": [
      "2228 : NaN in features\n",
      "2575  failed with error:  `x` must be strictly increasing sequence.\n"
     ]
    },
    {
     "name": "stderr",
     "output_type": "stream",
     "text": [
      "/opt/conda/lib/python3.7/site-packages/numpy/core/fromnumeric.py:3335: RuntimeWarning: Mean of empty slice.\n",
      "  out=out, **kwargs)\n",
      "/opt/conda/lib/python3.7/site-packages/numpy/core/fromnumeric.py:3584: RuntimeWarning: Degrees of freedom <= 0 for slice\n",
      "  **kwargs)\n"
     ]
    },
    {
     "name": "stdout",
     "output_type": "stream",
     "text": [
      "3615 : NaN in features\n",
      "3627  failed with error:  `x` must be strictly increasing sequence.\n"
     ]
    },
    {
     "name": "stderr",
     "output_type": "stream",
     "text": [
      "/opt/conda/lib/python3.7/site-packages/numpy/core/fromnumeric.py:3335: RuntimeWarning: Mean of empty slice.\n",
      "  out=out, **kwargs)\n",
      "/opt/conda/lib/python3.7/site-packages/numpy/core/fromnumeric.py:3584: RuntimeWarning: Degrees of freedom <= 0 for slice\n",
      "  **kwargs)\n"
     ]
    },
    {
     "name": "stdout",
     "output_type": "stream",
     "text": [
      "3720 : NaN in features\n"
     ]
    },
    {
     "name": "stderr",
     "output_type": "stream",
     "text": [
      "/opt/conda/lib/python3.7/site-packages/numpy/core/fromnumeric.py:3335: RuntimeWarning: Mean of empty slice.\n",
      "  out=out, **kwargs)\n",
      "/opt/conda/lib/python3.7/site-packages/numpy/core/fromnumeric.py:3584: RuntimeWarning: Degrees of freedom <= 0 for slice\n",
      "  **kwargs)\n"
     ]
    },
    {
     "name": "stdout",
     "output_type": "stream",
     "text": [
      "2633 : NaN in features\n"
     ]
    },
    {
     "name": "stderr",
     "output_type": "stream",
     "text": [
      "/opt/conda/lib/python3.7/site-packages/numpy/core/fromnumeric.py:3335: RuntimeWarning: Mean of empty slice.\n",
      "  out=out, **kwargs)\n",
      "/opt/conda/lib/python3.7/site-packages/numpy/core/fromnumeric.py:3584: RuntimeWarning: Degrees of freedom <= 0 for slice\n",
      "  **kwargs)\n"
     ]
    },
    {
     "name": "stdout",
     "output_type": "stream",
     "text": [
      "3840 : NaN in features\n",
      "4466  failed with error:  `x` must be strictly increasing sequence.\n"
     ]
    },
    {
     "name": "stderr",
     "output_type": "stream",
     "text": [
      "/opt/conda/lib/python3.7/site-packages/numpy/core/fromnumeric.py:3335: RuntimeWarning: Mean of empty slice.\n",
      "  out=out, **kwargs)\n",
      "/opt/conda/lib/python3.7/site-packages/numpy/core/fromnumeric.py:3584: RuntimeWarning: Degrees of freedom <= 0 for slice\n",
      "  **kwargs)\n"
     ]
    },
    {
     "name": "stdout",
     "output_type": "stream",
     "text": [
      "4877 : NaN in features\n",
      "              0            1             2           3             4   \\\n",
      "0      68.630849  1703.000000  9.262802e+05  320.555556  30973.802469   \n",
      "1      61.726883  4091.680000  5.982348e+06  328.750000   9966.687500   \n",
      "2      84.916201  4084.166667  5.727385e+06  229.314286   4131.929796   \n",
      "3      67.432567  4591.500000  5.375670e+06  287.037037  11692.702332   \n",
      "4      59.495192  1515.857143  1.277013e+06  553.666667  73455.555556   \n",
      "...          ...          ...           ...         ...           ...   \n",
      "5112   70.249174  1653.400000  7.825630e+05  312.555556  11353.358025   \n",
      "5113  100.600962  8503.159574  2.338257e+07  178.967742    125.364551   \n",
      "5114   83.731456  4222.263158  5.604869e+06  216.027027    224.945215   \n",
      "5115   72.080089  7115.640000  1.543488e+07  275.346939   5942.063307   \n",
      "5116   80.042689  2948.230769  2.859654e+06  225.000000    261.440000   \n",
      "\n",
      "               5             6           7             8            9   ...  \\\n",
      "0     1656.090909  8.901874e+05  287.600000   7399.240000  1637.333333  ...   \n",
      "1     4188.962963  5.663943e+06  303.307692   3872.366864  4327.482759  ...   \n",
      "2     4117.444444  5.717130e+06  229.400000   3534.982857  4278.846154  ...   \n",
      "3     4622.000000  5.374710e+06  287.037037  11852.480110  4346.935484  ...   \n",
      "4     1765.555556  1.188104e+06  411.500000  49303.000000  1827.250000  ...   \n",
      "...           ...           ...         ...           ...          ...  ...   \n",
      "5112  1956.461538  9.833075e+05  279.083333   8635.909722  1864.928571  ...   \n",
      "5113  8528.414894  2.337890e+07  178.924731     87.037345  8542.382979  ...   \n",
      "5114  4240.157895  5.587722e+06  214.972973     51.647918  4249.421053  ...   \n",
      "5115  7151.340000  1.543874e+07  275.081633   5983.830071  7029.400000  ...   \n",
      "5116  2976.423077  2.855210e+06  225.280000     88.921600  3002.000000  ...   \n",
      "\n",
      "              61             62          63             64          65  \\\n",
      "0    -197.400000   59139.240000 -220.700000   58731.210000 -238.600000   \n",
      "1    -278.800000  155754.400000 -294.760000  156454.502400 -310.080000   \n",
      "2     -58.888889   47537.709877  -92.166667   46772.638889 -113.166667   \n",
      "3    -537.357143   47676.443878 -567.857143   47850.765306 -581.607143   \n",
      "4    -193.166667  283131.138889 -225.166667  279712.472222 -248.000000   \n",
      "...          ...            ...         ...            ...         ...   \n",
      "5112 -237.800000   30493.960000 -269.800000   30058.360000 -289.900000   \n",
      "5113  104.680851      41.302399   79.425532      20.499774   65.457447   \n",
      "5114  122.513514      88.303871  104.432432      36.677867   95.162162   \n",
      "5115 -631.780000  124568.611600 -667.480000  124209.689600 -685.520000   \n",
      "5116  123.846154     238.822485   95.653846     233.226331   70.076923   \n",
      "\n",
      "                 66          67             68   69   70  \n",
      "0      58508.440000 -261.300000   56908.810000  0.0  0.0  \n",
      "1     156147.513600 -320.640000  156293.830400  0.0  0.0  \n",
      "2      47380.194444 -124.805556   47025.378858  0.0  0.0  \n",
      "3      47725.738520 -605.714286   47565.204082  0.0  0.0  \n",
      "4     287500.000000 -347.000000  213629.000000  0.0  0.0  \n",
      "...             ...         ...            ...  ...  ...  \n",
      "5112   29197.490000 -320.000000   31545.600000  0.0  0.0  \n",
      "5113       6.035423   44.489362      25.292440  0.0  0.0  \n",
      "5114      35.595325   42.756757     302.400292  0.0  0.0  \n",
      "5115  123818.889600 -709.300000  123299.570000  0.0  0.0  \n",
      "5116     182.840237   47.384615     205.005917  0.0  0.0  \n",
      "\n",
      "[5117 rows x 71 columns]\n"
     ]
    }
   ],
   "source": [
    "f = Feature_Engineering.extract_features_parrallel(X)\n",
    "print(f)\n",
    "f.to_csv('../../Data/X_Feature_Extracted.csv')"
   ]
  }
 ],
 "metadata": {
  "environment": {
   "name": "common-cpu.m58",
   "type": "gcloud",
   "uri": "gcr.io/deeplearning-platform-release/base-cpu:m58"
  },
  "kernelspec": {
   "display_name": "Python 3",
   "language": "python",
   "name": "python3"
  },
  "language_info": {
   "codemirror_mode": {
    "name": "ipython",
    "version": 3
   },
   "file_extension": ".py",
   "mimetype": "text/x-python",
   "name": "python",
   "nbconvert_exporter": "python",
   "pygments_lexer": "ipython3",
   "version": "3.7.8"
  }
 },
 "nbformat": 4,
 "nbformat_minor": 4
}
