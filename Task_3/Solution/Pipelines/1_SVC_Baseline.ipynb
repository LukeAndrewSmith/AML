{
 "cells": [
  {
   "cell_type": "code",
   "execution_count": 9,
   "metadata": {},
   "outputs": [
    {
     "data": {
      "text/plain": [
       "<module 'Components.feature_extraction' from '../Components/feature_extraction.py'>"
      ]
     },
     "execution_count": 9,
     "metadata": {},
     "output_type": "execute_result"
    }
   ],
   "source": [
    "# General\n",
    "import matplotlib.pyplot as plt\n",
    "import pandas as pd\n",
    "import numpy as np\n",
    "import neurokit2 as nk\n",
    "from pprint import pprint\n",
    "\n",
    "# ML\n",
    "from sklearn.pipeline import Pipeline\n",
    "from sklearn.model_selection import cross_val_score\n",
    "from sklearn.preprocessing import StandardScaler\n",
    "import xgboost as xgb\n",
    "\n",
    "# Custom\n",
    "import sys,os\n",
    "sys.path.append( '.' )\n",
    "sys.path.append( '..' )\n",
    "import Components.data_fetching as data_fetching\n",
    "import Components.feature_extraction as feature_extraction\n",
    "\n",
    "# CAREFUL:\n",
    "# If you make changes to a custom module, you have to reload it, i.e rerun this cell\n",
    "import importlib\n",
    "importlib.reload(data_fetching)\n",
    "importlib.reload(feature_extraction)"
   ]
  },
  {
   "cell_type": "markdown",
   "metadata": {},
   "source": [
    "# Data Fetching"
   ]
  },
  {
   "cell_type": "code",
   "execution_count": 10,
   "metadata": {},
   "outputs": [],
   "source": [
    "_, y = data_fetching.get_train_data()\n",
    "y = np.ravel(y)\n",
    "\n",
    "X = feature_extraction.get_features(types=['timeseries', 'heartbeats', 'peaks'], verbose=True, precomputed='train')\n",
    "X_test = feature_extraction.get_features(types=['timeseries', 'heartbeats', 'peaks'], verbose=True, precomputed='test')"
   ]
  },
  {
   "cell_type": "markdown",
   "metadata": {},
   "source": [
    "# Training"
   ]
  },
  {
   "cell_type": "code",
   "execution_count": 7,
   "metadata": {},
   "outputs": [
    {
     "name": "stdout",
     "output_type": "stream",
     "text": [
      "[0.70507812 0.70117188 0.71875    0.68359375 0.6953125  0.66796875\n",
      " 0.66601562 0.66536204 0.69667319 0.71624266]\n",
      "0.6916168511497064\n"
     ]
    }
   ],
   "source": [
    "scaler = StandardScaler()\n",
    "X_2 = scaler.fit_transform(X,y)\n",
    "\n",
    "est = SVC(kernel='rbf')\n",
    "cv_score = cross_val_score(est, X_2, y, cv=10, scoring='f1_micro')\n",
    "print(cv_score)\n",
    "print(np.mean(cv_score))\n",
    "\n",
    "# 1st attempt\n",
    "# [0.66015625 0.67382812 0.66796875 0.65234375 0.67578125 0.65234375\n",
    "# 0.65429688 0.66144814 0.68493151 0.67123288]\n",
    "# 0.6654331274461839\n",
    "\n",
    "# 2nd attempt\n",
    "# [0.6796875  0.6953125  0.69921875 0.67382812 0.68945312 0.65820312\n",
    "# 0.66601562 0.66536204 0.68297456 0.69080235]\n",
    "# 0.6800857693248532\n",
    "\n",
    "# 3rd attempt\n",
    "# [0.70507812 0.70117188 0.71875    0.68359375 0.6953125  0.66796875\n",
    "# 0.66601562 0.66536204 0.69667319 0.71624266]\n",
    "# 0.6916168511497064\n",
    "\n",
    "# 4th attempt: Luke's + Lea's features\n"
   ]
  },
  {
   "cell_type": "code",
   "execution_count": null,
   "metadata": {},
   "outputs": [],
   "source": []
  }
 ],
 "metadata": {
  "environment": {
   "name": "common-cpu.m58",
   "type": "gcloud",
   "uri": "gcr.io/deeplearning-platform-release/base-cpu:m58"
  },
  "kernelspec": {
   "display_name": "Python 3",
   "language": "python",
   "name": "python3"
  },
  "language_info": {
   "codemirror_mode": {
    "name": "ipython",
    "version": 3
   },
   "file_extension": ".py",
   "mimetype": "text/x-python",
   "name": "python",
   "nbconvert_exporter": "python",
   "pygments_lexer": "ipython3",
   "version": "3.7.8"
  }
 },
 "nbformat": 4,
 "nbformat_minor": 4
}
