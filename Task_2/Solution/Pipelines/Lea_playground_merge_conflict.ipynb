<<<<<<< HEAD
{"cells":[{"cell_type":"markdown","source":"## Imports","metadata":{"tags":[],"cell_id":"00000-d6cd1044-357e-49d4-b495-9225d57c0efc"}},{"cell_type":"code","metadata":{"execution_millis":70,"execution_start":1603526125876,"output_cleared":false,"source_hash":"fd4019a5","tags":[],"cell_id":"00001-5026563a-ca51-49a1-aa89-5e3f7330a11d"},"source":"# General\nimport matplotlib.pyplot as plt\nimport pandas as pd\nimport numpy as np\n\n# ML\nfrom sklearn.metrics import balanced_accuracy_score\nfrom sklearn.model_selection import cross_validate\nfrom sklearn.model_selection import train_test_split\nfrom sklearn.model_selection import cross_val_score\nfrom sklearn.linear_model import LogisticRegression\n\n# Custom\nimport sys,os\nsys.path.append( '.' )\nsys.path.append( '..' )\nimport Components.Outlier_Detection as Outlier_Detection\nimport Components.Feature_Selection as Feature_Selection\nimport Components.Normalisation as Normalisation\nimport Components.data_fetching as data_fetching\nimport Components.Data_Augmentation as Data_Augmentation\nimport Components.wrapper as wrapper\n\n\n# CAREFUL:\n# If you make changes to a custom module, you have to reload it, i.e rerun this cell\nimport importlib\nimportlib.reload(Data_Augmentation)\nimportlib.reload(Outlier_Detection)\nimportlib.reload(Feature_Selection)\nimportlib.reload(Normalisation)\nimportlib.reload(data_fetching)\nimportlib.reload(wrapper)","execution_count":5,"outputs":[{"data":{"text/plain":"<module 'Components.wrapper' from '..\\\\Components\\\\wrapper.py'>"},"execution_count":5,"metadata":{},"output_type":"execute_result"}]},{"cell_type":"markdown","source":"## Data Preprocessing","metadata":{"tags":[],"cell_id":"00002-1e677d79-d729-445a-a436-eb47859e08d9"}},{"cell_type":"markdown","source":"### Data Import","metadata":{"tags":[],"cell_id":"00003-2271dd09-6b5f-42ba-b2ed-b228cb01144c"}},{"cell_type":"code","metadata":{"execution_millis":3164,"execution_start":1603526128559,"output_cleared":false,"source_hash":"e4735f64","tags":[],"cell_id":"00004-a4ea407c-2aa0-422f-ab12-5ef30753c055"},"source":"X, y = data_fetching.get_train_data()\nx_test = data_fetching.get_test_data()","execution_count":6,"outputs":[]},{"cell_type":"code","metadata":{"execution_millis":46,"execution_start":1603526210656,"output_cleared":false,"source_hash":"7799075d","tags":[],"cell_id":"00005-118d4544-9715-46e2-add8-08ab1968b792"},"source":"print(X.head())","execution_count":11,"outputs":[{"name":"stdout","output_type":"stream","text":"         x0        x1        x2        x3        x4        x5        x6  \\\n0 -1.498973  1.448201  2.784979  1.905992  1.285007 -0.571679  1.253798   \n1 -0.521470 -0.493049  0.891382 -0.080855  0.227825 -0.167394 -0.426608   \n2 -0.417724 -0.019106  0.938377 -0.670472  0.298922  0.917788  0.189585   \n3 -0.471972  0.000398  0.784836  1.088817 -0.436292  0.023086  0.611958   \n4  0.201026 -0.579901  0.638809 -0.614121  0.468388  0.535726  0.271890   \n\n         x7        x8        x9  ...      x990      x991      x992      x993  \\\n0 -2.590709  1.379211 -1.553323  ...  2.638401 -1.365574  2.856497 -1.916006   \n1  0.371071 -0.065361 -0.271039  ...  0.662354 -0.443464 -0.540985 -0.164082   \n2 -0.259406  0.591056 -1.391407  ...  0.617464 -0.543036 -0.321695 -1.778676   \n3 -0.720903  0.310497 -0.703081  ...  0.672421 -1.942345  0.366181 -1.226904   \n4  0.054270  0.297078 -0.677568  ...  0.144922  0.203202 -0.150227 -0.026890   \n\n       x994      x995      x996      x997      x998      x999  \n0  1.406900 -2.581604  0.839115 -0.004883  3.173465  2.179183  \n1  0.223598  0.274742 -0.122392  0.971394  0.604963  0.355499  \n2  1.118608 -0.937445 -0.239242  0.842709  2.086818  0.512741  \n3  1.152494 -0.104389  0.702375  0.426496  0.336746  1.304973  \n4  0.106822 -1.202451  0.098924  0.825237  1.044778  0.071464  \n\n[5 rows x 1000 columns]\n"}]},{"cell_type":"code","metadata":{"execution_millis":1507,"execution_start":1603526197733,"output_cleared":false,"source_hash":"2f267119","tags":[],"cell_id":"00006-a75f49ae-46c2-4612-a00e-e2ba7b06f9d7"},"source":"","execution_count":10,"outputs":[{"name":"stdout","output_type":"stream","text":"    id        x0        x1        x2        x3        x4        x5        x6  \\\n0  0.0 -1.498973  1.448201  2.784979  1.905992  1.285007 -0.571679  1.253798   \n1  1.0 -0.521470 -0.493049  0.891382 -0.080855  0.227825 -0.167394 -0.426608   \n2  2.0 -0.417724 -0.019106  0.938377 -0.670472  0.298922  0.917788  0.189585   \n3  3.0 -0.471972  0.000398  0.784836  1.088817 -0.436292  0.023086  0.611958   \n4  4.0  0.201026 -0.579901  0.638809 -0.614121  0.468388  0.535726  0.271890   \n\n         x7        x8  ...      x990      x991      x992      x993      x994  \\\n0 -2.590709  1.379211  ...  2.638401 -1.365574  2.856497 -1.916006  1.406900   \n1  0.371071 -0.065361  ...  0.662354 -0.443464 -0.540985 -0.164082  0.223598   \n2 -0.259406  0.591056  ...  0.617464 -0.543036 -0.321695 -1.778676  1.118608   \n3 -0.720903  0.310497  ...  0.672421 -1.942345  0.366181 -1.226904  1.152494   \n4  0.054270  0.297078  ...  0.144922  0.203202 -0.150227 -0.026890  0.106822   \n\n       x995      x996      x997      x998      x999  \n0 -2.581604  0.839115 -0.004883  3.173465  2.179183  \n1  0.274742 -0.122392  0.971394  0.604963  0.355499  \n2 -0.937445 -0.239242  0.842709  2.086818  0.512741  \n3 -0.104389  0.702375  0.426496  0.336746  1.304973  \n4 -1.202451  0.098924  0.825237  1.044778  0.071464  \n\n[5 rows x 1001 columns]\n"}]},{"cell_type":"code","metadata":{"tags":[],"cell_id":"00007-51ca3706-74ae-4d00-b9be-f7bc80ab58aa"},"source":"","execution_count":null,"outputs":[]}],"nbformat":4,"nbformat_minor":4,"metadata":{"deepnote_execution_queue":[],"deepnote_notebook_id":"89bfcd79-3736-4237-95d7-c46963c4f6f7","kernelspec":{"display_name":"Python 3","language":"python","name":"python3"},"language_info":{"codemirror_mode":{"name":"ipython","version":3},"file_extension":".py","mimetype":"text/x-python","name":"python","nbconvert_exporter":"python","pygments_lexer":"ipython3","version":"3.7.4"}}}
=======
{
 "cells": [
  {
   "cell_type": "markdown",
   "metadata": {
    "cell_id": "00000-4cd953ab-18a5-477f-8800-2d55ec05c856",
    "tags": []
   },
   "source": [
    "## Imports"
   ]
  },
  {
   "cell_type": "code",
   "execution_count": 19,
   "metadata": {
    "cell_id": "00000-7ea50b35-5606-4b6a-94a1-f7508dec87e5",
    "execution_millis": 70,
    "execution_start": 1603526125876,
    "output_cleared": false,
    "source_hash": "fd4019a5",
    "tags": []
   },
   "outputs": [
    {
     "data": {
      "text/plain": [
       "<module 'Components.wrapper' from '..\\\\Components\\\\wrapper.py'>"
      ]
     },
     "execution_count": 19,
     "metadata": {},
     "output_type": "execute_result"
    }
   ],
   "source": [
    "# General\n",
    "import matplotlib.pyplot as plt\n",
    "import pandas as pd\n",
    "import numpy as np\n",
    "\n",
    "# ML\n",
    "from sklearn.metrics import balanced_accuracy_score\n",
    "from sklearn.model_selection import cross_validate\n",
    "from sklearn.model_selection import train_test_split\n",
    "from sklearn.model_selection import cross_val_score\n",
    "from sklearn.linear_model import LogisticRegression\n",
    "from sklearn.pipeline import Pipeline\n",
    "from sklearn.svm import SVC\n",
    "from sklearn.preprocessing import StandardScaler\n",
    "from sklearn.metrics import balanced_accuracy_score\n",
    "\n",
    "# Custom\n",
    "import sys,os\n",
    "sys.path.append( '.' )\n",
    "sys.path.append( '..' )\n",
    "import Components.Outlier_Detection as Outlier_Detection\n",
    "import Components.Feature_Selection as Feature_Selection\n",
    "import Components.Normalisation as Normalisation\n",
    "import Components.data_fetching as data_fetching\n",
    "import Components.Data_Augmentation as Data_Augmentation\n",
    "import Components.wrapper as wrapper\n",
    "\n",
    "\n",
    "# CAREFUL:\n",
    "# If you make changes to a custom module, you have to reload it, i.e rerun this cell\n",
    "import importlib\n",
    "importlib.reload(Data_Augmentation)\n",
    "importlib.reload(Outlier_Detection)\n",
    "importlib.reload(Feature_Selection)\n",
    "importlib.reload(Normalisation)\n",
    "importlib.reload(data_fetching)\n",
    "importlib.reload(wrapper)"
   ]
  },
  {
   "cell_type": "markdown",
   "metadata": {
    "cell_id": "00002-e4593fb3-21aa-41e1-885b-350d74d0d4ba",
    "tags": []
   },
   "source": [
    "## Data Preprocessing"
   ]
  },
  {
   "cell_type": "markdown",
   "metadata": {
    "cell_id": "00003-b2d9855f-7d18-46da-b9cd-701217190405",
    "tags": []
   },
   "source": [
    "### Data Import"
   ]
  },
  {
   "cell_type": "code",
   "execution_count": 20,
   "metadata": {
    "cell_id": "00002-5ebedb03-894d-4c65-8d53-6c54293fba76",
    "execution_millis": 3164,
    "execution_start": 1603526128559,
    "output_cleared": false,
    "source_hash": "e4735f64",
    "tags": []
   },
   "outputs": [],
   "source": [
    "x_train, y_train = data_fetching.get_train_data()\n",
    "x_test = data_fetching.get_test_data()"
   ]
  },
  {
   "cell_type": "markdown",
   "metadata": {
    "cell_id": "00006-b5a3eb5f-2183-4029-8352-63d4c5f556e3",
    "execution_millis": 1507,
    "execution_start": 1603526197733,
    "output_cleared": false,
    "source_hash": "2f267119",
    "tags": []
   },
   "source": [
    "## Model"
   ]
  },
  {
   "cell_type": "markdown",
   "metadata": {},
   "source": [
    "### Pipeline Setup"
   ]
  },
  {
   "cell_type": "code",
   "execution_count": null,
   "metadata": {
    "cell_id": "00007-ddf05241-9da5-4be0-b168-40042e3626bc",
    "tags": []
   },
   "outputs": [],
   "source": [
    "# we need: -scaling transformer -weighted loss function -multi-class model \n",
    "pipe = Pipeline([('scaling',StandardScaler()),\n",
    "                 ('classification',\n",
    "                  SVC(C=1.0,kernel='rbf',gamma='scale',shrinking=True,cache_size=1000,class_weight='balanced',break_ties=False))\n",
    "                ])\n"
   ]
  },
  {
   "cell_type": "markdown",
   "metadata": {},
   "source": [
    "### Cross validation"
   ]
  },
  {
   "cell_type": "code",
   "execution_count": null,
   "metadata": {},
   "outputs": [],
   "source": [
    "scores = cross_val_score(pipe, x_train, np.ravel(y_train), cv=5, scoring='balanced_accuracy')\n",
    "print(scores)\n",
    "print(np.mean(scores))"
   ]
  }
 ],
 "metadata": {
  "deepnote_execution_queue": [],
  "deepnote_notebook_id": "26e3d3e9-6b96-4c38-b0dd-4fca5699ab8d",
  "kernelspec": {
   "display_name": "Python 3",
   "language": "python",
   "name": "python3"
  },
  "language_info": {
   "codemirror_mode": {
    "name": "ipython",
    "version": 3
   },
   "file_extension": ".py",
   "mimetype": "text/x-python",
   "name": "python",
   "nbconvert_exporter": "python",
   "pygments_lexer": "ipython3",
   "version": "3.7.4"
  }
 },
 "nbformat": 4,
 "nbformat_minor": 4
}
>>>>>>> af783b4156aff66ec46b5bb9b841b30cfc71a29e
