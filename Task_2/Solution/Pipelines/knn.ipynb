<<<<<<< HEAD
{
 "cells": [
  {
   "cell_type": "markdown",
   "metadata": {
    "cell_id": "00000-4cd953ab-18a5-477f-8800-2d55ec05c856",
    "tags": []
   },
   "source": [
    "## Imports"
   ]
  },
  {
   "cell_type": "code",
   "execution_count": 2,
   "metadata": {},
   "outputs": [
    {
     "name": "stdout",
     "output_type": "stream",
     "text": [
      "Requirement already satisfied: jupyternotify in c:\\users\\lea\\anaconda3\\lib\\site-packages (0.1.15)\n",
      "Requirement already satisfied: ipython in c:\\users\\lea\\anaconda3\\lib\\site-packages (from jupyternotify) (7.8.0)\n",
      "Requirement already satisfied: jupyter in c:\\users\\lea\\anaconda3\\lib\\site-packages (from jupyternotify) (1.0.0)\n",
      "Requirement already satisfied: jedi>=0.10 in c:\\users\\lea\\anaconda3\\lib\\site-packages (from ipython->jupyternotify) (0.15.1)\n",
      "Requirement already satisfied: prompt-toolkit<2.1.0,>=2.0.0 in c:\\users\\lea\\anaconda3\\lib\\site-packages (from ipython->jupyternotify) (2.0.10)\n",
      "Requirement already satisfied: setuptools>=18.5 in c:\\users\\lea\\anaconda3\\lib\\site-packages (from ipython->jupyternotify) (41.4.0)\n",
      "Requirement already satisfied: pygments in c:\\users\\lea\\anaconda3\\lib\\site-packages (from ipython->jupyternotify) (2.4.2)\n",
      "Requirement already satisfied: pickleshare in c:\\users\\lea\\anaconda3\\lib\\site-packages (from ipython->jupyternotify) (0.7.5)\n",
      "Requirement already satisfied: backcall in c:\\users\\lea\\anaconda3\\lib\\site-packages (from ipython->jupyternotify) (0.1.0)\n",
      "Requirement already satisfied: traitlets>=4.2 in c:\\users\\lea\\anaconda3\\lib\\site-packages (from ipython->jupyternotify) (4.3.3)\n",
      "Requirement already satisfied: colorama; sys_platform == \"win32\" in c:\\users\\lea\\anaconda3\\lib\\site-packages (from ipython->jupyternotify) (0.4.1)\n",
      "Requirement already satisfied: decorator in c:\\users\\lea\\anaconda3\\lib\\site-packages (from ipython->jupyternotify) (4.4.0)\n",
      "Requirement already satisfied: ipykernel in c:\\users\\lea\\anaconda3\\lib\\site-packages (from jupyter->jupyternotify) (5.1.2)\n",
      "Requirement already satisfied: jupyter-console in c:\\users\\lea\\anaconda3\\lib\\site-packages (from jupyter->jupyternotify) (6.0.0)\n",
      "Requirement already satisfied: notebook in c:\\users\\lea\\anaconda3\\lib\\site-packages (from jupyter->jupyternotify) (6.0.1)\n",
      "Requirement already satisfied: nbconvert in c:\\users\\lea\\anaconda3\\lib\\site-packages (from jupyter->jupyternotify) (5.6.0)\n",
      "Requirement already satisfied: ipywidgets in c:\\users\\lea\\anaconda3\\lib\\site-packages (from jupyter->jupyternotify) (7.5.1)\n",
      "Requirement already satisfied: qtconsole in c:\\users\\lea\\anaconda3\\lib\\site-packages (from jupyter->jupyternotify) (4.5.5)\n",
      "Requirement already satisfied: parso>=0.5.0 in c:\\users\\lea\\anaconda3\\lib\\site-packages (from jedi>=0.10->ipython->jupyternotify) (0.5.1)\n",
      "Requirement already satisfied: wcwidth in c:\\users\\lea\\anaconda3\\lib\\site-packages (from prompt-toolkit<2.1.0,>=2.0.0->ipython->jupyternotify) (0.1.7)\n",
      "Requirement already satisfied: six>=1.9.0 in c:\\users\\lea\\anaconda3\\lib\\site-packages (from prompt-toolkit<2.1.0,>=2.0.0->ipython->jupyternotify) (1.12.0)\n",
      "Requirement already satisfied: ipython-genutils in c:\\users\\lea\\anaconda3\\lib\\site-packages (from traitlets>=4.2->ipython->jupyternotify) (0.2.0)\n",
      "Requirement already satisfied: jupyter-client in c:\\users\\lea\\anaconda3\\lib\\site-packages (from ipykernel->jupyter->jupyternotify) (5.3.3)\n",
      "Requirement already satisfied: tornado>=4.2 in c:\\users\\lea\\anaconda3\\lib\\site-packages (from ipykernel->jupyter->jupyternotify) (6.0.3)\n",
      "Requirement already satisfied: pyzmq>=17 in c:\\users\\lea\\anaconda3\\lib\\site-packages (from notebook->jupyter->jupyternotify) (18.1.0)\n",
      "Requirement already satisfied: nbformat in c:\\users\\lea\\anaconda3\\lib\\site-packages (from notebook->jupyter->jupyternotify) (4.4.0)\n",
      "Requirement already satisfied: jupyter-core>=4.4.0 in c:\\users\\lea\\anaconda3\\lib\\site-packages (from notebook->jupyter->jupyternotify) (4.5.0)\n",
      "Requirement already satisfied: Send2Trash in c:\\users\\lea\\anaconda3\\lib\\site-packages (from notebook->jupyter->jupyternotify) (1.5.0)\n",
      "Requirement already satisfied: terminado>=0.8.1 in c:\\users\\lea\\anaconda3\\lib\\site-packages (from notebook->jupyter->jupyternotify) (0.8.2)\n",
      "Requirement already satisfied: prometheus-client in c:\\users\\lea\\anaconda3\\lib\\site-packages (from notebook->jupyter->jupyternotify) (0.7.1)\n",
      "Requirement already satisfied: jinja2 in c:\\users\\lea\\anaconda3\\lib\\site-packages (from notebook->jupyter->jupyternotify) (2.10.3)\n",
      "Requirement already satisfied: defusedxml in c:\\users\\lea\\anaconda3\\lib\\site-packages (from nbconvert->jupyter->jupyternotify) (0.6.0)\n",
      "Requirement already satisfied: entrypoints>=0.2.2 in c:\\users\\lea\\anaconda3\\lib\\site-packages (from nbconvert->jupyter->jupyternotify) (0.3)\n",
      "Requirement already satisfied: mistune<2,>=0.8.1 in c:\\users\\lea\\anaconda3\\lib\\site-packages (from nbconvert->jupyter->jupyternotify) (0.8.4)\n",
      "Requirement already satisfied: pandocfilters>=1.4.1 in c:\\users\\lea\\anaconda3\\lib\\site-packages (from nbconvert->jupyter->jupyternotify) (1.4.2)\n",
      "Requirement already satisfied: testpath in c:\\users\\lea\\anaconda3\\lib\\site-packages (from nbconvert->jupyter->jupyternotify) (0.4.2)\n",
      "Requirement already satisfied: bleach in c:\\users\\lea\\anaconda3\\lib\\site-packages (from nbconvert->jupyter->jupyternotify) (3.1.0)\n",
      "Requirement already satisfied: widgetsnbextension~=3.5.0 in c:\\users\\lea\\anaconda3\\lib\\site-packages (from ipywidgets->jupyter->jupyternotify) (3.5.1)\n",
      "Requirement already satisfied: pywin32>=1.0; sys_platform == \"win32\" in c:\\users\\lea\\anaconda3\\lib\\site-packages (from jupyter-client->ipykernel->jupyter->jupyternotify) (223)\n",
      "Requirement already satisfied: python-dateutil>=2.1 in c:\\users\\lea\\anaconda3\\lib\\site-packages (from jupyter-client->ipykernel->jupyter->jupyternotify) (2.8.0)\n",
      "Requirement already satisfied: jsonschema!=2.5.0,>=2.4 in c:\\users\\lea\\anaconda3\\lib\\site-packages (from nbformat->notebook->jupyter->jupyternotify) (3.0.2)\n",
      "Requirement already satisfied: MarkupSafe>=0.23 in c:\\users\\lea\\anaconda3\\lib\\site-packages (from jinja2->notebook->jupyter->jupyternotify) (1.1.1)\n",
      "Requirement already satisfied: webencodings in c:\\users\\lea\\anaconda3\\lib\\site-packages (from bleach->nbconvert->jupyter->jupyternotify) (0.5.1)\n",
      "Requirement already satisfied: pyrsistent>=0.14.0 in c:\\users\\lea\\anaconda3\\lib\\site-packages (from jsonschema!=2.5.0,>=2.4->nbformat->notebook->jupyter->jupyternotify) (0.15.4)\n",
      "Requirement already satisfied: attrs>=17.4.0 in c:\\users\\lea\\anaconda3\\lib\\site-packages (from jsonschema!=2.5.0,>=2.4->nbformat->notebook->jupyter->jupyternotify) (19.2.0)\n"
     ]
    },
    {
     "data": {
      "application/javascript": [
       "if (!(\"Notification\" in window)) {\n",
       "    alert(\"This browser does not support desktop notifications, so the %%notify magic will not work.\");\n",
       "} else if (Notification.permission !== 'granted' && Notification.permission !== 'denied') {\n",
       "    Notification.requestPermission(function (permission) {\n",
       "        if(!('permission' in Notification)) {\n",
       "            Notification.permission = permission;\n",
       "        }\n",
       "    })\n",
       "}\n"
      ],
      "text/plain": [
       "<IPython.core.display.Javascript object>"
      ]
     },
     "metadata": {},
     "output_type": "display_data"
    }
   ],
   "source": [
    "!pip install jupyternotify\n",
    "%load_ext jupyternotify"
   ]
  },
  {
   "cell_type": "code",
   "execution_count": 3,
   "metadata": {
    "cell_id": "00000-7ea50b35-5606-4b6a-94a1-f7508dec87e5",
    "execution_millis": 70,
    "execution_start": 1603526125876,
    "output_cleared": false,
    "source_hash": "fd4019a5",
    "tags": []
   },
   "outputs": [
    {
     "data": {
      "text/plain": [
       "<module 'Components.wrapper' from '..\\\\Components\\\\wrapper.py'>"
      ]
     },
     "execution_count": 3,
     "metadata": {},
     "output_type": "execute_result"
    }
   ],
   "source": [
    "# General\n",
    "import matplotlib.pyplot as plt\n",
    "import pandas as pd\n",
    "import numpy as np\n",
    "\n",
    "# ML\n",
    "from sklearn.metrics import balanced_accuracy_score\n",
    "from sklearn.model_selection import cross_validate\n",
    "from sklearn.model_selection import train_test_split\n",
    "from sklearn.model_selection import cross_val_score\n",
    "from sklearn.linear_model import LogisticRegression\n",
    "from sklearn.pipeline import Pipeline\n",
    "from sklearn.svm import SVC\n",
    "from sklearn.preprocessing import StandardScaler\n",
    "from sklearn.metrics import balanced_accuracy_score\n",
    "from sklearn.neighbors import KNeighborsClassifier\n",
    "\n",
    "# Custom\n",
    "import sys,os\n",
    "sys.path.append( '.' )\n",
    "sys.path.append( '..' )\n",
    "import Components.Outlier_Detection as Outlier_Detection\n",
    "import Components.Feature_Selection as Feature_Selection\n",
    "import Components.Normalisation as Normalisation\n",
    "import Components.data_fetching as data_fetching\n",
    "#import Components.Data_Augmentation as Data_Augmentation\n",
    "import Components.wrapper as wrapper\n",
    "\n",
    "\n",
    "# CAREFUL:\n",
    "# If you make changes to a custom module, you have to reload it, i.e rerun this cell\n",
    "import importlib\n",
    "#importlib.reload(Data_Augmentation)\n",
    "importlib.reload(Outlier_Detection)\n",
    "importlib.reload(Feature_Selection)\n",
    "importlib.reload(Normalisation)\n",
    "importlib.reload(data_fetching)\n",
    "importlib.reload(wrapper)"
   ]
  },
  {
   "cell_type": "markdown",
   "metadata": {
    "cell_id": "00002-e4593fb3-21aa-41e1-885b-350d74d0d4ba",
    "tags": []
   },
   "source": [
    "## Data Preprocessing"
   ]
  },
  {
   "cell_type": "markdown",
   "metadata": {
    "cell_id": "00003-b2d9855f-7d18-46da-b9cd-701217190405",
    "tags": []
   },
   "source": [
    "### Data Import"
   ]
  },
  {
   "cell_type": "code",
   "execution_count": 4,
   "metadata": {
    "cell_id": "00002-5ebedb03-894d-4c65-8d53-6c54293fba76",
    "execution_millis": 3164,
    "execution_start": 1603526128559,
    "output_cleared": false,
    "source_hash": "e4735f64",
    "tags": []
   },
   "outputs": [],
   "source": [
    "x_train, y_train = data_fetching.get_train_data()\n",
    "x_test = data_fetching.get_test_data()"
   ]
  },
  {
   "cell_type": "markdown",
   "metadata": {
    "cell_id": "00006-b5a3eb5f-2183-4029-8352-63d4c5f556e3",
    "execution_millis": 1507,
    "execution_start": 1603526197733,
    "output_cleared": false,
    "source_hash": "2f267119",
    "tags": []
   },
   "source": [
    "## Model"
   ]
  },
  {
   "cell_type": "markdown",
   "metadata": {},
   "source": [
    "### Pipeline Setup"
   ]
  },
  {
   "cell_type": "code",
   "execution_count": 5,
   "metadata": {
    "cell_id": "00007-ddf05241-9da5-4be0-b168-40042e3626bc",
    "tags": []
   },
   "outputs": [],
   "source": [
    "# we need: -scaling transformer -weighted loss function -multi-class model \n",
    "pipe = Pipeline([('scaling',StandardScaler()),\n",
    "                 ('classification',\n",
    "                  KNeighborsClassifier(n_neighbors=20,weights='distance',n_jobs=-1))\n",
    "                ])\n"
   ]
  },
  {
   "cell_type": "markdown",
   "metadata": {},
   "source": [
    "### Cross validation"
   ]
  },
  {
   "cell_type": "code",
   "execution_count": 6,
   "metadata": {},
   "outputs": [
    {
     "name": "stdout",
     "output_type": "stream",
     "text": [
      "[0.58055556 0.55092593 0.575      0.55925926 0.5287037  0.56574074\n",
      " 0.54351852 0.55       0.525      0.51666667]\n",
      "0.5495370370370372\n"
     ]
    },
    {
     "data": {
      "application/javascript": [
       "$(document).ready(\n",
       "    function() {\n",
       "        function appendUniqueDiv(){\n",
       "            // append a div with our uuid so we can check that it's already\n",
       "            // been sent and avoid duplicates on page reload\n",
       "            var notifiedDiv = document.createElement(\"div\")\n",
       "            notifiedDiv.id = \"bae41206-5039-4bb6-9d33-b33336a79769\"\n",
       "            element.append(notifiedDiv)\n",
       "        }\n",
       "\n",
       "        // only send notifications if the pageload is complete; this will\n",
       "        // help stop extra notifications when a saved notebook is loaded,\n",
       "        // which during testing gives us state \"interactive\", not \"complete\"\n",
       "        if (document.readyState === 'complete') {\n",
       "            // check for the div that signifies that the notification\n",
       "            // was already sent\n",
       "            if (document.getElementById(\"bae41206-5039-4bb6-9d33-b33336a79769\") === null) {\n",
       "                var notificationPayload = {\"requireInteraction\": false, \"icon\": \"/static/base/images/favicon.ico\", \"body\": \"Cell execution has finished!\"};\n",
       "                if (Notification.permission !== 'denied') {\n",
       "                    if (Notification.permission !== 'granted') { \n",
       "                        Notification.requestPermission(function (permission) {\n",
       "                            if(!('permission' in Notification)) {\n",
       "                                Notification.permission = permission\n",
       "                            }\n",
       "                        })\n",
       "                    }\n",
       "                    if (Notification.permission === 'granted') {\n",
       "                    var notification = new Notification(\"Jupyter Notebook\", notificationPayload)\n",
       "                    appendUniqueDiv()\n",
       "                    notification.onclick = function () {\n",
       "                        window.focus();\n",
       "                        this.close();\n",
       "                        };\n",
       "                    } \n",
       "                }     \n",
       "            }\n",
       "        }\n",
       "    }\n",
       ")\n"
      ],
      "text/plain": [
       "<IPython.core.display.Javascript object>"
      ]
     },
     "metadata": {},
     "output_type": "display_data"
    }
   ],
   "source": [
    "%%notify\n",
    "scores = cross_val_score(pipe, x_train, np.ravel(y_train), cv=10, scoring='balanced_accuracy')\n",
    "print(scores)\n",
    "print(np.mean(scores))"
   ]
  },
  {
   "cell_type": "code",
   "execution_count": null,
   "metadata": {},
   "outputs": [],
   "source": []
  }
 ],
 "metadata": {
  "deepnote_execution_queue": [],
  "deepnote_notebook_id": "26e3d3e9-6b96-4c38-b0dd-4fca5699ab8d",
  "environment": {
   "name": "common-cpu.m58",
   "type": "gcloud",
   "uri": "gcr.io/deeplearning-platform-release/base-cpu:m58"
  },
  "kernelspec": {
   "display_name": "Python 3",
   "language": "python",
   "name": "python3"
  },
  "language_info": {
   "codemirror_mode": {
    "name": "ipython",
    "version": 3
   },
   "file_extension": ".py",
   "mimetype": "text/x-python",
   "name": "python",
   "nbconvert_exporter": "python",
   "pygments_lexer": "ipython3",
   "version": "3.7.4"
  }
 },
 "nbformat": 4,
 "nbformat_minor": 4
}
=======
{"cells":[{"cell_type":"markdown","source":"## Imports","metadata":{"tags":[],"cell_id":"00000-f5eaec5a-4699-4958-923a-85c230af6b0d"}},{"cell_type":"code","metadata":{"cell_id":"00001-6b364eb1-879c-45ba-aa4e-04710aa2134a"},"source":"!pip install jupyternotify\n%load_ext jupyternotify","outputs":[{"name":"stdout","output_type":"stream","text":"Requirement already satisfied: jupyternotify in /opt/conda/lib/python3.7/site-packages (0.1.15)\nRequirement already satisfied: ipython in /opt/conda/lib/python3.7/site-packages (from jupyternotify) (7.18.1)\nRequirement already satisfied: jupyter in /opt/conda/lib/python3.7/site-packages (from jupyternotify) (1.0.0)\nRequirement already satisfied: traitlets>=4.2 in /opt/conda/lib/python3.7/site-packages (from ipython->jupyternotify) (5.0.4)\nRequirement already satisfied: prompt-toolkit!=3.0.0,!=3.0.1,<3.1.0,>=2.0.0 in /opt/conda/lib/python3.7/site-packages (from ipython->jupyternotify) (3.0.8)\nRequirement already satisfied: setuptools>=18.5 in /opt/conda/lib/python3.7/site-packages (from ipython->jupyternotify) (49.6.0.post20201009)\nRequirement already satisfied: decorator in /opt/conda/lib/python3.7/site-packages (from ipython->jupyternotify) (4.4.2)\nRequirement already satisfied: jedi>=0.10 in /opt/conda/lib/python3.7/site-packages (from ipython->jupyternotify) (0.17.1)\nRequirement already satisfied: pickleshare in /opt/conda/lib/python3.7/site-packages (from ipython->jupyternotify) (0.7.5)\nRequirement already satisfied: backcall in /opt/conda/lib/python3.7/site-packages (from ipython->jupyternotify) (0.2.0)\nRequirement already satisfied: pexpect>4.3; sys_platform != \"win32\" in /opt/conda/lib/python3.7/site-packages (from ipython->jupyternotify) (4.8.0)\nRequirement already satisfied: pygments in /opt/conda/lib/python3.7/site-packages (from ipython->jupyternotify) (2.7.1)\nRequirement already satisfied: qtconsole in /opt/conda/lib/python3.7/site-packages (from jupyter->jupyternotify) (4.7.7)\nRequirement already satisfied: ipywidgets in /opt/conda/lib/python3.7/site-packages (from jupyter->jupyternotify) (7.5.1)\nRequirement already satisfied: jupyter-console in /opt/conda/lib/python3.7/site-packages (from jupyter->jupyternotify) (6.2.0)\nRequirement already satisfied: ipykernel in /opt/conda/lib/python3.7/site-packages (from jupyter->jupyternotify) (5.3.4)\nRequirement already satisfied: notebook in /opt/conda/lib/python3.7/site-packages (from jupyter->jupyternotify) (6.1.4)\nRequirement already satisfied: nbconvert in /opt/conda/lib/python3.7/site-packages (from jupyter->jupyternotify) (5.6.1)\nRequirement already satisfied: ipython-genutils in /opt/conda/lib/python3.7/site-packages (from traitlets>=4.2->ipython->jupyternotify) (0.2.0)\nRequirement already satisfied: wcwidth in /opt/conda/lib/python3.7/site-packages (from prompt-toolkit!=3.0.0,!=3.0.1,<3.1.0,>=2.0.0->ipython->jupyternotify) (0.2.5)\nRequirement already satisfied: parso<0.8.0,>=0.7.0 in /opt/conda/lib/python3.7/site-packages (from jedi>=0.10->ipython->jupyternotify) (0.7.0)\nRequirement already satisfied: ptyprocess>=0.5 in /opt/conda/lib/python3.7/site-packages (from pexpect>4.3; sys_platform != \"win32\"->ipython->jupyternotify) (0.6.0)\nRequirement already satisfied: jupyter-client>=4.1 in /opt/conda/lib/python3.7/site-packages (from qtconsole->jupyter->jupyternotify) (6.1.7)\nRequirement already satisfied: jupyter-core in /opt/conda/lib/python3.7/site-packages (from qtconsole->jupyter->jupyternotify) (4.6.3)\nRequirement already satisfied: pyzmq>=17.1 in /opt/conda/lib/python3.7/site-packages (from qtconsole->jupyter->jupyternotify) (19.0.2)\nRequirement already satisfied: qtpy in /opt/conda/lib/python3.7/site-packages (from qtconsole->jupyter->jupyternotify) (1.9.0)\nRequirement already satisfied: widgetsnbextension~=3.5.0 in /opt/conda/lib/python3.7/site-packages (from ipywidgets->jupyter->jupyternotify) (3.5.1)\nRequirement already satisfied: nbformat>=4.2.0 in /opt/conda/lib/python3.7/site-packages (from ipywidgets->jupyter->jupyternotify) (5.0.7)\nRequirement already satisfied: tornado>=4.2 in /opt/conda/lib/python3.7/site-packages (from ipykernel->jupyter->jupyternotify) (6.0.4)\nRequirement already satisfied: terminado>=0.8.3 in /opt/conda/lib/python3.7/site-packages (from notebook->jupyter->jupyternotify) (0.9.1)\nRequirement already satisfied: prometheus-client in /opt/conda/lib/python3.7/site-packages (from notebook->jupyter->jupyternotify) (0.8.0)\nRequirement already satisfied: argon2-cffi in /opt/conda/lib/python3.7/site-packages (from notebook->jupyter->jupyternotify) (20.1.0)\nRequirement already satisfied: Send2Trash in /opt/conda/lib/python3.7/site-packages (from notebook->jupyter->jupyternotify) (1.5.0)\nRequirement already satisfied: jinja2 in /opt/conda/lib/python3.7/site-packages (from notebook->jupyter->jupyternotify) (2.11.2)\nRequirement already satisfied: bleach in /opt/conda/lib/python3.7/site-packages (from nbconvert->jupyter->jupyternotify) (3.2.1)\nRequirement already satisfied: mistune<2,>=0.8.1 in /opt/conda/lib/python3.7/site-packages (from nbconvert->jupyter->jupyternotify) (0.8.4)\nRequirement already satisfied: entrypoints>=0.2.2 in /opt/conda/lib/python3.7/site-packages (from nbconvert->jupyter->jupyternotify) (0.3)\nRequirement already satisfied: pandocfilters>=1.4.1 in /opt/conda/lib/python3.7/site-packages (from nbconvert->jupyter->jupyternotify) (1.4.2)\nRequirement already satisfied: testpath in /opt/conda/lib/python3.7/site-packages (from nbconvert->jupyter->jupyternotify) (0.4.4)\nRequirement already satisfied: defusedxml in /opt/conda/lib/python3.7/site-packages (from nbconvert->jupyter->jupyternotify) (0.6.0)\nRequirement already satisfied: python-dateutil>=2.1 in /opt/conda/lib/python3.7/site-packages (from jupyter-client>=4.1->qtconsole->jupyter->jupyternotify) (2.8.1)\nRequirement already satisfied: jsonschema!=2.5.0,>=2.4 in /opt/conda/lib/python3.7/site-packages (from nbformat>=4.2.0->ipywidgets->jupyter->jupyternotify) (3.2.0)\nRequirement already satisfied: cffi>=1.0.0 in /opt/conda/lib/python3.7/site-packages (from argon2-cffi->notebook->jupyter->jupyternotify) (1.14.3)\nRequirement already satisfied: six in /opt/conda/lib/python3.7/site-packages (from argon2-cffi->notebook->jupyter->jupyternotify) (1.15.0)\nRequirement already satisfied: MarkupSafe>=0.23 in /opt/conda/lib/python3.7/site-packages (from jinja2->notebook->jupyter->jupyternotify) (1.1.1)\nRequirement already satisfied: webencodings in /opt/conda/lib/python3.7/site-packages (from bleach->nbconvert->jupyter->jupyternotify) (0.5.1)\nRequirement already satisfied: packaging in /opt/conda/lib/python3.7/site-packages (from bleach->nbconvert->jupyter->jupyternotify) (20.4)\nRequirement already satisfied: pyrsistent>=0.14.0 in /opt/conda/lib/python3.7/site-packages (from jsonschema!=2.5.0,>=2.4->nbformat>=4.2.0->ipywidgets->jupyter->jupyternotify) (0.17.3)\nRequirement already satisfied: importlib-metadata; python_version < \"3.8\" in /opt/conda/lib/python3.7/site-packages (from jsonschema!=2.5.0,>=2.4->nbformat>=4.2.0->ipywidgets->jupyter->jupyternotify) (2.0.0)\nRequirement already satisfied: attrs>=17.4.0 in /opt/conda/lib/python3.7/site-packages (from jsonschema!=2.5.0,>=2.4->nbformat>=4.2.0->ipywidgets->jupyter->jupyternotify) (20.2.0)\nRequirement already satisfied: pycparser in /opt/conda/lib/python3.7/site-packages (from cffi>=1.0.0->argon2-cffi->notebook->jupyter->jupyternotify) (2.20)\nRequirement already satisfied: pyparsing>=2.0.2 in /opt/conda/lib/python3.7/site-packages (from packaging->bleach->nbconvert->jupyter->jupyternotify) (2.4.7)\nRequirement already satisfied: zipp>=0.5 in /opt/conda/lib/python3.7/site-packages (from importlib-metadata; python_version < \"3.8\"->jsonschema!=2.5.0,>=2.4->nbformat>=4.2.0->ipywidgets->jupyter->jupyternotify) (3.3.0)\nThe jupyternotify extension is already loaded. To reload it, use:\n  %reload_ext jupyternotify\n"}],"execution_count":null},{"cell_type":"code","metadata":{"execution_millis":70,"execution_start":1603526125876,"output_cleared":false,"source_hash":"fd4019a5","tags":[],"cell_id":"00002-99804fd9-75a5-4335-bd63-1fe487aa7290"},"source":"# General\nimport matplotlib.pyplot as plt\nimport pandas as pd\nimport numpy as np\n\n# ML\nfrom sklearn.metrics import balanced_accuracy_score\nfrom sklearn.model_selection import cross_validate\nfrom sklearn.model_selection import train_test_split\nfrom sklearn.model_selection import cross_val_score\nfrom sklearn.linear_model import LogisticRegression\nfrom sklearn.pipeline import Pipeline\nfrom sklearn.svm import SVC\nfrom sklearn.preprocessing import StandardScaler\nfrom sklearn.metrics import balanced_accuracy_score\nfrom sklearn.neighbors import KNeighborsClassifier\n\n# Custom\nimport sys,os\nsys.path.append( '.' )\nsys.path.append( '..' )\nimport Components.Outlier_Detection as Outlier_Detection\nimport Components.Feature_Selection as Feature_Selection\nimport Components.Normalisation as Normalisation\nimport Components.data_fetching as data_fetching\n#import Components.Data_Augmentation as Data_Augmentation\nimport Components.wrapper as wrapper\n\n\n# CAREFUL:\n# If you make changes to a custom module, you have to reload it, i.e rerun this cell\nimport importlib\n#importlib.reload(Data_Augmentation)\nimportlib.reload(Outlier_Detection)\nimportlib.reload(Feature_Selection)\nimportlib.reload(Normalisation)\nimportlib.reload(data_fetching)\nimportlib.reload(wrapper)","outputs":[{"data":{"text/plain":"<module 'Components.wrapper' from '../Components/wrapper.py'>"},"execution_count":4,"metadata":{},"output_type":"execute_result"}],"execution_count":null},{"cell_type":"markdown","source":"## Data Preprocessing","metadata":{"tags":[],"cell_id":"00003-ba16c04c-5603-4b4f-886d-0d8833bd25ba"}},{"cell_type":"markdown","source":"### Data Import","metadata":{"tags":[],"cell_id":"00004-f703bef8-d47c-4f55-977b-e9e31c05ab85"}},{"cell_type":"code","metadata":{"execution_millis":3164,"execution_start":1603526128559,"output_cleared":false,"source_hash":"e4735f64","tags":[],"cell_id":"00005-9050dae9-47b7-4e09-9b60-45abbd3f9708"},"source":"x_train, y_train = data_fetching.get_train_data()\nx_test = data_fetching.get_test_data()","outputs":[],"execution_count":null},{"cell_type":"markdown","source":"## Model","metadata":{"execution_millis":1507,"execution_start":1603526197733,"output_cleared":false,"source_hash":"2f267119","tags":[],"cell_id":"00006-d433344d-ea10-4897-908b-9869934d6992"}},{"cell_type":"markdown","source":"### Pipeline Setup","metadata":{"cell_id":"00007-779e1322-945f-44ec-a22e-9e9c69c244ca"}},{"cell_type":"code","metadata":{"tags":[],"cell_id":"00008-0bfe22b7-b52d-4dea-87e9-b056d1b24700"},"source":"# we need: -scaling transformer -weighted loss function -multi-class model \npipe = Pipeline([('scaling',StandardScaler()),\n                 ('classification',\n                  KNeighborsClassifier(n_neighbors=1,weights='distance',n_jobs=-1))\n                ])\n","outputs":[],"execution_count":null},{"cell_type":"markdown","source":"### Cross validation","metadata":{"cell_id":"00009-e090e62a-3110-4880-9dc5-d629024d2d7e"}},{"cell_type":"code","metadata":{"cell_id":"00010-57ea809e-e45a-4bfc-b584-287101000f4e"},"source":"%%notify\nscores = cross_val_score(pipe, x_train, np.ravel(y_train), cv=10, scoring='balanced_accuracy')\nprint(scores)\nprint(np.mean(scores))","outputs":[{"name":"stdout","output_type":"stream","text":"[0.56388889 0.59166667 0.62037037 0.56481481 0.54351852 0.55\n 0.55925926 0.57592593 0.57407407 0.58240741]\n0.5725925925925927\n"},{"data":{"application/javascript":"$(document).ready(\n    function() {\n        function appendUniqueDiv(){\n            // append a div with our uuid so we can check that it's already\n            // been sent and avoid duplicates on page reload\n            var notifiedDiv = document.createElement(\"div\")\n            notifiedDiv.id = \"e42bffa7-58bf-4505-a643-56f33436f5b9\"\n            element.append(notifiedDiv)\n        }\n\n        // only send notifications if the pageload is complete; this will\n        // help stop extra notifications when a saved notebook is loaded,\n        // which during testing gives us state \"interactive\", not \"complete\"\n        if (document.readyState === 'complete') {\n            // check for the div that signifies that the notification\n            // was already sent\n            if (document.getElementById(\"e42bffa7-58bf-4505-a643-56f33436f5b9\") === null) {\n                var notificationPayload = {\"requireInteraction\": false, \"icon\": \"/static/base/images/favicon.ico\", \"body\": \"Cell execution has finished!\"};\n                if (Notification.permission !== 'denied') {\n                    if (Notification.permission !== 'granted') { \n                        Notification.requestPermission(function (permission) {\n                            if(!('permission' in Notification)) {\n                                Notification.permission = permission\n                            }\n                        })\n                    }\n                    if (Notification.permission === 'granted') {\n                    var notification = new Notification(\"Jupyter Notebook\", notificationPayload)\n                    appendUniqueDiv()\n                    notification.onclick = function () {\n                        window.focus();\n                        this.close();\n                        };\n                    } \n                }     \n            }\n        }\n    }\n)\n","text/plain":"<IPython.core.display.Javascript object>"},"metadata":{},"output_type":"display_data"}],"execution_count":null},{"cell_type":"code","metadata":{"cell_id":"00011-86bb55fa-1723-4267-9676-45fa8e3922fd"},"source":"","execution_count":null,"outputs":[]}],"nbformat":4,"nbformat_minor":4,"metadata":{"deepnote_execution_queue":[],"deepnote_notebook_id":"ed35136b-ba02-4eb0-9588-26dc2e2bd679","environment":{"name":"common-cpu.m58","type":"gcloud","uri":"gcr.io/deeplearning-platform-release/base-cpu:m58"},"kernelspec":{"display_name":"Python 3","language":"python","name":"python3"},"language_info":{"codemirror_mode":{"name":"ipython","version":3},"file_extension":".py","mimetype":"text/x-python","name":"python","nbconvert_exporter":"python","pygments_lexer":"ipython3","version":"3.7.8"}}}
>>>>>>> 1f31a212de99dc603d8c1b079f61329700f7194a
