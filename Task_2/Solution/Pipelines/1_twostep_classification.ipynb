{
 "cells": [
  {
   "cell_type": "markdown",
   "metadata": {
    "cell_id": "00000-7a12a019-eb2f-43cb-9092-5184216306eb",
    "tags": []
   },
   "source": [
    "## Imports"
   ]
  },
  {
   "cell_type": "code",
   "execution_count": 99,
   "metadata": {
    "cell_id": "00001-62252b60-4fa7-43ee-b3ee-35b04a26b9a4",
    "execution_millis": 1566,
    "execution_start": 1604136570028,
    "output_cleared": false,
    "source_hash": "73efdfa6",
    "tags": []
   },
   "outputs": [
    {
     "name": "stdout",
     "output_type": "stream",
     "text": [
      "Requirement already satisfied: imblearn in /opt/conda/lib/python3.7/site-packages (0.0)\n",
      "Requirement already satisfied: imbalanced-learn in /opt/conda/lib/python3.7/site-packages (from imblearn) (0.7.0)\n",
      "Requirement already satisfied: scikit-learn>=0.23 in /opt/conda/lib/python3.7/site-packages (from imbalanced-learn->imblearn) (0.23.2)\n",
      "Requirement already satisfied: scipy>=0.19.1 in /opt/conda/lib/python3.7/site-packages (from imbalanced-learn->imblearn) (1.5.2)\n",
      "Requirement already satisfied: numpy>=1.13.3 in /opt/conda/lib/python3.7/site-packages (from imbalanced-learn->imblearn) (1.18.5)\n",
      "Requirement already satisfied: joblib>=0.11 in /opt/conda/lib/python3.7/site-packages (from imbalanced-learn->imblearn) (0.17.0)\n",
      "Requirement already satisfied: threadpoolctl>=2.0.0 in /opt/conda/lib/python3.7/site-packages (from scikit-learn>=0.23->imbalanced-learn->imblearn) (2.1.0)\n"
     ]
    }
   ],
   "source": [
    "!pip install imblearn"
   ]
  },
  {
   "cell_type": "code",
   "execution_count": 100,
   "metadata": {
    "cell_id": "00001-ed404bb5-1d8a-4199-b8c7-0f407a6aadaa",
    "execution_millis": 72,
    "execution_start": 1604136572008,
    "output_cleared": false,
    "source_hash": "33730efe",
    "tags": []
   },
   "outputs": [
    {
     "data": {
      "text/plain": [
       "<module 'Components.two_step_utils' from '../Components/two_step_utils.py'>"
      ]
     },
     "execution_count": 100,
     "metadata": {},
     "output_type": "execute_result"
    }
   ],
   "source": [
    "# General\n",
    "import matplotlib.pyplot as plt\n",
    "import pandas as pd\n",
    "import numpy as np\n",
    "\n",
    "# ML\n",
    "\n",
    "from sklearn.metrics import balanced_accuracy_score\n",
    "from sklearn.model_selection import cross_validate\n",
    "from sklearn.model_selection import train_test_split\n",
    "from sklearn.model_selection import cross_val_score\n",
    "from sklearn.linear_model import LogisticRegression\n",
    "from sklearn.multiclass import OneVsRestClassifier\n",
    "from sklearn.svm import SVC\n",
    "from sklearn.metrics import classification_report\n",
    "from sklearn.metrics import confusion_matrix\n",
    "from sklearn.decomposition import PCA\n",
    "from imblearn.under_sampling import RandomUnderSampler\n",
    "from sklearn.preprocessing import StandardScaler\n",
    "from imblearn.combine import SMOTEENN\n",
    "from sklearn.ensemble import RandomForestClassifier\n",
    "from imblearn.under_sampling import AllKNN\n",
    "from sklearn.preprocessing import PolynomialFeatures\n",
    "from imblearn.combine import SMOTETomek\n",
    "\n",
    "# Custom\n",
    "import sys,os\n",
    "sys.path.append( '.' )\n",
    "sys.path.append( '..' )\n",
    "import Components.Outlier_Detection as Outlier_Detection\n",
    "import Components.Feature_Selection as Feature_Selection\n",
    "import Components.Normalisation as Normalisation\n",
    "import Components.data_fetching as data_fetching\n",
    "import Components.Data_Augmentation as Data_Augmentation\n",
    "import Components.wrapper as wrapper\n",
    "import Components.two_step_utils as two_step_utils\n",
    "\n",
    "\n",
    "\n",
    "# CAREFUL:\n",
    "# If you make changes to a custom module, you have to reload it, i.e rerun this cell\n",
    "import importlib\n",
    "importlib.reload(Data_Augmentation)\n",
    "importlib.reload(Outlier_Detection)\n",
    "importlib.reload(Feature_Selection)\n",
    "importlib.reload(Normalisation)\n",
    "importlib.reload(data_fetching)\n",
    "importlib.reload(wrapper)\n",
    "importlib.reload(two_step_utils)"
   ]
  },
  {
   "cell_type": "markdown",
   "metadata": {
    "cell_id": "00002-59a69ae1-5c13-4e41-85c2-96a40e58b854",
    "tags": []
   },
   "source": [
    "## Data Preprocessing"
   ]
  },
  {
   "cell_type": "markdown",
   "metadata": {
    "cell_id": "00003-1034e076-680a-4df9-960f-c96cc0df4c04",
    "tags": []
   },
   "source": [
    "### Data Import"
   ]
  },
  {
   "cell_type": "code",
   "execution_count": 101,
   "metadata": {
    "cell_id": "00004-256246e6-db2f-40b1-a33b-0fe3f835e3cb",
    "execution_millis": 1870,
    "execution_start": 1604136578595,
    "output_cleared": false,
    "source_hash": "9fab25bf",
    "tags": []
   },
   "outputs": [],
   "source": [
    "X, y = data_fetching.get_train_data()\n",
    "x_test = data_fetching.get_test_data()\n",
    "\n"
   ]
  },
  {
   "cell_type": "code",
   "execution_count": null,
   "metadata": {
    "cell_id": "00005-f17e19a5-d1a9-4b8e-9ded-318bd4f2a793",
    "execution_millis": 4,
    "execution_start": 1603723124962,
    "output_cleared": false,
    "source_hash": "7799075d",
    "tags": []
   },
   "outputs": [
    {
     "name": "stdout",
     "output_type": "stream",
     "text": [
      "        0         1         2         3         4         5         6    \\\n",
      "0 -1.498973  1.448201  2.784979  1.905992  1.285007 -0.571679  1.253798   \n",
      "1 -0.521470 -0.493049  0.891382 -0.080855  0.227825 -0.167394 -0.426608   \n",
      "2 -0.417724 -0.019106  0.938377 -0.670472  0.298922  0.917788  0.189585   \n",
      "3 -0.471972  0.000398  0.784836  1.088817 -0.436292  0.023086  0.611958   \n",
      "4  0.201026 -0.579901  0.638809 -0.614121  0.468388  0.535726  0.271890   \n",
      "\n",
      "        7         8         9    ...       990       991       992       993  \\\n",
      "0 -2.590709  1.379211 -1.553323  ...  2.638401 -1.365574  2.856497 -1.916006   \n",
      "1  0.371071 -0.065361 -0.271039  ...  0.662354 -0.443464 -0.540985 -0.164082   \n",
      "2 -0.259406  0.591056 -1.391407  ...  0.617464 -0.543036 -0.321695 -1.778676   \n",
      "3 -0.720903  0.310497 -0.703081  ...  0.672421 -1.942345  0.366181 -1.226904   \n",
      "4  0.054270  0.297078 -0.677568  ...  0.144922  0.203202 -0.150227 -0.026890   \n",
      "\n",
      "        994       995       996       997       998       999  \n",
      "0  1.406900 -2.581604  0.839115 -0.004883  3.173465  2.179183  \n",
      "1  0.223598  0.274742 -0.122392  0.971394  0.604963  0.355499  \n",
      "2  1.118608 -0.937445 -0.239242  0.842709  2.086818  0.512741  \n",
      "3  1.152494 -0.104389  0.702375  0.426496  0.336746  1.304973  \n",
      "4  0.106822 -1.202451  0.098924  0.825237  1.044778  0.071464  \n",
      "\n",
      "[5 rows x 1000 columns]\n"
     ]
    }
   ],
   "source": [
    "print(X.head())"
   ]
  },
  {
   "cell_type": "markdown",
   "metadata": {
    "cell_id": "00006-1fd93705-2f37-41af-9a89-d8b42ce52761",
    "tags": []
   },
   "source": [
    "### Normalisation"
   ]
  },
  {
   "cell_type": "code",
   "execution_count": 102,
   "metadata": {
    "cell_id": "00007-e197127e-7c32-4421-bad5-8b8d26814402",
    "execution_millis": 3854,
    "execution_start": 1604136587442,
    "output_cleared": false,
    "source_hash": "4760f2db",
    "tags": []
   },
   "outputs": [],
   "source": [
    "X = Normalisation.gaussian(X)\n",
    "x_test = Normalisation.gaussian(x_test)"
   ]
  },
  {
   "cell_type": "code",
   "execution_count": null,
   "metadata": {
    "cell_id": "00009-95fe6e12-2cbf-4321-b4f0-27802c78d4c4",
    "execution_millis": 164,
    "execution_start": 1603727628999,
    "output_cleared": false,
    "source_hash": "11e395b8",
    "tags": []
   },
   "outputs": [],
   "source": [
    "X = Normalisation.standard_scaler(X)\n",
    "x_test = Normalisation.standard_scaler(x_test)\n"
   ]
  },
  {
   "cell_type": "markdown",
   "metadata": {
    "cell_id": "00008-2aa045d1-8652-4843-a897-e0ad007c7601",
    "tags": []
   },
   "source": [
    "### Model train"
   ]
  },
  {
   "cell_type": "markdown",
   "metadata": {
    "cell_id": "00009-9b8c0756-f713-440a-b051-add5bed2d0ad",
    "tags": []
   },
   "source": [
    "### do the classification in two steps: 0+2 vs 1 then 0 vs 2 if the case"
   ]
  },
  {
   "cell_type": "code",
   "execution_count": 103,
   "metadata": {
    "cell_id": "00010-bb22f656-40fa-4eeb-9a18-d61092060465",
    "execution_millis": 492,
    "execution_start": 1603731816029,
    "output_cleared": false,
    "source_hash": "cac73602",
    "tags": []
   },
   "outputs": [
    {
     "name": "stdout",
     "output_type": "stream",
     "text": [
      "[[<AxesSubplot:title={'center':'y'}>]]\n",
      "   y\n",
      "0  1\n",
      "1  0\n",
      "2  1\n",
      "3  1\n",
      "4  1\n"
     ]
    },
    {
     "data": {
      "image/png": "[encoded data removed]",
      "text/plain": [
       "<Figure size 432x288 with 1 Axes>"
      ]
     },
     "metadata": {
      "needs_background": "light"
     },
     "output_type": "display_data"
    }
   ],
   "source": [
    "print(y.hist())\n",
    "print(y.head())"
   ]
  },
  {
   "cell_type": "code",
   "execution_count": 48,
   "metadata": {
    "cell_id": "00013-5c17bff8-bbb1-4f4b-b5fb-6016d5321a1b",
    "execution_millis": 41,
    "execution_start": 1604136691967,
    "output_cleared": false,
    "source_hash": "dbae643",
    "tags": []
   },
   "outputs": [],
   "source": [
    "X_1, y_1, X_2, y_2 = two_step_utils.transform(X,y)"
   ]
  },
  {
   "cell_type": "code",
   "execution_count": null,
   "metadata": {
    "cell_id": "00012-b3ea0cfa-9bf2-4e6e-836e-a73e101da3ee",
    "execution_millis": 83,
    "execution_start": 1603731805114,
    "output_cleared": false,
    "source_hash": "f321ec87",
    "tags": []
   },
   "outputs": [],
   "source": [
    "# set apart a val set:\n",
    "x_train, x_val, y_train, y_val = train_test_split(X,y, test_size=0.2)\n",
    "X_1, y_1, X_2, y_2 = two_step_utils.transform(x_train,y_train)"
   ]
  },
  {
   "cell_type": "markdown",
   "metadata": {
    "cell_id": "00013-d40a4bc1-7801-490a-8cbf-248077fa8fc8",
    "tags": []
   },
   "source": [
    "### check out the data in 2d with pca"
   ]
  },
  {
   "cell_type": "code",
   "execution_count": 36,
   "metadata": {},
   "outputs": [],
   "source": [
    "rus = RandomUnderSampler(random_state=0, sampling_strategy=1)\n",
    "X_1, y_1 = rus.fit_resample(X_1, y_1)"
   ]
  },
  {
   "cell_type": "code",
   "execution_count": 51,
   "metadata": {},
   "outputs": [],
   "source": [
    "knnus = AllKNN()\n",
    "X_1, y_1 = knnus.fit_resample(X_1, y_1)"
   ]
  },
  {
   "cell_type": "code",
   "execution_count": 71,
   "metadata": {
    "cell_id": "00014-2505e3fd-8ae4-4ef5-9ce4-aa191dcf9ce2",
    "execution_millis": 1036,
    "execution_start": 1604137157305,
    "output_cleared": false,
    "source_hash": "233ca56f",
    "tags": []
   },
   "outputs": [
    {
     "data": {
      "image/png": "[encoded data removed]",
      "text/plain": [
       "<Figure size 432x288 with 1 Axes>"
      ]
     },
     "metadata": {
      "needs_background": "light"
     },
     "output_type": "display_data"
    }
   ],
   "source": [
    "pca = PCA(n_components=2)\n",
    "pca.fit(X_2)\n",
    "X_pca = pca.transform(X_2)\n",
    "X_pca = pd.DataFrame(X_pca)\n",
    "#idx_1 = np.where(y_2.y == 1)\n",
    "idx_0 = np.where(y_2.y == 0)\n",
    "idx_2 = np.where(y_2.y == 2)\n",
    "\n",
    "class_0 = pd.DataFrame(X_pca.iloc[idx_0])\n",
    "\n",
    "#class_1 = pd.DataFrame(X_pca.iloc[idx_1])\n",
    "class_2 = pd.DataFrame(X_pca.iloc[idx_2])\n",
    "\n",
    "#print(class_1[0])\n",
    "\n",
    "\n",
    "#plt.scatter(class_1[0], class_1[1], c='r')\n",
    "plt.scatter(class_0[0], class_0[1], c='b')\n",
    "\n",
    "\n",
    "plt.scatter(class_2[0], class_2[1], c='g')\n",
    "\n",
    "plt.show()"
   ]
  },
  {
   "cell_type": "markdown",
   "metadata": {
    "cell_id": "00017-4836e7d1-7d0d-4e5b-8704-f6b9e920dd07",
    "tags": []
   },
   "source": []
  },
  {
   "cell_type": "code",
   "execution_count": 104,
   "metadata": {
    "cell_id": "00010-22a43069-66b8-4b48-a585-1644c17b0e4e",
    "execution_millis": 288,
    "execution_start": 1604136702104,
    "output_cleared": false,
    "source_hash": "8e707294",
    "tags": []
   },
   "outputs": [
    {
     "name": "stdout",
     "output_type": "stream",
     "text": [
      "[[<AxesSubplot:title={'center':'y'}>]]\n",
      "[[<AxesSubplot:title={'center':'y'}>]]\n"
     ]
    },
    {
     "data": {
      "image/png": "[encoded data removed]",
      "text/plain": [
       "<Figure size 432x288 with 1 Axes>"
      ]
     },
     "metadata": {
      "needs_background": "light"
     },
     "output_type": "display_data"
    },
    {
     "data": {
      "image/png": "[encoded data removed]",
      "text/plain": [
       "<Figure size 432x288 with 1 Axes>"
      ]
     },
     "metadata": {
      "needs_background": "light"
     },
     "output_type": "display_data"
    }
   ],
   "source": [
    "print(y_1.hist())\n",
    "print(y_2.hist())"
   ]
  },
  {
   "cell_type": "markdown",
   "metadata": {
    "cell_id": "00012-b277bf90-1e35-42d0-9e27-c2a43bdc07ee",
    "tags": []
   },
   "source": [
    "### TASK 1"
   ]
  },
  {
   "cell_type": "markdown",
   "metadata": {
    "cell_id": "00012-28b5ceae-04e2-46a7-98fd-234986f7b5e4",
    "tags": []
   },
   "source": [
    "### now oversample for the first task"
   ]
  },
  {
   "cell_type": "code",
   "execution_count": null,
   "metadata": {
    "cell_id": "00012-b1bcfa1b-215d-4b6e-b97a-a3357b125ecd",
    "execution_millis": 3736,
    "execution_start": 1603728346098,
    "output_cleared": false,
    "source_hash": "8569d02c",
    "tags": []
   },
   "outputs": [],
   "source": [
    "X_1, y_1 = Data_Augmentation.smote_resampling(X_1, y_1)"
   ]
  },
  {
   "cell_type": "code",
   "execution_count": null,
   "metadata": {
    "cell_id": "00019-41f841f7-b785-452a-ba23-52f536174b40",
    "execution_millis": 588,
    "execution_start": 1603731326386,
    "output_cleared": false,
    "source_hash": "df8b2e29",
    "tags": []
   },
   "outputs": [],
   "source": [
    "rus = RandomUnderSampler(random_state=0)\n",
    "X_1, y_1 = rus.fit_resample(X_1, y_1)\n"
   ]
  },
  {
   "cell_type": "code",
   "execution_count": null,
   "metadata": {
    "cell_id": "00021-aa2e5a50-39b8-4a21-b98e-85e0f82fb424",
    "execution_millis": 4839,
    "execution_start": 1603731923590,
    "output_cleared": false,
    "source_hash": "c3fda44",
    "tags": []
   },
   "outputs": [],
   "source": [
    "sme = SMOTEENN(random_state=0)\n",
    "X_2, y_2 = sme.fit_resample(X_2, y_2)"
   ]
  },
  {
   "cell_type": "code",
   "execution_count": null,
   "metadata": {
    "cell_id": "00016-a2cf85f4-36a5-4f09-9db5-0ec13c5ba25c",
    "execution_millis": 418,
    "execution_start": 1603732073471,
    "output_cleared": false,
    "source_hash": "7472ebf6",
    "tags": []
   },
   "outputs": [
    {
     "name": "stdout",
     "output_type": "stream",
     "text": [
      "[[<AxesSubplot:title={'center':'y'}>]]\n"
     ]
    },
    {
     "data": {
      "image/png": "[encoded data removed]",
      "text/plain": [
       "<Figure size 432x288 with 1 Axes>"
      ]
     },
     "metadata": {
      "needs_background": "light"
     },
     "output_type": "display_data"
    }
   ],
   "source": [
    "print(y_2.hist())"
   ]
  },
  {
   "cell_type": "markdown",
   "metadata": {
    "cell_id": "00014-605295e2-ad75-413c-8331-023d9e611ce1",
    "tags": []
   },
   "source": []
  },
  {
   "cell_type": "code",
   "execution_count": 9,
   "metadata": {
    "cell_id": "00009-8a891805-f394-42ad-8955-5971ec042418",
    "execution_millis": 33751,
    "execution_start": 1604136718209,
    "output_cleared": false,
    "source_hash": "85af05b1",
    "tags": []
   },
   "outputs": [
    {
     "name": "stderr",
     "output_type": "stream",
     "text": [
      "/opt/venv/lib/python3.7/site-packages/sklearn/utils/validation.py:72: DataConversionWarning: A column-vector y was passed when a 1d array was expected. Please change the shape of y to (n_samples, ), for example using ravel().\n",
      "  return f(**kwargs)\n",
      "/opt/venv/lib/python3.7/site-packages/sklearn/utils/validation.py:72: DataConversionWarning: A column-vector y was passed when a 1d array was expected. Please change the shape of y to (n_samples, ), for example using ravel().\n",
      "  return f(**kwargs)\n",
      "/opt/venv/lib/python3.7/site-packages/sklearn/utils/validation.py:72: DataConversionWarning: A column-vector y was passed when a 1d array was expected. Please change the shape of y to (n_samples, ), for example using ravel().\n",
      "  return f(**kwargs)\n",
      "[0.80833333 0.835      0.83791667]\n",
      "0.8270833333333334\n"
     ]
    }
   ],
   "source": [
    "clf = SVC(class_weight='balanced', gamma='auto')\n",
    "scores = cross_val_score(clf, X_1,y_1, cv=3, scoring= 'balanced_accuracy')\n",
    "print(scores)\n",
    "print(np.mean(scores))"
   ]
  },
  {
   "cell_type": "code",
   "execution_count": 10,
   "metadata": {
    "cell_id": "00022-d86f5813-d1f9-459f-a717-f56efa5ab65f",
    "execution_millis": 176951,
    "execution_start": 1604136756482,
    "output_cleared": false,
    "source_hash": "306a4c73",
    "tags": []
   },
   "outputs": [
    {
     "name": "stderr",
     "output_type": "stream",
     "text": [
      "/opt/venv/lib/python3.7/site-packages/sklearn/model_selection/_validation.py:531: DataConversionWarning: A column-vector y was passed when a 1d array was expected. Please change the shape of y to (n_samples,), for example using ravel().\n",
      "  estimator.fit(X_train, y_train, **fit_params)\n",
      "/opt/venv/lib/python3.7/site-packages/sklearn/model_selection/_validation.py:531: DataConversionWarning: A column-vector y was passed when a 1d array was expected. Please change the shape of y to (n_samples,), for example using ravel().\n",
      "  estimator.fit(X_train, y_train, **fit_params)\n",
      "/opt/venv/lib/python3.7/site-packages/sklearn/model_selection/_validation.py:531: DataConversionWarning: A column-vector y was passed when a 1d array was expected. Please change the shape of y to (n_samples,), for example using ravel().\n",
      "  estimator.fit(X_train, y_train, **fit_params)\n",
      "[0.69291667 0.68875    0.70083333]\n",
      "0.6941666666666667\n"
     ]
    }
   ],
   "source": [
    "rf_clf = RandomForestClassifier(n_estimators=1000, class_weight='balanced')\n",
    "scores = cross_val_score(rf_clf, X_1,y_1, cv=3, scoring= 'balanced_accuracy')\n",
    "print(scores)\n",
    "print(np.mean(scores))"
   ]
  },
  {
   "cell_type": "code",
   "execution_count": null,
   "metadata": {
    "cell_id": "00028-6be75024-889b-4f8f-a31c-642cd3ccd0df",
    "execution_millis": 140791,
    "execution_start": 1604138883898,
    "output_cleared": false,
    "source_hash": "2337ce6b",
    "tags": []
   },
   "outputs": [
    {
     "name": "stdout",
     "output_type": "stream",
     "text": [
      "----------\n",
      "0\n",
      "0.8094914596273292\n",
      "[[177  47]\n",
      " [126 610]]\n",
      "----------\n",
      "1\n",
      "0.8227745214763257\n",
      "[[195  49]\n",
      " [110 606]]\n",
      "----------\n",
      "2\n"
     ]
    }
   ],
   "source": [
    "scores = list()\n",
    "### crossvalidation:\n",
    "cv = 10\n",
    "\n",
    "for i in range(0,cv):\n",
    "    print('----------')\n",
    "    print(i)\n",
    "    x_train, x_val, y_train, y_val = train_test_split(X, y, test_size=0.2)\n",
    "    X_1, y_1, X_2, y_2 = two_step_utils.transform(x_train,y_train)\n",
    "    X_val_1, y_val_1, X_val_2, y_val_2 = two_step_utils.transform(x_val, y_val)\n",
    "\n",
    "    #rus = RandomUnderSampler(random_state=0, sampling_strategy=1)\n",
    "    #X_1, y_1 = rus.fit_resample(X_1, y_1)\n",
    "    smt = SMOTETomek(sampling_strategy='auto')\n",
    "    X_1, y_1 = smt.fit_sample(X_1, y_1)\n",
    "    weights = {0:25, 1: 1}\n",
    "    clf_1 = SVC(class_weight=weights,cache_size=1000, gamma=0.001, kernel='rbf', C=1.0)\n",
    "\n",
    "    clf_1 = clf_1.fit(X_1, np.ravel(y_1))\n",
    "\n",
    "    y_pred = clf_1.predict(X_val_1)\n",
    "    #print(y_pred_1_prob)\n",
    "    #print(y_val)\n",
    "    \n",
    "    BMAC = balanced_accuracy_score(y_val_1, y_pred)\n",
    "    scores.append(BMAC)\n",
    "    print(BMAC)\n",
    "    print(confusion_matrix(y_val_1, y_pred))\n",
    "\n",
    "\n",
    "print(scores)\n",
    "print(np.mean(scores))"
   ]
  },
  {
   "cell_type": "markdown",
   "metadata": {
    "cell_id": "00017-e27083b8-b7b9-46d1-b23f-4f2c83179d7c",
    "tags": []
   },
   "source": [
    "### TASK 2"
   ]
  },
  {
   "cell_type": "code",
   "execution_count": 72,
   "metadata": {
    "cell_id": "00027-6d47d22b-8795-4490-b7fa-02d9cc404ef8",
    "tags": []
   },
   "outputs": [],
   "source": [
    "#maxeb oversampling or heavy feature extraction \n",
    "sme = SMOTEENN(random_state=0)\n",
    "X_2, y_2 = sme.fit_resample(X_2, y_2)"
   ]
  },
  {
   "cell_type": "code",
   "execution_count": 73,
   "metadata": {
    "cell_id": "00010-baef40e2-1905-4729-9735-e28690dd58b2",
    "execution_millis": 318,
    "execution_start": 1603732169036,
    "output_cleared": false,
    "source_hash": "dd9dd803",
    "tags": []
   },
   "outputs": [
    {
     "name": "stdout",
     "output_type": "stream",
     "text": [
      "[0.88888889 1.         1.         0.97619048 1.         0.94444444\n",
      " 0.97619048 0.95       0.91369048 0.82738095]\n",
      "0.9476785714285715\n"
     ]
    }
   ],
   "source": [
    "clf_2 = SVC(class_weight='balanced', kernel='rbf', gamma=0.0001, C=5)\n",
    "scores = cross_val_score(clf_2, X_2,np.ravel(y_2), cv=10, scoring= 'balanced_accuracy')\n",
    "print(scores)\n",
    "print(np.mean(scores))"
   ]
  },
  {
   "cell_type": "code",
   "execution_count": null,
   "metadata": {},
   "outputs": [
    {
     "name": "stdout",
     "output_type": "stream",
     "text": [
      "----------\n",
      "0\n"
     ]
    },
    {
     "name": "stderr",
     "output_type": "stream",
     "text": [
      "/opt/conda/lib/python3.7/site-packages/sklearn/utils/validation.py:72: DataConversionWarning: A column-vector y was passed when a 1d array was expected. Please change the shape of y to (n_samples, ), for example using ravel().\n",
      "  return f(**kwargs)\n",
      "/opt/conda/lib/python3.7/site-packages/sklearn/utils/validation.py:72: DataConversionWarning: A column-vector y was passed when a 1d array was expected. Please change the shape of y to (n_samples, ), for example using ravel().\n",
      "  return f(**kwargs)\n"
     ]
    },
    {
     "name": "stdout",
     "output_type": "stream",
     "text": [
      "0.7511061946902655\n",
      "[[85 28]\n",
      " [32 96]]\n",
      "----------\n",
      "1\n"
     ]
    },
    {
     "name": "stderr",
     "output_type": "stream",
     "text": [
      "/opt/conda/lib/python3.7/site-packages/sklearn/utils/validation.py:72: DataConversionWarning: A column-vector y was passed when a 1d array was expected. Please change the shape of y to (n_samples, ), for example using ravel().\n",
      "  return f(**kwargs)\n",
      "/opt/conda/lib/python3.7/site-packages/sklearn/utils/validation.py:72: DataConversionWarning: A column-vector y was passed when a 1d array was expected. Please change the shape of y to (n_samples, ), for example using ravel().\n",
      "  return f(**kwargs)\n"
     ]
    },
    {
     "name": "stdout",
     "output_type": "stream",
     "text": [
      "0.7287302610377054\n",
      "[[78 38]\n",
      " [23 84]]\n",
      "----------\n",
      "2\n"
     ]
    },
    {
     "name": "stderr",
     "output_type": "stream",
     "text": [
      "/opt/conda/lib/python3.7/site-packages/sklearn/utils/validation.py:72: DataConversionWarning: A column-vector y was passed when a 1d array was expected. Please change the shape of y to (n_samples, ), for example using ravel().\n",
      "  return f(**kwargs)\n",
      "/opt/conda/lib/python3.7/site-packages/sklearn/utils/validation.py:72: DataConversionWarning: A column-vector y was passed when a 1d array was expected. Please change the shape of y to (n_samples, ), for example using ravel().\n",
      "  return f(**kwargs)\n"
     ]
    },
    {
     "name": "stdout",
     "output_type": "stream",
     "text": [
      "0.699647473560517\n",
      "[[77 38]\n",
      " [30 81]]\n",
      "----------\n",
      "3\n"
     ]
    },
    {
     "name": "stderr",
     "output_type": "stream",
     "text": [
      "/opt/conda/lib/python3.7/site-packages/sklearn/utils/validation.py:72: DataConversionWarning: A column-vector y was passed when a 1d array was expected. Please change the shape of y to (n_samples, ), for example using ravel().\n",
      "  return f(**kwargs)\n",
      "/opt/conda/lib/python3.7/site-packages/sklearn/utils/validation.py:72: DataConversionWarning: A column-vector y was passed when a 1d array was expected. Please change the shape of y to (n_samples, ), for example using ravel().\n",
      "  return f(**kwargs)\n"
     ]
    }
   ],
   "source": [
    "#cv\n",
    "scores = list()\n",
    "### crossvalidation:\n",
    "cv = 10\n",
    "\n",
    "\n",
    "for i in range(0,cv):\n",
    "    print('----------')\n",
    "    print(i)\n",
    "    x_train, x_val, y_train, y_val = train_test_split(X, y, test_size=0.2)\n",
    "    X_1, y_1, X_2, y_2 = two_step_utils.transform(x_train,np.ravel(y_train))\n",
    "    X_val_1, y_val_1, X_val_2, y_val_2 = two_step_utils.transform(x_val, np.ravel(y_val))\n",
    "\n",
    "    \n",
    "    \n",
    "    clf_2 = SVC(class_weight='balanced',cache_size=1000, gamma=0.0001, kernel='rbf', C=5.0)\n",
    "    clf_2 = clf_2.fit(X_2, np.ravel(y_2))\n",
    "\n",
    "    y_pred = clf_2.predict(X_val_2)\n",
    "    #print(y_pred_1_prob)\n",
    "    #print(y_val)\n",
    "    \n",
    "    BMAC = balanced_accuracy_score(y_val_2, y_pred)\n",
    "    scores.append(BMAC)\n",
    "    print(BMAC)\n",
    "    print(confusion_matrix(y_val_2, y_pred))\n",
    "\n",
    "\n",
    "print(scores)\n",
    "print(np.mean(scores))"
   ]
  },
  {
   "cell_type": "markdown",
   "metadata": {
    "cell_id": "00021-bb94ff8b-fbdf-42cf-8b2c-3923783b4b86",
    "tags": []
   },
   "source": [
    "### combine the two classifications:"
   ]
  },
  {
   "cell_type": "code",
   "execution_count": null,
   "metadata": {
    "cell_id": "00021-91279c12-aeae-4332-a5b3-2e6914684a53",
    "execution_millis": 25913,
    "execution_start": 1603709259674,
    "output_cleared": false,
    "source_hash": "4c80c3a3",
    "tags": []
   },
   "outputs": [
    {
     "name": "stderr",
     "output_type": "stream",
     "text": [
      "/opt/venv/lib/python3.7/site-packages/sklearn/utils/validation.py:72: DataConversionWarning: A column-vector y was passed when a 1d array was expected. Please change the shape of y to (n_samples, ), for example using ravel().\n",
      "  return f(**kwargs)\n",
      "/opt/venv/lib/python3.7/site-packages/sklearn/utils/validation.py:72: DataConversionWarning: A column-vector y was passed when a 1d array was expected. Please change the shape of y to (n_samples, ), for example using ravel().\n",
      "  return f(**kwargs)\n"
     ]
    }
   ],
   "source": [
    "# predict on everything and then set them together\n",
    "# fit on data and check on val set\n",
    "\n",
    "\n",
    "clf = clf.fit(X_1, y_1)\n",
    "clf_2 = clf_2.fit(X_2, y_2)\n",
    "\n",
    "y_pred_1 = clf.predict(x_val)\n",
    "y_pred_2 = clf_2.predict(x_val)\n"
   ]
  },
  {
   "cell_type": "code",
   "execution_count": null,
   "metadata": {
    "cell_id": "00026-d10bb54b-9354-47ea-bc0c-50b0f0e07039",
    "execution_millis": 7,
    "execution_start": 1603709289093,
    "output_cleared": false,
    "source_hash": "67628b29",
    "tags": []
   },
   "outputs": [
    {
     "name": "stdout",
     "output_type": "stream",
     "text": [
      "[2, 1, 1, 1, 1, 2, 1, 0, 1, 1, 1, 2, 0, 1, 0, 1, 1, 1, 0, 1, 0, 0, 1, 1, 1, 2, 1, 1, 1, 0, 1, 1, 1, 1, 2, 1, 1, 1, 1, 1, 1, 0, 1, 1, 2, 1, 1, 1, 1, 1, 0, 1, 1, 0, 1, 1, 1, 1, 2, 1, 2, 1, 1, 0, 1, 0, 1, 1, 1, 2, 1, 1, 1, 1, 1, 1, 2, 1, 2, 1, 1, 1, 1, 1, 0, 1, 1, 1, 1, 2, 1, 1, 1, 1, 1, 2, 0, 1, 1, 1, 2, 0, 1, 2, 1, 1, 1, 2, 1, 2, 1, 2, 1, 1, 0, 2, 1, 1, 1, 2, 1, 1, 0, 1, 2, 2, 1, 2, 1, 1, 0, 1, 1, 1, 1, 0, 1, 1, 1, 2, 2, 2, 1, 1, 1, 1, 0, 1, 1, 1, 1, 1, 0, 1, 1, 0, 1, 1, 1, 1, 1, 1, 0, 1, 1, 1, 1, 1, 0, 2, 2, 2, 0, 1, 2, 1, 1, 1, 1, 1, 0, 1, 1, 1, 1, 1, 1, 1, 0, 1, 2, 1, 1, 1, 1, 0, 1, 1, 1, 2, 1, 1, 2, 1, 1, 1, 1, 1, 1, 1, 1, 1, 1, 0, 1, 1, 1, 1, 2, 1, 1, 1, 1, 1, 1, 0, 1, 1, 2, 1, 0, 1, 2, 2, 1, 1, 1, 2, 1, 1, 1, 1, 1, 1, 1, 1, 1, 1, 0, 1, 1, 2, 1, 0, 1, 1, 0, 1, 1, 1, 0, 1, 1, 0, 1, 0, 1, 1, 1, 2, 1, 1, 0, 2, 1, 1, 1, 1, 1, 2, 1, 2, 1, 1, 1, 0, 1, 1, 0, 2, 2, 1, 1, 0, 1, 1, 1, 1, 0, 0, 1, 1, 2, 1, 1, 2, 1, 2, 2, 1, 1, 1, 1, 1, 1, 1, 1, 2, 1, 1, 1, 1, 1, 1, 1, 1, 1, 1, 1, 1, 1, 1, 1, 2, 1, 0, 2, 2, 1, 1, 1, 1, 1, 1, 1, 1, 1, 1, 0, 1, 1, 1, 1, 1, 2, 1, 1, 1, 1, 1, 0, 0, 1, 1, 1, 1, 1, 1, 1, 0, 1, 0, 2, 1, 1, 1, 2, 0, 2, 1, 1, 1, 1, 1, 1, 1, 1, 0, 0, 1, 1, 1, 2, 0, 1, 0, 2, 1, 2, 1, 1, 2, 1, 1, 1, 1, 1, 1, 1, 1, 1, 1, 1, 1, 1, 1, 1, 1, 1, 2, 0, 1, 1, 1, 2, 1, 1, 1, 1, 1, 2, 0, 2, 0, 1, 1, 1, 1, 1, 1, 0, 1, 0, 1, 1, 1, 2, 1, 1, 1, 1, 1, 1, 1, 1, 1, 0, 0, 1, 1, 2, 1, 1, 1, 2, 1, 1, 1, 1, 1, 0, 1, 1, 0, 1, 1, 1, 1, 1, 1, 1, 1, 0, 1, 0, 1, 2, 1, 1, 1, 2, 1, 2, 2, 0, 1, 1, 0, 1, 0, 2, 1, 2, 1, 1, 1, 2, 1, 1, 1, 1, 1, 1, 1, 1, 1, 1, 1, 0, 1, 1, 1, 2, 2, 1, 1, 1, 0, 1, 1, 0, 1, 1, 1, 1, 1, 1, 1, 1, 1, 1, 1, 1, 2, 0, 1, 1, 1, 1, 2, 2, 0, 1, 1, 2, 1, 1, 1, 1, 1, 1, 0, 2, 2, 2, 1, 1, 1, 1, 1, 1, 1, 1, 1, 2, 1, 1, 1, 2, 1, 1, 0, 1, 1, 0, 2, 1, 1, 1, 1, 1, 1, 1, 1, 1, 1, 1, 1, 1, 1, 1, 2, 1, 1, 0, 2, 1, 1, 0, 2, 1, 1, 1, 2, 0, 1, 2, 1, 1, 1, 0, 1, 1, 2, 1, 1, 0, 1, 2, 1, 0, 1, 1, 0, 1, 1, 0, 0, 1, 0, 1, 1, 1, 2, 1, 1, 1, 2, 1, 1, 1, 1, 1, 1, 1, 1, 1, 1, 1, 1, 2, 1, 1, 2, 1, 1, 1, 1, 0, 1, 2, 2, 1, 1, 1, 1, 0, 1, 1, 1, 1, 2, 0, 1, 1, 1, 0, 1, 1, 1, 1, 1, 1, 1, 1, 1, 1, 1, 1, 2, 1, 1, 1, 1, 1, 1, 1, 0, 1, 2, 1, 1, 1, 1, 1, 1, 1, 1, 1, 0, 1, 0, 1, 1, 2, 2, 1, 1, 1, 1, 1, 1, 1, 1, 1, 1, 1, 1, 0, 1, 1, 1, 1, 1, 1, 1, 0, 1, 1, 2, 1, 1, 1, 0, 1, 1, 2, 2, 1, 1, 0, 1, 2, 1, 1, 1, 1, 1, 2, 1, 1, 1, 2, 1, 0, 0, 1, 1, 1, 1, 2, 1, 1, 1, 1, 0, 2, 0, 1, 0, 2, 1, 1, 1, 1, 2, 1, 1, 1, 1, 1, 1, 1, 1, 1, 1, 1, 1, 0, 1, 1, 1, 1, 2, 1, 2, 1, 1, 2, 1, 1, 0, 2, 1, 0, 0, 0, 1, 1, 0, 1, 1, 1, 1, 1, 1, 2, 0, 1, 1, 1, 1, 1, 1, 1, 1, 2, 1, 1, 2, 1, 1, 2, 2, 1, 1, 1, 1, 1, 1, 1, 2, 1, 1, 0, 2, 1, 1, 1, 1, 0, 1, 2, 1, 1, 2, 1, 2, 2, 1, 1, 1, 1, 1, 1, 1, 2, 1, 1, 1, 1, 1, 1, 1, 1, 1, 1, 1, 1, 1, 0, 1, 1, 1, 0, 2, 1, 1, 1, 1, 1, 0, 1, 0, 2, 1, 1, 0, 1, 0, 1, 1, 1, 1, 0, 2, 1, 1, 1, 1, 1, 1, 1, 2, 1, 1, 1, 1, 1, 1, 1, 2, 0, 1, 1, 1, 2, 1, 1, 1, 1, 2, 1, 1, 0, 1, 1, 0, 1, 0]\n"
     ]
    }
   ],
   "source": [
    "y_pred = two_step_utils.combine_predictions(y_pred_1, y_pred_2)\n",
    "print(y_pred)"
   ]
  },
  {
   "cell_type": "code",
   "execution_count": null,
   "metadata": {
    "cell_id": "00027-ec32280f-e1ca-4b7c-8cc0-ffd08ba13fba",
    "execution_millis": 3,
    "execution_start": 1603709290449,
    "output_cleared": false,
    "source_hash": "1cd49e0f",
    "tags": []
   },
   "outputs": [
    {
     "name": "stdout",
     "output_type": "stream",
     "text": [
      "(960,)\n",
      "(960,)\n",
      "(960,)\n"
     ]
    }
   ],
   "source": [
    "print(np.shape(y_pred_1))\n",
    "print(np.shape(y_pred_2))\n",
    "print(np.shape(y_pred))"
   ]
  },
  {
   "cell_type": "code",
   "execution_count": null,
   "metadata": {
    "cell_id": "00028-06ed70f3-afb5-4a07-8a8c-5e96b1ece5d8",
    "execution_millis": 5,
    "execution_start": 1603709291897,
    "output_cleared": false,
    "source_hash": "c77d47a3",
    "tags": []
   },
   "outputs": [
    {
     "name": "stdout",
     "output_type": "stream",
     "text": [
      "              precision    recall  f1-score   support\n",
      "\n",
      "     class 0       0.50      0.46      0.48       132\n",
      "     class 1       0.88      0.87      0.88       710\n",
      "     class 2       0.54      0.64      0.59       118\n",
      "\n",
      "    accuracy                           0.79       960\n",
      "   macro avg       0.64      0.66      0.65       960\n",
      "weighted avg       0.79      0.79      0.79       960\n",
      "\n"
     ]
    }
   ],
   "source": [
    "target_names = ['class 0', 'class 1', 'class 2']\n",
    "print(classification_report(y_val, y_pred, target_names=target_names))"
   ]
  },
  {
   "cell_type": "code",
   "execution_count": null,
   "metadata": {
    "cell_id": "00027-681d88dc-0635-498c-bd2c-32d5192755fd",
    "execution_millis": 1,
    "execution_start": 1603709296118,
    "output_cleared": false,
    "source_hash": "1f895f13",
    "tags": []
   },
   "outputs": [
    {
     "name": "stdout",
     "output_type": "stream",
     "text": [
      "0.6565151394585627\n"
     ]
    }
   ],
   "source": [
    "BMAC = balanced_accuracy_score(y_val, y_pred)\n",
    "print(BMAC)"
   ]
  },
  {
   "cell_type": "code",
   "execution_count": null,
   "metadata": {
    "cell_id": "00028-6ef68770-25f6-4bc8-968f-f759087b9cc1",
    "execution_millis": 4,
    "execution_start": 1603709312859,
    "output_cleared": false,
    "source_hash": "61cfb64",
    "tags": []
   },
   "outputs": [
    {
     "name": "stdout",
     "output_type": "stream",
     "text": [
      "[[ 61  48  23]\n",
      " [ 51 619  40]\n",
      " [ 10  33  75]]\n"
     ]
    }
   ],
   "source": [
    "print(confusion_matrix(y_val, y_pred))"
   ]
  },
  {
   "cell_type": "code",
   "execution_count": 64,
   "metadata": {
    "cell_id": "00029-bf4373aa-136c-4621-b594-37f08614e8b3",
    "execution_millis": 67460,
    "execution_start": 1603735941460,
    "output_cleared": false,
    "source_hash": "cdce9a79",
    "tags": []
   },
   "outputs": [
    {
     "name": "stdout",
     "output_type": "stream",
     "text": [
      "----------\n",
      "0\n",
      "0.6768251568176606\n",
      "[[ 68  34  37]\n",
      " [ 53 576  62]\n",
      " [ 20  18  92]]\n",
      "----------\n",
      "1\n",
      "0.7124242884037639\n",
      "[[ 63  24  31]\n",
      " [ 68 584  69]\n",
      " [  8  17  96]]\n",
      "----------\n",
      "2\n",
      "0.690809974430664\n",
      "[[ 53  23  28]\n",
      " [ 51 627  62]\n",
      " [ 17  16  83]]\n",
      "----------\n",
      "3\n",
      "0.6861083568750156\n",
      "[[ 78  29  36]\n",
      " [ 66 586  59]\n",
      " [ 18  15  73]]\n",
      "----------\n",
      "4\n",
      "0.6759950671416827\n",
      "[[ 54  39  32]\n",
      " [ 56 598  58]\n",
      " [ 14  16  93]]\n",
      "----------\n",
      "5\n",
      "0.6908818342151676\n",
      "[[ 64  31  40]\n",
      " [ 64 587  49]\n",
      " [ 13  17  95]]\n",
      "----------\n",
      "6\n",
      "0.6644637423275425\n",
      "[[ 57  29  35]\n",
      " [ 74 591  45]\n",
      " [ 24  16  89]]\n",
      "----------\n",
      "7\n",
      "0.6433279682614407\n",
      "[[ 55  36  37]\n",
      " [ 73 579  59]\n",
      " [ 15  23  83]]\n",
      "----------\n",
      "8\n",
      "0.6818307187718639\n",
      "[[ 61  24  42]\n",
      " [ 54 598  63]\n",
      " [ 18  14  86]]\n",
      "----------\n",
      "9\n",
      "0.6994601013672795\n",
      "[[ 66  36  26]\n",
      " [ 64 593  50]\n",
      " [ 17  15  93]]\n",
      "[0.6768251568176606, 0.7124242884037639, 0.690809974430664, 0.6861083568750156, 0.6759950671416827, 0.6908818342151676, 0.6644637423275425, 0.6433279682614407, 0.6818307187718639, 0.6994601013672795]\n",
      "0.6822127208612081\n"
     ]
    }
   ],
   "source": [
    "scores = list()\n",
    "### crossvalidation:\n",
    "cv = 10\n",
    "\n",
    "for i in range(0,cv):\n",
    "    print('----------')\n",
    "    print(i)\n",
    "    x_train, x_val, y_train, y_val = train_test_split(X, y, test_size=0.2)\n",
    "    X_1, y_1, X_2, y_2 = two_step_utils.transform(x_train,y_train)\n",
    "    #knnus = AllKNN()\n",
    "    #X_1, y_1 = knnus.fit_resample(X_1, y_1)\n",
    "    #weights = {0:25, 1: 1}\n",
    "\n",
    "    clf_1 = SVC(class_weight='balanced', gamma=0.001, kernel='rbf', C=1.0)\n",
    "    clf_2 = SVC(class_weight='balanced', gamma=0.0001, kernel='rbf', C=5)\n",
    "\n",
    "    clf_1 = clf_1.fit(X_1, np.ravel(y_1))\n",
    "    clf_2 = clf_2.fit(X_2, np.ravel(y_2))\n",
    "\n",
    "    y_pred_1 = clf_1.predict(x_val)\n",
    "    y_pred_2 = clf_2.predict(x_val)\n",
    "\n",
    "    y_pred = two_step_utils.combine_predictions(y_pred_1, y_pred_2)\n",
    "    BMAC = balanced_accuracy_score(y_val, y_pred)\n",
    "    scores.append(BMAC)\n",
    "    print(BMAC)\n",
    "    print(confusion_matrix(y_val, y_pred))\n",
    "\n",
    "\n",
    "print(scores)\n",
    "print(np.mean(scores))\n",
    "\n"
   ]
  },
  {
   "cell_type": "code",
   "execution_count": null,
   "metadata": {
    "cell_id": "00033-f6049572-01ce-4efa-8f41-d731084c8169",
    "execution_millis": 3,
    "execution_start": 1603724148012,
    "output_cleared": false,
    "source_hash": "ec5f01d5",
    "tags": []
   },
   "outputs": [
    {
     "name": "stdout",
     "output_type": "stream",
     "text": [
      "0.697534437165242\n"
     ]
    }
   ],
   "source": [
    "a = (0.6823813062943498+0.7426575110069008+0.7022834596056353+0.6779686026249742+0.6823813062943498)/5\n",
    "print(a)"
   ]
  },
  {
   "cell_type": "code",
   "execution_count": null,
   "metadata": {
    "cell_id": "00034-bd9e0394-847c-448e-b0cb-3fbfb486f622",
    "execution_millis": 8318,
    "execution_start": 1603730639325,
    "output_cleared": false,
    "source_hash": "150692cd",
    "tags": []
   },
   "outputs": [
    {
     "name": "stderr",
     "output_type": "stream",
     "text": [
      "/opt/venv/lib/python3.7/site-packages/sklearn/utils/validation.py:72: DataConversionWarning: A column-vector y was passed when a 1d array was expected. Please change the shape of y to (n_samples, ), for example using ravel().\n",
      "  return f(**kwargs)\n",
      "/opt/venv/lib/python3.7/site-packages/sklearn/utils/validation.py:72: DataConversionWarning: A column-vector y was passed when a 1d array was expected. Please change the shape of y to (n_samples, ), for example using ravel().\n",
      "  return f(**kwargs)\n"
     ]
    }
   ],
   "source": [
    "# predict on test data\n",
    "\n",
    "clf_1 = SVC(class_weight='balanced', gamma='auto', kernel='linear', C=0.001)\n",
    "clf_2 = SVC(class_weight='balanced', gamma='auto', kernel='linear', C=0.001)\n",
    "\n",
    "clf_1 = clf_1.fit(X_1, y_1)\n",
    "clf_2 = clf_2.fit(X_2, y_2)\n",
    "\n",
    "y_pred_1 = clf_1.predict(x_test)\n",
    "y_pred_2 = clf_2.predict(x_test)\n",
    "\n",
    "y_pred = two_step_utils.combine_predictions(y_pred_1, y_pred_2)\n",
    "\n",
    "# save them:\n",
    "y_pred_pd = pd.DataFrame(data=y_pred, columns=[\"y\"])\n",
    "y_pred_pd.to_csv('../../Predictions/two_step_smoteenn_svc.csv', index_label='id')"
   ]
  },
  {
   "cell_type": "code",
   "execution_count": null,
   "metadata": {
    "cell_id": "00038-b2b2e85c-367d-425e-89a1-46ec4e3710b2",
    "tags": []
   },
   "outputs": [],
   "source": [
    "decision = bala"
   ]
  },
  {
   "cell_type": "code",
   "execution_count": null,
   "metadata": {
    "cell_id": "00040-6a539b50-4154-4d7e-a77f-ded44b0eb6f7",
    "execution_millis": 10,
    "execution_start": 1603736131981,
    "output_cleared": false,
    "source_hash": "c53eaaf2",
    "tags": []
   },
   "outputs": [
    {
     "name": "stdout",
     "output_type": "stream",
     "text": [
      "[[[0.57556009 0.42443991]\n",
      "  [0.30061945 0.69938055]\n",
      "  [0.69435605 0.30564395]\n",
      "  [0.01974271 0.98025729]\n",
      "  [0.81684657 0.18315343]\n",
      "  [0.84225719 0.15774281]\n",
      "  [0.37150747 0.62849253]\n",
      "  [0.52940353 0.47059647]\n",
      "  [0.2318744  0.7681256 ]\n",
      "  [0.23091014 0.76908986]\n",
      "  [0.22657527 0.77342473]\n",
      "  [0.935506   0.064494  ]\n",
      "  [0.86827141 0.13172859]\n",
      "  [0.8273992  0.1726008 ]\n",
      "  [0.44764471 0.55235529]\n",
      "  [0.79136464 0.20863536]\n",
      "  [0.51470729 0.48529271]\n",
      "  [0.29108688 0.70891312]\n",
      "  [0.29651443 0.70348557]\n",
      "  [0.63489919 0.36510081]\n",
      "  [0.48978637 0.51021363]\n",
      "  [0.72018818 0.27981182]\n",
      "  [0.83848605 0.16151395]\n",
      "  [0.65841181 0.34158819]\n",
      "  [0.04683482 0.95316518]\n",
      "  [0.01688905 0.98311095]\n",
      "  [0.60581181 0.39418819]\n",
      "  [0.60651356 0.39348644]\n",
      "  [0.42592553 0.57407447]\n",
      "  [0.43271933 0.56728067]\n",
      "  [0.80723143 0.19276857]\n",
      "  [0.80586105 0.19413895]\n",
      "  [0.55941222 0.44058778]\n",
      "  [0.77207219 0.22792781]\n",
      "  [0.52627918 0.47372082]\n",
      "  [0.78365274 0.21634726]\n",
      "  [0.2212342  0.7787658 ]\n",
      "  [0.51322244 0.48677756]\n",
      "  [0.89423025 0.10576975]\n",
      "  [0.54005058 0.45994942]\n",
      "  [0.51266353 0.48733647]\n",
      "  [0.5792225  0.4207775 ]\n",
      "  [0.78765474 0.21234526]\n",
      "  [0.79793427 0.20206573]\n",
      "  [0.2953961  0.7046039 ]\n",
      "  [0.48376194 0.51623806]\n",
      "  [0.07802561 0.92197439]\n",
      "  [0.39645692 0.60354308]\n",
      "  [0.47020516 0.52979484]\n",
      "  [0.68046595 0.31953405]\n",
      "  [0.5        0.5       ]\n",
      "  [0.76476117 0.23523883]\n",
      "  [0.87715452 0.12284548]\n",
      "  [0.79417572 0.20582428]\n",
      "  [0.81350973 0.18649027]\n",
      "  [0.07052702 0.92947298]\n",
      "  [0.16161539 0.83838461]\n",
      "  [0.48458709 0.51541291]\n",
      "  [0.90682776 0.09317224]\n",
      "  [0.74824971 0.25175029]\n",
      "  [0.47373864 0.52626136]\n",
      "  [0.15580723 0.84419277]\n",
      "  [0.34918782 0.65081218]\n",
      "  [0.71944849 0.28055151]\n",
      "  [0.79629277 0.20370723]\n",
      "  [0.28921025 0.71078975]\n",
      "  [0.71752318 0.28247682]\n",
      "  [0.80319127 0.19680873]\n",
      "  [0.73972249 0.26027751]\n",
      "  [0.44062929 0.55937071]\n",
      "  [0.61695123 0.38304877]\n",
      "  [0.83184009 0.16815991]\n",
      "  [0.78259068 0.21740932]\n",
      "  [0.55599154 0.44400846]\n",
      "  [0.605915   0.394085  ]\n",
      "  [0.84192743 0.15807257]\n",
      "  [0.84083101 0.15916899]\n",
      "  [0.81888421 0.18111579]\n",
      "  [0.6461444  0.3538556 ]\n",
      "  [0.6684895  0.3315105 ]\n",
      "  [0.73757874 0.26242126]\n",
      "  [0.76817294 0.23182706]\n",
      "  [0.81056593 0.18943407]\n",
      "  [0.73499961 0.26500039]\n",
      "  [0.16390874 0.83609126]\n",
      "  [0.67122629 0.32877371]\n",
      "  [0.12068541 0.87931459]\n",
      "  [0.9187704  0.0812296 ]\n",
      "  [0.18861637 0.81138363]\n",
      "  [0.55135549 0.44864451]\n",
      "  [0.82072792 0.17927208]\n",
      "  [0.32163944 0.67836056]\n",
      "  [0.82612437 0.17387563]\n",
      "  [0.41159562 0.58840438]\n",
      "  [0.8508609  0.1491391 ]\n",
      "  [0.91096298 0.08903702]\n",
      "  [0.04853592 0.95146408]\n",
      "  [0.87024957 0.12975043]\n",
      "  [0.80849017 0.19150983]\n",
      "  [0.55518705 0.44481295]\n",
      "  [0.32147977 0.67852023]\n",
      "  [0.60455608 0.39544392]\n",
      "  [0.29195411 0.70804589]\n",
      "  [0.74652909 0.25347091]\n",
      "  [0.7137563  0.2862437 ]\n",
      "  [0.40963105 0.59036895]\n",
      "  [0.72756005 0.27243995]\n",
      "  [0.74505582 0.25494418]\n",
      "  [0.08974563 0.91025437]\n",
      "  [0.87902984 0.12097016]\n",
      "  [0.69534228 0.30465772]\n",
      "  [0.48431042 0.51568958]\n",
      "  [0.81369975 0.18630025]\n",
      "  [0.90751906 0.09248094]\n",
      "  [0.77218347 0.22781653]\n",
      "  [0.42581144 0.57418856]\n",
      "  [0.19619003 0.80380997]\n",
      "  [0.31610378 0.68389622]\n",
      "  [0.94378865 0.05621135]\n",
      "  [0.89984451 0.10015549]\n",
      "  [0.19463539 0.80536461]\n",
      "  [0.77642765 0.22357235]\n",
      "  [0.88091638 0.11908362]\n",
      "  [0.73936804 0.26063196]\n",
      "  [0.81705667 0.18294333]\n",
      "  [0.78351117 0.21648883]\n",
      "  [0.15959695 0.84040305]\n",
      "  [0.80497761 0.19502239]\n",
      "  [0.85922232 0.14077768]\n",
      "  [0.85499038 0.14500962]\n",
      "  [0.54239372 0.45760628]\n",
      "  [0.42376114 0.57623886]\n",
      "  [0.52189408 0.47810592]\n",
      "  [0.67959254 0.32040746]\n",
      "  [0.4463368  0.5536632 ]\n",
      "  [0.74601996 0.25398004]\n",
      "  [0.58999657 0.41000343]\n",
      "  [0.74689063 0.25310937]\n",
      "  [0.79108944 0.20891056]\n",
      "  [0.8866341  0.1133659 ]\n",
      "  [0.71011584 0.28988416]\n",
      "  [0.88128295 0.11871705]\n",
      "  [0.59917676 0.40082324]\n",
      "  [0.88066559 0.11933441]\n",
      "  [0.81699809 0.18300191]\n",
      "  [0.93308988 0.06691012]\n",
      "  [0.4380186  0.5619814 ]\n",
      "  [0.58866544 0.41133456]\n",
      "  [0.11644925 0.88355075]\n",
      "  [0.74029307 0.25970693]\n",
      "  [0.66640952 0.33359048]\n",
      "  [0.13197798 0.86802202]\n",
      "  [0.39017855 0.60982145]\n",
      "  [0.27530247 0.72469753]\n",
      "  [0.12340032 0.87659968]\n",
      "  [0.54809307 0.45190693]\n",
      "  [0.69598823 0.30401177]\n",
      "  [0.77467339 0.22532661]\n",
      "  [0.88391217 0.11608783]\n",
      "  [0.76507452 0.23492548]\n",
      "  [0.20173409 0.79826591]\n",
      "  [0.66875364 0.33124636]\n",
      "  [0.62760668 0.37239332]\n",
      "  [0.75022454 0.24977546]\n",
      "  [0.78126944 0.21873056]\n",
      "  [0.42579572 0.57420428]\n",
      "  [0.85694422 0.14305578]\n",
      "  [0.39680879 0.60319121]\n",
      "  [0.75129118 0.24870882]\n",
      "  [0.25812136 0.74187864]\n",
      "  [0.83214043 0.16785957]\n",
      "  [0.39008722 0.60991278]\n",
      "  [0.7135822  0.2864178 ]\n",
      "  [0.69291288 0.30708712]\n",
      "  [0.7594708  0.2405292 ]\n",
      "  [0.65103443 0.34896557]\n",
      "  [0.54125662 0.45874338]\n",
      "  [0.87449355 0.12550645]\n",
      "  [0.72365748 0.27634252]\n",
      "  [0.07185243 0.92814757]\n",
      "  [0.53871893 0.46128107]\n",
      "  [0.23674775 0.76325225]\n",
      "  [0.52420336 0.47579664]\n",
      "  [0.73207967 0.26792033]\n",
      "  [0.17034359 0.82965641]\n",
      "  [0.33925514 0.66074486]\n",
      "  [0.28108115 0.71891885]\n",
      "  [0.09529299 0.90470701]\n",
      "  [0.82757735 0.17242265]\n",
      "  [0.64308195 0.35691805]\n",
      "  [0.66727468 0.33272532]\n",
      "  [0.43156562 0.56843438]\n",
      "  [0.43723238 0.56276762]\n",
      "  [0.85398863 0.14601137]\n",
      "  [0.79133708 0.20866292]\n",
      "  [0.82812273 0.17187727]\n",
      "  [0.90310354 0.09689646]\n",
      "  [0.82055506 0.17944494]\n",
      "  [0.41158477 0.58841523]\n",
      "  [0.65321513 0.34678487]\n",
      "  [0.83114197 0.16885803]\n",
      "  [0.84451075 0.15548925]\n",
      "  [0.77081272 0.22918728]\n",
      "  [0.67639504 0.32360496]\n",
      "  [0.44630956 0.55369044]\n",
      "  [0.5        0.5       ]\n",
      "  [0.49446078 0.50553922]\n",
      "  [0.63356621 0.36643379]\n",
      "  [0.10443507 0.89556493]\n",
      "  [0.66036721 0.33963279]\n",
      "  [0.27658782 0.72341218]\n",
      "  [0.60318146 0.39681854]\n",
      "  [0.80468035 0.19531965]\n",
      "  [0.88058026 0.11941974]\n",
      "  [0.70161822 0.29838178]\n",
      "  [0.18867121 0.81132879]\n",
      "  [0.47609995 0.52390005]\n",
      "  [0.86614199 0.13385801]\n",
      "  [0.26366118 0.73633882]\n",
      "  [0.2391722  0.7608278 ]\n",
      "  [0.87264519 0.12735481]\n",
      "  [0.25791431 0.74208569]\n",
      "  [0.48057908 0.51942092]\n",
      "  [0.11324509 0.88675491]\n",
      "  [0.85894987 0.14105013]\n",
      "  [0.44740058 0.55259942]\n",
      "  [0.83738844 0.16261156]\n",
      "  [0.80282474 0.19717526]\n",
      "  [0.91790675 0.08209325]\n",
      "  [0.5        0.5       ]\n",
      "  [0.64204214 0.35795786]\n",
      "  [0.73128997 0.26871003]\n",
      "  [0.72057856 0.27942144]\n",
      "  [0.33641199 0.66358801]\n",
      "  [0.56960064 0.43039936]\n",
      "  [0.82418993 0.17581007]\n",
      "  [0.81315597 0.18684403]\n",
      "  [0.12336297 0.87663703]\n",
      "  [0.68785746 0.31214254]\n",
      "  [0.92355017 0.07644983]\n",
      "  [0.85261008 0.14738992]\n",
      "  [0.58164826 0.41835174]\n",
      "  [0.73579036 0.26420964]\n",
      "  [0.38999287 0.61000713]\n",
      "  [0.1896654  0.8103346 ]\n",
      "  [0.65885149 0.34114851]\n",
      "  [0.36210636 0.63789364]\n",
      "  [0.7805418  0.2194582 ]]\n",
      "\n",
      " [[0.42887338 0.57112662]\n",
      "  [0.42887338 0.57112662]\n",
      "  [0.42887338 0.57112662]\n",
      "  [0.42887338 0.57112662]\n",
      "  [0.42887338 0.57112662]\n",
      "  [0.42887338 0.57112662]\n",
      "  [0.42887338 0.57112662]\n",
      "  [0.42887338 0.57112662]\n",
      "  [0.42887338 0.57112662]\n",
      "  [0.42887338 0.57112662]\n",
      "  [0.42887338 0.57112662]\n",
      "  [0.42887338 0.57112662]\n",
      "  [0.42887338 0.57112662]\n",
      "  [0.42887338 0.57112662]\n",
      "  [0.42887338 0.57112662]\n",
      "  [0.42887338 0.57112662]\n",
      "  [0.42887338 0.57112662]\n",
      "  [0.42887338 0.57112662]\n",
      "  [0.42887338 0.57112662]\n",
      "  [0.42887338 0.57112662]\n",
      "  [0.42887338 0.57112662]\n",
      "  [0.42887338 0.57112662]\n",
      "  [0.42887338 0.57112662]\n",
      "  [0.42887338 0.57112662]\n",
      "  [0.42887338 0.57112662]\n",
      "  [0.42887338 0.57112662]\n",
      "  [0.42887338 0.57112662]\n",
      "  [0.42887338 0.57112662]\n",
      "  [0.42887338 0.57112662]\n",
      "  [0.42887338 0.57112662]\n",
      "  [0.42887338 0.57112662]\n",
      "  [0.42887338 0.57112662]\n",
      "  [0.42887338 0.57112662]\n",
      "  [0.42887338 0.57112662]\n",
      "  [0.42887338 0.57112662]\n",
      "  [0.42887338 0.57112662]\n",
      "  [0.42887338 0.57112662]\n",
      "  [0.42887338 0.57112662]\n",
      "  [0.42887338 0.57112662]\n",
      "  [0.42887338 0.57112662]\n",
      "  [0.42887338 0.57112662]\n",
      "  [0.42887338 0.57112662]\n",
      "  [0.42887338 0.57112662]\n",
      "  [0.42887338 0.57112662]\n",
      "  [0.42887338 0.57112662]\n",
      "  [0.42887338 0.57112662]\n",
      "  [0.42887338 0.57112662]\n",
      "  [0.42887338 0.57112662]\n",
      "  [0.42887338 0.57112662]\n",
      "  [0.42887338 0.57112662]\n",
      "  [0.42887338 0.57112662]\n",
      "  [0.42887338 0.57112662]\n",
      "  [0.42887338 0.57112662]\n",
      "  [0.42887338 0.57112662]\n",
      "  [0.42887338 0.57112662]\n",
      "  [0.42887338 0.57112662]\n",
      "  [0.42887338 0.57112662]\n",
      "  [0.42887338 0.57112662]\n",
      "  [0.42887338 0.57112662]\n",
      "  [0.42887338 0.57112662]\n",
      "  [0.42887338 0.57112662]\n",
      "  [0.42887338 0.57112662]\n",
      "  [0.42887338 0.57112662]\n",
      "  [0.42887338 0.57112662]\n",
      "  [0.42887338 0.57112662]\n",
      "  [0.42887338 0.57112662]\n",
      "  [0.42887338 0.57112662]\n",
      "  [0.42887338 0.57112662]\n",
      "  [0.42887338 0.57112662]\n",
      "  [0.42887338 0.57112662]\n",
      "  [0.42887338 0.57112662]\n",
      "  [0.42887338 0.57112662]\n",
      "  [0.42887338 0.57112662]\n",
      "  [0.42887338 0.57112662]\n",
      "  [0.42887338 0.57112662]\n",
      "  [0.42887338 0.57112662]\n",
      "  [0.42887338 0.57112662]\n",
      "  [0.42887338 0.57112662]\n",
      "  [0.42887338 0.57112662]\n",
      "  [0.42887338 0.57112662]\n",
      "  [0.42887338 0.57112662]\n",
      "  [0.42887338 0.57112662]\n",
      "  [0.42887338 0.57112662]\n",
      "  [0.42887338 0.57112662]\n",
      "  [0.42887338 0.57112662]\n",
      "  [0.42887338 0.57112662]\n",
      "  [0.42887338 0.57112662]\n",
      "  [0.42887338 0.57112662]\n",
      "  [0.42887338 0.57112662]\n",
      "  [0.42887338 0.57112662]\n",
      "  [0.42887338 0.57112662]\n",
      "  [0.42887338 0.57112662]\n",
      "  [0.42887338 0.57112662]\n",
      "  [0.42887338 0.57112662]\n",
      "  [0.42887338 0.57112662]\n",
      "  [0.42887338 0.57112662]\n",
      "  [0.42887338 0.57112662]\n",
      "  [0.42887338 0.57112662]\n",
      "  [0.42887338 0.57112662]\n",
      "  [0.42887338 0.57112662]\n",
      "  [0.42887338 0.57112662]\n",
      "  [0.42887338 0.57112662]\n",
      "  [0.42887338 0.57112662]\n",
      "  [0.42887338 0.57112662]\n",
      "  [0.42887338 0.57112662]\n",
      "  [0.42887338 0.57112662]\n",
      "  [0.42887338 0.57112662]\n",
      "  [0.42887338 0.57112662]\n",
      "  [0.42887338 0.57112662]\n",
      "  [0.42887338 0.57112662]\n",
      "  [0.42887338 0.57112662]\n",
      "  [0.42887338 0.57112662]\n",
      "  [0.42887338 0.57112662]\n",
      "  [0.42887338 0.57112662]\n",
      "  [0.42887338 0.57112662]\n",
      "  [0.42887338 0.57112662]\n",
      "  [0.42887338 0.57112662]\n",
      "  [0.42887338 0.57112662]\n",
      "  [0.42887338 0.57112662]\n",
      "  [0.42887338 0.57112662]\n",
      "  [0.42887338 0.57112662]\n",
      "  [0.42887338 0.57112662]\n",
      "  [0.42887338 0.57112662]\n",
      "  [0.42887338 0.57112662]\n",
      "  [0.42887338 0.57112662]\n",
      "  [0.42887338 0.57112662]\n",
      "  [0.42887338 0.57112662]\n",
      "  [0.42887338 0.57112662]\n",
      "  [0.42887338 0.57112662]\n",
      "  [0.42887338 0.57112662]\n",
      "  [0.42887338 0.57112662]\n",
      "  [0.42887338 0.57112662]\n",
      "  [0.42887338 0.57112662]\n",
      "  [0.42887338 0.57112662]\n",
      "  [0.42887338 0.57112662]\n",
      "  [0.42887338 0.57112662]\n",
      "  [0.42887338 0.57112662]\n",
      "  [0.42887338 0.57112662]\n",
      "  [0.42887338 0.57112662]\n",
      "  [0.42887338 0.57112662]\n",
      "  [0.42887338 0.57112662]\n",
      "  [0.42887338 0.57112662]\n",
      "  [0.42887338 0.57112662]\n",
      "  [0.42887338 0.57112662]\n",
      "  [0.42887338 0.57112662]\n",
      "  [0.42887338 0.57112662]\n",
      "  [0.42887338 0.57112662]\n",
      "  [0.42887338 0.57112662]\n",
      "  [0.42887338 0.57112662]\n",
      "  [0.42887338 0.57112662]\n",
      "  [0.42887338 0.57112662]\n",
      "  [0.42887338 0.57112662]\n",
      "  [0.42887338 0.57112662]\n",
      "  [0.42887338 0.57112662]\n",
      "  [0.42887338 0.57112662]\n",
      "  [0.42887338 0.57112662]\n",
      "  [0.42887338 0.57112662]\n",
      "  [0.42887338 0.57112662]\n",
      "  [0.42887338 0.57112662]\n",
      "  [0.42887338 0.57112662]\n",
      "  [0.42887338 0.57112662]\n",
      "  [0.42887338 0.57112662]\n",
      "  [0.42887338 0.57112662]\n",
      "  [0.42887338 0.57112662]\n",
      "  [0.42887338 0.57112662]\n",
      "  [0.42887338 0.57112662]\n",
      "  [0.42887338 0.57112662]\n",
      "  [0.42887338 0.57112662]\n",
      "  [0.42887338 0.57112662]\n",
      "  [0.42887338 0.57112662]\n",
      "  [0.42887338 0.57112662]\n",
      "  [0.42887338 0.57112662]\n",
      "  [0.42887338 0.57112662]\n",
      "  [0.42887338 0.57112662]\n",
      "  [0.42887338 0.57112662]\n",
      "  [0.42887338 0.57112662]\n",
      "  [0.42887338 0.57112662]\n",
      "  [0.42887338 0.57112662]\n",
      "  [0.42887338 0.57112662]\n",
      "  [0.42887338 0.57112662]\n",
      "  [0.42887338 0.57112662]\n",
      "  [0.42887338 0.57112662]\n",
      "  [0.42887338 0.57112662]\n",
      "  [0.42887338 0.57112662]\n",
      "  [0.42887338 0.57112662]\n",
      "  [0.42887338 0.57112662]\n",
      "  [0.42887338 0.57112662]\n",
      "  [0.42887338 0.57112662]\n",
      "  [0.42887338 0.57112662]\n",
      "  [0.42887338 0.57112662]\n",
      "  [0.42887338 0.57112662]\n",
      "  [0.42887338 0.57112662]\n",
      "  [0.42887338 0.57112662]\n",
      "  [0.42887338 0.57112662]\n",
      "  [0.42887338 0.57112662]\n",
      "  [0.42887338 0.57112662]\n",
      "  [0.42887338 0.57112662]\n",
      "  [0.42887338 0.57112662]\n",
      "  [0.42887338 0.57112662]\n",
      "  [0.42887338 0.57112662]\n",
      "  [0.42887338 0.57112662]\n",
      "  [0.42887338 0.57112662]\n",
      "  [0.42887338 0.57112662]\n",
      "  [0.42887338 0.57112662]\n",
      "  [0.42887338 0.57112662]\n",
      "  [0.42887338 0.57112662]\n",
      "  [0.42887338 0.57112662]\n",
      "  [0.42887338 0.57112662]\n",
      "  [0.42887338 0.57112662]\n",
      "  [0.42887338 0.57112662]\n",
      "  [0.42887338 0.57112662]\n",
      "  [0.42887338 0.57112662]\n",
      "  [0.42887338 0.57112662]\n",
      "  [0.42887338 0.57112662]\n",
      "  [0.42887338 0.57112662]\n",
      "  [0.42887338 0.57112662]\n",
      "  [0.42887338 0.57112662]\n",
      "  [0.42887338 0.57112662]\n",
      "  [0.42887338 0.57112662]\n",
      "  [0.42887338 0.57112662]\n",
      "  [0.42887338 0.57112662]\n",
      "  [0.42887338 0.57112662]\n",
      "  [0.42887338 0.57112662]\n",
      "  [0.42887338 0.57112662]\n",
      "  [0.42887338 0.57112662]\n",
      "  [0.42887338 0.57112662]\n",
      "  [0.42887338 0.57112662]\n",
      "  [0.42887338 0.57112662]\n",
      "  [0.42887338 0.57112662]\n",
      "  [0.42887338 0.57112662]\n",
      "  [0.42887338 0.57112662]\n",
      "  [0.42887338 0.57112662]\n",
      "  [0.42887338 0.57112662]\n",
      "  [0.42887338 0.57112662]\n",
      "  [0.42887338 0.57112662]\n",
      "  [0.42887338 0.57112662]\n",
      "  [0.42887338 0.57112662]\n",
      "  [0.42887338 0.57112662]\n",
      "  [0.42887338 0.57112662]\n",
      "  [0.42887338 0.57112662]\n",
      "  [0.42887338 0.57112662]\n",
      "  [0.42887338 0.57112662]\n",
      "  [0.42887338 0.57112662]\n",
      "  [0.42887338 0.57112662]\n",
      "  [0.42887338 0.57112662]\n",
      "  [0.42887338 0.57112662]\n",
      "  [0.42887338 0.57112662]\n",
      "  [0.42887338 0.57112662]]]\n"
     ]
    }
   ],
   "source": [
    "print(y_pred_1_prob[np.where(y_val != 1),:])\n"
   ]
  },
  {
   "cell_type": "code",
   "execution_count": null,
   "metadata": {
    "cell_id": "00041-98395565-3d9b-4aef-8387-ddf3aed630e3",
    "tags": []
   },
   "outputs": [],
   "source": []
  }
 ],
 "metadata": {
  "deepnote_execution_queue": [],
  "deepnote_notebook_id": "e3a1881b-9cd1-4161-948a-14b2ab346bb3",
  "environment": {
   "name": "common-cpu.m58",
   "type": "gcloud",
   "uri": "gcr.io/deeplearning-platform-release/base-cpu:m58"
  },
  "kernelspec": {
   "display_name": "Python 3",
   "language": "python",
   "name": "python3"
  },
  "language_info": {
   "codemirror_mode": {
    "name": "ipython",
    "version": 3
   },
   "file_extension": ".py",
   "mimetype": "text/x-python",
   "name": "python",
   "nbconvert_exporter": "python",
   "pygments_lexer": "ipython3",
   "version": "3.7.8"
  }
 },
 "nbformat": 4,
 "nbformat_minor": 4
}
