{
 "cells": [
  {
   "cell_type": "code",
   "execution_count": null,
   "metadata": {},
   "outputs": [],
   "source": [
    "def most_common_classes(self, lst):\n",
    "    # Given: array of arrays of predictions for each estimators\n",
    "    lst = np.transpose(np.array(lst)) # we want array of arrays of predictions for each instance in X\n",
    "    data = [Counter(sub_lst) for sub_lst in lst]\n",
    "    # Get the most common class predictions (could be multiple)\n",
    "    mc_dup = [ [(x[0],x[1]) for x in sub_data.most_common() if sub_data.most_common()[0][1] == x[1]] for sub_data in data]\n",
    "    # If multiple most common class\n",
    "    # If one of the classes is class 2, predict 2 (BIAS)(AS we misclassify a lot of class 2)\n",
    "    predictions, choose random (if len(x)=1 then we chose randint(0,0)=0)\n",
    "    mc = [x[] if  else x[randint(0,len(x)-1)][0] for x in mc_dup]\n",
    "    return mc"
   ]
  }
 ],
 "metadata": {
  "environment": {
   "name": "common-cpu.m58",
   "type": "gcloud",
   "uri": "gcr.io/deeplearning-platform-release/base-cpu:m58"
  },
  "kernelspec": {
   "display_name": "Python 3",
   "language": "python",
   "name": "python3"
  },
  "language_info": {
   "codemirror_mode": {
    "name": "ipython",
    "version": 3
   },
   "file_extension": ".py",
   "mimetype": "text/x-python",
   "name": "python",
   "nbconvert_exporter": "python",
   "pygments_lexer": "ipython3",
   "version": "3.7.8"
  }
 },
 "nbformat": 4,
 "nbformat_minor": 4
}
