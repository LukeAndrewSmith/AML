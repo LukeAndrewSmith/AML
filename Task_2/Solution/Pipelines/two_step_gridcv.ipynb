{
 "cells": [
  {
   "cell_type": "code",
   "execution_count": 38,
   "metadata": {
    "cell_id": "00000-c4f5b5c1-f0cd-4ac4-bacb-20d070a79e6c",
    "tags": []
   },
   "outputs": [
    {
     "name": "stdout",
     "output_type": "stream",
     "text": [
      "Requirement already satisfied: imblearn in /opt/conda/lib/python3.7/site-packages (0.0)\n",
      "Requirement already satisfied: xgboost in /opt/conda/lib/python3.7/site-packages (1.2.1)\n",
      "Requirement already satisfied: imbalanced-learn in /opt/conda/lib/python3.7/site-packages (from imblearn) (0.7.0)\n",
      "Requirement already satisfied: scipy in /opt/conda/lib/python3.7/site-packages (from xgboost) (1.5.2)\n",
      "Requirement already satisfied: numpy in /opt/conda/lib/python3.7/site-packages (from xgboost) (1.18.5)\n",
      "Requirement already satisfied: scikit-learn>=0.23 in /opt/conda/lib/python3.7/site-packages (from imbalanced-learn->imblearn) (0.23.2)\n",
      "Requirement already satisfied: joblib>=0.11 in /opt/conda/lib/python3.7/site-packages (from imbalanced-learn->imblearn) (0.17.0)\n",
      "Requirement already satisfied: threadpoolctl>=2.0.0 in /opt/conda/lib/python3.7/site-packages (from scikit-learn>=0.23->imbalanced-learn->imblearn) (2.1.0)\n"
     ]
    }
   ],
   "source": [
    "!pip install imblearn xgboost\n"
   ]
  },
  {
   "cell_type": "code",
   "execution_count": 39,
   "metadata": {
    "cell_id": "00001-42f43118-d10c-40f7-af68-ae39c8fac6ed",
    "execution_millis": 2,
    "execution_start": 1603733867844,
    "output_cleared": false,
    "source_hash": "d0eb3803",
    "tags": []
   },
   "outputs": [
    {
     "data": {
      "text/plain": [
       "<module 'Components.two_step_utils' from '../Components/two_step_utils.py'>"
      ]
     },
     "execution_count": 39,
     "metadata": {},
     "output_type": "execute_result"
    }
   ],
   "source": [
    "# General\n",
    "import matplotlib.pyplot as plt\n",
    "import pandas as pd\n",
    "import numpy as np\n",
    "\n",
    "# ML\n",
    "\n",
    "from sklearn.metrics import balanced_accuracy_score\n",
    "from sklearn.model_selection import cross_validate\n",
    "from sklearn.model_selection import train_test_split\n",
    "from sklearn.model_selection import cross_val_score\n",
    "from sklearn.model_selection import GridSearchCV\n",
    "from sklearn.linear_model import LogisticRegression\n",
    "from sklearn.multiclass import OneVsRestClassifier\n",
    "from sklearn.svm import SVC\n",
    "from sklearn.metrics import classification_report\n",
    "from sklearn.metrics import confusion_matrix\n",
    "from sklearn.decomposition import PCA\n",
    "from imblearn.under_sampling import RandomUnderSampler\n",
    "from sklearn.preprocessing import StandardScaler\n",
    "from imblearn.combine import SMOTEENN\n",
    "from sklearn.pipeline import Pipeline\n",
    "from sklearn.ensemble import RandomForestClassifier\n",
    "import xgboost as xgb\n",
    "\n",
    "\n",
    "\n",
    "# Custom\n",
    "import sys,os\n",
    "sys.path.append( '.' )\n",
    "sys.path.append( '..' )\n",
    "import Components.Outlier_Detection as Outlier_Detection\n",
    "import Components.Feature_Selection as Feature_Selection\n",
    "import Components.Normalisation as Normalisation\n",
    "import Components.data_fetching as data_fetching\n",
    "import Components.Data_Augmentation as Data_Augmentation\n",
    "import Components.wrapper as wrapper\n",
    "import Components.two_step_utils as two_step_utils\n",
    "\n",
    "\n",
    "\n",
    "\n",
    "# CAREFUL:\n",
    "# If you make changes to a custom module, you have to reload it, i.e rerun this cell\n",
    "import importlib\n",
    "importlib.reload(Data_Augmentation)\n",
    "importlib.reload(Outlier_Detection)\n",
    "importlib.reload(Feature_Selection)\n",
    "importlib.reload(Normalisation)\n",
    "importlib.reload(data_fetching)\n",
    "importlib.reload(wrapper)\n",
    "importlib.reload(two_step_utils)"
   ]
  },
  {
   "cell_type": "markdown",
   "metadata": {
    "cell_id": "00002-35f630ef-d233-4a17-a6f8-8f6ccf3c8b09",
    "tags": []
   },
   "source": [
    "### Data Imports"
   ]
  },
  {
   "cell_type": "code",
   "execution_count": 40,
   "metadata": {
    "cell_id": "00002-ffbfe769-2bae-4cc0-ae89-01982b9f7d29",
    "execution_millis": 2222,
    "execution_start": 1603733789428,
    "output_cleared": false,
    "source_hash": "9fab25bf",
    "tags": []
   },
   "outputs": [],
   "source": [
    "X, y = data_fetching.get_train_data()\n",
    "x_test = data_fetching.get_test_data()\n",
    "\n"
   ]
  },
  {
   "cell_type": "markdown",
   "metadata": {
    "cell_id": "00004-f81e54ae-9c68-4643-97ee-4f17321d7d2d",
    "tags": []
   },
   "source": [
    "### Normalisation"
   ]
  },
  {
   "cell_type": "code",
   "execution_count": 41,
   "metadata": {
    "cell_id": "00004-c578b587-b3d8-4f11-9f1b-f4455623ecea",
    "execution_millis": 4985,
    "execution_start": 1603733792498,
    "output_cleared": false,
    "source_hash": "4760f2db",
    "tags": []
   },
   "outputs": [],
   "source": [
    "X = Normalisation.gaussian(X)\n",
    "x_test = Normalisation.gaussian(x_test)"
   ]
  },
  {
   "cell_type": "markdown",
   "metadata": {
    "cell_id": "00006-7c764c0c-d34f-4bf8-8144-fb0f6be84bbd",
    "tags": []
   },
   "source": [
    "# TASK 1"
   ]
  },
  {
   "cell_type": "code",
   "execution_count": 24,
   "metadata": {
    "cell_id": "00006-10b1fa49-0202-486e-88c6-38442c0ad245",
    "execution_millis": 45,
    "execution_start": 1603733797492,
    "output_cleared": false,
    "source_hash": "a13a61b1",
    "tags": []
   },
   "outputs": [],
   "source": [
    "# get X_1 y_1 etc:\n",
    "X_1, y_1, X_2, y_2 = two_step_utils.transform(X,y)"
   ]
  },
  {
   "cell_type": "markdown",
   "metadata": {
    "cell_id": "00008-e20d40f0-af8e-490b-8d1c-635042f62a23",
    "tags": []
   },
   "source": [
    "### Pipeline setup"
   ]
  },
  {
   "cell_type": "code",
   "execution_count": 25,
   "metadata": {
    "cell_id": "00008-c8981123-d233-4b92-8c32-6ac3fb8daf0a",
    "execution_millis": 6,
    "execution_start": 1603733797543,
    "output_cleared": false,
    "source_hash": "252be003",
    "tags": []
   },
   "outputs": [],
   "source": [
    "# we need: -scaling transformer -weighted loss function -multi-class model \n",
    "pipe = Pipeline([\n",
    "                 ('classification',\n",
    "                  SVC(C=1.0,kernel='rbf',gamma='scale',shrinking=True,cache_size=1000,class_weight='balanced'))\n",
    "                ])\n",
    "pipe_2 = Pipeline([('classification',\n",
    "                   RandomForestClassifier())])"
   ]
  },
  {
   "cell_type": "code",
   "execution_count": 34,
   "metadata": {
    "cell_id": "00010-9efcb7f0-7cef-4ed7-af9a-32cfa9cd6296",
    "execution_millis": 1,
    "execution_start": 1603733877942,
    "output_cleared": false,
    "source_hash": "f2f0e54c",
    "tags": []
   },
   "outputs": [],
   "source": [
    "gamma_range = np.logspace(-5, -3, 3)\n",
    "parameters = [{'classification__kernel': ['rbf'], 'classification__gamma': gamma_range,'classification__C': [0.1,0.5,1.0,5.0]},\n",
    "              {'classification__kernel': ['linear'], 'classification__C': np.logspace(-5,-3,3)}]\n",
    "\n",
    "param_grid = {\n",
    "    'classification__bootstrap': [True,False],\n",
    "    'classification__max_depth': [80, 100, 120],\n",
    "    'classification__max_features': [2, 3],\n",
    "    'classification__min_samples_leaf': [3, 4, 5],\n",
    "    'classification__min_samples_split': [8, 10, 12],\n",
    "    'classification__n_estimators': [100, 500, 1000, 1500]\n",
    "}\n",
    "\n",
    "\n",
    "clf = GridSearchCV(pipe_2, param_grid,cv=10,n_jobs=-1,scoring='balanced_accuracy', verbose=10)\n",
    "\n",
    "\n"
   ]
  },
  {
   "cell_type": "code",
   "execution_count": 35,
   "metadata": {
    "cell_id": "00011-a7000948-1c55-4502-a813-9cc704536a4e",
    "execution_millis": 5705,
    "execution_start": 1603733911737,
    "output_cleared": false,
    "source_hash": "ced43add",
    "tags": []
   },
   "outputs": [
    {
     "name": "stdout",
     "output_type": "stream",
     "text": [
      "Fitting 10 folds for each of 432 candidates, totalling 4320 fits\n"
     ]
    },
    {
     "name": "stderr",
     "output_type": "stream",
     "text": [
      "[Parallel(n_jobs=-1)]: Using backend LokyBackend with 16 concurrent workers.\n",
      "[Parallel(n_jobs=-1)]: Done   9 tasks      | elapsed:    2.9s\n",
      "[Parallel(n_jobs=-1)]: Done  18 tasks      | elapsed:    8.8s\n",
      "[Parallel(n_jobs=-1)]: Done  29 tasks      | elapsed:   17.5s\n",
      "[Parallel(n_jobs=-1)]: Done  40 tasks      | elapsed:   20.9s\n",
      "[Parallel(n_jobs=-1)]: Done  53 tasks      | elapsed:   31.7s\n",
      "[Parallel(n_jobs=-1)]: Done  66 tasks      | elapsed:   38.8s\n",
      "[Parallel(n_jobs=-1)]: Done  81 tasks      | elapsed:   48.2s\n",
      "[Parallel(n_jobs=-1)]: Done  96 tasks      | elapsed:   56.3s\n",
      "[Parallel(n_jobs=-1)]: Done 113 tasks      | elapsed:  1.1min\n",
      "[Parallel(n_jobs=-1)]: Done 130 tasks      | elapsed:  1.3min\n",
      "[Parallel(n_jobs=-1)]: Done 149 tasks      | elapsed:  1.5min\n",
      "[Parallel(n_jobs=-1)]: Done 168 tasks      | elapsed:  1.6min\n",
      "[Parallel(n_jobs=-1)]: Done 189 tasks      | elapsed:  1.9min\n",
      "[Parallel(n_jobs=-1)]: Done 210 tasks      | elapsed:  2.1min\n",
      "[Parallel(n_jobs=-1)]: Done 233 tasks      | elapsed:  2.3min\n",
      "[Parallel(n_jobs=-1)]: Done 256 tasks      | elapsed:  2.5min\n",
      "[Parallel(n_jobs=-1)]: Done 281 tasks      | elapsed:  2.8min\n",
      "[Parallel(n_jobs=-1)]: Done 306 tasks      | elapsed:  3.0min\n",
      "[Parallel(n_jobs=-1)]: Done 333 tasks      | elapsed:  3.3min\n",
      "[Parallel(n_jobs=-1)]: Done 360 tasks      | elapsed:  3.5min\n",
      "[Parallel(n_jobs=-1)]: Done 389 tasks      | elapsed:  3.9min\n",
      "[Parallel(n_jobs=-1)]: Done 418 tasks      | elapsed:  4.3min\n",
      "[Parallel(n_jobs=-1)]: Done 449 tasks      | elapsed:  4.7min\n",
      "[Parallel(n_jobs=-1)]: Done 480 tasks      | elapsed:  5.1min\n",
      "[Parallel(n_jobs=-1)]: Done 513 tasks      | elapsed:  5.6min\n",
      "[Parallel(n_jobs=-1)]: Done 546 tasks      | elapsed:  6.1min\n",
      "[Parallel(n_jobs=-1)]: Done 581 tasks      | elapsed:  6.5min\n",
      "[Parallel(n_jobs=-1)]: Done 616 tasks      | elapsed:  6.9min\n",
      "[Parallel(n_jobs=-1)]: Done 653 tasks      | elapsed:  7.5min\n",
      "[Parallel(n_jobs=-1)]: Done 690 tasks      | elapsed:  7.9min\n",
      "[Parallel(n_jobs=-1)]: Done 729 tasks      | elapsed:  8.4min\n",
      "[Parallel(n_jobs=-1)]: Done 768 tasks      | elapsed:  8.8min\n",
      "[Parallel(n_jobs=-1)]: Done 809 tasks      | elapsed:  9.2min\n",
      "[Parallel(n_jobs=-1)]: Done 850 tasks      | elapsed:  9.6min\n",
      "[Parallel(n_jobs=-1)]: Done 893 tasks      | elapsed: 10.1min\n",
      "[Parallel(n_jobs=-1)]: Done 936 tasks      | elapsed: 10.5min\n",
      "[Parallel(n_jobs=-1)]: Done 981 tasks      | elapsed: 11.0min\n",
      "[Parallel(n_jobs=-1)]: Done 1026 tasks      | elapsed: 11.4min\n",
      "[Parallel(n_jobs=-1)]: Done 1073 tasks      | elapsed: 11.9min\n",
      "[Parallel(n_jobs=-1)]: Done 1120 tasks      | elapsed: 12.4min\n",
      "[Parallel(n_jobs=-1)]: Done 1169 tasks      | elapsed: 13.2min\n",
      "[Parallel(n_jobs=-1)]: Done 1218 tasks      | elapsed: 13.8min\n",
      "[Parallel(n_jobs=-1)]: Done 1269 tasks      | elapsed: 14.5min\n",
      "[Parallel(n_jobs=-1)]: Done 1320 tasks      | elapsed: 15.1min\n",
      "[Parallel(n_jobs=-1)]: Done 1373 tasks      | elapsed: 15.9min\n",
      "[Parallel(n_jobs=-1)]: Done 1426 tasks      | elapsed: 16.6min\n",
      "[Parallel(n_jobs=-1)]: Done 1481 tasks      | elapsed: 17.2min\n",
      "[Parallel(n_jobs=-1)]: Done 1536 tasks      | elapsed: 17.7min\n",
      "[Parallel(n_jobs=-1)]: Done 1593 tasks      | elapsed: 18.3min\n",
      "[Parallel(n_jobs=-1)]: Done 1650 tasks      | elapsed: 18.9min\n",
      "[Parallel(n_jobs=-1)]: Done 1709 tasks      | elapsed: 19.5min\n",
      "[Parallel(n_jobs=-1)]: Done 1768 tasks      | elapsed: 20.0min\n",
      "[Parallel(n_jobs=-1)]: Done 1829 tasks      | elapsed: 20.8min\n",
      "[Parallel(n_jobs=-1)]: Done 1890 tasks      | elapsed: 21.6min\n",
      "[Parallel(n_jobs=-1)]: Done 1953 tasks      | elapsed: 22.4min\n",
      "[Parallel(n_jobs=-1)]: Done 2016 tasks      | elapsed: 23.3min\n",
      "[Parallel(n_jobs=-1)]: Done 2081 tasks      | elapsed: 24.2min\n",
      "[Parallel(n_jobs=-1)]: Done 2146 tasks      | elapsed: 25.0min\n",
      "[Parallel(n_jobs=-1)]: Done 2213 tasks      | elapsed: 25.9min\n",
      "[Parallel(n_jobs=-1)]: Done 2280 tasks      | elapsed: 26.8min\n",
      "[Parallel(n_jobs=-1)]: Done 2349 tasks      | elapsed: 27.8min\n",
      "[Parallel(n_jobs=-1)]: Done 2418 tasks      | elapsed: 28.7min\n",
      "[Parallel(n_jobs=-1)]: Done 2489 tasks      | elapsed: 29.7min\n",
      "[Parallel(n_jobs=-1)]: Done 2560 tasks      | elapsed: 30.8min\n",
      "[Parallel(n_jobs=-1)]: Done 2633 tasks      | elapsed: 32.4min\n",
      "[Parallel(n_jobs=-1)]: Done 2706 tasks      | elapsed: 33.9min\n",
      "[Parallel(n_jobs=-1)]: Done 2781 tasks      | elapsed: 35.5min\n",
      "[Parallel(n_jobs=-1)]: Done 2856 tasks      | elapsed: 36.9min\n",
      "[Parallel(n_jobs=-1)]: Done 2933 tasks      | elapsed: 38.2min\n",
      "[Parallel(n_jobs=-1)]: Done 3010 tasks      | elapsed: 39.3min\n",
      "[Parallel(n_jobs=-1)]: Done 3089 tasks      | elapsed: 40.4min\n",
      "[Parallel(n_jobs=-1)]: Done 3168 tasks      | elapsed: 41.6min\n",
      "[Parallel(n_jobs=-1)]: Done 3249 tasks      | elapsed: 42.8min\n",
      "[Parallel(n_jobs=-1)]: Done 3330 tasks      | elapsed: 44.4min\n",
      "[Parallel(n_jobs=-1)]: Done 3413 tasks      | elapsed: 46.2min\n",
      "[Parallel(n_jobs=-1)]: Done 3496 tasks      | elapsed: 47.8min\n",
      "[Parallel(n_jobs=-1)]: Done 3581 tasks      | elapsed: 49.5min\n",
      "[Parallel(n_jobs=-1)]: Done 3666 tasks      | elapsed: 50.8min\n",
      "[Parallel(n_jobs=-1)]: Done 3753 tasks      | elapsed: 52.0min\n",
      "[Parallel(n_jobs=-1)]: Done 3840 tasks      | elapsed: 53.2min\n",
      "[Parallel(n_jobs=-1)]: Done 3929 tasks      | elapsed: 54.4min\n",
      "[Parallel(n_jobs=-1)]: Done 4018 tasks      | elapsed: 56.0min\n",
      "[Parallel(n_jobs=-1)]: Done 4109 tasks      | elapsed: 57.7min\n",
      "[Parallel(n_jobs=-1)]: Done 4200 tasks      | elapsed: 59.3min\n",
      "[Parallel(n_jobs=-1)]: Done 4320 out of 4320 | elapsed: 61.9min finished\n",
      "/opt/conda/lib/python3.7/site-packages/sklearn/pipeline.py:335: DataConversionWarning: A column-vector y was passed when a 1d array was expected. Please change the shape of y to (n_samples,), for example using ravel().\n",
      "  self._final_estimator.fit(Xt, y, **fit_params_last_step)\n"
     ]
    },
    {
     "data": {
      "text/plain": [
       "GridSearchCV(cv=10,\n",
       "             estimator=Pipeline(steps=[('classification',\n",
       "                                        RandomForestClassifier())]),\n",
       "             n_jobs=-1,\n",
       "             param_grid={'classification__bootstrap': [True, False],\n",
       "                         'classification__max_depth': [80, 100, 120],\n",
       "                         'classification__max_features': [2, 3],\n",
       "                         'classification__min_samples_leaf': [3, 4, 5],\n",
       "                         'classification__min_samples_split': [8, 10, 12],\n",
       "                         'classification__n_estimators': [100, 500, 1000,\n",
       "                                                          1500]},\n",
       "             scoring='balanced_accuracy', verbose=10)"
      ]
     },
     "execution_count": 35,
     "metadata": {},
     "output_type": "execute_result"
    }
   ],
   "source": [
    "clf.fit(X_1, y_1)"
   ]
  },
  {
   "cell_type": "code",
   "execution_count": 36,
   "metadata": {
    "cell_id": "00012-7e70e3b8-267f-4918-a579-ecef80413750",
    "tags": []
   },
   "outputs": [
    {
     "name": "stdout",
     "output_type": "stream",
     "text": [
      "{'classification__bootstrap': False, 'classification__max_depth': 120, 'classification__max_features': 3, 'classification__min_samples_leaf': 4, 'classification__min_samples_split': 8, 'classification__n_estimators': 100}\n",
      "0.7308333333333333\n"
     ]
    }
   ],
   "source": [
    "print(clf.best_params_)\n",
    "print(clf.best_score_)"
   ]
  },
  {
   "cell_type": "markdown",
   "metadata": {
    "cell_id": "00013-6f06f097-7a0d-4098-af55-d6260843ac29",
    "tags": []
   },
   "source": [
    "# TASK 2"
   ]
  },
  {
   "cell_type": "code",
   "execution_count": 43,
   "metadata": {},
   "outputs": [],
   "source": [
    "pipe_xgb = Pipeline([\n",
    "                 ('classification',\n",
    "                  xgb.XGBClassifier(\n",
    "                      learning_rate=0.01,  \n",
    "                      colsample_bytree = 1, \n",
    "                      n_estimators=1000, \n",
    "                      max_depth=3, \n",
    "                      gamma=1))\n",
    "                ])"
   ]
  },
  {
   "cell_type": "code",
   "execution_count": 44,
   "metadata": {},
   "outputs": [],
   "source": [
    "xgb_grid = {\n",
    "    'classification__max_depth': [3,4,5,6,7]\n",
    "    \n",
    "}"
   ]
  },
  {
   "cell_type": "code",
   "execution_count": 45,
   "metadata": {},
   "outputs": [],
   "source": [
    "clf = GridSearchCV(pipe_xgb, xgb_grid,cv=10,n_jobs=-1,scoring='balanced_accuracy', verbose=10)"
   ]
  },
  {
   "cell_type": "code",
   "execution_count": 46,
   "metadata": {
    "cell_id": "00014-0f21050b-901e-42de-9ffc-969c0fa321e4",
    "tags": []
   },
   "outputs": [
    {
     "name": "stdout",
     "output_type": "stream",
     "text": [
      "Fitting 10 folds for each of 5 candidates, totalling 50 fits\n"
     ]
    },
    {
     "name": "stderr",
     "output_type": "stream",
     "text": [
      "[Parallel(n_jobs=-1)]: Using backend LokyBackend with 16 concurrent workers.\n",
      "[Parallel(n_jobs=-1)]: Done   9 tasks      | elapsed:  2.4min\n",
      "[Parallel(n_jobs=-1)]: Done  18 tasks      | elapsed:  5.4min\n",
      "[Parallel(n_jobs=-1)]: Done  25 out of  50 | elapsed:  6.2min remaining:  6.2min\n",
      "[Parallel(n_jobs=-1)]: Done  31 out of  50 | elapsed:  7.5min remaining:  4.6min\n",
      "[Parallel(n_jobs=-1)]: Done  37 out of  50 | elapsed: 10.3min remaining:  3.6min\n",
      "[Parallel(n_jobs=-1)]: Done  43 out of  50 | elapsed: 11.3min remaining:  1.8min\n",
      "[Parallel(n_jobs=-1)]: Done  50 out of  50 | elapsed: 13.1min finished\n",
      "/opt/conda/lib/python3.7/site-packages/sklearn/utils/validation.py:72: DataConversionWarning: A column-vector y was passed when a 1d array was expected. Please change the shape of y to (n_samples, ), for example using ravel().\n",
      "  return f(**kwargs)\n"
     ]
    },
    {
     "data": {
      "text/plain": [
       "GridSearchCV(cv=10,\n",
       "             estimator=Pipeline(steps=[('classification',\n",
       "                                        XGBClassifier(base_score=None,\n",
       "                                                      booster=None,\n",
       "                                                      colsample_bylevel=None,\n",
       "                                                      colsample_bynode=None,\n",
       "                                                      colsample_bytree=1,\n",
       "                                                      gamma=1, gpu_id=None,\n",
       "                                                      importance_type='gain',\n",
       "                                                      interaction_constraints=None,\n",
       "                                                      learning_rate=0.01,\n",
       "                                                      max_delta_step=None,\n",
       "                                                      max_depth=3,\n",
       "                                                      min_child_weight=None,\n",
       "                                                      missing=nan,\n",
       "                                                      monotone_constraints=None,\n",
       "                                                      n_estimators=1000,\n",
       "                                                      n_jobs=None,\n",
       "                                                      num_parallel_tree=None,\n",
       "                                                      random_state=None,\n",
       "                                                      reg_alpha=None,\n",
       "                                                      reg_lambda=None,\n",
       "                                                      scale_pos_weight=None,\n",
       "                                                      subsample=None,\n",
       "                                                      tree_method=None,\n",
       "                                                      validate_parameters=None,\n",
       "                                                      verbosity=None))]),\n",
       "             n_jobs=-1,\n",
       "             param_grid={'classification__max_depth': [3, 4, 5, 6, 7]},\n",
       "             scoring='balanced_accuracy', verbose=10)"
      ]
     },
     "execution_count": 46,
     "metadata": {},
     "output_type": "execute_result"
    }
   ],
   "source": [
    "clf.fit(X_2, y_2)"
   ]
  },
  {
   "cell_type": "code",
   "execution_count": 47,
   "metadata": {
    "cell_id": "00015-2eee9c48-ec3a-4cad-ba1c-a5279092ca49",
    "tags": []
   },
   "outputs": [
    {
     "name": "stdout",
     "output_type": "stream",
     "text": [
      "{'classification__max_depth': 5}\n",
      "0.7266666666666667\n"
     ]
    }
   ],
   "source": [
    "print(clf.best_params_)\n",
    "print(clf.best_score_)"
   ]
  },
  {
   "cell_type": "markdown",
   "metadata": {
    "cell_id": "00014-92aa4043-72d8-4fef-8c07-1a8885723ca5",
    "tags": []
   },
   "source": []
  }
 ],
 "metadata": {
  "deepnote_execution_queue": [],
  "deepnote_notebook_id": "e293d44e-0691-424a-90d9-f734236a6d70",
  "environment": {
   "name": "common-cpu.m58",
   "type": "gcloud",
   "uri": "gcr.io/deeplearning-platform-release/base-cpu:m58"
  },
  "kernelspec": {
   "display_name": "Python 3",
   "language": "python",
   "name": "python3"
  },
  "language_info": {
   "codemirror_mode": {
    "name": "ipython",
    "version": 3
   },
   "file_extension": ".py",
   "mimetype": "text/x-python",
   "name": "python",
   "nbconvert_exporter": "python",
   "pygments_lexer": "ipython3",
   "version": "3.7.8"
  }
 },
 "nbformat": 4,
 "nbformat_minor": 4
}
