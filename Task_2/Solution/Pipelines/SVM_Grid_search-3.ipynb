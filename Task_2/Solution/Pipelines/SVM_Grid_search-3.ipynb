{
 "cells": [
  {
   "cell_type": "markdown",
   "metadata": {
    "cell_id": "00000-4cd953ab-18a5-477f-8800-2d55ec05c856",
    "tags": []
   },
   "source": [
    "## Imports"
   ]
  },
  {
   "cell_type": "code",
   "execution_count": 18,
   "metadata": {
    "cell_id": "00000-7ea50b35-5606-4b6a-94a1-f7508dec87e5",
    "execution_millis": 70,
    "execution_start": 1603526125876,
    "output_cleared": false,
    "source_hash": "fd4019a5",
    "tags": []
   },
   "outputs": [
    {
     "data": {
      "text/plain": [
       "<module 'Components.wrapper' from '../Components/wrapper.py'>"
      ]
     },
     "execution_count": 18,
     "metadata": {},
     "output_type": "execute_result"
    }
   ],
   "source": [
    "# General\n",
    "import matplotlib.pyplot as plt\n",
    "import pandas as pd\n",
    "import numpy as np\n",
    "\n",
    "# ML\n",
    "from sklearn.metrics import balanced_accuracy_score\n",
    "from sklearn.model_selection import cross_validate\n",
    "from sklearn.model_selection import train_test_split\n",
    "from sklearn.model_selection import cross_val_score, GridSearchCV\n",
    "from sklearn.linear_model import LogisticRegression\n",
    "from sklearn.pipeline import Pipeline\n",
    "from sklearn.svm import SVC\n",
    "from sklearn.preprocessing import StandardScaler\n",
    "from sklearn.metrics import balanced_accuracy_score\n",
    "\n",
    "# Custom\n",
    "import sys,os\n",
    "sys.path.append( '.' )\n",
    "sys.path.append( '..' )\n",
    "import Components.Outlier_Detection as Outlier_Detection\n",
    "import Components.Feature_Selection as Feature_Selection\n",
    "import Components.Normalisation as Normalisation\n",
    "import Components.data_fetching as data_fetching\n",
    "#import Components.Data_Augmentation as Data_Augmentation\n",
    "import Components.wrapper as wrapper\n",
    "\n",
    "\n",
    "# CAREFUL:\n",
    "# If you make changes to a custom module, you have to reload it, i.e rerun this cell\n",
    "import importlib\n",
    "#importlib.reload(Data_Augmentation)\n",
    "importlib.reload(Outlier_Detection)\n",
    "importlib.reload(Feature_Selection)\n",
    "importlib.reload(Normalisation)\n",
    "importlib.reload(data_fetching)\n",
    "importlib.reload(wrapper)"
   ]
  },
  {
   "cell_type": "markdown",
   "metadata": {
    "cell_id": "00002-e4593fb3-21aa-41e1-885b-350d74d0d4ba",
    "tags": []
   },
   "source": [
    "## Data Preprocessing"
   ]
  },
  {
   "cell_type": "markdown",
   "metadata": {
    "cell_id": "00003-b2d9855f-7d18-46da-b9cd-701217190405",
    "tags": []
   },
   "source": [
    "### Data Import"
   ]
  },
  {
   "cell_type": "code",
   "execution_count": 19,
   "metadata": {
    "cell_id": "00002-5ebedb03-894d-4c65-8d53-6c54293fba76",
    "execution_millis": 3164,
    "execution_start": 1603526128559,
    "output_cleared": false,
    "source_hash": "e4735f64",
    "tags": []
   },
   "outputs": [],
   "source": [
    "x_train, y_train = data_fetching.get_train_data()\n",
    "x_test = data_fetching.get_test_data()"
   ]
  },
  {
   "cell_type": "markdown",
   "metadata": {
    "cell_id": "00006-b5a3eb5f-2183-4029-8352-63d4c5f556e3",
    "execution_millis": 1507,
    "execution_start": 1603526197733,
    "output_cleared": false,
    "source_hash": "2f267119",
    "tags": []
   },
   "source": [
    "## Model"
   ]
  },
  {
   "cell_type": "markdown",
   "metadata": {},
   "source": [
    "### Pipeline Setup"
   ]
  },
  {
   "cell_type": "code",
   "execution_count": 20,
   "metadata": {
    "cell_id": "00007-ddf05241-9da5-4be0-b168-40042e3626bc",
    "tags": []
   },
   "outputs": [],
   "source": [
    "# we need: -scaling transformer -weighted loss function -multi-class model \n",
    "pipe = Pipeline([('scaling',StandardScaler()),\n",
    "                 ('classification',\n",
    "                  SVC(C=1.0,kernel='rbf',gamma='scale',shrinking=True,cache_size=1000,class_weight='balanced'))\n",
    "                ])\n"
   ]
  },
  {
   "cell_type": "markdown",
   "metadata": {},
   "source": [
    "### Grid search"
   ]
  },
  {
   "cell_type": "code",
   "execution_count": 21,
   "metadata": {},
   "outputs": [
    {
     "name": "stdout",
     "output_type": "stream",
     "text": [
      "{'classification__C': 2.0, 'classification__gamma': 0.0001, 'classification__kernel': 'rbf'}\n"
     ]
    }
   ],
   "source": [
    "\n",
    "\n",
    "gamma_range = np.logspace(-5, -3, 3)\n",
    "parameters = [{'classification__kernel': ['rbf'], 'classification__gamma': [0.0001,0.0005,0.001],'classification__C': [2.0,3.0,4.0,6.0,7.0,8.0]},\n",
    "              {'classification__kernel': ['linear'], 'classification__C': [0.0005,0.002,0.005]}\n",
    "             ]\n",
    "\n",
    "clf = GridSearchCV(pipe, parameters,cv=10,n_jobs=16,scoring='balanced_accuracy')\n",
    "clf.fit(x_train, np.ravel(y_train))\n",
    "\n",
    "# View The Best Parameters\n",
    "print(clf.best_params_)"
   ]
  },
  {
   "cell_type": "code",
   "execution_count": 22,
   "metadata": {},
   "outputs": [
    {
     "name": "stdout",
     "output_type": "stream",
     "text": [
      "0.7037037037037037\n"
     ]
    }
   ],
   "source": [
    "print(clf.best_score_)"
   ]
  },
  {
   "cell_type": "code",
   "execution_count": 23,
   "metadata": {},
   "outputs": [],
   "source": [
    "results = pd.DataFrame(clf.cv_results_)"
   ]
  },
  {
   "cell_type": "code",
   "execution_count": 24,
   "metadata": {},
   "outputs": [
    {
     "data": {
      "text/html": [
       "<div>\n",
       "<style scoped>\n",
       "    .dataframe tbody tr th:only-of-type {\n",
       "        vertical-align: middle;\n",
       "    }\n",
       "\n",
       "    .dataframe tbody tr th {\n",
       "        vertical-align: top;\n",
       "    }\n",
       "\n",
       "    .dataframe thead th {\n",
       "        text-align: right;\n",
       "    }\n",
       "</style>\n",
       "<table border=\"1\" class=\"dataframe\">\n",
       "  <thead>\n",
       "    <tr style=\"text-align: right;\">\n",
       "      <th></th>\n",
       "      <th>params</th>\n",
       "      <th>mean_test_score</th>\n",
       "    </tr>\n",
       "  </thead>\n",
       "  <tbody>\n",
       "    <tr>\n",
       "      <th>0</th>\n",
       "      <td>{'classification__C': 2.0, 'classification__gamma': 0.0001, 'classification__kernel': 'rbf'}</td>\n",
       "      <td>0.703704</td>\n",
       "    </tr>\n",
       "    <tr>\n",
       "      <th>1</th>\n",
       "      <td>{'classification__C': 2.0, 'classification__gamma': 0.0005, 'classification__kernel': 'rbf'}</td>\n",
       "      <td>0.696759</td>\n",
       "    </tr>\n",
       "    <tr>\n",
       "      <th>2</th>\n",
       "      <td>{'classification__C': 2.0, 'classification__gamma': 0.001, 'classification__kernel': 'rbf'}</td>\n",
       "      <td>0.671296</td>\n",
       "    </tr>\n",
       "    <tr>\n",
       "      <th>3</th>\n",
       "      <td>{'classification__C': 3.0, 'classification__gamma': 0.0001, 'classification__kernel': 'rbf'}</td>\n",
       "      <td>0.700093</td>\n",
       "    </tr>\n",
       "    <tr>\n",
       "      <th>4</th>\n",
       "      <td>{'classification__C': 3.0, 'classification__gamma': 0.0005, 'classification__kernel': 'rbf'}</td>\n",
       "      <td>0.682963</td>\n",
       "    </tr>\n",
       "    <tr>\n",
       "      <th>5</th>\n",
       "      <td>{'classification__C': 3.0, 'classification__gamma': 0.001, 'classification__kernel': 'rbf'}</td>\n",
       "      <td>0.651019</td>\n",
       "    </tr>\n",
       "    <tr>\n",
       "      <th>6</th>\n",
       "      <td>{'classification__C': 4.0, 'classification__gamma': 0.0001, 'classification__kernel': 'rbf'}</td>\n",
       "      <td>0.702685</td>\n",
       "    </tr>\n",
       "    <tr>\n",
       "      <th>7</th>\n",
       "      <td>{'classification__C': 4.0, 'classification__gamma': 0.0005, 'classification__kernel': 'rbf'}</td>\n",
       "      <td>0.674167</td>\n",
       "    </tr>\n",
       "    <tr>\n",
       "      <th>8</th>\n",
       "      <td>{'classification__C': 4.0, 'classification__gamma': 0.001, 'classification__kernel': 'rbf'}</td>\n",
       "      <td>0.641204</td>\n",
       "    </tr>\n",
       "    <tr>\n",
       "      <th>9</th>\n",
       "      <td>{'classification__C': 6.0, 'classification__gamma': 0.0001, 'classification__kernel': 'rbf'}</td>\n",
       "      <td>0.696204</td>\n",
       "    </tr>\n",
       "    <tr>\n",
       "      <th>10</th>\n",
       "      <td>{'classification__C': 6.0, 'classification__gamma': 0.0005, 'classification__kernel': 'rbf'}</td>\n",
       "      <td>0.657130</td>\n",
       "    </tr>\n",
       "    <tr>\n",
       "      <th>11</th>\n",
       "      <td>{'classification__C': 6.0, 'classification__gamma': 0.001, 'classification__kernel': 'rbf'}</td>\n",
       "      <td>0.632778</td>\n",
       "    </tr>\n",
       "    <tr>\n",
       "      <th>12</th>\n",
       "      <td>{'classification__C': 7.0, 'classification__gamma': 0.0001, 'classification__kernel': 'rbf'}</td>\n",
       "      <td>0.695648</td>\n",
       "    </tr>\n",
       "    <tr>\n",
       "      <th>13</th>\n",
       "      <td>{'classification__C': 7.0, 'classification__gamma': 0.0005, 'classification__kernel': 'rbf'}</td>\n",
       "      <td>0.654352</td>\n",
       "    </tr>\n",
       "    <tr>\n",
       "      <th>14</th>\n",
       "      <td>{'classification__C': 7.0, 'classification__gamma': 0.001, 'classification__kernel': 'rbf'}</td>\n",
       "      <td>0.632222</td>\n",
       "    </tr>\n",
       "    <tr>\n",
       "      <th>15</th>\n",
       "      <td>{'classification__C': 8.0, 'classification__gamma': 0.0001, 'classification__kernel': 'rbf'}</td>\n",
       "      <td>0.698241</td>\n",
       "    </tr>\n",
       "    <tr>\n",
       "      <th>16</th>\n",
       "      <td>{'classification__C': 8.0, 'classification__gamma': 0.0005, 'classification__kernel': 'rbf'}</td>\n",
       "      <td>0.649074</td>\n",
       "    </tr>\n",
       "    <tr>\n",
       "      <th>17</th>\n",
       "      <td>{'classification__C': 8.0, 'classification__gamma': 0.001, 'classification__kernel': 'rbf'}</td>\n",
       "      <td>0.627222</td>\n",
       "    </tr>\n",
       "    <tr>\n",
       "      <th>18</th>\n",
       "      <td>{'classification__C': 0.0005, 'classification__kernel': 'linear'}</td>\n",
       "      <td>0.700093</td>\n",
       "    </tr>\n",
       "    <tr>\n",
       "      <th>19</th>\n",
       "      <td>{'classification__C': 0.002, 'classification__kernel': 'linear'}</td>\n",
       "      <td>0.692222</td>\n",
       "    </tr>\n",
       "    <tr>\n",
       "      <th>20</th>\n",
       "      <td>{'classification__C': 0.005, 'classification__kernel': 'linear'}</td>\n",
       "      <td>0.671296</td>\n",
       "    </tr>\n",
       "  </tbody>\n",
       "</table>\n",
       "</div>"
      ],
      "text/plain": [
       "                                                                                          params  \\\n",
       "0   {'classification__C': 2.0, 'classification__gamma': 0.0001, 'classification__kernel': 'rbf'}   \n",
       "1   {'classification__C': 2.0, 'classification__gamma': 0.0005, 'classification__kernel': 'rbf'}   \n",
       "2    {'classification__C': 2.0, 'classification__gamma': 0.001, 'classification__kernel': 'rbf'}   \n",
       "3   {'classification__C': 3.0, 'classification__gamma': 0.0001, 'classification__kernel': 'rbf'}   \n",
       "4   {'classification__C': 3.0, 'classification__gamma': 0.0005, 'classification__kernel': 'rbf'}   \n",
       "5    {'classification__C': 3.0, 'classification__gamma': 0.001, 'classification__kernel': 'rbf'}   \n",
       "6   {'classification__C': 4.0, 'classification__gamma': 0.0001, 'classification__kernel': 'rbf'}   \n",
       "7   {'classification__C': 4.0, 'classification__gamma': 0.0005, 'classification__kernel': 'rbf'}   \n",
       "8    {'classification__C': 4.0, 'classification__gamma': 0.001, 'classification__kernel': 'rbf'}   \n",
       "9   {'classification__C': 6.0, 'classification__gamma': 0.0001, 'classification__kernel': 'rbf'}   \n",
       "10  {'classification__C': 6.0, 'classification__gamma': 0.0005, 'classification__kernel': 'rbf'}   \n",
       "11   {'classification__C': 6.0, 'classification__gamma': 0.001, 'classification__kernel': 'rbf'}   \n",
       "12  {'classification__C': 7.0, 'classification__gamma': 0.0001, 'classification__kernel': 'rbf'}   \n",
       "13  {'classification__C': 7.0, 'classification__gamma': 0.0005, 'classification__kernel': 'rbf'}   \n",
       "14   {'classification__C': 7.0, 'classification__gamma': 0.001, 'classification__kernel': 'rbf'}   \n",
       "15  {'classification__C': 8.0, 'classification__gamma': 0.0001, 'classification__kernel': 'rbf'}   \n",
       "16  {'classification__C': 8.0, 'classification__gamma': 0.0005, 'classification__kernel': 'rbf'}   \n",
       "17   {'classification__C': 8.0, 'classification__gamma': 0.001, 'classification__kernel': 'rbf'}   \n",
       "18                             {'classification__C': 0.0005, 'classification__kernel': 'linear'}   \n",
       "19                              {'classification__C': 0.002, 'classification__kernel': 'linear'}   \n",
       "20                              {'classification__C': 0.005, 'classification__kernel': 'linear'}   \n",
       "\n",
       "    mean_test_score  \n",
       "0          0.703704  \n",
       "1          0.696759  \n",
       "2          0.671296  \n",
       "3          0.700093  \n",
       "4          0.682963  \n",
       "5          0.651019  \n",
       "6          0.702685  \n",
       "7          0.674167  \n",
       "8          0.641204  \n",
       "9          0.696204  \n",
       "10         0.657130  \n",
       "11         0.632778  \n",
       "12         0.695648  \n",
       "13         0.654352  \n",
       "14         0.632222  \n",
       "15         0.698241  \n",
       "16         0.649074  \n",
       "17         0.627222  \n",
       "18         0.700093  \n",
       "19         0.692222  \n",
       "20         0.671296  "
      ]
     },
     "execution_count": 24,
     "metadata": {},
     "output_type": "execute_result"
    }
   ],
   "source": [
    "pd.set_option(\"display.max_rows\", None, \"display.max_columns\", None, \"display.max_colwidth\",200) \n",
    "results[[\"params\",\"mean_test_score\"]] #.query('mean_test_score >= 0.69')"
   ]
  },
  {
   "cell_type": "markdown",
   "metadata": {},
   "source": [
    "## Final prediction"
   ]
  },
  {
   "cell_type": "code",
   "execution_count": 26,
   "metadata": {},
   "outputs": [
    {
     "name": "stdout",
     "output_type": "stream",
     "text": [
      "Train Score: 0.7715740740740742\n"
     ]
    },
    {
     "data": {
      "image/png": "[encoded data removed]",
      "text/plain": [
       "<Figure size 432x288 with 1 Axes>"
      ]
     },
     "metadata": {
      "needs_background": "light"
     },
     "output_type": "display_data"
    }
   ],
   "source": [
    "\n",
    "print(\"Train Score:\", balanced_accuracy_score(y_train, clf.predict(x_train)))\n",
    "\n",
    "y_pred = clf.predict(x_test)\n",
    "plt.hist(y_pred)\n",
    "\n",
    "\n",
    "y_pred_pd = pd.DataFrame(data=y_pred, columns=[\"y\"])\n"
   ]
  },
  {
   "cell_type": "code",
   "execution_count": 32,
   "metadata": {},
   "outputs": [],
   "source": [
    "y_pred_pd.to_csv('../../Predictions/SVM_optimised_3.csv', index_label='id')"
   ]
  }
 ],
 "metadata": {
  "deepnote_execution_queue": [],
  "deepnote_notebook_id": "26e3d3e9-6b96-4c38-b0dd-4fca5699ab8d",
  "environment": {
   "name": "common-cpu.m58",
   "type": "gcloud",
   "uri": "gcr.io/deeplearning-platform-release/base-cpu:m58"
  },
  "kernelspec": {
   "display_name": "Python 3",
   "language": "python",
   "name": "python3"
  },
  "language_info": {
   "codemirror_mode": {
    "name": "ipython",
    "version": 3
   },
   "file_extension": ".py",
   "mimetype": "text/x-python",
   "name": "python",
   "nbconvert_exporter": "python",
   "pygments_lexer": "ipython3",
   "version": "3.7.8"
  }
 },
 "nbformat": 4,
 "nbformat_minor": 4
}
