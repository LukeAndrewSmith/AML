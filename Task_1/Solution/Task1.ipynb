{
  "nbformat": 4,
  "nbformat_minor": 0,
  "metadata": {
    "colab": {
      "name": "task1.ipynb",
      "provenance": [],
      "collapsed_sections": []
    },
    "kernelspec": {
      "name": "python3",
      "display_name": "Python 3"
    }
  },
  "cells": [
    {
      "cell_type": "code",
      "metadata": {
        "id": "_1DeRFrUzVGn"
      },
      "source": [
        "import pandas as pd\n",
        "import numpy as np\n",
        "import tensorflow as tf\n",
        "from google.colab import files\n",
        "from sklearn.linear_model import LinearRegression, Lasso\n",
        "from sklearn.metrics import r2_score\n",
        "from sklearn.model_selection import cross_validate\n",
        "from sklearn.model_selection import train_test_split\n",
        "from sklearn.impute import SimpleImputer"
      ],
      "execution_count": null,
      "outputs": []
    },
    {
      "cell_type": "code",
      "metadata": {
        "id": "LkSrDA1xxfED"
      },
      "source": [
        "#TODO:\n",
        "# 1. how od we deal with nans\n",
        "# 2. normalization? \n",
        "# 3. feature selection\n",
        "# 4. model choice\n",
        "# 5. crossval\n"
      ],
      "execution_count": null,
      "outputs": []
    },
    {
      "cell_type": "code",
      "metadata": {
        "id": "jmt0FIEyzaNy",
        "outputId": "e8517604-54a8-4b23-9860-8a299adeb010",
        "colab": {
          "base_uri": "https://localhost:8080/",
          "height": 34
        }
      },
      "source": [
        "x_train = pd.read_csv('X_train.csv')\n",
        "#x_train = x_train.drop('id', 1)\n",
        "print(np.shape(x_train))"
      ],
      "execution_count": null,
      "outputs": [
        {
          "output_type": "stream",
          "text": [
            "(1212, 833)\n"
          ],
          "name": "stdout"
        }
      ]
    },
    {
      "cell_type": "code",
      "metadata": {
        "id": "rLHo9-wr1J7J",
        "outputId": "6e22c356-b275-4210-81f3-e7cfad8188c5",
        "colab": {
          "base_uri": "https://localhost:8080/",
          "height": 255
        }
      },
      "source": [
        "y_train = pd.read_csv('y_train.csv')\n",
        "y_train = y_train.drop('id', 1)\n",
        "print(y_train)"
      ],
      "execution_count": null,
      "outputs": [
        {
          "output_type": "stream",
          "text": [
            "         y\n",
            "0     71.0\n",
            "1     73.0\n",
            "2     66.0\n",
            "3     55.0\n",
            "4     67.0\n",
            "...    ...\n",
            "1207  67.0\n",
            "1208  48.0\n",
            "1209  82.0\n",
            "1210  76.0\n",
            "1211  81.0\n",
            "\n",
            "[1212 rows x 1 columns]\n"
          ],
          "name": "stdout"
        }
      ]
    },
    {
      "cell_type": "code",
      "metadata": {
        "id": "k0bUPabGs3DX",
        "outputId": "f2a79969-cefd-4eda-aad7-25828bb3ab98",
        "colab": {
          "base_uri": "https://localhost:8080/",
          "height": 221
        }
      },
      "source": [
        "# look at nans:\n",
        "print(x_train.isnull().sum())\n"
      ],
      "execution_count": null,
      "outputs": [
        {
          "output_type": "stream",
          "text": [
            "0      0\n",
            "1      0\n",
            "2      0\n",
            "3      0\n",
            "4      0\n",
            "      ..\n",
            "828    0\n",
            "829    0\n",
            "830    0\n",
            "831    0\n",
            "832    0\n",
            "Length: 833, dtype: int64\n"
          ],
          "name": "stdout"
        }
      ]
    },
    {
      "cell_type": "code",
      "metadata": {
        "id": "EMntDmdds52M"
      },
      "source": [
        "# impute the nans:\n",
        "fill_NaN = SimpleImputer(missing_values=np.nan, strategy='mean')\n",
        "x_train = pd.DataFrame(fill_NaN.fit_transform(x_train))"
      ],
      "execution_count": null,
      "outputs": []
    },
    {
      "cell_type": "code",
      "metadata": {
        "id": "CPcV958ItUQU",
        "outputId": "3d742acc-c46f-44ee-ba40-61d0d4e50460",
        "colab": {
          "base_uri": "https://localhost:8080/",
          "height": 221
        }
      },
      "source": [
        "# check again:\n",
        "print(x_train.isnull().sum())"
      ],
      "execution_count": null,
      "outputs": [
        {
          "output_type": "stream",
          "text": [
            "0      0\n",
            "1      0\n",
            "2      0\n",
            "3      0\n",
            "4      0\n",
            "      ..\n",
            "828    0\n",
            "829    0\n",
            "830    0\n",
            "831    0\n",
            "832    0\n",
            "Length: 833, dtype: int64\n"
          ],
          "name": "stdout"
        }
      ]
    },
    {
      "cell_type": "code",
      "metadata": {
        "id": "Jilwwkdoqogy"
      },
      "source": [
        "#. split own training data in train/test to evalueat, do k fold cv\n",
        "x_train_train, x_train_test, y_train_train, y_train_test = train_test_split( x_train, y_train, test_size=0.4, random_state=0)"
      ],
      "execution_count": null,
      "outputs": []
    },
    {
      "cell_type": "code",
      "metadata": {
        "id": "x8awRLyToUar",
        "outputId": "b1277458-9547-4a5f-8e45-3903c81da528",
        "colab": {
          "base_uri": "https://localhost:8080/",
          "height": 255
        }
      },
      "source": [
        "x_test = pd.read_csv('X_test.csv')\n",
        "x_test = x_test.drop('id', 1)\n",
        "print(x_test)"
      ],
      "execution_count": null,
      "outputs": [
        {
          "output_type": "stream",
          "text": [
            "            x0             x1  ...           x830           x831\n",
            "0     9.101943  832442.839400  ...            NaN  106668.615874\n",
            "1    11.722077  832442.826314  ...  100761.264268            NaN\n",
            "2    11.200277  832442.820359  ...  106440.456728  103405.273232\n",
            "3     9.668873  832442.820901  ...            NaN  100531.960204\n",
            "4    10.329962  832442.871842  ...  109797.625066  104849.648797\n",
            "..         ...            ...  ...            ...            ...\n",
            "771   8.643008  832442.901284  ...   98257.691777  107061.654854\n",
            "772   9.639356  832442.864233  ...  110688.236655  100730.307869\n",
            "773        NaN  832442.904383  ...  103970.270645  108906.208766\n",
            "774  11.154426  832442.875082  ...   92897.930814  108439.186933\n",
            "775   8.533177  832442.831184  ...   94952.659109            NaN\n",
            "\n",
            "[776 rows x 832 columns]\n"
          ],
          "name": "stdout"
        }
      ]
    },
    {
      "cell_type": "code",
      "metadata": {
        "id": "TSYYG1xSmp0X"
      },
      "source": [
        "# simple regression:\n",
        "reg = LinearRegression().fit(x_train_train, y_train_train)\n",
        "y_pred = reg.predict(x_train_test)\n"
      ],
      "execution_count": null,
      "outputs": []
    },
    {
      "cell_type": "code",
      "metadata": {
        "id": "YLtZcuXylXwM",
        "outputId": "87dda30e-4069-4512-f804-b68980ed8c91",
        "colab": {
          "base_uri": "https://localhost:8080/",
          "height": 34
        }
      },
      "source": [
        "score = r2_score(y_train_test, y_pred)\n",
        "print(score)"
      ],
      "execution_count": null,
      "outputs": [
        {
          "output_type": "stream",
          "text": [
            "0.12485496930117013\n"
          ],
          "name": "stdout"
        }
      ]
    },
    {
      "cell_type": "code",
      "metadata": {
        "id": "pS697Xjdt5Xt",
        "outputId": "d3e044b5-5ca4-4739-939b-2736d19dbea6",
        "colab": {
          "base_uri": "https://localhost:8080/",
          "height": 71
        }
      },
      "source": [
        "# try different regressions:\n",
        "reg = Lasso().fit(x_train_train, y_train_train)\n",
        "y_pred = reg.predict(x_train_test)"
      ],
      "execution_count": null,
      "outputs": [
        {
          "output_type": "stream",
          "text": [
            "/usr/local/lib/python3.6/dist-packages/sklearn/linear_model/_coordinate_descent.py:476: ConvergenceWarning: Objective did not converge. You might want to increase the number of iterations. Duality gap: 6517.680589404458, tolerance: 7.120755708390645\n",
            "  positive)\n"
          ],
          "name": "stderr"
        }
      ]
    }
  ]
}