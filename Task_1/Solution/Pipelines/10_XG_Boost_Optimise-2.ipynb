{
 "cells": [
  {
   "cell_type": "markdown",
   "metadata": {
    "cell_id": "00000-11322274-a0d2-4e5b-be10-01394521a902",
    "output_cleared": false,
    "tags": []
   },
   "source": [
    "# Template Pipeline\n",
    "Normalisation&nbsp;&nbsp;&nbsp;&nbsp;&nbsp;&nbsp;&nbsp;&nbsp;&nbsp;&nbsp;&nbsp;&nbsp;&nbsp;&nbsp;&nbsp;&nbsp;&nbsp;&nbsp;\n",
    "**-**  \n",
    "Imputation 1&nbsp;&nbsp;&nbsp;&nbsp;&nbsp;&nbsp;&nbsp;&nbsp;&nbsp;&nbsp;&nbsp;&nbsp;&nbsp;&nbsp;&nbsp;&nbsp;&nbsp;&nbsp;&nbsp;&nbsp;\n",
    "**Median**  \n",
    "Outlier Detection&nbsp;&nbsp;&nbsp;&nbsp;&nbsp;&nbsp;&nbsp;&nbsp;&nbsp;&nbsp;&nbsp;&nbsp;&nbsp;\n",
    "**Z Score**  \n",
    "Imputation 2&nbsp;&nbsp;&nbsp;&nbsp;&nbsp;&nbsp;&nbsp;&nbsp;&nbsp;&nbsp;&nbsp;&nbsp;&nbsp;&nbsp;&nbsp;&nbsp;&nbsp;&nbsp;&nbsp;&nbsp;\n",
    "**Median**  \n",
    "Feature Selection&nbsp;&nbsp;&nbsp;&nbsp;&nbsp;&nbsp;&nbsp;&nbsp;&nbsp;&nbsp;&nbsp;\n",
    "**Implicit to model**  \n",
    "Model&nbsp;&nbsp;&nbsp;&nbsp;&nbsp;&nbsp;&nbsp;&nbsp;&nbsp;&nbsp;&nbsp;&nbsp;&nbsp;&nbsp;&nbsp;&nbsp;&nbsp;&nbsp;&nbsp;&nbsp;&nbsp;&nbsp;&nbsp;&nbsp;&nbsp;&nbsp;&nbsp;&nbsp;&nbsp;&nbsp;&nbsp;\n",
    "**Lasso Regression**\n"
   ]
  },
  {
   "cell_type": "markdown",
   "metadata": {
    "cell_id": "00001-c7bc520e-98ae-4589-a45f-2d893228409d",
    "output_cleared": false,
    "tags": []
   },
   "source": [
    "## Imports"
   ]
  },
  {
   "cell_type": "code",
   "execution_count": null,
   "metadata": {
    "cell_id": "00002-5c17be57-ab77-40e1-a9ff-fd5992d385fb",
    "tags": []
   },
   "outputs": [],
   "source": [
    "from google.colab import drive\n",
    "drive.mount('/content/gdrive')"
   ]
  },
  {
   "cell_type": "code",
   "execution_count": null,
   "metadata": {
    "cell_id": "00003-13d4ff61-fed7-47ba-bbfa-8a9db7edc3d2",
    "execution_millis": 2,
    "execution_start": 1603028448681,
    "id": "_1DeRFrUzVGn",
    "output_cleared": false,
    "source_hash": "d735e502"
   },
   "outputs": [
    {
     "data": {
      "text/plain": [
       "<module 'Components.data_fetching' from '/home/jovyan/work/AML/Task_1/Solution/Components/data_fetching.py'>"
      ]
     },
     "execution_count": 3,
     "metadata": {},
     "output_type": "execute_result"
    }
   ],
   "source": [
    "# General\n",
    "import matplotlib.pyplot as plt\n",
    "import pandas as pd\n",
    "import numpy as np\n",
    "\n",
    "# ML\n",
    "from sklearn.metrics import r2_score\n",
    "from sklearn.model_selection import KFold, cross_val_score, train_test_split, GridSearchCV\n",
    "from sklearn.pipeline import Pipeline\n",
    "from sklearn.preprocessing import QuantileTransformer\n",
    "from sklearn.experimental import enable_iterative_imputer\n",
    "from sklearn.impute import IterativeImputer, SimpleImputer\n",
    "from sklearn.linear_model import Ridge\n",
    "from sklearn.feature_selection import RFE\n",
    "\n",
    "import xgboost as xgb\n",
    "\n",
    "# Custom\n",
    "import sys,os\n",
    "# %cd /content/fuck/My Drive/ETHZ/Autumn2020/AML/Git/AML/Task_1/Solution\n",
    "# sys.path.append('/content/fuck/My Drive/ETHZ/Autumn2020/AML/Git/AML/Task_1/Solution')\n",
    "sys.path.append('/home/jovyan/work/AML/Task_1/Solution') # I would like a cleaner solution but works for now\n",
    "# import Components.Imputation as Imputation\n",
    "import Components.Outlier_Detection_1D as Outlier_Detection_1D\n",
    "# import Components.Outlier_Detection_ND as Outlier_Detection_ND\n",
    "# import Components.Feature_Selection as Feature_Selection\n",
    "# import Components.Normalisation as Normalisation\n",
    "import Components.data_fetching as data_fetching\n",
    "\n",
    "# # CAREFUL:\n",
    "# # If you make changes to a custom module, you have to reload it, i.e rerun this cell\n",
    "import importlib\n",
    "# importlib.reload(Imputation)\n",
    "importlib.reload(Outlier_Detection_1D)\n",
    "# importlib.reload(Outlier_Detection_ND)\n",
    "# importlib.reload(Feature_Selection)\n",
    "# importlib.reload(Normalisation)\n",
    "importlib.reload(data_fetching)"
   ]
  },
  {
   "cell_type": "markdown",
   "metadata": {
    "cell_id": "00004-cdaf2900-f76c-498c-836c-c57786e7bd70",
    "output_cleared": false,
    "tags": []
   },
   "source": [
    "## Pipeline Optimisatoin"
   ]
  },
  {
   "cell_type": "code",
   "execution_count": null,
   "metadata": {
    "cell_id": "00005-8b8663a7-c8bc-4f0a-a827-ca7c37abe9a4",
    "execution_millis": 1319,
    "execution_start": 1602765482772,
    "output_cleared": false,
    "source_hash": "5e11ebf5",
    "tags": []
   },
   "outputs": [],
   "source": [
    "X,y = data_fetching.get_train_data()\n",
    "y = np.ravel(y)\n",
    "x_test_final = data_fetching.get_test_data()"
   ]
  },
  {
   "cell_type": "code",
   "execution_count": null,
   "metadata": {
    "cell_id": "00006-fffb25d4-2046-4e01-bb65-b5518b4f5f14",
    "execution_millis": 6853,
    "execution_start": 1602765580806,
    "output_cleared": true,
    "source_hash": null,
    "tags": []
   },
   "outputs": [],
   "source": [
    "nrm = QuantileTransformer(output_distribution='normal')\n",
    "out = Outlier_Detection_1D.Z_Score_Outlier()\n",
    "imp = IterativeImputer(missing_values=np.nan, max_iter=10, initial_strategy='median' ,random_state=0)\n",
    "# imp = SimpleImputer(strategy='mean')\n",
    "rfe = RFE(Ridge())\n",
    "boost = xgb.XGBRegressor(objective='reg:squarederror')\n",
    "\n",
    "pipe = Pipeline(steps=[('normalise', nrm),\n",
    "                        ('z_score', out),\n",
    "                        ('impute', imp),\n",
    "                        ('feature_select', rfe),\n",
    "                        ('regress', boost)])\n",
    "\n",
    "# Normalisation\n",
    "n_quants = [50,75]\n",
    "# Outlier Detection 1d\n",
    "threashold = [2.75,3]\n",
    "# Imputer\n",
    "n_nearest_features = [10,20]\n",
    "# Feature Selection\n",
    "n_features = [50,60,70]\n",
    "# Model\n",
    "max_depth = [5,6,7]\n",
    "learning_rate = [0.05, 0.15]\n",
    "n_estimators = [100, 200]\n",
    "\n",
    "parameters = dict(normalise__n_quantiles=n_quants,\n",
    "                    z_score__threashold=threashold,\n",
    "                    impute__n_nearest_features=n_nearest_features,\n",
    "                    feature_select__n_features_to_select=n_features,\n",
    "                    regress__max_depth=max_depth,\n",
    "                    regress__learning_rate=learning_rate,\n",
    "                    regress__n_estimators=n_estimators)\n",
    "\n",
    "clf = GridSearchCV(pipe, parameters)\n",
    "clf.fit(X, y)\n",
    "\n",
    "# View The Best Parameters\n",
    "print('n_quantiles=', clf.best_estimator_.get_params()['normalise__n_quantiles'])\n",
    "print('threashold=', clf.best_estima/tor_.get_params()['z_score__n_nearest_features'])\n",
    "print('n_nearest_features=', clf.best_estima/tor_.get_params()['impute__n_nearest_features'])\n",
    "print('n_features_to_select=', clf.best_estimator_.get_params()['feature_select__n_features_to_select'])\n",
    "print('max_depth=', clf.best_estimator_.get_params()['regress__max_depth'])\n",
    "print('learning_rate=', clf.best_estimator_.get_params()['regress__learning_rate'])\n",
    "print('n_estimators=', clf.best_estimator_.get_params()['regress__n_estimators'])\n",
    "\n",
    "# Output\n",
    "# n_quantiles= 50\n",
    "# n_features_to_select= 50\n",
    "# learning_rate= 0.05\n",
    "# n_estimators= 200"
   ]
  },
  {
   "cell_type": "markdown",
   "metadata": {
    "cell_id": "00007-dd2e991e-f26d-4384-b547-961726918d50",
    "output_cleared": false,
    "tags": []
   },
   "source": [
    "## Final Prediction"
   ]
  },
  {
   "cell_type": "code",
   "execution_count": null,
   "metadata": {
    "cell_id": "00008-90536320-b0fc-4961-be8a-7b897105272c",
    "execution_millis": 1527,
    "execution_start": 1602697780422,
    "output_cleared": true,
    "source_hash": null,
    "tags": []
   },
   "outputs": [],
   "source": [
    "y_pred = clf.predict(x_test_final)\n",
    "plt.hist(y_pred)\n",
    "print(\"Train Score:\", r2_score(y, clf.predict(X)))\n",
    "\n",
    "y_pred_pd = pd.DataFrame(data=y_pred, columns=[\"y\"])\n",
    "y_pred_pd.to_csv('../Predictions/XGBoost_Optimised.csv', index_label='id')"
   ]
  }
 ],
 "metadata": {
  "colab": {
   "collapsed_sections": [],
   "name": "task1.ipynb",
   "provenance": []
  },
  "deepnote_execution_queue": [],
  "deepnote_notebook_id": "4d8e3a54-b999-47f7-bd6b-9b358a587a10",
  "environment": {
   "name": "common-cpu.m58",
   "type": "gcloud",
   "uri": "gcr.io/deeplearning-platform-release/base-cpu:m58"
  },
  "kernelspec": {
   "display_name": "Python 3",
   "language": "python",
   "name": "python3"
  },
  "language_info": {
   "codemirror_mode": {
    "name": "ipython",
    "version": 3
   },
   "file_extension": ".py",
   "mimetype": "text/x-python",
   "name": "python",
   "nbconvert_exporter": "python",
   "pygments_lexer": "ipython3",
   "version": "3.7.8"
  }
 },
 "nbformat": 4,
 "nbformat_minor": 4
}
