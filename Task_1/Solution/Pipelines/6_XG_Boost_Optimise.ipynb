{
 "cells": [
  {
   "cell_type": "markdown",
   "metadata": {
    "cell_id": "00000-45a9ad12-e255-42f8-a071-14b20744d049",
    "output_cleared": false,
    "tags": []
   },
   "source": [
    "# Template Pipeline\n",
    "Normalisation&nbsp;&nbsp;&nbsp;&nbsp;&nbsp;&nbsp;&nbsp;&nbsp;&nbsp;&nbsp;&nbsp;&nbsp;&nbsp;&nbsp;&nbsp;&nbsp;&nbsp;&nbsp;\n",
    "**-**  \n",
    "Imputation 1&nbsp;&nbsp;&nbsp;&nbsp;&nbsp;&nbsp;&nbsp;&nbsp;&nbsp;&nbsp;&nbsp;&nbsp;&nbsp;&nbsp;&nbsp;&nbsp;&nbsp;&nbsp;&nbsp;&nbsp;\n",
    "**Median**  \n",
    "Outlier Detection&nbsp;&nbsp;&nbsp;&nbsp;&nbsp;&nbsp;&nbsp;&nbsp;&nbsp;&nbsp;&nbsp;&nbsp;&nbsp;\n",
    "**Z Score**  \n",
    "Imputation 2&nbsp;&nbsp;&nbsp;&nbsp;&nbsp;&nbsp;&nbsp;&nbsp;&nbsp;&nbsp;&nbsp;&nbsp;&nbsp;&nbsp;&nbsp;&nbsp;&nbsp;&nbsp;&nbsp;&nbsp;\n",
    "**Median**  \n",
    "Feature Selection&nbsp;&nbsp;&nbsp;&nbsp;&nbsp;&nbsp;&nbsp;&nbsp;&nbsp;&nbsp;&nbsp;\n",
    "**Implicit to model**  \n",
    "Model&nbsp;&nbsp;&nbsp;&nbsp;&nbsp;&nbsp;&nbsp;&nbsp;&nbsp;&nbsp;&nbsp;&nbsp;&nbsp;&nbsp;&nbsp;&nbsp;&nbsp;&nbsp;&nbsp;&nbsp;&nbsp;&nbsp;&nbsp;&nbsp;&nbsp;&nbsp;&nbsp;&nbsp;&nbsp;&nbsp;&nbsp;\n",
    "**Lasso Regression**\n"
   ]
  },
  {
   "cell_type": "markdown",
   "metadata": {
    "cell_id": "00001-fedbb398-29dd-435c-80a7-505c833246bf",
    "output_cleared": false,
    "tags": []
   },
   "source": [
    "## Imports"
   ]
  },
  {
   "cell_type": "code",
   "execution_count": null,
   "metadata": {
    "cell_id": "00002-de68acae-2292-40a0-975e-ddad0c8abd95",
    "tags": []
   },
   "outputs": [],
   "source": [
    "from google.colab import drive\n",
    "drive.mount('/content/gdrive')"
   ]
  },
  {
   "cell_type": "code",
   "execution_count": null,
   "metadata": {
    "cell_id": "00003-4c276560-2c50-4073-a75b-f79929856cc9",
    "execution_millis": 7,
    "execution_start": 1602774048586,
    "id": "_1DeRFrUzVGn",
    "output_cleared": false,
    "source_hash": "9b6e5a50"
   },
   "outputs": [
    {
     "name": "stdout",
     "output_type": "stream",
     "text": [
      "[Errno 2] No such file or directory: '/content/fuck/My Drive/ETHZ/Autumn2020/AML/Git/AML/Task_1/Solution'\n",
      "/home/jovyan\n"
     ]
    },
    {
     "data": {
      "text/plain": [
       "<module 'Components.data_fetching' from '/home/jovyan/work/AML/Task_1/Solution/Components/data_fetching.py'>"
      ]
     },
     "execution_count": 15,
     "metadata": {},
     "output_type": "execute_result"
    }
   ],
   "source": [
    "# General\n",
    "import matplotlib.pyplot as plt\n",
    "import pandas as pd\n",
    "import numpy as np\n",
    "\n",
    "# ML\n",
    "from sklearn.metrics import r2_score\n",
    "from sklearn.model_selection import KFold, cross_val_score, train_test_split, GridSearchCV\n",
    "from sklearn.pipeline import Pipeline\n",
    "from sklearn.preprocessing import QuantileTransformer\n",
    "from sklearn.experimental import enable_iterative_imputer\n",
    "from sklearn.impute import IterativeImputer, SimpleImputer\n",
    "from sklearn.linear_model import Ridge\n",
    "from sklearn.feature_selection import RFE\n",
    "\n",
    "import xgboost as xgb\n",
    "\n",
    "# Custom\n",
    "import sys,os\n",
    "%cd /content/fuck/My Drive/ETHZ/Autumn2020/AML/Git/AML/Task_1/Solution\n",
    "sys.path.append('/content/fuck/My Drive/ETHZ/Autumn2020/AML/Git/AML/Task_1/Solution')\n",
    "# sys.path.append('/home/jovyan/work/AML/Task_1/Solution') # I would like a cleaner solution but works for now\n",
    "# import Components.Imputation as Imputation\n",
    "# import Components.Outlier_Detection_1D as Outlier_Detection_1D\n",
    "# import Components.Outlier_Detection_ND as Outlier_Detection_ND\n",
    "# import Components.Feature_Selection as Feature_Selection\n",
    "# import Components.Normalisation as Normalisation\n",
    "import Components.data_fetching as data_fetching\n",
    "\n",
    "# # CAREFUL:\n",
    "# # If you make changes to a custom module, you have to reload it, i.e rerun this cell\n",
    "import importlib\n",
    "# importlib.reload(Imputation)\n",
    "# importlib.reload(Outlier_Detection_1D)\n",
    "# importlib.reload(Outlier_Detection_ND)\n",
    "# importlib.reload(Feature_Selection)\n",
    "# importlib.reload(Normalisation)\n",
    "importlib.reload(data_fetching)"
   ]
  },
  {
   "cell_type": "markdown",
   "metadata": {
    "cell_id": "00004-6983450e-d175-48e8-80fb-edf934ab347f",
    "output_cleared": false,
    "tags": []
   },
   "source": [
    "## Pipeline Optimisatoin"
   ]
  },
  {
   "cell_type": "code",
   "execution_count": null,
   "metadata": {
    "cell_id": "00005-30f41914-53e5-44f9-964b-ff0fc734a30c",
    "execution_millis": 1319,
    "execution_start": 1602765482772,
    "output_cleared": false,
    "source_hash": "5e11ebf5",
    "tags": []
   },
   "outputs": [],
   "source": [
    "X,y = data_fetching.get_train_data()\n",
    "y = np.ravel(y)\n",
    "x_test_final = data_fetching.get_test_data()"
   ]
  },
  {
   "cell_type": "code",
   "execution_count": null,
   "metadata": {
    "cell_id": "00005-69c8f127-dbd8-4f5c-b825-24a75726a468",
    "execution_millis": 6853,
    "execution_start": 1602765580806,
    "output_cleared": true,
    "source_hash": null,
    "tags": []
   },
   "outputs": [],
   "source": [
    "nrm = QuantileTransformer(output_distribution='normal')\n",
    "# imp = IterativeImputer(missing_values=np.nan, max_iter=10, initial_strategy='median' ,random_state=0)\n",
    "imp = SimpleImputer(strategy='mean')\n",
    "rfe = RFE(Ridge())\n",
    "boost = xgb.XGBRegressor(objective='reg:squarederror')\n",
    "\n",
    "pipe = Pipeline(steps=[('normalise', nrm),\n",
    "                        ('impute', imp),\n",
    "                        ('feature_select', rfe),\n",
    "                        ('regress', boost)])\n",
    "\n",
    "# Normalisation\n",
    "n_quants = [50,100]\n",
    "# Imputer\n",
    "# n_nearest_features = [10,20]\n",
    "# Feature Selection\n",
    "n_features = [30,50]\n",
    "# Model\n",
    "# max_depth = [2,3,4]\n",
    "learning_rate = [0.05, 0.15]\n",
    "n_estimators = [100, 200]\n",
    "\n",
    "parameters = dict(normalise__n_quantiles=n_quants,\n",
    "                    # impute__n_nearest_features=n_nearest_features,\n",
    "                    feature_select__n_features_to_select=n_features,\n",
    "                    regress__learning_rate=learning_rate,\n",
    "                    regress__n_estimators=n_estimators)\n",
    "\n",
    "clf = GridSearchCV(pipe, parameters)\n",
    "clf.fit(X, y)\n",
    "\n",
    "# View The Best Parameters\n",
    "print('n_quantiles=', clf.best_estimator_.get_params()['normalise__n_quantiles'])\n",
    "# print('n_nearest_features=', clf.best_estimator_.get_params()['impute__n_nearest_features'])\n",
    "print('n_features_to_select=', clf.best_estimator_.get_params()['feature_select__n_features_to_select'])\n",
    "print('learning_rate=', clf.best_estimator_.get_params()['regress__learning_rate'])\n",
    "print('n_estimators=', clf.best_estimator_.get_params()['regress__n_estimators'])\n",
    "best_n_quantiles= clf.best_estimator_.get_params()['normalise__n_quantiles']\n",
    "# best_n_nearest_features= clf.best_estimator_.get_params()['impute__n_nearest_features']\n",
    "best_n_features_to_select= clf.best_estimator_.get_params()['feature_select__n_features_to_select']\n",
    "best_learning_rate= clf.best_estimator_.get_params()['regress__learning_rate']\n",
    "best_n_estimators= clf.best_estimator_.get_params()['regress__n_estimators']\n",
    "\n",
    "# Output\n",
    "# n_quantiles= 50\n",
    "# n_features_to_select= 50\n",
    "# learning_rate= 0.05\n",
    "# n_estimators= 200"
   ]
  },
  {
   "cell_type": "markdown",
   "metadata": {
    "cell_id": "00010-8f38a686-19ab-42c8-ac87-4cc7e46b48dd",
    "output_cleared": false,
    "tags": []
   },
   "source": [
    "## Final Prediction"
   ]
  },
  {
   "cell_type": "code",
   "execution_count": null,
   "metadata": {
    "cell_id": "00011-12c13010-5fc2-4efd-9a8c-a8a1c9530532",
    "execution_millis": 1527,
    "execution_start": 1602697780422,
    "output_cleared": true,
    "source_hash": null,
    "tags": []
   },
   "outputs": [],
   "source": [
    "y_pred = clf.predict(x_test_final)\n",
    "plt.hist(y_pred)\n",
    "print(\"Train Score:\", r2_score(y, clf.predict(X)))\n",
    "\n",
    "y_pred_pd = pd.DataFrame(data=y_pred, columns=[\"y\"])\n",
    "y_pred_pd.to_csv('../Predictions/XGBoost_Optimised.csv', index_label='id')"
   ]
  }
 ],
 "metadata": {
  "colab": {
   "collapsed_sections": [],
   "name": "task1.ipynb",
   "provenance": []
  },
  "deepnote_execution_queue": [],
  "deepnote_notebook_id": "82227e64-999a-4665-9cd4-1c10481fafda",
  "kernelspec": {
   "display_name": "Python 3",
   "language": "python",
   "name": "python3"
  },
  "language_info": {
   "codemirror_mode": {
    "name": "ipython",
    "version": 3
   },
   "file_extension": ".py",
   "mimetype": "text/x-python",
   "name": "python",
   "nbconvert_exporter": "python",
   "pygments_lexer": "ipython3",
   "version": "3.7.4"
  }
 },
 "nbformat": 4,
 "nbformat_minor": 4
}
