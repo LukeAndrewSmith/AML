{
 "cells": [
  {
   "cell_type": "markdown",
   "metadata": {
    "cell_id": "00000-bd8c67f7-94b2-4996-a071-ef010fa02824",
    "output_cleared": false,
    "tags": []
   },
   "source": [
    "# Template Pipeline\n",
    "Normalisation&nbsp;&nbsp;&nbsp;&nbsp;&nbsp;&nbsp;&nbsp;&nbsp;&nbsp;&nbsp;&nbsp;&nbsp;&nbsp;&nbsp;&nbsp;&nbsp;&nbsp;&nbsp;\n",
    "**-**  \n",
    "Imputation 1&nbsp;&nbsp;&nbsp;&nbsp;&nbsp;&nbsp;&nbsp;&nbsp;&nbsp;&nbsp;&nbsp;&nbsp;&nbsp;&nbsp;&nbsp;&nbsp;&nbsp;&nbsp;&nbsp;&nbsp;\n",
    "**Median**  \n",
    "Outlier Detection&nbsp;&nbsp;&nbsp;&nbsp;&nbsp;&nbsp;&nbsp;&nbsp;&nbsp;&nbsp;&nbsp;&nbsp;&nbsp;\n",
    "**Z Score**  \n",
    "Imputation 2&nbsp;&nbsp;&nbsp;&nbsp;&nbsp;&nbsp;&nbsp;&nbsp;&nbsp;&nbsp;&nbsp;&nbsp;&nbsp;&nbsp;&nbsp;&nbsp;&nbsp;&nbsp;&nbsp;&nbsp;\n",
    "**Median**  \n",
    "Feature Selection&nbsp;&nbsp;&nbsp;&nbsp;&nbsp;&nbsp;&nbsp;&nbsp;&nbsp;&nbsp;&nbsp;\n",
    "**Implicit to model**  \n",
    "Model&nbsp;&nbsp;&nbsp;&nbsp;&nbsp;&nbsp;&nbsp;&nbsp;&nbsp;&nbsp;&nbsp;&nbsp;&nbsp;&nbsp;&nbsp;&nbsp;&nbsp;&nbsp;&nbsp;&nbsp;&nbsp;&nbsp;&nbsp;&nbsp;&nbsp;&nbsp;&nbsp;&nbsp;&nbsp;&nbsp;&nbsp;\n",
    "**Lasso Regression**\n"
   ]
  },
  {
   "cell_type": "markdown",
   "metadata": {
    "cell_id": "00001-1ddea1c8-c33b-4bb7-989e-85b67ed68c8d",
    "output_cleared": false,
    "tags": []
   },
   "source": [
    "## Imports"
   ]
  },
  {
   "cell_type": "code",
   "execution_count": null,
   "metadata": {
    "cell_id": "00002-12b068a4-c4dd-4cde-ae51-4b2476c42807",
    "execution_millis": 74,
    "execution_start": 1602667060578,
    "id": "_1DeRFrUzVGn",
    "output_cleared": false,
    "source_hash": "443d07ff"
   },
   "outputs": [
    {
     "data": {
      "text/plain": [
       "<module 'Components.data_fetching' from '/home/jovyan/work/AML/Task_1/Solution/Components/data_fetching.py'>"
      ]
     },
     "execution_count": 29,
     "metadata": {},
     "output_type": "execute_result"
    }
   ],
   "source": [
    "# General\n",
    "import matplotlib.pyplot as plt\n",
    "import pandas as pd\n",
    "import numpy as np\n",
    "#test\n",
    "#test 2\n",
    "# ML\n",
    "from sklearn.linear_model import LinearRegression, Lasso, BayesianRidge, LassoLarsCV, LassoCV\n",
    "from sklearn.metrics import r2_score\n",
    "from sklearn.model_selection import cross_validate\n",
    "from sklearn.model_selection import train_test_split\n",
    "from sklearn.impute import SimpleImputer\n",
    "from sklearn.model_selection import cross_val_score\n",
    "from sklearn.pipeline import Pipeline\n",
    "from sklearn.feature_selection import SelectFromModel\n",
    "from sklearn.tree import DecisionTreeRegressor\n",
    "from sklearn.ensemble import AdaBoostRegressor\n",
    "from sklearn.ensemble import GradientBoostingRegressor\n",
    "from sklearn.feature_selection import SelectKBest\n",
    "from sklearn.feature_selection import mutual_info_regression\n",
    "from sklearn.cluster import FeatureAgglomeration\n",
    "\n",
    "#from sklearn.preprocessing import StandardScaler\n",
    "\n",
    "# Custom\n",
    "import sys,os\n",
    "sys.path.append('/home/jovyan/work/AML/Task_1/Solution') # I would like a cleaner solution but works for now\n",
    "import Components.Imputation as Imputation\n",
    "import Components.Outlier_Detection_1D as Outlier_Detection_1D\n",
    "import Components.Outlier_Detection_ND as Outlier_Detection_ND\n",
    "import Components.Feature_Selection as Feature_Selection\n",
    "import Components.Normalisation as Normalisation\n",
    "import Components.data_fetching as data_fetching\n",
    "\n",
    "# CAREFUL:\n",
    "# If you make changes to a custom module, you have to reload it, i.e rerun this cell\n",
    "import importlib\n",
    "importlib.reload(Imputation)\n",
    "importlib.reload(Outlier_Detection_1D)\n",
    "importlib.reload(Outlier_Detection_ND)\n",
    "importlib.reload(Feature_Selection)\n",
    "importlib.reload(Normalisation)\n",
    "importlib.reload(data_fetching)"
   ]
  },
  {
   "cell_type": "markdown",
   "metadata": {
    "cell_id": "00003-dd799a2f-cbdd-474a-b368-c745380a55c2",
    "output_cleared": false,
    "tags": []
   },
   "source": [
    "## Data Cleaning"
   ]
  },
  {
   "cell_type": "markdown",
   "metadata": {
    "cell_id": "00004-029c0549-1430-42eb-b5c3-8322a8de6c53",
    "output_cleared": false,
    "tags": []
   },
   "source": [
    "### Data import"
   ]
  },
  {
   "cell_type": "code",
   "execution_count": null,
   "metadata": {
    "cell_id": "00005-72913d1e-f54f-4d56-a726-83a398623ae5",
    "execution_millis": 4591,
    "execution_start": 1602667060682,
    "output_cleared": false,
    "source_hash": "5446b28",
    "tags": []
   },
   "outputs": [],
   "source": [
    "x_train, y_train = data_fetching.get_train_data()\n",
    "x_test = data_fetching.get_test_data()\n"
   ]
  },
  {
   "cell_type": "markdown",
   "metadata": {
    "cell_id": "00006-a8ca106b-af3f-4119-985b-bbad413f3b80",
    "output_cleared": false,
    "tags": []
   },
   "source": [
    "### First (simple) imputation"
   ]
  },
  {
   "cell_type": "code",
   "execution_count": null,
   "metadata": {
    "cell_id": "00007-c1c51d87-ca51-459c-9d7e-cb196210a3a9",
    "execution_millis": 1814,
    "execution_start": 1602667065328,
    "output_cleared": false,
    "source_hash": "a0bb1ede",
    "tags": []
   },
   "outputs": [
    {
     "name": "stdout",
     "output_type": "stream",
     "text": [
      "Missing values before simple median imputation: \n",
      "76910\n",
      "Missing values after simple median imputation: \n",
      "0\n"
     ]
    }
   ],
   "source": [
    "print(\"Missing values before simple median imputation: \")\n",
    "print(x_train.isnull().sum().sum())\n",
    "missing_values = Imputation.missing_values_mask(x_train)\n",
    "\n",
    "x_train = Imputation.median(x_train, x_test)\n",
    "\n",
    "print(\"Missing values after simple median imputation: \")\n",
    "print(x_train.isnull().sum().sum())"
   ]
  },
  {
   "cell_type": "markdown",
   "metadata": {
    "cell_id": "00008-39d9dadd-2845-4807-88b7-4fb5aa60c472",
    "output_cleared": false,
    "tags": []
   },
   "source": [
    "### Normalisation "
   ]
  },
  {
   "cell_type": "code",
   "execution_count": null,
   "metadata": {
    "cell_id": "00009-de54f15a-2265-43ae-84f4-8e04172f6928",
    "execution_millis": 15590,
    "execution_start": 1602667067159,
    "output_cleared": false,
    "source_hash": "c24e1bfa",
    "tags": []
   },
   "outputs": [],
   "source": [
    "x_train = Normalisation.gaussian(x_train)\n",
    "x_test = Normalisation.gaussian(x_test)"
   ]
  },
  {
   "cell_type": "markdown",
   "metadata": {
    "cell_id": "00010-9795c77f-46b6-49b2-8ca0-cbe4d3a5865a",
    "output_cleared": false,
    "tags": []
   },
   "source": [
    "### Outlier detection"
   ]
  },
  {
   "cell_type": "markdown",
   "metadata": {
    "cell_id": "00011-5445e425-d318-4407-970a-0f18af3a6037",
    "output_cleared": false,
    "tags": []
   },
   "source": [
    "one-dimensional"
   ]
  },
  {
   "cell_type": "code",
   "execution_count": null,
   "metadata": {
    "cell_id": "00012-14287855-988e-442d-a5fb-172e9844ce0d",
    "execution_millis": 2856,
    "execution_start": 1602667082803,
    "output_cleared": false,
    "source_hash": "7467c962",
    "tags": []
   },
   "outputs": [
    {
     "name": "stdout",
     "output_type": "stream",
     "text": [
      "X (1212, 832)\n",
      "Missing values after outlier detection: \n",
      "1277\n"
     ]
    }
   ],
   "source": [
    "x_train = Outlier_Detection_1D.z_score(x_train)\n",
    "\n",
    "print(\"Missing values after outlier detection: \")\n",
    "print(x_train.isnull().sum().sum())"
   ]
  },
  {
   "cell_type": "markdown",
   "metadata": {
    "cell_id": "00013-1878400c-4456-4f30-a79b-4e12837030c5",
    "output_cleared": false,
    "tags": []
   },
   "source": [
    "multivariate"
   ]
  },
  {
   "cell_type": "code",
   "execution_count": null,
   "metadata": {
    "cell_id": "00014-cfbebf11-a0a1-4f01-bc66-adbbc2ff3f02",
    "execution_millis": 340,
    "execution_start": 1602667085696,
    "output_cleared": false,
    "source_hash": "8878addb",
    "tags": []
   },
   "outputs": [],
   "source": [
    "x_train, y_train, missing_values = Outlier_Detection_ND.magic_indices(x_train,y_train,n_outliers=100, mask=missing_values)\n",
    "## hp"
   ]
  },
  {
   "cell_type": "markdown",
   "metadata": {
    "cell_id": "00015-fdfc11fe-ffee-415c-be6e-3e287194b818",
    "output_cleared": false,
    "tags": []
   },
   "source": [
    "### Second (more sophisticated) Imputation"
   ]
  },
  {
   "cell_type": "code",
   "execution_count": null,
   "metadata": {
    "cell_id": "00016-8450f466-db1a-417e-aa49-ad6a92274cdc",
    "execution_millis": 579045,
    "execution_start": 1602667086157,
    "output_cleared": false,
    "source_hash": "926d2497",
    "tags": []
   },
   "outputs": [
    {
     "name": "stdout",
     "output_type": "stream",
     "text": [
      "Missing values after applying the missing value mask: \n",
      "71758\n",
      "/opt/venv/lib/python3.7/site-packages/sklearn/impute/_iterative.py:670: ConvergenceWarning: [IterativeImputer] Early stopping criterion not reached.\n",
      "  \" reached.\", ConvergenceWarning)\n",
      "Missing values after second round of imputation: \n",
      "0\n"
     ]
    }
   ],
   "source": [
    "x_train = x_train.mask(missing_values)\n",
    "print(\"Missing values after applying the missing value mask: \")\n",
    "print(x_train.isnull().sum().sum())\n",
    "\n",
    "x_train, x_test = Imputation.iterative_regression2(x_train,x_test) #hp\n",
    "\n",
    "\n",
    "print(\"Missing values after second round of imputation: \")\n",
    "print(x_train.isnull().sum().sum())\n"
   ]
  },
  {
   "cell_type": "markdown",
   "metadata": {
    "cell_id": "00017-6322a618-96c6-4ef9-86c3-b7099e69c754",
    "output_cleared": false,
    "tags": []
   },
   "source": [
    "## Feature selection and Model Training"
   ]
  },
  {
   "cell_type": "code",
   "execution_count": null,
   "metadata": {
    "cell_id": "00018-874c5570-6fdf-482c-83f9-274180959359",
    "execution_millis": 35,
    "execution_start": 1602667665243,
    "output_cleared": false,
    "source_hash": "8e7b1c4e",
    "tags": []
   },
   "outputs": [],
   "source": [
    "\n",
    "\n",
    "#pipe = Pipeline([('feature_selection', SelectFromModel(LassoLarsCV())),('regressor', AdaBoostRegressor(DecisionTreeRegressor(max_depth=4),\n",
    "  #                        n_estimators=300))])\n",
    "\n",
    "#pipe = Pipeline([('feature_selection1',SelectKBest(mutual_info_regression, k=200)),('feature_selection2', SelectFromModel(LassoLarsCV())),\n",
    "#('regressor', GradientBoostingRegressor(n_estimators=100))])\n",
    "\n",
    "# hp: which method to choose for feature selection and regression"
   ]
  },
  {
   "cell_type": "code",
   "execution_count": null,
   "metadata": {
    "cell_id": "00019-0d63013c-5caf-4e74-91f1-674aee662315",
    "execution_millis": 30,
    "execution_start": 1602669205280,
    "output_cleared": false,
    "source_hash": "72f59cd2",
    "tags": []
   },
   "outputs": [],
   "source": [
    "pipe = Pipeline([('feature_selection1',SelectKBest(mutual_info_regression, k=400)),\n",
    "    ('dimensionality reduction', FeatureAgglomeration(n_clusters=100)),\n",
    "    ('feature_selection2',SelectKBest(mutual_info_regression, k=40)),\n",
    "    ('regressor', GradientBoostingRegressor(n_estimators=100))])"
   ]
  },
  {
   "cell_type": "markdown",
   "metadata": {
    "cell_id": "00020-bf9af699-1b15-433e-a573-04245b5b7c43",
    "output_cleared": false,
    "tags": []
   },
   "source": [
    "### Cross Validation"
   ]
  },
  {
   "cell_type": "code",
   "execution_count": null,
   "metadata": {
    "cell_id": "00021-53f9aabe-30c5-427d-a1f2-8738b28cfd4b",
    "execution_millis": 290198,
    "execution_start": 1602669212733,
    "output_cleared": false,
    "source_hash": "d1245ac6",
    "tags": []
   },
   "outputs": [
    {
     "name": "stdout",
     "output_type": "stream",
     "text": [
      "[0.65790582 0.62296401 0.47226377 0.63383984 0.63741504]\n",
      "0.6048776943736557\n"
     ]
    }
   ],
   "source": [
    "scores = cross_val_score(pipe, x_train, np.ravel(y_train), cv=5, scoring='r2')\n",
    "print(scores)\n",
    "print(np.mean(scores))"
   ]
  },
  {
   "cell_type": "markdown",
   "metadata": {
    "cell_id": "00022-e65a8521-6aad-4496-a546-acfc2c01d4d8",
    "output_cleared": false,
    "tags": []
   },
   "source": [
    "## Final Prediction"
   ]
  },
  {
   "cell_type": "code",
   "execution_count": null,
   "metadata": {
    "cell_id": "00023-426c066e-af8d-4b12-b488-5e0f556134da",
    "execution_millis": 53331,
    "execution_start": 1602667897480,
    "output_cleared": false,
    "source_hash": "2cbc7de1",
    "tags": []
   },
   "outputs": [
    {
     "data": {
      "text/plain": [
       "Pipeline(steps=[('dimensionality reduction',\n",
       "                 FeatureAgglomeration(n_clusters=400)),\n",
       "                ('feature_selection1',\n",
       "                 SelectKBest(k=50,\n",
       "                             score_func=<function mutual_info_regression at 0x7f8a4763f400>)),\n",
       "                ('regressor', GradientBoostingRegressor())])"
      ]
     },
     "execution_count": 39,
     "metadata": {},
     "output_type": "execute_result"
    }
   ],
   "source": [
    "pipe.fit(x_train, np.ravel(y_train))"
   ]
  },
  {
   "cell_type": "code",
   "execution_count": null,
   "metadata": {
    "cell_id": "00024-d085fd87-eff7-4202-8c59-214dd23ffb2e",
    "execution_millis": 1381,
    "execution_start": 1602667950812,
    "output_cleared": false,
    "source_hash": "9a904ee2",
    "tags": []
   },
   "outputs": [
    {
     "data": {
      "image/png": "[encoded data removed]",
      "text/plain": [
       "<Figure size 432x288 with 1 Axes>"
      ]
     },
     "metadata": {
      "needs_background": "light"
     },
     "output_type": "display_data"
    }
   ],
   "source": [
    "\n",
    "\n",
    "# Note: They said no outliers were introduced in x_test so no need to perform outlier detection\n",
    "y_pred = pipe.predict(x_test)\n",
    "plt.hist(y_pred)\n",
    "\n",
    "y_pred_pd = pd.DataFrame(data=y_pred, columns=[\"y\"])\n",
    "y_pred_pd.to_csv('../../Predictions/mutual_info_LassoLarsCV_tree_boost.csv', index_label='id')"
   ]
  },
  {
   "cell_type": "code",
   "execution_count": null,
   "metadata": {
    "cell_id": "00025-f617a066-843f-44e4-8221-ba4ab4201fbb",
    "execution_millis": 31,
    "execution_start": 1602667952206,
    "output_cleared": false,
    "source_hash": "c4b89d3d",
    "tags": []
   },
   "outputs": [
    {
     "data": {
      "text/plain": [
       "{'dimensionality reduction': FeatureAgglomeration(n_clusters=400),\n",
       " 'feature_selection1': SelectKBest(k=50,\n",
       "             score_func=<function mutual_info_regression at 0x7f8a4763f400>),\n",
       " 'regressor': GradientBoostingRegressor()}"
      ]
     },
     "execution_count": 41,
     "metadata": {},
     "output_type": "execute_result"
    }
   ],
   "source": [
    "pipe.named_steps"
   ]
  }
 ],
 "metadata": {
  "colab": {
   "collapsed_sections": [],
   "name": "task1.ipynb",
   "provenance": []
  },
  "deepnote_execution_queue": [],
  "deepnote_notebook_id": "bb0c16af-4698-414d-a14a-ce85f87226f3",
  "environment": {
   "name": "common-cpu.m58",
   "type": "gcloud",
   "uri": "gcr.io/deeplearning-platform-release/base-cpu:m58"
  },
  "kernelspec": {
   "display_name": "Python 3",
   "language": "python",
   "name": "python3"
  },
  "language_info": {
   "codemirror_mode": {
    "name": "ipython",
    "version": 3
   },
   "file_extension": ".py",
   "mimetype": "text/x-python",
   "name": "python",
   "nbconvert_exporter": "python",
   "pygments_lexer": "ipython3",
   "version": "3.7.8"
  }
 },
 "nbformat": 4,
 "nbformat_minor": 4
}
