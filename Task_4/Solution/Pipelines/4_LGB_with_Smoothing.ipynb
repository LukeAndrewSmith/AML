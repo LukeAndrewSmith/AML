{
 "cells": [
  {
   "cell_type": "code",
   "execution_count": 121,
   "metadata": {},
   "outputs": [
    {
     "data": {
      "text/plain": [
       "<module 'Components.Smoothing_Classifier' from '../Components/Smoothing_Classifier.py'>"
      ]
     },
     "execution_count": 121,
     "metadata": {},
     "output_type": "execute_result"
    }
   ],
   "source": [
    "# General\n",
    "import matplotlib.pyplot as plt\n",
    "import pandas as pd\n",
    "import numpy as np\n",
    "from pprint import pprint\n",
    "\n",
    "# ML\n",
    "from sklearn.pipeline import Pipeline\n",
    "from sklearn.model_selection import cross_val_score\n",
    "from sklearn.preprocessing import StandardScaler\n",
    "import xgboost as xgb\n",
    "import lightgbm as lgb \n",
    "\n",
    "# Custom\n",
    "import sys,os\n",
    "sys.path.append( '.' )\n",
    "sys.path.append( '..' )\n",
    "import Components.data_fetching as data_fetching\n",
    "import Components.feature_extraction as feature_extraction\n",
    "import Components.Classifying_Transformer as clt\n",
    "import Components.Smoothing_Classifier as smcl\n",
    "\n",
    "# CAREFUL:\n",
    "# If you make changes to a custom module, you have to reload it, i.e rerun this cell\n",
    "import importlib\n",
    "importlib.reload(data_fetching)\n",
    "importlib.reload(feature_extraction)\n",
    "importlib.reload(clt)\n",
    "importlib.reload(smcl)"
   ]
  },
  {
   "cell_type": "markdown",
   "metadata": {},
   "source": [
    "# Data Fetching"
   ]
  },
  {
   "cell_type": "code",
   "execution_count": 2,
   "metadata": {},
   "outputs": [],
   "source": [
    "_, y = data_fetching.get_train_data()\n",
    "y = np.ravel(y)"
   ]
  },
  {
   "cell_type": "code",
   "execution_count": 94,
   "metadata": {},
   "outputs": [],
   "source": [
    "X = feature_extraction.get_features(None, precomputed='train')\n",
    "X_test = feature_extraction.get_features(None, precomputed='test')"
   ]
  },
  {
   "cell_type": "markdown",
   "metadata": {},
   "source": [
    "# Cross-validation"
   ]
  },
  {
   "cell_type": "code",
   "execution_count": 109,
   "metadata": {},
   "outputs": [
    {
     "data": {
      "text/plain": [
       "array([[3],\n",
       "       [3],\n",
       "       [2],\n",
       "       ...,\n",
       "       [1],\n",
       "       [1],\n",
       "       [1]])"
      ]
     },
     "execution_count": 109,
     "metadata": {},
     "output_type": "execute_result"
    }
   ],
   "source": [
    "tr = clt.Classifying_Transformer(lgb.LGBMClassifier(class_weight = 'balanced'))\n",
    "output = tr.fit_transform(X,y)\n",
    "output"
   ]
  },
  {
   "cell_type": "code",
   "execution_count": null,
   "metadata": {},
   "outputs": [],
   "source": [
    "output."
   ]
  },
  {
   "cell_type": "code",
   "execution_count": 103,
   "metadata": {},
   "outputs": [
    {
     "data": {
      "text/html": [
       "<div>\n",
       "<style scoped>\n",
       "    .dataframe tbody tr th:only-of-type {\n",
       "        vertical-align: middle;\n",
       "    }\n",
       "\n",
       "    .dataframe tbody tr th {\n",
       "        vertical-align: top;\n",
       "    }\n",
       "\n",
       "    .dataframe thead th {\n",
       "        text-align: right;\n",
       "    }\n",
       "</style>\n",
       "<table border=\"1\" class=\"dataframe\">\n",
       "  <thead>\n",
       "    <tr style=\"text-align: right;\">\n",
       "      <th></th>\n",
       "      <th>0</th>\n",
       "    </tr>\n",
       "  </thead>\n",
       "  <tbody>\n",
       "    <tr>\n",
       "      <th>0</th>\n",
       "      <td>3</td>\n",
       "    </tr>\n",
       "    <tr>\n",
       "      <th>1</th>\n",
       "      <td>3</td>\n",
       "    </tr>\n",
       "    <tr>\n",
       "      <th>2</th>\n",
       "      <td>2</td>\n",
       "    </tr>\n",
       "    <tr>\n",
       "      <th>3</th>\n",
       "      <td>3</td>\n",
       "    </tr>\n",
       "    <tr>\n",
       "      <th>4</th>\n",
       "      <td>3</td>\n",
       "    </tr>\n",
       "    <tr>\n",
       "      <th>...</th>\n",
       "      <td>...</td>\n",
       "    </tr>\n",
       "    <tr>\n",
       "      <th>64795</th>\n",
       "      <td>1</td>\n",
       "    </tr>\n",
       "    <tr>\n",
       "      <th>64796</th>\n",
       "      <td>1</td>\n",
       "    </tr>\n",
       "    <tr>\n",
       "      <th>64797</th>\n",
       "      <td>1</td>\n",
       "    </tr>\n",
       "    <tr>\n",
       "      <th>64798</th>\n",
       "      <td>1</td>\n",
       "    </tr>\n",
       "    <tr>\n",
       "      <th>64799</th>\n",
       "      <td>1</td>\n",
       "    </tr>\n",
       "  </tbody>\n",
       "</table>\n",
       "<p>64800 rows × 1 columns</p>\n",
       "</div>"
      ],
      "text/plain": [
       "       0\n",
       "0      3\n",
       "1      3\n",
       "2      2\n",
       "3      3\n",
       "4      3\n",
       "...   ..\n",
       "64795  1\n",
       "64796  1\n",
       "64797  1\n",
       "64798  1\n",
       "64799  1\n",
       "\n",
       "[64800 rows x 1 columns]"
      ]
     },
     "execution_count": 103,
     "metadata": {},
     "output_type": "execute_result"
    }
   ],
   "source": [
    "pd.DataFrame(output)"
   ]
  },
  {
   "cell_type": "code",
   "execution_count": 133,
   "metadata": {},
   "outputs": [],
   "source": [
    "pipe = Pipeline([('scaling',StandardScaler()),\n",
    "                 ('individual_classification', clt.Classifying_Transformer(lgb.LGBMClassifier(class_weight = 'balanced'))),\n",
    "                 ('smoothing', smcl.Smoothing_Classifier(lgb.LGBMClassifier(class_weight = 'balanced'), lag= 200, border_vote = 5))])"
   ]
  },
  {
   "cell_type": "code",
   "execution_count": 123,
   "metadata": {},
   "outputs": [
    {
     "data": {
      "text/plain": [
       "array([1, 1, 1, ..., 1, 1, 1])"
      ]
     },
     "execution_count": 123,
     "metadata": {},
     "output_type": "execute_result"
    }
   ],
   "source": [
    "pipe.fit(X,y)\n",
    "pipe.predict(X_test)"
   ]
  },
  {
   "cell_type": "code",
   "execution_count": 135,
   "metadata": {},
   "outputs": [
    {
     "name": "stdout",
     "output_type": "stream",
     "text": [
      "[0.9153276  0.93434409 0.95115538 0.92700013 0.96559198 0.96464306\n",
      " 0.95661966 0.92412377 0.94592372 0.94286516]\n",
      "0.9427594548092839\n"
     ]
    }
   ],
   "source": [
    "# 10-fold cross validation\n",
    "cv_score = cross_val_score(pipe, X, y, cv=10, scoring='balanced_accuracy', n_jobs=16)\n",
    "print(cv_score)\n",
    "print(np.mean(cv_score))\n",
    "\n",
    "# Results\n",
    "# Univariate:\n",
    "# [0.89757557 0.92140442 0.93921128 0.93053365 0.92786127 0.94813602\n",
    "#  0.94736384 0.93639493 0.92317302 0.90670064]\n",
    "# 0.9278354652022862\n",
    "\n",
    "# Univariate + Bivariate:\n",
    "#[0.90347486 0.92410507 0.94056357 0.93016137 0.92783613 0.94582218\n",
    "# 0.95304799 0.93762358 0.92989084 0.89881094]\n",
    "#0.9291336524084614\n",
    "\n",
    "#LGB balanced all MNE features\n",
    "#[0.91248291 0.93757551 0.93776122 0.94559858 0.94700759 0.95800639\n",
    " #0.96195897 0.96088698 0.95638669 0.93146697]\n",
    "#0.9449131810551336\n",
    "\n",
    "# both steps LGB, lag 5, border-vote 5\n",
    "#[0.91492283 0.929152   0.95049465 0.92541262 0.95753246 0.9655349\n",
    "# 0.95613847 0.89900996 0.94648237 0.92929171]\n",
    "#0.9373971958502845\n",
    "\n",
    "# both steps LGB, lag 10, border-vote 5\n",
    "#[0.91446038 0.93173807 0.95028022 0.92681036 0.96407263 0.96591643\n",
    "# 0.95648627 0.92441876 0.94677756 0.93393272]\n",
    "#0.9414893410715848\n",
    "\n",
    "# both steps LGB, lag 100, border-vote 5\n",
    "#[0.91397036 0.9346743  0.95067074 0.9264629  0.96606772 0.9643442\n",
    "# 0.95588623 0.93290301 0.94710545 0.93966206]\n",
    "# 0.9431746972865408\n",
    "\n",
    "# both steps LGB, lag 200, border-vote 5\n",
    "#[0.9153276  0.93434409 0.95115538 0.92700013 0.96559198 0.96464306\n",
    "# 0.95661966 0.92412377 0.94592372 0.94286516]\n",
    "# 0.9427594548092839\n"
   ]
  },
  {
   "cell_type": "code",
   "execution_count": 134,
   "metadata": {},
   "outputs": [
    {
     "name": "stdout",
     "output_type": "stream",
     "text": [
      "[0.5985031  0.95719145 0.87924913]\n",
      "0.8116478914896422\n"
     ]
    }
   ],
   "source": [
    "# Train on 2 subjects, test on the other\n",
    "n_epochs = 21600\n",
    "splits = [(np.r_[0:2*n_epochs], np.r_[2*n_epochs:3*n_epochs]),\n",
    " (np.r_[0:n_epochs, 2*n_epochs:3*n_epochs], np.r_[n_epochs:2*n_epochs]),\n",
    " (np.r_[n_epochs:3*n_epochs], np.r_[0:n_epochs])]\n",
    "\n",
    "# format: \n",
    "# [(train_indices, test_indices),\n",
    "#    (train_indices, test_indices),....]\n",
    "\n",
    "cv_score = cross_val_score(pipe, X, y, cv=splits, scoring='balanced_accuracy',n_jobs=16)\n",
    "print(cv_score)\n",
    "print(np.mean(cv_score))\n",
    "\n",
    "#LGB all MNE features\n",
    "#[0.70943547 0.95720017 0.88320811]\n",
    "#0.8499479178461647\n",
    "\n",
    "# both steps LGB, lag 5, border-vote 5\n",
    "#[0.5997921  0.95668261 0.8793381 ]\n",
    "#0.8119376038984457\n",
    "\n",
    "# both steps LGB, lag 10, border-vote 5\n",
    "#[0.60192032 0.95705123 0.87927879]\n",
    "#0.8127501105221282\n",
    "\n",
    "# both steps LGB, lag 100, border-vote 5\n",
    "#[0.60703004 0.95650736 0.8793381 ]\n",
    "#0.814291835327246\n",
    "\n",
    "# both steps LGB, lag 200, border-vote 5\n",
    "#[0.5985031  0.95719145 0.87924913]\n",
    "#0.8116478914896422"
   ]
  },
  {
   "cell_type": "markdown",
   "metadata": {},
   "source": [
    "# Prediction"
   ]
  },
  {
   "cell_type": "code",
   "execution_count": 27,
   "metadata": {},
   "outputs": [],
   "source": [
    "pipe = Pipeline([('scaling',StandardScaler()),\n",
    "                 ('classification', lgb.LGBMClassifier(class_weight = 'balanced'))])"
   ]
  },
  {
   "cell_type": "code",
   "execution_count": 4,
   "metadata": {},
   "outputs": [
    {
     "data": {
      "text/plain": [
       "(array([19575.,     0.,     0.,     0.,     0., 21814.,     0.,     0.,\n",
       "            0.,  1811.]),\n",
       " array([1. , 1.2, 1.4, 1.6, 1.8, 2. , 2.2, 2.4, 2.6, 2.8, 3. ]),\n",
       " <BarContainer object of 10 artists>)"
      ]
     },
     "execution_count": 4,
     "metadata": {},
     "output_type": "execute_result"
    },
    {
     "data": {
      "image/png": "[encoded data removed]",
      "text/plain": [
       "<Figure size 432x288 with 1 Axes>"
      ]
     },
     "metadata": {
      "needs_background": "light"
     },
     "output_type": "display_data"
    }
   ],
   "source": [
    "pipe.fit(X,y)\n",
    "y_pred = pipe.predict(X_test)\n",
    "plt.hist(y_pred)\n",
    "\n",
    "y_pred_pd = pd.DataFrame(data=y_pred, columns=[\"y\"])\n",
    "y_pred_pd.to_csv('../../Predictions/LGB_Standard_MNE_Features_All.csv', index_label='Id')"
   ]
  },
  {
   "cell_type": "code",
   "execution_count": null,
   "metadata": {},
   "outputs": [],
   "source": []
  },
  {
   "cell_type": "markdown",
   "metadata": {},
   "source": [
    "# Plots"
   ]
  },
  {
   "cell_type": "markdown",
   "metadata": {},
   "source": [
    "**sleep stages of first subject**"
   ]
  },
  {
   "cell_type": "code",
   "execution_count": 29,
   "metadata": {},
   "outputs": [
    {
     "data": {
      "text/plain": [
       "Pipeline(steps=[('scaling', StandardScaler()),\n",
       "                ('classification', LGBMClassifier(class_weight='balanced'))])"
      ]
     },
     "execution_count": 29,
     "metadata": {},
     "output_type": "execute_result"
    }
   ],
   "source": [
    "n_epochs = 21600\n",
    "X_train_split = X[:2*n_epochs]\n",
    "y_train_split = y[:2*n_epochs]\n",
    "pipe.fit(X_train_split, y_train_split)"
   ]
  },
  {
   "cell_type": "code",
   "execution_count": 30,
   "metadata": {},
   "outputs": [],
   "source": [
    "y_train_pred = pipe.predict(X[2*n_epochs:])"
   ]
  },
  {
   "cell_type": "code",
   "execution_count": 66,
   "metadata": {},
   "outputs": [],
   "source": [
    "y_ind_pred =y_train_pred\n",
    "border_vote = 5\n",
    "lag = 3"
   ]
  },
  {
   "cell_type": "code",
   "execution_count": 79,
   "metadata": {},
   "outputs": [],
   "source": [
    "X = pd.DataFrame(y_ind_pred)\n",
    "# earlier values\n",
    "start_border = np.bincount(y_ind_pred[:border_vote-1]).argmax()\n",
    "for f in range(-1* lag, 0):\n",
    "    X[f] = X[0].shift(periods=-f, fill_value = start_border)\n",
    "end_border = np.bincount(y_ind_pred[-1*border_vote:]).argmax()\n",
    "# later values\n",
    "for f in range(1,lag + 1):\n",
    "    X[f] = X[0].shift(periods=-f, fill_value = end_border)"
   ]
  },
  {
   "cell_type": "code",
   "execution_count": 81,
   "metadata": {},
   "outputs": [
    {
     "data": {
      "text/html": [
       "<div>\n",
       "<style scoped>\n",
       "    .dataframe tbody tr th:only-of-type {\n",
       "        vertical-align: middle;\n",
       "    }\n",
       "\n",
       "    .dataframe tbody tr th {\n",
       "        vertical-align: top;\n",
       "    }\n",
       "\n",
       "    .dataframe thead th {\n",
       "        text-align: right;\n",
       "    }\n",
       "</style>\n",
       "<table border=\"1\" class=\"dataframe\">\n",
       "  <thead>\n",
       "    <tr style=\"text-align: right;\">\n",
       "      <th></th>\n",
       "      <th>0</th>\n",
       "      <th>-3</th>\n",
       "      <th>-2</th>\n",
       "      <th>-1</th>\n",
       "      <th>1</th>\n",
       "      <th>2</th>\n",
       "      <th>3</th>\n",
       "    </tr>\n",
       "  </thead>\n",
       "  <tbody>\n",
       "    <tr>\n",
       "      <th>0</th>\n",
       "      <td>2</td>\n",
       "      <td>2</td>\n",
       "      <td>2</td>\n",
       "      <td>2</td>\n",
       "      <td>2</td>\n",
       "      <td>2</td>\n",
       "      <td>2</td>\n",
       "    </tr>\n",
       "    <tr>\n",
       "      <th>1</th>\n",
       "      <td>2</td>\n",
       "      <td>2</td>\n",
       "      <td>2</td>\n",
       "      <td>2</td>\n",
       "      <td>2</td>\n",
       "      <td>2</td>\n",
       "      <td>2</td>\n",
       "    </tr>\n",
       "    <tr>\n",
       "      <th>2</th>\n",
       "      <td>2</td>\n",
       "      <td>2</td>\n",
       "      <td>2</td>\n",
       "      <td>2</td>\n",
       "      <td>2</td>\n",
       "      <td>2</td>\n",
       "      <td>1</td>\n",
       "    </tr>\n",
       "    <tr>\n",
       "      <th>3</th>\n",
       "      <td>2</td>\n",
       "      <td>2</td>\n",
       "      <td>2</td>\n",
       "      <td>2</td>\n",
       "      <td>2</td>\n",
       "      <td>1</td>\n",
       "      <td>1</td>\n",
       "    </tr>\n",
       "    <tr>\n",
       "      <th>4</th>\n",
       "      <td>2</td>\n",
       "      <td>2</td>\n",
       "      <td>2</td>\n",
       "      <td>2</td>\n",
       "      <td>1</td>\n",
       "      <td>1</td>\n",
       "      <td>1</td>\n",
       "    </tr>\n",
       "    <tr>\n",
       "      <th>5</th>\n",
       "      <td>1</td>\n",
       "      <td>2</td>\n",
       "      <td>2</td>\n",
       "      <td>2</td>\n",
       "      <td>1</td>\n",
       "      <td>1</td>\n",
       "      <td>1</td>\n",
       "    </tr>\n",
       "    <tr>\n",
       "      <th>6</th>\n",
       "      <td>1</td>\n",
       "      <td>2</td>\n",
       "      <td>2</td>\n",
       "      <td>1</td>\n",
       "      <td>1</td>\n",
       "      <td>1</td>\n",
       "      <td>1</td>\n",
       "    </tr>\n",
       "    <tr>\n",
       "      <th>7</th>\n",
       "      <td>1</td>\n",
       "      <td>2</td>\n",
       "      <td>1</td>\n",
       "      <td>1</td>\n",
       "      <td>1</td>\n",
       "      <td>1</td>\n",
       "      <td>1</td>\n",
       "    </tr>\n",
       "    <tr>\n",
       "      <th>8</th>\n",
       "      <td>1</td>\n",
       "      <td>1</td>\n",
       "      <td>1</td>\n",
       "      <td>1</td>\n",
       "      <td>1</td>\n",
       "      <td>1</td>\n",
       "      <td>1</td>\n",
       "    </tr>\n",
       "    <tr>\n",
       "      <th>9</th>\n",
       "      <td>1</td>\n",
       "      <td>1</td>\n",
       "      <td>1</td>\n",
       "      <td>1</td>\n",
       "      <td>1</td>\n",
       "      <td>1</td>\n",
       "      <td>1</td>\n",
       "    </tr>\n",
       "  </tbody>\n",
       "</table>\n",
       "</div>"
      ],
      "text/plain": [
       "    0  -3  -2  -1   1   2   3\n",
       "0   2   2   2   2   2   2   2\n",
       "1   2   2   2   2   2   2   2\n",
       "2   2   2   2   2   2   2   1\n",
       "3   2   2   2   2   2   1   1\n",
       "4   2   2   2   2   1   1   1\n",
       "5   1   2   2   2   1   1   1\n",
       "6   1   2   2   1   1   1   1\n",
       "7   1   2   1   1   1   1   1\n",
       "8   1   1   1   1   1   1   1\n",
       "9   1   1   1   1   1   1   1"
      ]
     },
     "execution_count": 81,
     "metadata": {},
     "output_type": "execute_result"
    }
   ],
   "source": [
    "X.iloc[:10]"
   ]
  },
  {
   "cell_type": "code",
   "execution_count": 83,
   "metadata": {},
   "outputs": [
    {
     "data": {
      "text/plain": [
       "<matplotlib.collections.PathCollection at 0x7ff079766a90>"
      ]
     },
     "execution_count": 83,
     "metadata": {},
     "output_type": "execute_result"
    },
    {
     "data": {
      "image/png": "[encoded data removed]",
      "text/plain": [
       "<Figure size 720x360 with 1 Axes>"
      ]
     },
     "metadata": {
      "needs_background": "light"
     },
     "output_type": "display_data"
    }
   ],
   "source": [
    "stages=y[2*n_epochs+9000:2*n_epochs+9100]\n",
    "time = range(len(stages))\n",
    "plt.gcf().set_size_inches(*(10,5))\n",
    "plt.scatter(time, stages, s=1)"
   ]
  },
  {
   "cell_type": "code",
   "execution_count": 61,
   "metadata": {},
   "outputs": [
    {
     "data": {
      "text/plain": [
       "<matplotlib.collections.PathCollection at 0x7ff0799cf150>"
      ]
     },
     "execution_count": 61,
     "metadata": {},
     "output_type": "execute_result"
    },
    {
     "data": {
      "image/png": "[encoded data removed]",
      "text/plain": [
       "<Figure size 720x360 with 1 Axes>"
      ]
     },
     "metadata": {
      "needs_background": "light"
     },
     "output_type": "display_data"
    }
   ],
   "source": [
    "stages_pred = y_train_pred[9000:10000]\n",
    "time = range(len(stages_pred))\n",
    "plt.gcf().set_size_inches(*(10,5))\n",
    "plt.scatter(time, stages_pred, s=1)"
   ]
  }
 ],
 "metadata": {
  "environment": {
   "name": "common-cpu.m58",
   "type": "gcloud",
   "uri": "gcr.io/deeplearning-platform-release/base-cpu:m58"
  },
  "kernelspec": {
   "display_name": "Python 3",
   "language": "python",
   "name": "python3"
  },
  "language_info": {
   "codemirror_mode": {
    "name": "ipython",
    "version": 3
   },
   "file_extension": ".py",
   "mimetype": "text/x-python",
   "name": "python",
   "nbconvert_exporter": "python",
   "pygments_lexer": "ipython3",
   "version": "3.7.8"
  }
 },
 "nbformat": 4,
 "nbformat_minor": 4
}
