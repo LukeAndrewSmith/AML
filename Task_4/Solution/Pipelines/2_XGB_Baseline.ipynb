{
 "cells": [
  {
   "cell_type": "code",
   "execution_count": 1,
   "metadata": {},
   "outputs": [
    {
     "data": {
      "text/plain": [
       "<module 'Components.feature_extraction' from '../Components/feature_extraction.py'>"
      ]
     },
     "execution_count": 1,
     "metadata": {},
     "output_type": "execute_result"
    }
   ],
   "source": [
    "# General\n",
    "import matplotlib.pyplot as plt\n",
    "import pandas as pd\n",
    "import numpy as np\n",
    "from pprint import pprint\n",
    "\n",
    "# ML\n",
    "from sklearn.pipeline import Pipeline\n",
    "from sklearn.model_selection import cross_val_score\n",
    "from sklearn.preprocessing import StandardScaler\n",
    "import xgboost as xgb\n",
    "\n",
    "# Custom\n",
    "import sys,os\n",
    "sys.path.append( '.' )\n",
    "sys.path.append( '..' )\n",
    "import Components.data_fetching as data_fetching\n",
    "import Components.feature_extraction as feature_extraction\n",
    "\n",
    "# CAREFUL:\n",
    "# If you make changes to a custom module, you have to reload it, i.e rerun this cell\n",
    "import importlib\n",
    "importlib.reload(data_fetching)\n",
    "importlib.reload(feature_extraction)"
   ]
  },
  {
   "cell_type": "markdown",
   "metadata": {},
   "source": [
    "# Data Fetching"
   ]
  },
  {
   "cell_type": "code",
   "execution_count": 4,
   "metadata": {},
   "outputs": [],
   "source": [
    "_, y = data_fetching.get_train_data()\n",
    "y = np.ravel(y)\n",
    "\n",
    "X = feature_extraction.get_features(None, precomputed='train')\n",
    "X_test = feature_extraction.get_features(None, precomputed='test')"
   ]
  },
  {
   "cell_type": "markdown",
   "metadata": {},
   "source": [
    "# Cross-validation"
   ]
  },
  {
   "cell_type": "code",
   "execution_count": 5,
   "metadata": {},
   "outputs": [
    {
     "name": "stdout",
     "output_type": "stream",
     "text": [
      "[0.90347486 0.92410507 0.94056357 0.93016137 0.92783613 0.94582218\n",
      " 0.95304799 0.93762358 0.92989084 0.89881094]\n",
      "0.9291336524084614\n"
     ]
    }
   ],
   "source": [
    "scaler = StandardScaler()\n",
    "X_2 = scaler.fit_transform(X,y)\n",
    "\n",
    "clf = xgb.XGBClassifier()\n",
    "cv_score = cross_val_score(clf, X_2, y, cv=10, scoring='balanced_accuracy')\n",
    "print(cv_score)\n",
    "print(np.mean(cv_score))\n",
    "\n",
    "# Results\n",
    "# Univariate:\n",
    "# [0.89757557 0.92140442 0.93921128 0.93053365 0.92786127 0.94813602\n",
    "#  0.94736384 0.93639493 0.92317302 0.90670064]\n",
    "# 0.9278354652022862\n",
    "\n",
    "# Univariate + Bivariate:\n",
    "[0.90347486 0.92410507 0.94056357 0.93016137 0.92783613 0.94582218\n",
    " 0.95304799 0.93762358 0.92989084 0.89881094]\n",
    "0.9291336524084614"
   ]
  },
  {
   "cell_type": "code",
   "execution_count": null,
   "metadata": {},
   "outputs": [],
   "source": [
    "# TODO: Train on 2 subjects, test on the other\n",
    "\n",
    "# n_epochs = 21600\n",
    "# x_train_train = X.iloc[0:2*n_epochs]\n",
    "# y_train_train = y.iloc[0:2*n_epochs]\n",
    "# x_train_test = X.iloc[2*n_epochs:3*n_epochs]\n",
    "# y_train_test = y.iloc[2*n_epochs:3*n_epochs]"
   ]
  },
  {
   "cell_type": "markdown",
   "metadata": {},
   "source": [
    "# Prediction"
   ]
  },
  {
   "cell_type": "code",
   "execution_count": 8,
   "metadata": {},
   "outputs": [
    {
     "data": {
      "text/plain": [
       "(array([19719.,     0.,     0.,     0.,     0., 21937.,     0.,     0.,\n",
       "            0.,  1544.]),\n",
       " array([1. , 1.2, 1.4, 1.6, 1.8, 2. , 2.2, 2.4, 2.6, 2.8, 3. ]),\n",
       " <BarContainer object of 10 artists>)"
      ]
     },
     "execution_count": 8,
     "metadata": {},
     "output_type": "execute_result"
    },
    {
     "data": {
      "image/png": "[encoded data removed]",
      "text/plain": [
       "<Figure size 432x288 with 1 Axes>"
      ]
     },
     "metadata": {
      "needs_background": "light"
     },
     "output_type": "display_data"
    }
   ],
   "source": [
    "pipe = Pipeline([('scaling',StandardScaler()),\n",
    "                 ('classification', xgb.XGBClassifier())])\n",
    "\n",
    "pipe.fit(X,y)\n",
    "y_pred = pipe.predict(X_test)\n",
    "plt.hist(y_pred)\n",
    "\n",
    "y_pred_pd = pd.DataFrame(data=y_pred, columns=[\"y\"])\n",
    "y_pred_pd.to_csv('../../Predictions/XGB_Standard_MNE_Features_All.csv', index_label='Id')"
   ]
  },
  {
   "cell_type": "code",
   "execution_count": null,
   "metadata": {},
   "outputs": [],
   "source": []
  }
 ],
 "metadata": {
  "environment": {
   "name": "common-cpu.m58",
   "type": "gcloud",
   "uri": "gcr.io/deeplearning-platform-release/base-cpu:m58"
  },
  "kernelspec": {
   "display_name": "Python 3",
   "language": "python",
   "name": "python3"
  },
  "language_info": {
   "codemirror_mode": {
    "name": "ipython",
    "version": 3
   },
   "file_extension": ".py",
   "mimetype": "text/x-python",
   "name": "python",
   "nbconvert_exporter": "python",
   "pygments_lexer": "ipython3",
   "version": "3.7.8"
  }
 },
 "nbformat": 4,
 "nbformat_minor": 4
}
