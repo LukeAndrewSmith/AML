{
 "cells": [
  {
   "cell_type": "code",
   "execution_count": 1,
   "metadata": {},
   "outputs": [
    {
     "data": {
      "text/plain": [
       "<module 'Components.Neighbour_Features' from '../Components/Neighbour_Features.py'>"
      ]
     },
     "execution_count": 1,
     "metadata": {},
     "output_type": "execute_result"
    }
   ],
   "source": [
    "# General\n",
    "import matplotlib.pyplot as plt\n",
    "import pandas as pd\n",
    "import numpy as np\n",
    "from pprint import pprint\n",
    "\n",
    "# ML\n",
    "from sklearn.pipeline import Pipeline\n",
    "from sklearn.model_selection import cross_val_score\n",
    "from sklearn.preprocessing import StandardScaler\n",
    "from sklearn.decomposition import PCA\n",
    "import xgboost as xgb\n",
    "import lightgbm as lgb \n",
    "\n",
    "# Custom\n",
    "import sys,os\n",
    "sys.path.append( '.' )\n",
    "sys.path.append( '..' )\n",
    "import Components.data_fetching as data_fetching\n",
    "import Components.feature_extraction as feature_extraction\n",
    "import Components.Classifying_Transformer as clt\n",
    "import Components.Smoothing_Classifier as smcl\n",
    "import Components.Neighbour_Features as nf\n",
    "\n",
    "# CAREFUL:\n",
    "# If you make changes to a custom module, you have to reload it, i.e rerun this cell\n",
    "import importlib\n",
    "importlib.reload(data_fetching)\n",
    "importlib.reload(feature_extraction)\n",
    "importlib.reload(clt)\n",
    "importlib.reload(smcl)\n",
    "importlib.reload(nf)"
   ]
  },
  {
   "cell_type": "markdown",
   "metadata": {},
   "source": [
    "# Data Fetching"
   ]
  },
  {
   "cell_type": "code",
   "execution_count": 2,
   "metadata": {},
   "outputs": [],
   "source": [
    "_, y = data_fetching.get_train_data()\n",
    "y = np.ravel(y)"
   ]
  },
  {
   "cell_type": "code",
   "execution_count": 3,
   "metadata": {},
   "outputs": [],
   "source": [
    "X = feature_extraction.get_features(None, precomputed='train')\n",
    "X_test = feature_extraction.get_features(None, precomputed='test')"
   ]
  },
  {
   "cell_type": "markdown",
   "metadata": {},
   "source": [
    "# Cross-validation"
   ]
  },
  {
   "cell_type": "code",
   "execution_count": 18,
   "metadata": {},
   "outputs": [],
   "source": [
    "pipe = Pipeline([('scaling',StandardScaler()),\n",
    "                 ('PCA', PCA(n_components=183)),\n",
    "                 ('neighbour_features', nf.Neighbour_Features(lag=2)),\n",
    "                 ('classification',lgb.LGBMClassifier(class_weight = 'balanced'))])"
   ]
  },
  {
   "cell_type": "code",
   "execution_count": 19,
   "metadata": {},
   "outputs": [
    {
     "name": "stdout",
     "output_type": "stream",
     "text": [
      "[0.88929445 0.9606122  0.89447762]\n",
      "mean: 0.9147947558993065\n",
      "standard deviation: 0.032466852580241304\n"
     ]
    }
   ],
   "source": [
    "# Train on 2 subjects, test on the other\n",
    "n_epochs = 21600\n",
    "splits = [(np.r_[0:2*n_epochs], np.r_[2*n_epochs:3*n_epochs]),\n",
    " (np.r_[0:n_epochs, 2*n_epochs:3*n_epochs], np.r_[n_epochs:2*n_epochs]),\n",
    " (np.r_[n_epochs:3*n_epochs], np.r_[0:n_epochs])]\n",
    "\n",
    "# format: \n",
    "# [(train_indices, test_indices),\n",
    "#    (train_indices, test_indices),....]\n",
    "\n",
    "cv_score = cross_val_score(pipe, X, y, cv=splits, scoring='balanced_accuracy',n_jobs=16)\n",
    "print(cv_score)\n",
    "print(f\"mean: {np.mean(cv_score)}\")\n",
    "print(f\"standard deviation: {np.std(cv_score)}\")\n",
    "\n",
    "#LGB all MNE features\n",
    "#[0.70943547 0.95720017 0.88320811]\n",
    "#0.8499479178461647\n",
    "# standard deviation 0.10384769933882516\n",
    "\n",
    "# both steps LGB, lag 5, border-vote 5\n",
    "#[0.5997921  0.95668261 0.8793381 ]\n",
    "#0.8119376038984457\n",
    "\n",
    "# both steps LGB, lag 10, border-vote 5\n",
    "#[0.60192032 0.95705123 0.87927879]\n",
    "#0.8127501105221282\n",
    "#standard deviation 0.15242274419875892\n",
    "\n",
    "# both steps LGB, lag 100, border-vote 5\n",
    "#[0.60703004 0.95650736 0.8793381 ]\n",
    "#0.814291835327246\n",
    "\n",
    "# both steps LGB, lag 200, border-vote 5\n",
    "#[0.5985031  0.95719145 0.87924913]\n",
    "#0.8116478914896422\n",
    "\n",
    "# PCA 90 features of neighbors with lag 2, LGB\n",
    "#[0.88570544 0.96200852 0.88843848]\n",
    "#0.9120508105283455\n",
    "# standard deviation 0.03534304946713885\n",
    "\n",
    "# PCA 90 features of neighbors with lag 5, LGB\n",
    "#[0.88625419 0.96170667 0.88667096]\n",
    "#0.9115439404692363\n",
    "# standard deviation 0.03547081172345031\n",
    "\n",
    "# PCA 90 features of neighbors with lag 3, LGB\n",
    "#[0.861241   0.96152223 0.89151204]\n",
    "#mean: 0.9047584237384917\n",
    "#standard deviation: 0.04199747226951646\n",
    "\n",
    "# PCA 90 features of neighbors with lag 10, LGB\n",
    "#[0.89934699 0.95969502 0.89153696]\n",
    "#mean: 0.9168596564263747\n",
    "#standard deviation: 0.0304565305043997\n",
    "\n",
    "# PCA 183 features of neighbors with lag 2, LGB\n",
    "#[0.88929445 0.9606122  0.89447762]\n",
    "#mean: 0.9147947558993065\n",
    "#standard deviation: 0.032466852580241304"
   ]
  },
  {
   "cell_type": "markdown",
   "metadata": {},
   "source": [
    "# Prediction"
   ]
  },
  {
   "cell_type": "code",
   "execution_count": 15,
   "metadata": {},
   "outputs": [],
   "source": [
    "pipe = Pipeline([('scaling',StandardScaler()),\n",
    "                 ('PCA', PCA(n_components=90)),\n",
    "                 ('neighbour_features', nf.Neighbour_Features(lag=2)),\n",
    "                 ('classification',lgb.LGBMClassifier(class_weight = 'balanced'))])"
   ]
  },
  {
   "cell_type": "code",
   "execution_count": 16,
   "metadata": {},
   "outputs": [
    {
     "data": {
      "image/png": "[encoded data removed]",
      "text/plain": [
       "<Figure size 432x288 with 1 Axes>"
      ]
     },
     "metadata": {
      "needs_background": "light"
     },
     "output_type": "display_data"
    }
   ],
   "source": [
    "pipe.fit(X,y)\n",
    "y_pred = pipe.predict(X_test)\n",
    "plt.hist(y_pred)\n",
    "\n"
   ]
  },
  {
   "cell_type": "code",
   "execution_count": 17,
   "metadata": {},
   "outputs": [],
   "source": [
    "y_pred_pd = pd.DataFrame(data=y_pred, columns=[\"y\"])\n",
    "y_pred_pd.to_csv('../../Predictions/LGB_MNE_Features_10_neighbours.csv', index_label='Id')"
   ]
  },
  {
   "cell_type": "markdown",
   "metadata": {},
   "source": [
    "# Plots"
   ]
  },
  {
   "cell_type": "markdown",
   "metadata": {},
   "source": [
    "**sleep stages of first subject**"
   ]
  },
  {
   "cell_type": "code",
   "execution_count": 5,
   "metadata": {},
   "outputs": [],
   "source": [
    "pipe = Pipeline([('scaling',StandardScaler()),\n",
    "                 ('individual_classification', clt.Classifying_Transformer(lgb.LGBMClassifier(class_weight = 'balanced'))),\n",
    "                 ('smoothing', smcl.Smoothing_Classifier(lgb.LGBMClassifier(class_weight = 'balanced'), lag= 100, border_vote = 5))])"
   ]
  },
  {
   "cell_type": "code",
   "execution_count": 6,
   "metadata": {},
   "outputs": [
    {
     "data": {
      "text/plain": [
       "Pipeline(steps=[('scaling', StandardScaler()),\n",
       "                ('individual_classification',\n",
       "                 Classifying_Transformer(clf=LGBMClassifier(class_weight='balanced'))),\n",
       "                ('smoothing',\n",
       "                 Smoothing_Classifier(clf=LGBMClassifier(class_weight='balanced'),\n",
       "                                      lag=100))])"
      ]
     },
     "execution_count": 6,
     "metadata": {},
     "output_type": "execute_result"
    }
   ],
   "source": [
    "n_epochs = 21600\n",
    "X_train_split = X[:2*n_epochs]\n",
    "y_train_split = y[:2*n_epochs]\n",
    "pipe.fit(X_train_split, y_train_split)"
   ]
  },
  {
   "cell_type": "code",
   "execution_count": 7,
   "metadata": {},
   "outputs": [],
   "source": [
    "y_train_pred = pipe.predict(X[2*n_epochs:])"
   ]
  },
  {
   "cell_type": "code",
   "execution_count": 12,
   "metadata": {},
   "outputs": [
    {
     "data": {
      "text/html": [
       "<div>\n",
       "<style scoped>\n",
       "    .dataframe tbody tr th:only-of-type {\n",
       "        vertical-align: middle;\n",
       "    }\n",
       "\n",
       "    .dataframe tbody tr th {\n",
       "        vertical-align: top;\n",
       "    }\n",
       "\n",
       "    .dataframe thead th {\n",
       "        text-align: right;\n",
       "    }\n",
       "</style>\n",
       "<table border=\"1\" class=\"dataframe\">\n",
       "  <thead>\n",
       "    <tr style=\"text-align: right;\">\n",
       "      <th></th>\n",
       "      <th>0</th>\n",
       "      <th>1</th>\n",
       "      <th>2</th>\n",
       "      <th>3</th>\n",
       "      <th>4</th>\n",
       "      <th>5</th>\n",
       "      <th>6</th>\n",
       "      <th>7</th>\n",
       "      <th>8</th>\n",
       "      <th>9</th>\n",
       "      <th>...</th>\n",
       "      <th>173</th>\n",
       "      <th>174</th>\n",
       "      <th>175</th>\n",
       "      <th>176</th>\n",
       "      <th>177</th>\n",
       "      <th>178</th>\n",
       "      <th>179</th>\n",
       "      <th>180</th>\n",
       "      <th>181</th>\n",
       "      <th>182</th>\n",
       "    </tr>\n",
       "  </thead>\n",
       "  <tbody>\n",
       "    <tr>\n",
       "      <th>43200</th>\n",
       "      <td>1.033303</td>\n",
       "      <td>0.920015</td>\n",
       "      <td>1.213831</td>\n",
       "      <td>0.078125</td>\n",
       "      <td>0.078125</td>\n",
       "      <td>0.062500</td>\n",
       "      <td>0.000020</td>\n",
       "      <td>0.000033</td>\n",
       "      <td>0.000045</td>\n",
       "      <td>0.000071</td>\n",
       "      <td>...</td>\n",
       "      <td>-0.540018</td>\n",
       "      <td>1.534146e-16</td>\n",
       "      <td>0.837714</td>\n",
       "      <td>2.162286</td>\n",
       "      <td>-0.267581</td>\n",
       "      <td>-0.679056</td>\n",
       "      <td>-0.525617</td>\n",
       "      <td>4.440892e-16</td>\n",
       "      <td>1.257124</td>\n",
       "      <td>1.742876</td>\n",
       "    </tr>\n",
       "    <tr>\n",
       "      <th>43201</th>\n",
       "      <td>1.052345</td>\n",
       "      <td>1.016056</td>\n",
       "      <td>1.202260</td>\n",
       "      <td>0.046875</td>\n",
       "      <td>0.046875</td>\n",
       "      <td>0.070312</td>\n",
       "      <td>0.000007</td>\n",
       "      <td>0.000031</td>\n",
       "      <td>0.000070</td>\n",
       "      <td>0.000092</td>\n",
       "      <td>...</td>\n",
       "      <td>-0.557447</td>\n",
       "      <td>2.718501e-16</td>\n",
       "      <td>0.800382</td>\n",
       "      <td>2.199618</td>\n",
       "      <td>-0.275834</td>\n",
       "      <td>-0.704314</td>\n",
       "      <td>-0.488074</td>\n",
       "      <td>2.220446e-16</td>\n",
       "      <td>1.254318</td>\n",
       "      <td>1.745682</td>\n",
       "    </tr>\n",
       "    <tr>\n",
       "      <th>43202</th>\n",
       "      <td>1.100242</td>\n",
       "      <td>1.020074</td>\n",
       "      <td>1.262230</td>\n",
       "      <td>0.078125</td>\n",
       "      <td>0.062500</td>\n",
       "      <td>0.070312</td>\n",
       "      <td>0.000030</td>\n",
       "      <td>0.000028</td>\n",
       "      <td>0.000039</td>\n",
       "      <td>0.000063</td>\n",
       "      <td>...</td>\n",
       "      <td>-0.668729</td>\n",
       "      <td>4.375348e-16</td>\n",
       "      <td>0.624054</td>\n",
       "      <td>2.375946</td>\n",
       "      <td>-0.307308</td>\n",
       "      <td>-0.715366</td>\n",
       "      <td>-0.445100</td>\n",
       "      <td>2.220446e-16</td>\n",
       "      <td>1.266975</td>\n",
       "      <td>1.733025</td>\n",
       "    </tr>\n",
       "    <tr>\n",
       "      <th>43203</th>\n",
       "      <td>1.032172</td>\n",
       "      <td>1.003457</td>\n",
       "      <td>1.167331</td>\n",
       "      <td>0.046875</td>\n",
       "      <td>0.039062</td>\n",
       "      <td>0.054688</td>\n",
       "      <td>0.000008</td>\n",
       "      <td>0.000039</td>\n",
       "      <td>0.000072</td>\n",
       "      <td>0.000082</td>\n",
       "      <td>...</td>\n",
       "      <td>-0.538612</td>\n",
       "      <td>4.900594e-17</td>\n",
       "      <td>0.928500</td>\n",
       "      <td>2.071500</td>\n",
       "      <td>-0.245851</td>\n",
       "      <td>-0.683546</td>\n",
       "      <td>-0.539455</td>\n",
       "      <td>0.000000e+00</td>\n",
       "      <td>1.237915</td>\n",
       "      <td>1.762085</td>\n",
       "    </tr>\n",
       "    <tr>\n",
       "      <th>43204</th>\n",
       "      <td>1.103244</td>\n",
       "      <td>1.040231</td>\n",
       "      <td>1.319207</td>\n",
       "      <td>0.046875</td>\n",
       "      <td>0.101562</td>\n",
       "      <td>0.062500</td>\n",
       "      <td>0.000009</td>\n",
       "      <td>0.000032</td>\n",
       "      <td>0.000062</td>\n",
       "      <td>0.000072</td>\n",
       "      <td>...</td>\n",
       "      <td>-0.769731</td>\n",
       "      <td>8.474383e-16</td>\n",
       "      <td>0.486642</td>\n",
       "      <td>2.513358</td>\n",
       "      <td>-0.200466</td>\n",
       "      <td>-0.737942</td>\n",
       "      <td>-0.513232</td>\n",
       "      <td>0.000000e+00</td>\n",
       "      <td>1.186706</td>\n",
       "      <td>1.813294</td>\n",
       "    </tr>\n",
       "    <tr>\n",
       "      <th>...</th>\n",
       "      <td>...</td>\n",
       "      <td>...</td>\n",
       "      <td>...</td>\n",
       "      <td>...</td>\n",
       "      <td>...</td>\n",
       "      <td>...</td>\n",
       "      <td>...</td>\n",
       "      <td>...</td>\n",
       "      <td>...</td>\n",
       "      <td>...</td>\n",
       "      <td>...</td>\n",
       "      <td>...</td>\n",
       "      <td>...</td>\n",
       "      <td>...</td>\n",
       "      <td>...</td>\n",
       "      <td>...</td>\n",
       "      <td>...</td>\n",
       "      <td>...</td>\n",
       "      <td>...</td>\n",
       "      <td>...</td>\n",
       "      <td>...</td>\n",
       "    </tr>\n",
       "    <tr>\n",
       "      <th>64795</th>\n",
       "      <td>1.263937</td>\n",
       "      <td>1.272850</td>\n",
       "      <td>1.239550</td>\n",
       "      <td>0.070312</td>\n",
       "      <td>0.390625</td>\n",
       "      <td>0.070312</td>\n",
       "      <td>0.000009</td>\n",
       "      <td>0.000009</td>\n",
       "      <td>0.000012</td>\n",
       "      <td>0.000041</td>\n",
       "      <td>...</td>\n",
       "      <td>-0.463078</td>\n",
       "      <td>2.220446e-16</td>\n",
       "      <td>1.162657</td>\n",
       "      <td>1.837343</td>\n",
       "      <td>-0.225991</td>\n",
       "      <td>-0.684277</td>\n",
       "      <td>-0.555716</td>\n",
       "      <td>4.440892e-16</td>\n",
       "      <td>1.220487</td>\n",
       "      <td>1.779513</td>\n",
       "    </tr>\n",
       "    <tr>\n",
       "      <th>64796</th>\n",
       "      <td>1.312695</td>\n",
       "      <td>1.271152</td>\n",
       "      <td>1.216475</td>\n",
       "      <td>0.054688</td>\n",
       "      <td>0.070312</td>\n",
       "      <td>0.078125</td>\n",
       "      <td>0.000011</td>\n",
       "      <td>0.000012</td>\n",
       "      <td>0.000016</td>\n",
       "      <td>0.000038</td>\n",
       "      <td>...</td>\n",
       "      <td>-0.400807</td>\n",
       "      <td>4.440892e-16</td>\n",
       "      <td>1.203524</td>\n",
       "      <td>1.796476</td>\n",
       "      <td>-0.364802</td>\n",
       "      <td>-0.700232</td>\n",
       "      <td>-0.409270</td>\n",
       "      <td>2.220446e-16</td>\n",
       "      <td>1.297745</td>\n",
       "      <td>1.702255</td>\n",
       "    </tr>\n",
       "    <tr>\n",
       "      <th>64797</th>\n",
       "      <td>1.321057</td>\n",
       "      <td>1.307834</td>\n",
       "      <td>1.310242</td>\n",
       "      <td>0.070312</td>\n",
       "      <td>0.164062</td>\n",
       "      <td>0.062500</td>\n",
       "      <td>0.000005</td>\n",
       "      <td>0.000011</td>\n",
       "      <td>0.000012</td>\n",
       "      <td>0.000041</td>\n",
       "      <td>...</td>\n",
       "      <td>-0.232369</td>\n",
       "      <td>4.440892e-16</td>\n",
       "      <td>1.197799</td>\n",
       "      <td>1.802201</td>\n",
       "      <td>-0.255276</td>\n",
       "      <td>-0.698100</td>\n",
       "      <td>-0.514069</td>\n",
       "      <td>2.220446e-16</td>\n",
       "      <td>1.241587</td>\n",
       "      <td>1.758413</td>\n",
       "    </tr>\n",
       "    <tr>\n",
       "      <th>64798</th>\n",
       "      <td>1.359234</td>\n",
       "      <td>1.309974</td>\n",
       "      <td>1.230043</td>\n",
       "      <td>0.054688</td>\n",
       "      <td>0.054688</td>\n",
       "      <td>0.070312</td>\n",
       "      <td>0.000004</td>\n",
       "      <td>0.000011</td>\n",
       "      <td>0.000012</td>\n",
       "      <td>0.000049</td>\n",
       "      <td>...</td>\n",
       "      <td>-0.199717</td>\n",
       "      <td>4.440892e-16</td>\n",
       "      <td>1.104670</td>\n",
       "      <td>1.895330</td>\n",
       "      <td>-0.313636</td>\n",
       "      <td>-0.705308</td>\n",
       "      <td>-0.451922</td>\n",
       "      <td>0.000000e+00</td>\n",
       "      <td>1.276258</td>\n",
       "      <td>1.723742</td>\n",
       "    </tr>\n",
       "    <tr>\n",
       "      <th>64799</th>\n",
       "      <td>1.359234</td>\n",
       "      <td>1.309974</td>\n",
       "      <td>1.230043</td>\n",
       "      <td>0.054688</td>\n",
       "      <td>0.054688</td>\n",
       "      <td>0.070312</td>\n",
       "      <td>0.000004</td>\n",
       "      <td>0.000011</td>\n",
       "      <td>0.000012</td>\n",
       "      <td>0.000049</td>\n",
       "      <td>...</td>\n",
       "      <td>-0.199717</td>\n",
       "      <td>4.440892e-16</td>\n",
       "      <td>1.104670</td>\n",
       "      <td>1.895330</td>\n",
       "      <td>-0.313636</td>\n",
       "      <td>-0.705308</td>\n",
       "      <td>-0.451922</td>\n",
       "      <td>0.000000e+00</td>\n",
       "      <td>1.276258</td>\n",
       "      <td>1.723742</td>\n",
       "    </tr>\n",
       "  </tbody>\n",
       "</table>\n",
       "<p>21600 rows × 183 columns</p>\n",
       "</div>"
      ],
      "text/plain": [
       "            0         1         2         3         4         5         6    \\\n",
       "43200  1.033303  0.920015  1.213831  0.078125  0.078125  0.062500  0.000020   \n",
       "43201  1.052345  1.016056  1.202260  0.046875  0.046875  0.070312  0.000007   \n",
       "43202  1.100242  1.020074  1.262230  0.078125  0.062500  0.070312  0.000030   \n",
       "43203  1.032172  1.003457  1.167331  0.046875  0.039062  0.054688  0.000008   \n",
       "43204  1.103244  1.040231  1.319207  0.046875  0.101562  0.062500  0.000009   \n",
       "...         ...       ...       ...       ...       ...       ...       ...   \n",
       "64795  1.263937  1.272850  1.239550  0.070312  0.390625  0.070312  0.000009   \n",
       "64796  1.312695  1.271152  1.216475  0.054688  0.070312  0.078125  0.000011   \n",
       "64797  1.321057  1.307834  1.310242  0.070312  0.164062  0.062500  0.000005   \n",
       "64798  1.359234  1.309974  1.230043  0.054688  0.054688  0.070312  0.000004   \n",
       "64799  1.359234  1.309974  1.230043  0.054688  0.054688  0.070312  0.000004   \n",
       "\n",
       "            7         8         9    ...       173           174       175  \\\n",
       "43200  0.000033  0.000045  0.000071  ... -0.540018  1.534146e-16  0.837714   \n",
       "43201  0.000031  0.000070  0.000092  ... -0.557447  2.718501e-16  0.800382   \n",
       "43202  0.000028  0.000039  0.000063  ... -0.668729  4.375348e-16  0.624054   \n",
       "43203  0.000039  0.000072  0.000082  ... -0.538612  4.900594e-17  0.928500   \n",
       "43204  0.000032  0.000062  0.000072  ... -0.769731  8.474383e-16  0.486642   \n",
       "...         ...       ...       ...  ...       ...           ...       ...   \n",
       "64795  0.000009  0.000012  0.000041  ... -0.463078  2.220446e-16  1.162657   \n",
       "64796  0.000012  0.000016  0.000038  ... -0.400807  4.440892e-16  1.203524   \n",
       "64797  0.000011  0.000012  0.000041  ... -0.232369  4.440892e-16  1.197799   \n",
       "64798  0.000011  0.000012  0.000049  ... -0.199717  4.440892e-16  1.104670   \n",
       "64799  0.000011  0.000012  0.000049  ... -0.199717  4.440892e-16  1.104670   \n",
       "\n",
       "            176       177       178       179           180       181  \\\n",
       "43200  2.162286 -0.267581 -0.679056 -0.525617  4.440892e-16  1.257124   \n",
       "43201  2.199618 -0.275834 -0.704314 -0.488074  2.220446e-16  1.254318   \n",
       "43202  2.375946 -0.307308 -0.715366 -0.445100  2.220446e-16  1.266975   \n",
       "43203  2.071500 -0.245851 -0.683546 -0.539455  0.000000e+00  1.237915   \n",
       "43204  2.513358 -0.200466 -0.737942 -0.513232  0.000000e+00  1.186706   \n",
       "...         ...       ...       ...       ...           ...       ...   \n",
       "64795  1.837343 -0.225991 -0.684277 -0.555716  4.440892e-16  1.220487   \n",
       "64796  1.796476 -0.364802 -0.700232 -0.409270  2.220446e-16  1.297745   \n",
       "64797  1.802201 -0.255276 -0.698100 -0.514069  2.220446e-16  1.241587   \n",
       "64798  1.895330 -0.313636 -0.705308 -0.451922  0.000000e+00  1.276258   \n",
       "64799  1.895330 -0.313636 -0.705308 -0.451922  0.000000e+00  1.276258   \n",
       "\n",
       "            182  \n",
       "43200  1.742876  \n",
       "43201  1.745682  \n",
       "43202  1.733025  \n",
       "43203  1.762085  \n",
       "43204  1.813294  \n",
       "...         ...  \n",
       "64795  1.779513  \n",
       "64796  1.702255  \n",
       "64797  1.758413  \n",
       "64798  1.723742  \n",
       "64799  1.723742  \n",
       "\n",
       "[21600 rows x 183 columns]"
      ]
     },
     "execution_count": 12,
     "metadata": {},
     "output_type": "execute_result"
    }
   ],
   "source": [
    "X[2*n_epochs:]"
   ]
  },
  {
   "cell_type": "code",
   "execution_count": 11,
   "metadata": {},
   "outputs": [
    {
     "data": {
      "text/plain": [
       "<matplotlib.collections.PathCollection at 0x7fc25fa8ced0>"
      ]
     },
     "execution_count": 11,
     "metadata": {},
     "output_type": "execute_result"
    },
    {
     "data": {
      "image/png": "[encoded data removed]",
      "text/plain": [
       "<Figure size 720x360 with 1 Axes>"
      ]
     },
     "metadata": {
      "needs_background": "light"
     },
     "output_type": "display_data"
    }
   ],
   "source": [
    "stages=y[n_epochs:n_epochs+100]\n",
    "time = range(len(stages))\n",
    "plt.gcf().set_size_inches(*(10,5))\n",
    "plt.scatter(time, stages, s=1)"
   ]
  },
  {
   "cell_type": "code",
   "execution_count": 15,
   "metadata": {},
   "outputs": [
    {
     "data": {
      "text/plain": [
       "<matplotlib.collections.PathCollection at 0x7f7c6e29edd0>"
      ]
     },
     "execution_count": 15,
     "metadata": {},
     "output_type": "execute_result"
    },
    {
     "data": {
      "image/png": "[encoded data removed]",
      "text/plain": [
       "<Figure size 720x360 with 1 Axes>"
      ]
     },
     "metadata": {
      "needs_background": "light"
     },
     "output_type": "display_data"
    }
   ],
   "source": [
    "stages_pred = y_train_pred[9000:10000]\n",
    "time = range(len(stages_pred))\n",
    "plt.gcf().set_size_inches(*(10,5))\n",
    "plt.scatter(time, stages_pred, s=1)"
   ]
  },
  {
   "cell_type": "code",
   "execution_count": 12,
   "metadata": {},
   "outputs": [],
   "source": [
    "pipe2 = Pipeline([('scaling',StandardScaler()),\n",
    "                 ('classification', lgb.LGBMClassifier(class_weight = 'balanced'))])\n",
    "pipe2.fit(X_train_split, y_train_split)\n",
    "y_train_pred2 = pipe2.predict(X[2*n_epochs:])"
   ]
  },
  {
   "cell_type": "code",
   "execution_count": 14,
   "metadata": {},
   "outputs": [
    {
     "data": {
      "text/plain": [
       "<matplotlib.collections.PathCollection at 0x7f7c6e49ac10>"
      ]
     },
     "execution_count": 14,
     "metadata": {},
     "output_type": "execute_result"
    },
    {
     "data": {
      "image/png": "[encoded data removed]",
      "text/plain": [
       "<Figure size 720x360 with 1 Axes>"
      ]
     },
     "metadata": {
      "needs_background": "light"
     },
     "output_type": "display_data"
    }
   ],
   "source": [
    "stages_pred2 = y_train_pred2[9000:10000]\n",
    "time = range(len(stages_pred2))\n",
    "plt.gcf().set_size_inches(*(10,5))\n",
    "plt.scatter(time, stages_pred2, s=1)"
   ]
  },
  {
   "cell_type": "code",
   "execution_count": 18,
   "metadata": {},
   "outputs": [
    {
     "data": {
      "text/plain": [
       "(64800, 183)"
      ]
     },
     "execution_count": 18,
     "metadata": {},
     "output_type": "execute_result"
    }
   ],
   "source": [
    "X.shape"
   ]
  },
  {
   "cell_type": "code",
   "execution_count": null,
   "metadata": {},
   "outputs": [],
   "source": []
  }
 ],
 "metadata": {
  "environment": {
   "name": "common-cpu.m58",
   "type": "gcloud",
   "uri": "gcr.io/deeplearning-platform-release/base-cpu:m58"
  },
  "kernelspec": {
   "display_name": "Python 3",
   "language": "python",
   "name": "python3"
  },
  "language_info": {
   "codemirror_mode": {
    "name": "ipython",
    "version": 3
   },
   "file_extension": ".py",
   "mimetype": "text/x-python",
   "name": "python",
   "nbconvert_exporter": "python",
   "pygments_lexer": "ipython3",
   "version": "3.7.8"
  }
 },
 "nbformat": 4,
 "nbformat_minor": 4
}
