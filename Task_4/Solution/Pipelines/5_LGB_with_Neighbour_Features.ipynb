{
 "cells": [
  {
   "cell_type": "code",
   "execution_count": 1,
   "metadata": {},
   "outputs": [
    {
     "data": {
      "text/plain": [
       "<module 'Components.Neighbour_Features' from '../Components/Neighbour_Features.py'>"
      ]
     },
     "execution_count": 1,
     "metadata": {},
     "output_type": "execute_result"
    }
   ],
   "source": [
    "# General\n",
    "import matplotlib.pyplot as plt\n",
    "import pandas as pd\n",
    "import numpy as np\n",
    "from pprint import pprint\n",
    "\n",
    "# ML\n",
    "from sklearn.pipeline import Pipeline\n",
    "from sklearn.model_selection import cross_val_score, GridSearchCV\n",
    "from sklearn.preprocessing import StandardScaler, MinMaxScaler\n",
    "from sklearn.decomposition import PCA\n",
    "import xgboost as xgb\n",
    "import lightgbm as lgb \n",
    "\n",
    "# Custom\n",
    "import sys,os\n",
    "sys.path.append( '.' )\n",
    "sys.path.append( '..' )\n",
    "import Components.data_fetching as data_fetching\n",
    "import Components.feature_extraction as feature_extraction\n",
    "import Components.Classifying_Transformer as clt\n",
    "import Components.Smoothing_Classifier as smcl\n",
    "import Components.Neighbour_Features as nf\n",
    "\n",
    "# CAREFUL:\n",
    "# If you make changes to a custom module, you have to reload it, i.e rerun this cell\n",
    "import importlib\n",
    "importlib.reload(data_fetching)\n",
    "importlib.reload(feature_extraction)\n",
    "importlib.reload(clt)\n",
    "importlib.reload(smcl)\n",
    "importlib.reload(nf)"
   ]
  },
  {
   "cell_type": "markdown",
   "metadata": {},
   "source": [
    "# Data Fetching"
   ]
  },
  {
   "cell_type": "code",
   "execution_count": 2,
   "metadata": {},
   "outputs": [],
   "source": [
    "_, y = data_fetching.get_train_data()\n",
    "y = np.ravel(y)"
   ]
  },
  {
   "cell_type": "code",
   "execution_count": 3,
   "metadata": {},
   "outputs": [],
   "source": [
    "X = feature_extraction.get_features(None, precomputed='train')\n",
    "X_test = feature_extraction.get_features(None, precomputed='test')"
   ]
  },
  {
   "cell_type": "code",
   "execution_count": 4,
   "metadata": {},
   "outputs": [],
   "source": [
    "# scaling before: \n",
    "df_1 = X.iloc[0:21600]\n",
    "df_2 = X.iloc[21600:43200]\n",
    "df_3 = X.iloc[43200:64800]"
   ]
  },
  {
   "cell_type": "code",
   "execution_count": 5,
   "metadata": {},
   "outputs": [],
   "source": [
    "test_1 = X_test.iloc[0:21600]\n",
    "test_2 = X_test.iloc[21600:43200]"
   ]
  },
  {
   "cell_type": "code",
   "execution_count": 6,
   "metadata": {},
   "outputs": [],
   "source": [
    "scaler = StandardScaler()\n",
    "df_1 = scaler.fit_transform(df_1)\n",
    "df_2 = scaler.fit_transform(df_2)\n",
    "df_3 = scaler.fit_transform(df_3)\n"
   ]
  },
  {
   "cell_type": "code",
   "execution_count": 7,
   "metadata": {},
   "outputs": [],
   "source": [
    "df_1 = pd.DataFrame(df_1)\n",
    "df_2 = pd.DataFrame(df_2)\n",
    "df_3 = pd.DataFrame(df_3)"
   ]
  },
  {
   "cell_type": "code",
   "execution_count": 8,
   "metadata": {},
   "outputs": [],
   "source": [
    "X = pd.concat([df_1, df_2, df_3])"
   ]
  },
  {
   "cell_type": "code",
   "execution_count": 9,
   "metadata": {},
   "outputs": [],
   "source": [
    "scaler = StandardScaler()\n",
    "test_1 = scaler.fit_transform(test_1)\n",
    "test_2 = scaler.fit_transform(test_2)"
   ]
  },
  {
   "cell_type": "code",
   "execution_count": 10,
   "metadata": {},
   "outputs": [],
   "source": [
    "test_1 = pd.DataFrame(test_1)\n",
    "test_2 = pd.DataFrame(test_2)"
   ]
  },
  {
   "cell_type": "code",
   "execution_count": 11,
   "metadata": {},
   "outputs": [],
   "source": [
    "X_test = pd.concat([test_1, test_2])"
   ]
  },
  {
   "cell_type": "code",
   "execution_count": 12,
   "metadata": {},
   "outputs": [
    {
     "name": "stdout",
     "output_type": "stream",
     "text": [
      "            0         1         2         3         4         5         6    \\\n",
      "0      0.894242  1.187088  0.305553  0.052411 -0.066487  0.510407 -0.905370   \n",
      "1      1.055782  1.030386  0.343506  0.052411  0.081308  0.581330  0.132895   \n",
      "2      1.206216  1.442781  0.488248  0.323371  0.081308  0.680623 -0.334730   \n",
      "3      0.851291  0.720882  0.391245  0.323371  0.081308  0.524592 -0.707474   \n",
      "4      0.976228  0.921660  0.269594 -0.218550 -0.214283  0.836654 -0.462930   \n",
      "...         ...       ...       ...       ...       ...       ...       ...   \n",
      "21595  0.912310  1.057562 -0.492466  0.316992  0.174128  0.002488 -0.876965   \n",
      "21596  0.923072  1.045693 -1.084291  0.034867  0.174128  0.090663 -0.583753   \n",
      "21597  0.963929  1.003551 -0.181838 -0.106195  0.588956  0.355187 -0.708135   \n",
      "21598  0.963929  1.003551 -0.181838 -0.106195  0.588956  0.355187 -0.708135   \n",
      "21599  0.963929  1.003551 -0.181838 -0.106195  0.588956  0.355187 -0.708135   \n",
      "\n",
      "            7         8         9    ...       173       174       175  \\\n",
      "0     -0.868950 -1.109143 -0.946416  ... -0.840348 -0.248773  2.007184   \n",
      "1     -0.891904 -1.082272 -0.307792  ... -1.256664  1.606515  0.979845   \n",
      "2     -1.032047 -1.156777 -0.670227  ... -0.743497 -0.248773  1.925277   \n",
      "3     -1.113238 -1.189469 -0.604498  ... -0.947794  0.678871  1.700101   \n",
      "4     -0.395083 -0.810245 -0.341523  ... -1.203102 -1.176417  0.805778   \n",
      "...         ...       ...       ...  ...       ...       ...       ...   \n",
      "21595 -1.285906 -1.011352  0.826847  ...  0.253324 -0.204907  1.404514   \n",
      "21596 -0.665360 -0.951688 -0.339693  ... -0.087292 -0.204907  1.154282   \n",
      "21597 -0.544167 -0.621174 -0.336909  ... -1.090093 -1.220828  0.832676   \n",
      "21598 -0.544167 -0.621174 -0.336909  ... -1.090093 -1.220828  0.832676   \n",
      "21599 -0.544167 -0.621174 -0.336909  ... -1.090093 -1.220828  0.832676   \n",
      "\n",
      "            176       177       178       179       180       181       182  \n",
      "0     -2.007184 -0.890763 -0.057248  1.217722 -1.198426  0.811971 -0.811971  \n",
      "1     -0.979845  0.165670  0.107341 -0.375209 -1.198426 -0.105121  0.105121  \n",
      "2     -1.925277 -0.673782 -0.560749  1.453125 -1.198426  0.516171 -0.516171  \n",
      "3     -1.700101 -0.253744  0.420801 -0.136908 -0.156559  0.332262 -0.332262  \n",
      "4     -0.805778  1.095942 -0.867132 -0.583025 -0.156559 -1.096352  1.096352  \n",
      "...         ...       ...       ...       ...       ...       ...       ...  \n",
      "21595 -1.404514  0.311568 -0.324051 -0.013743 -1.200413 -0.244819  0.244819  \n",
      "21596 -1.154282  1.473739 -0.517078 -1.149710  2.988936 -1.374537  1.374537  \n",
      "21597 -0.832676  0.588909 -0.081789 -0.689440  0.894261 -0.382530  0.382530  \n",
      "21598 -0.832676  0.588909 -0.081789 -0.689440  0.894261 -0.382530  0.382530  \n",
      "21599 -0.832676  0.588909 -0.081789 -0.689440  0.894261 -0.382530  0.382530  \n",
      "\n",
      "[43200 rows x 183 columns]\n"
     ]
    }
   ],
   "source": [
    "print(X_test)"
   ]
  },
  {
   "cell_type": "markdown",
   "metadata": {},
   "source": [
    "# Cross-validation"
   ]
  },
  {
   "cell_type": "code",
   "execution_count": 15,
   "metadata": {},
   "outputs": [],
   "source": [
    "pipe = Pipeline([('PCA', PCA(n_components=90)),\n",
    "                 ('neighbour_features', nf.Neighbour_Features(lag=10)),\n",
    "                 ('classification',lgb.LGBMClassifier(class_weight = 'balanced'))])"
   ]
  },
  {
   "cell_type": "code",
   "execution_count": 22,
   "metadata": {},
   "outputs": [
    {
     "name": "stdout",
     "output_type": "stream",
     "text": [
      "[0.90740425 0.96832406 0.96189394]\n",
      "mean: 0.9458740823727844\n",
      "standard deviation: 0.02732864831541495\n"
     ]
    }
   ],
   "source": [
    "# Train on 2 subjects, test on the other\n",
    "n_epochs = 21600\n",
    "splits = [(np.r_[0:2*n_epochs], np.r_[2*n_epochs:3*n_epochs]),\n",
    " (np.r_[0:n_epochs, 2*n_epochs:3*n_epochs], np.r_[n_epochs:2*n_epochs]),\n",
    " (np.r_[n_epochs:3*n_epochs], np.r_[0:n_epochs])]\n",
    "\n",
    "# format: \n",
    "# [(train_indices, test_indices),\n",
    "#    (train_indices, test_indices),....]\n",
    "\n",
    "cv_score = cross_val_score(pipe, X, y, cv=3, scoring='balanced_accuracy',n_jobs=15)\n",
    "print(cv_score)\n",
    "print(f\"mean: {np.mean(cv_score)}\")\n",
    "print(f\"standard deviation: {np.std(cv_score)}\")\n",
    "\n",
    "#LGB all MNE features\n",
    "#[0.70943547 0.95720017 0.88320811]\n",
    "#0.8499479178461647\n",
    "# standard deviation 0.10384769933882516\n",
    "\n",
    "# both steps LGB, lag 5, border-vote 5\n",
    "#[0.5997921  0.95668261 0.8793381 ]\n",
    "#0.8119376038984457\n",
    "\n",
    "# both steps LGB, lag 10, border-vote 5\n",
    "#[0.60192032 0.95705123 0.87927879]\n",
    "#0.8127501105221282\n",
    "#standard deviation 0.15242274419875892\n",
    "\n",
    "# both steps LGB, lag 100, border-vote 5\n",
    "#[0.60703004 0.95650736 0.8793381 ]\n",
    "#0.814291835327246\n",
    "\n",
    "# both steps LGB, lag 200, border-vote 5\n",
    "#[0.5985031  0.95719145 0.87924913]\n",
    "#0.8116478914896422\n",
    "\n",
    "# PCA 90 features of neighbors with lag 2, LGB\n",
    "#[0.88570544 0.96200852 0.88843848]\n",
    "#0.9120508105283455\n",
    "# standard deviation 0.03534304946713885\n",
    "\n",
    "# PCA 90 features of neighbors with lag 5, LGB\n",
    "#[0.88625419 0.96170667 0.88667096]\n",
    "#0.9115439404692363\n",
    "# standard deviation 0.03547081172345031\n",
    "\n",
    "# PCA 90 features of neighbors with lag 3, LGB\n",
    "#[0.861241   0.96152223 0.89151204]\n",
    "#mean: 0.9047584237384917\n",
    "#standard deviation: 0.04199747226951646\n",
    "\n",
    "# PCA 90 features of neighbors with lag 10, LGB\n",
    "#[0.89934699 0.95969502 0.89153696]\n",
    "#mean: 0.9168596564263747\n",
    "#standard deviation: 0.0304565305043997\n",
    "\n",
    "# PCA 183 features of neighbors with lag 2, LGB\n",
    "#[0.88929445 0.9606122  0.89447762]\n",
    "#mean: 0.9147947558993065\n",
    "#standard deviation: 0.032466852580241304\n",
    "\n",
    "#### per subject scaling #####\n",
    "\n",
    "# PCA 183 features of neighbors with lag 2, LGB\n",
    "#[0.95735679 0.9524802  0.87103495]\n",
    "#mean: 0.926957314181267\n",
    "#standard deviation: 0.03959316651788484\n",
    "\n",
    "# PCA 90 features of neighbors with lag 10, LGB\n",
    "# [0.96243584 0.95942133 0.87194826]\n",
    "# mean: 0.9312684771525119\n",
    "# standard deviation: 0.04196378080611828"
   ]
  },
  {
   "cell_type": "markdown",
   "metadata": {},
   "source": [
    "# Prediction"
   ]
  },
  {
   "cell_type": "code",
   "execution_count": 34,
   "metadata": {},
   "outputs": [],
   "source": [
    "pipe = Pipeline([('PCA', PCA(n_components=90)),\n",
    "                 ('neighbour_features', nf.Neighbour_Features(lag=10)),\n",
    "                 ('classification',lgb.LGBMClassifier(class_weight = 'balanced'))])"
   ]
  },
  {
   "cell_type": "code",
   "execution_count": 35,
   "metadata": {},
   "outputs": [
    {
     "data": {
      "text/plain": [
       "(array([20222.,     0.,     0.,     0.,     0., 20674.,     0.,     0.,\n",
       "            0.,  2304.]),\n",
       " array([1. , 1.2, 1.4, 1.6, 1.8, 2. , 2.2, 2.4, 2.6, 2.8, 3. ]),\n",
       " <BarContainer object of 10 artists>)"
      ]
     },
     "execution_count": 35,
     "metadata": {},
     "output_type": "execute_result"
    },
    {
     "data": {
      "image/png": "[encoded data removed]",
      "text/plain": [
       "<Figure size 432x288 with 1 Axes>"
      ]
     },
     "metadata": {
      "needs_background": "light"
     },
     "output_type": "display_data"
    }
   ],
   "source": [
    "pipe.fit(X,y)\n",
    "y_pred = pipe.predict(X_test)\n",
    "plt.hist(y_pred)\n",
    "\n"
   ]
  },
  {
   "cell_type": "code",
   "execution_count": 36,
   "metadata": {},
   "outputs": [
    {
     "name": "stdout",
     "output_type": "stream",
     "text": [
      "[1 1 1 ... 1 1 1]\n"
     ]
    }
   ],
   "source": [
    "print(y_pred)"
   ]
  },
  {
   "cell_type": "code",
   "execution_count": 37,
   "metadata": {},
   "outputs": [],
   "source": [
    "y_pred_pd = pd.DataFrame(data=y_pred, columns=[\"y\"])\n",
    "y_pred_pd.to_csv('../../Predictions/LGB_MNE_90_Features_10_neighbours_persubj_scaling.csv', index_label='Id')"
   ]
  },
  {
   "cell_type": "markdown",
   "metadata": {},
   "source": [
    "# Plots"
   ]
  },
  {
   "cell_type": "markdown",
   "metadata": {},
   "source": [
    "**sleep stages of first subject**"
   ]
  },
  {
   "cell_type": "code",
   "execution_count": 5,
   "metadata": {},
   "outputs": [],
   "source": [
    "pipe = Pipeline([('scaling',StandardScaler()),\n",
    "                 ('individual_classification', clt.Classifying_Transformer(lgb.LGBMClassifier(class_weight = 'balanced'))),\n",
    "                 ('smoothing', smcl.Smoothing_Classifier(lgb.LGBMClassifier(class_weight = 'balanced'), lag= 100, border_vote = 5))])"
   ]
  },
  {
   "cell_type": "code",
   "execution_count": 6,
   "metadata": {},
   "outputs": [
    {
     "data": {
      "text/plain": [
       "Pipeline(steps=[('scaling', StandardScaler()),\n",
       "                ('individual_classification',\n",
       "                 Classifying_Transformer(clf=LGBMClassifier(class_weight='balanced'))),\n",
       "                ('smoothing',\n",
       "                 Smoothing_Classifier(clf=LGBMClassifier(class_weight='balanced'),\n",
       "                                      lag=100))])"
      ]
     },
     "execution_count": 6,
     "metadata": {},
     "output_type": "execute_result"
    }
   ],
   "source": [
    "n_epochs = 21600\n",
    "X_train_split = X[:2*n_epochs]\n",
    "y_train_split = y[:2*n_epochs]\n",
    "pipe.fit(X_train_split, y_train_split)"
   ]
  },
  {
   "cell_type": "code",
   "execution_count": 7,
   "metadata": {},
   "outputs": [],
   "source": [
    "y_train_pred = pipe.predict(X[2*n_epochs:])"
   ]
  },
  {
   "cell_type": "code",
   "execution_count": 12,
   "metadata": {},
   "outputs": [
    {
     "data": {
      "text/html": [
       "<div>\n",
       "<style scoped>\n",
       "    .dataframe tbody tr th:only-of-type {\n",
       "        vertical-align: middle;\n",
       "    }\n",
       "\n",
       "    .dataframe tbody tr th {\n",
       "        vertical-align: top;\n",
       "    }\n",
       "\n",
       "    .dataframe thead th {\n",
       "        text-align: right;\n",
       "    }\n",
       "</style>\n",
       "<table border=\"1\" class=\"dataframe\">\n",
       "  <thead>\n",
       "    <tr style=\"text-align: right;\">\n",
       "      <th></th>\n",
       "      <th>0</th>\n",
       "      <th>1</th>\n",
       "      <th>2</th>\n",
       "      <th>3</th>\n",
       "      <th>4</th>\n",
       "      <th>5</th>\n",
       "      <th>6</th>\n",
       "      <th>7</th>\n",
       "      <th>8</th>\n",
       "      <th>9</th>\n",
       "      <th>...</th>\n",
       "      <th>173</th>\n",
       "      <th>174</th>\n",
       "      <th>175</th>\n",
       "      <th>176</th>\n",
       "      <th>177</th>\n",
       "      <th>178</th>\n",
       "      <th>179</th>\n",
       "      <th>180</th>\n",
       "      <th>181</th>\n",
       "      <th>182</th>\n",
       "    </tr>\n",
       "  </thead>\n",
       "  <tbody>\n",
       "    <tr>\n",
       "      <th>43200</th>\n",
       "      <td>1.033303</td>\n",
       "      <td>0.920015</td>\n",
       "      <td>1.213831</td>\n",
       "      <td>0.078125</td>\n",
       "      <td>0.078125</td>\n",
       "      <td>0.062500</td>\n",
       "      <td>0.000020</td>\n",
       "      <td>0.000033</td>\n",
       "      <td>0.000045</td>\n",
       "      <td>0.000071</td>\n",
       "      <td>...</td>\n",
       "      <td>-0.540018</td>\n",
       "      <td>1.534146e-16</td>\n",
       "      <td>0.837714</td>\n",
       "      <td>2.162286</td>\n",
       "      <td>-0.267581</td>\n",
       "      <td>-0.679056</td>\n",
       "      <td>-0.525617</td>\n",
       "      <td>4.440892e-16</td>\n",
       "      <td>1.257124</td>\n",
       "      <td>1.742876</td>\n",
       "    </tr>\n",
       "    <tr>\n",
       "      <th>43201</th>\n",
       "      <td>1.052345</td>\n",
       "      <td>1.016056</td>\n",
       "      <td>1.202260</td>\n",
       "      <td>0.046875</td>\n",
       "      <td>0.046875</td>\n",
       "      <td>0.070312</td>\n",
       "      <td>0.000007</td>\n",
       "      <td>0.000031</td>\n",
       "      <td>0.000070</td>\n",
       "      <td>0.000092</td>\n",
       "      <td>...</td>\n",
       "      <td>-0.557447</td>\n",
       "      <td>2.718501e-16</td>\n",
       "      <td>0.800382</td>\n",
       "      <td>2.199618</td>\n",
       "      <td>-0.275834</td>\n",
       "      <td>-0.704314</td>\n",
       "      <td>-0.488074</td>\n",
       "      <td>2.220446e-16</td>\n",
       "      <td>1.254318</td>\n",
       "      <td>1.745682</td>\n",
       "    </tr>\n",
       "    <tr>\n",
       "      <th>43202</th>\n",
       "      <td>1.100242</td>\n",
       "      <td>1.020074</td>\n",
       "      <td>1.262230</td>\n",
       "      <td>0.078125</td>\n",
       "      <td>0.062500</td>\n",
       "      <td>0.070312</td>\n",
       "      <td>0.000030</td>\n",
       "      <td>0.000028</td>\n",
       "      <td>0.000039</td>\n",
       "      <td>0.000063</td>\n",
       "      <td>...</td>\n",
       "      <td>-0.668729</td>\n",
       "      <td>4.375348e-16</td>\n",
       "      <td>0.624054</td>\n",
       "      <td>2.375946</td>\n",
       "      <td>-0.307308</td>\n",
       "      <td>-0.715366</td>\n",
       "      <td>-0.445100</td>\n",
       "      <td>2.220446e-16</td>\n",
       "      <td>1.266975</td>\n",
       "      <td>1.733025</td>\n",
       "    </tr>\n",
       "    <tr>\n",
       "      <th>43203</th>\n",
       "      <td>1.032172</td>\n",
       "      <td>1.003457</td>\n",
       "      <td>1.167331</td>\n",
       "      <td>0.046875</td>\n",
       "      <td>0.039062</td>\n",
       "      <td>0.054688</td>\n",
       "      <td>0.000008</td>\n",
       "      <td>0.000039</td>\n",
       "      <td>0.000072</td>\n",
       "      <td>0.000082</td>\n",
       "      <td>...</td>\n",
       "      <td>-0.538612</td>\n",
       "      <td>4.900594e-17</td>\n",
       "      <td>0.928500</td>\n",
       "      <td>2.071500</td>\n",
       "      <td>-0.245851</td>\n",
       "      <td>-0.683546</td>\n",
       "      <td>-0.539455</td>\n",
       "      <td>0.000000e+00</td>\n",
       "      <td>1.237915</td>\n",
       "      <td>1.762085</td>\n",
       "    </tr>\n",
       "    <tr>\n",
       "      <th>43204</th>\n",
       "      <td>1.103244</td>\n",
       "      <td>1.040231</td>\n",
       "      <td>1.319207</td>\n",
       "      <td>0.046875</td>\n",
       "      <td>0.101562</td>\n",
       "      <td>0.062500</td>\n",
       "      <td>0.000009</td>\n",
       "      <td>0.000032</td>\n",
       "      <td>0.000062</td>\n",
       "      <td>0.000072</td>\n",
       "      <td>...</td>\n",
       "      <td>-0.769731</td>\n",
       "      <td>8.474383e-16</td>\n",
       "      <td>0.486642</td>\n",
       "      <td>2.513358</td>\n",
       "      <td>-0.200466</td>\n",
       "      <td>-0.737942</td>\n",
       "      <td>-0.513232</td>\n",
       "      <td>0.000000e+00</td>\n",
       "      <td>1.186706</td>\n",
       "      <td>1.813294</td>\n",
       "    </tr>\n",
       "    <tr>\n",
       "      <th>...</th>\n",
       "      <td>...</td>\n",
       "      <td>...</td>\n",
       "      <td>...</td>\n",
       "      <td>...</td>\n",
       "      <td>...</td>\n",
       "      <td>...</td>\n",
       "      <td>...</td>\n",
       "      <td>...</td>\n",
       "      <td>...</td>\n",
       "      <td>...</td>\n",
       "      <td>...</td>\n",
       "      <td>...</td>\n",
       "      <td>...</td>\n",
       "      <td>...</td>\n",
       "      <td>...</td>\n",
       "      <td>...</td>\n",
       "      <td>...</td>\n",
       "      <td>...</td>\n",
       "      <td>...</td>\n",
       "      <td>...</td>\n",
       "      <td>...</td>\n",
       "    </tr>\n",
       "    <tr>\n",
       "      <th>64795</th>\n",
       "      <td>1.263937</td>\n",
       "      <td>1.272850</td>\n",
       "      <td>1.239550</td>\n",
       "      <td>0.070312</td>\n",
       "      <td>0.390625</td>\n",
       "      <td>0.070312</td>\n",
       "      <td>0.000009</td>\n",
       "      <td>0.000009</td>\n",
       "      <td>0.000012</td>\n",
       "      <td>0.000041</td>\n",
       "      <td>...</td>\n",
       "      <td>-0.463078</td>\n",
       "      <td>2.220446e-16</td>\n",
       "      <td>1.162657</td>\n",
       "      <td>1.837343</td>\n",
       "      <td>-0.225991</td>\n",
       "      <td>-0.684277</td>\n",
       "      <td>-0.555716</td>\n",
       "      <td>4.440892e-16</td>\n",
       "      <td>1.220487</td>\n",
       "      <td>1.779513</td>\n",
       "    </tr>\n",
       "    <tr>\n",
       "      <th>64796</th>\n",
       "      <td>1.312695</td>\n",
       "      <td>1.271152</td>\n",
       "      <td>1.216475</td>\n",
       "      <td>0.054688</td>\n",
       "      <td>0.070312</td>\n",
       "      <td>0.078125</td>\n",
       "      <td>0.000011</td>\n",
       "      <td>0.000012</td>\n",
       "      <td>0.000016</td>\n",
       "      <td>0.000038</td>\n",
       "      <td>...</td>\n",
       "      <td>-0.400807</td>\n",
       "      <td>4.440892e-16</td>\n",
       "      <td>1.203524</td>\n",
       "      <td>1.796476</td>\n",
       "      <td>-0.364802</td>\n",
       "      <td>-0.700232</td>\n",
       "      <td>-0.409270</td>\n",
       "      <td>2.220446e-16</td>\n",
       "      <td>1.297745</td>\n",
       "      <td>1.702255</td>\n",
       "    </tr>\n",
       "    <tr>\n",
       "      <th>64797</th>\n",
       "      <td>1.321057</td>\n",
       "      <td>1.307834</td>\n",
       "      <td>1.310242</td>\n",
       "      <td>0.070312</td>\n",
       "      <td>0.164062</td>\n",
       "      <td>0.062500</td>\n",
       "      <td>0.000005</td>\n",
       "      <td>0.000011</td>\n",
       "      <td>0.000012</td>\n",
       "      <td>0.000041</td>\n",
       "      <td>...</td>\n",
       "      <td>-0.232369</td>\n",
       "      <td>4.440892e-16</td>\n",
       "      <td>1.197799</td>\n",
       "      <td>1.802201</td>\n",
       "      <td>-0.255276</td>\n",
       "      <td>-0.698100</td>\n",
       "      <td>-0.514069</td>\n",
       "      <td>2.220446e-16</td>\n",
       "      <td>1.241587</td>\n",
       "      <td>1.758413</td>\n",
       "    </tr>\n",
       "    <tr>\n",
       "      <th>64798</th>\n",
       "      <td>1.359234</td>\n",
       "      <td>1.309974</td>\n",
       "      <td>1.230043</td>\n",
       "      <td>0.054688</td>\n",
       "      <td>0.054688</td>\n",
       "      <td>0.070312</td>\n",
       "      <td>0.000004</td>\n",
       "      <td>0.000011</td>\n",
       "      <td>0.000012</td>\n",
       "      <td>0.000049</td>\n",
       "      <td>...</td>\n",
       "      <td>-0.199717</td>\n",
       "      <td>4.440892e-16</td>\n",
       "      <td>1.104670</td>\n",
       "      <td>1.895330</td>\n",
       "      <td>-0.313636</td>\n",
       "      <td>-0.705308</td>\n",
       "      <td>-0.451922</td>\n",
       "      <td>0.000000e+00</td>\n",
       "      <td>1.276258</td>\n",
       "      <td>1.723742</td>\n",
       "    </tr>\n",
       "    <tr>\n",
       "      <th>64799</th>\n",
       "      <td>1.359234</td>\n",
       "      <td>1.309974</td>\n",
       "      <td>1.230043</td>\n",
       "      <td>0.054688</td>\n",
       "      <td>0.054688</td>\n",
       "      <td>0.070312</td>\n",
       "      <td>0.000004</td>\n",
       "      <td>0.000011</td>\n",
       "      <td>0.000012</td>\n",
       "      <td>0.000049</td>\n",
       "      <td>...</td>\n",
       "      <td>-0.199717</td>\n",
       "      <td>4.440892e-16</td>\n",
       "      <td>1.104670</td>\n",
       "      <td>1.895330</td>\n",
       "      <td>-0.313636</td>\n",
       "      <td>-0.705308</td>\n",
       "      <td>-0.451922</td>\n",
       "      <td>0.000000e+00</td>\n",
       "      <td>1.276258</td>\n",
       "      <td>1.723742</td>\n",
       "    </tr>\n",
       "  </tbody>\n",
       "</table>\n",
       "<p>21600 rows × 183 columns</p>\n",
       "</div>"
      ],
      "text/plain": [
       "            0         1         2         3         4         5         6    \\\n",
       "43200  1.033303  0.920015  1.213831  0.078125  0.078125  0.062500  0.000020   \n",
       "43201  1.052345  1.016056  1.202260  0.046875  0.046875  0.070312  0.000007   \n",
       "43202  1.100242  1.020074  1.262230  0.078125  0.062500  0.070312  0.000030   \n",
       "43203  1.032172  1.003457  1.167331  0.046875  0.039062  0.054688  0.000008   \n",
       "43204  1.103244  1.040231  1.319207  0.046875  0.101562  0.062500  0.000009   \n",
       "...         ...       ...       ...       ...       ...       ...       ...   \n",
       "64795  1.263937  1.272850  1.239550  0.070312  0.390625  0.070312  0.000009   \n",
       "64796  1.312695  1.271152  1.216475  0.054688  0.070312  0.078125  0.000011   \n",
       "64797  1.321057  1.307834  1.310242  0.070312  0.164062  0.062500  0.000005   \n",
       "64798  1.359234  1.309974  1.230043  0.054688  0.054688  0.070312  0.000004   \n",
       "64799  1.359234  1.309974  1.230043  0.054688  0.054688  0.070312  0.000004   \n",
       "\n",
       "            7         8         9    ...       173           174       175  \\\n",
       "43200  0.000033  0.000045  0.000071  ... -0.540018  1.534146e-16  0.837714   \n",
       "43201  0.000031  0.000070  0.000092  ... -0.557447  2.718501e-16  0.800382   \n",
       "43202  0.000028  0.000039  0.000063  ... -0.668729  4.375348e-16  0.624054   \n",
       "43203  0.000039  0.000072  0.000082  ... -0.538612  4.900594e-17  0.928500   \n",
       "43204  0.000032  0.000062  0.000072  ... -0.769731  8.474383e-16  0.486642   \n",
       "...         ...       ...       ...  ...       ...           ...       ...   \n",
       "64795  0.000009  0.000012  0.000041  ... -0.463078  2.220446e-16  1.162657   \n",
       "64796  0.000012  0.000016  0.000038  ... -0.400807  4.440892e-16  1.203524   \n",
       "64797  0.000011  0.000012  0.000041  ... -0.232369  4.440892e-16  1.197799   \n",
       "64798  0.000011  0.000012  0.000049  ... -0.199717  4.440892e-16  1.104670   \n",
       "64799  0.000011  0.000012  0.000049  ... -0.199717  4.440892e-16  1.104670   \n",
       "\n",
       "            176       177       178       179           180       181  \\\n",
       "43200  2.162286 -0.267581 -0.679056 -0.525617  4.440892e-16  1.257124   \n",
       "43201  2.199618 -0.275834 -0.704314 -0.488074  2.220446e-16  1.254318   \n",
       "43202  2.375946 -0.307308 -0.715366 -0.445100  2.220446e-16  1.266975   \n",
       "43203  2.071500 -0.245851 -0.683546 -0.539455  0.000000e+00  1.237915   \n",
       "43204  2.513358 -0.200466 -0.737942 -0.513232  0.000000e+00  1.186706   \n",
       "...         ...       ...       ...       ...           ...       ...   \n",
       "64795  1.837343 -0.225991 -0.684277 -0.555716  4.440892e-16  1.220487   \n",
       "64796  1.796476 -0.364802 -0.700232 -0.409270  2.220446e-16  1.297745   \n",
       "64797  1.802201 -0.255276 -0.698100 -0.514069  2.220446e-16  1.241587   \n",
       "64798  1.895330 -0.313636 -0.705308 -0.451922  0.000000e+00  1.276258   \n",
       "64799  1.895330 -0.313636 -0.705308 -0.451922  0.000000e+00  1.276258   \n",
       "\n",
       "            182  \n",
       "43200  1.742876  \n",
       "43201  1.745682  \n",
       "43202  1.733025  \n",
       "43203  1.762085  \n",
       "43204  1.813294  \n",
       "...         ...  \n",
       "64795  1.779513  \n",
       "64796  1.702255  \n",
       "64797  1.758413  \n",
       "64798  1.723742  \n",
       "64799  1.723742  \n",
       "\n",
       "[21600 rows x 183 columns]"
      ]
     },
     "execution_count": 12,
     "metadata": {},
     "output_type": "execute_result"
    }
   ],
   "source": [
    "X[2*n_epochs:]"
   ]
  },
  {
   "cell_type": "code",
   "execution_count": 11,
   "metadata": {},
   "outputs": [
    {
     "data": {
      "text/plain": [
       "<matplotlib.collections.PathCollection at 0x7fc25fa8ced0>"
      ]
     },
     "execution_count": 11,
     "metadata": {},
     "output_type": "execute_result"
    },
    {
     "data": {
      "image/png": "[encoded data removed]",
      "text/plain": [
       "<Figure size 720x360 with 1 Axes>"
      ]
     },
     "metadata": {
      "needs_background": "light"
     },
     "output_type": "display_data"
    }
   ],
   "source": [
    "stages=y[n_epochs:n_epochs+100]\n",
    "time = range(len(stages))\n",
    "plt.gcf().set_size_inches(*(10,5))\n",
    "plt.scatter(time, stages, s=1)"
   ]
  },
  {
   "cell_type": "code",
   "execution_count": 15,
   "metadata": {},
   "outputs": [
    {
     "data": {
      "text/plain": [
       "<matplotlib.collections.PathCollection at 0x7f7c6e29edd0>"
      ]
     },
     "execution_count": 15,
     "metadata": {},
     "output_type": "execute_result"
    },
    {
     "data": {
      "image/png": "[encoded data removed]",
      "text/plain": [
       "<Figure size 720x360 with 1 Axes>"
      ]
     },
     "metadata": {
      "needs_background": "light"
     },
     "output_type": "display_data"
    }
   ],
   "source": [
    "stages_pred = y_train_pred[9000:10000]\n",
    "time = range(len(stages_pred))\n",
    "plt.gcf().set_size_inches(*(10,5))\n",
    "plt.scatter(time, stages_pred, s=1)"
   ]
  },
  {
   "cell_type": "code",
   "execution_count": 12,
   "metadata": {},
   "outputs": [],
   "source": [
    "pipe2 = Pipeline([('scaling',StandardScaler()),\n",
    "                 ('classification', lgb.LGBMClassifier(class_weight = 'balanced'))])\n",
    "pipe2.fit(X_train_split, y_train_split)\n",
    "y_train_pred2 = pipe2.predict(X[2*n_epochs:])"
   ]
  },
  {
   "cell_type": "code",
   "execution_count": 14,
   "metadata": {},
   "outputs": [
    {
     "data": {
      "text/plain": [
       "<matplotlib.collections.PathCollection at 0x7f7c6e49ac10>"
      ]
     },
     "execution_count": 14,
     "metadata": {},
     "output_type": "execute_result"
    },
    {
     "data": {
      "image/png": "[encoded data removed]",
      "text/plain": [
       "<Figure size 720x360 with 1 Axes>"
      ]
     },
     "metadata": {
      "needs_background": "light"
     },
     "output_type": "display_data"
    }
   ],
   "source": [
    "stages_pred2 = y_train_pred2[9000:10000]\n",
    "time = range(len(stages_pred2))\n",
    "plt.gcf().set_size_inches(*(10,5))\n",
    "plt.scatter(time, stages_pred2, s=1)"
   ]
  },
  {
   "cell_type": "code",
   "execution_count": 24,
   "metadata": {},
   "outputs": [
    {
     "data": {
      "text/html": [
       "<div>\n",
       "<style scoped>\n",
       "    .dataframe tbody tr th:only-of-type {\n",
       "        vertical-align: middle;\n",
       "    }\n",
       "\n",
       "    .dataframe tbody tr th {\n",
       "        vertical-align: top;\n",
       "    }\n",
       "\n",
       "    .dataframe thead th {\n",
       "        text-align: right;\n",
       "    }\n",
       "</style>\n",
       "<table border=\"1\" class=\"dataframe\">\n",
       "  <thead>\n",
       "    <tr style=\"text-align: right;\">\n",
       "      <th></th>\n",
       "      <th>0</th>\n",
       "      <th>1</th>\n",
       "      <th>2</th>\n",
       "      <th>3</th>\n",
       "      <th>4</th>\n",
       "      <th>5</th>\n",
       "      <th>6</th>\n",
       "      <th>7</th>\n",
       "      <th>8</th>\n",
       "      <th>9</th>\n",
       "      <th>...</th>\n",
       "      <th>173</th>\n",
       "      <th>174</th>\n",
       "      <th>175</th>\n",
       "      <th>176</th>\n",
       "      <th>177</th>\n",
       "      <th>178</th>\n",
       "      <th>179</th>\n",
       "      <th>180</th>\n",
       "      <th>181</th>\n",
       "      <th>182</th>\n",
       "    </tr>\n",
       "  </thead>\n",
       "  <tbody>\n",
       "    <tr>\n",
       "      <th>0</th>\n",
       "      <td>-0.066646</td>\n",
       "      <td>-0.690627</td>\n",
       "      <td>0.485750</td>\n",
       "      <td>-0.197554</td>\n",
       "      <td>-0.321530</td>\n",
       "      <td>0.045072</td>\n",
       "      <td>-0.678207</td>\n",
       "      <td>1.381841</td>\n",
       "      <td>-0.233240</td>\n",
       "      <td>-0.939449</td>\n",
       "      <td>...</td>\n",
       "      <td>0.212532</td>\n",
       "      <td>-0.238351</td>\n",
       "      <td>-0.802309</td>\n",
       "      <td>0.802309</td>\n",
       "      <td>1.971968</td>\n",
       "      <td>-1.865146</td>\n",
       "      <td>-0.871820</td>\n",
       "      <td>-0.125381</td>\n",
       "      <td>-2.010804</td>\n",
       "      <td>2.010804</td>\n",
       "    </tr>\n",
       "    <tr>\n",
       "      <th>1</th>\n",
       "      <td>-0.648138</td>\n",
       "      <td>0.265557</td>\n",
       "      <td>0.699973</td>\n",
       "      <td>-0.197554</td>\n",
       "      <td>-0.321530</td>\n",
       "      <td>0.045072</td>\n",
       "      <td>0.130485</td>\n",
       "      <td>2.422138</td>\n",
       "      <td>1.034120</td>\n",
       "      <td>-0.063093</td>\n",
       "      <td>...</td>\n",
       "      <td>1.149181</td>\n",
       "      <td>-0.805549</td>\n",
       "      <td>-0.238795</td>\n",
       "      <td>0.238795</td>\n",
       "      <td>0.128515</td>\n",
       "      <td>-2.034068</td>\n",
       "      <td>1.645800</td>\n",
       "      <td>-1.186307</td>\n",
       "      <td>-0.356570</td>\n",
       "      <td>0.356570</td>\n",
       "    </tr>\n",
       "    <tr>\n",
       "      <th>2</th>\n",
       "      <td>-0.490831</td>\n",
       "      <td>-0.606445</td>\n",
       "      <td>0.415697</td>\n",
       "      <td>-0.197554</td>\n",
       "      <td>-0.136585</td>\n",
       "      <td>0.142109</td>\n",
       "      <td>0.174399</td>\n",
       "      <td>1.625248</td>\n",
       "      <td>2.405179</td>\n",
       "      <td>0.646058</td>\n",
       "      <td>...</td>\n",
       "      <td>1.001076</td>\n",
       "      <td>-0.505047</td>\n",
       "      <td>-0.375062</td>\n",
       "      <td>0.375062</td>\n",
       "      <td>1.206077</td>\n",
       "      <td>-1.342231</td>\n",
       "      <td>-0.413092</td>\n",
       "      <td>0.935544</td>\n",
       "      <td>-1.214057</td>\n",
       "      <td>1.214057</td>\n",
       "    </tr>\n",
       "    <tr>\n",
       "      <th>3</th>\n",
       "      <td>-0.369860</td>\n",
       "      <td>-0.938691</td>\n",
       "      <td>0.617876</td>\n",
       "      <td>-0.278489</td>\n",
       "      <td>-0.506474</td>\n",
       "      <td>0.077417</td>\n",
       "      <td>0.044916</td>\n",
       "      <td>1.589107</td>\n",
       "      <td>1.182479</td>\n",
       "      <td>0.261369</td>\n",
       "      <td>...</td>\n",
       "      <td>-0.604258</td>\n",
       "      <td>0.279663</td>\n",
       "      <td>-1.417694</td>\n",
       "      <td>1.417694</td>\n",
       "      <td>2.761541</td>\n",
       "      <td>-1.909184</td>\n",
       "      <td>-1.740949</td>\n",
       "      <td>-0.125381</td>\n",
       "      <td>-2.830885</td>\n",
       "      <td>2.830885</td>\n",
       "    </tr>\n",
       "    <tr>\n",
       "      <th>4</th>\n",
       "      <td>-0.994081</td>\n",
       "      <td>-0.398864</td>\n",
       "      <td>0.531921</td>\n",
       "      <td>-0.116618</td>\n",
       "      <td>-0.506474</td>\n",
       "      <td>0.045072</td>\n",
       "      <td>0.791554</td>\n",
       "      <td>3.374690</td>\n",
       "      <td>1.369616</td>\n",
       "      <td>-0.720281</td>\n",
       "      <td>...</td>\n",
       "      <td>-0.833770</td>\n",
       "      <td>-0.600788</td>\n",
       "      <td>-1.495602</td>\n",
       "      <td>1.495602</td>\n",
       "      <td>1.788389</td>\n",
       "      <td>-2.405526</td>\n",
       "      <td>-0.149813</td>\n",
       "      <td>-0.125381</td>\n",
       "      <td>-1.848910</td>\n",
       "      <td>1.848910</td>\n",
       "    </tr>\n",
       "    <tr>\n",
       "      <th>...</th>\n",
       "      <td>...</td>\n",
       "      <td>...</td>\n",
       "      <td>...</td>\n",
       "      <td>...</td>\n",
       "      <td>...</td>\n",
       "      <td>...</td>\n",
       "      <td>...</td>\n",
       "      <td>...</td>\n",
       "      <td>...</td>\n",
       "      <td>...</td>\n",
       "      <td>...</td>\n",
       "      <td>...</td>\n",
       "      <td>...</td>\n",
       "      <td>...</td>\n",
       "      <td>...</td>\n",
       "      <td>...</td>\n",
       "      <td>...</td>\n",
       "      <td>...</td>\n",
       "      <td>...</td>\n",
       "      <td>...</td>\n",
       "      <td>...</td>\n",
       "    </tr>\n",
       "    <tr>\n",
       "      <th>21595</th>\n",
       "      <td>0.513438</td>\n",
       "      <td>0.603925</td>\n",
       "      <td>-0.180089</td>\n",
       "      <td>0.297147</td>\n",
       "      <td>3.105516</td>\n",
       "      <td>0.042000</td>\n",
       "      <td>-0.227269</td>\n",
       "      <td>-1.331266</td>\n",
       "      <td>-1.337540</td>\n",
       "      <td>-0.340679</td>\n",
       "      <td>...</td>\n",
       "      <td>0.133635</td>\n",
       "      <td>-0.153358</td>\n",
       "      <td>0.398349</td>\n",
       "      <td>-0.398349</td>\n",
       "      <td>0.691443</td>\n",
       "      <td>0.865870</td>\n",
       "      <td>-1.619834</td>\n",
       "      <td>0.838616</td>\n",
       "      <td>-0.358980</td>\n",
       "      <td>0.358980</td>\n",
       "    </tr>\n",
       "    <tr>\n",
       "      <th>21596</th>\n",
       "      <td>0.907318</td>\n",
       "      <td>0.592089</td>\n",
       "      <td>-0.445869</td>\n",
       "      <td>-0.113248</td>\n",
       "      <td>0.020262</td>\n",
       "      <td>0.090191</td>\n",
       "      <td>0.007949</td>\n",
       "      <td>-1.084867</td>\n",
       "      <td>-1.088232</td>\n",
       "      <td>-0.550730</td>\n",
       "      <td>...</td>\n",
       "      <td>0.557643</td>\n",
       "      <td>0.896786</td>\n",
       "      <td>0.538996</td>\n",
       "      <td>-0.538996</td>\n",
       "      <td>-1.551074</td>\n",
       "      <td>0.448294</td>\n",
       "      <td>1.343886</td>\n",
       "      <td>-0.183329</td>\n",
       "      <td>1.164834</td>\n",
       "      <td>-1.164834</td>\n",
       "    </tr>\n",
       "    <tr>\n",
       "      <th>21597</th>\n",
       "      <td>0.974873</td>\n",
       "      <td>0.847782</td>\n",
       "      <td>0.634137</td>\n",
       "      <td>0.297147</td>\n",
       "      <td>0.923263</td>\n",
       "      <td>-0.006191</td>\n",
       "      <td>-0.676312</td>\n",
       "      <td>-1.189857</td>\n",
       "      <td>-1.334709</td>\n",
       "      <td>-0.372737</td>\n",
       "      <td>...</td>\n",
       "      <td>1.704545</td>\n",
       "      <td>0.896786</td>\n",
       "      <td>0.519292</td>\n",
       "      <td>-0.519292</td>\n",
       "      <td>0.218337</td>\n",
       "      <td>0.504081</td>\n",
       "      <td>-0.776997</td>\n",
       "      <td>-0.183329</td>\n",
       "      <td>0.057197</td>\n",
       "      <td>-0.057197</td>\n",
       "    </tr>\n",
       "    <tr>\n",
       "      <th>21598</th>\n",
       "      <td>1.283273</td>\n",
       "      <td>0.862702</td>\n",
       "      <td>-0.289594</td>\n",
       "      <td>-0.113248</td>\n",
       "      <td>-0.130238</td>\n",
       "      <td>0.042000</td>\n",
       "      <td>-0.829319</td>\n",
       "      <td>-1.105023</td>\n",
       "      <td>-1.347927</td>\n",
       "      <td>0.180751</td>\n",
       "      <td>...</td>\n",
       "      <td>1.926877</td>\n",
       "      <td>0.896786</td>\n",
       "      <td>0.198783</td>\n",
       "      <td>-0.198783</td>\n",
       "      <td>-0.724478</td>\n",
       "      <td>0.315440</td>\n",
       "      <td>0.480710</td>\n",
       "      <td>-1.205273</td>\n",
       "      <td>0.741029</td>\n",
       "      <td>-0.741029</td>\n",
       "    </tr>\n",
       "    <tr>\n",
       "      <th>21599</th>\n",
       "      <td>1.283273</td>\n",
       "      <td>0.862702</td>\n",
       "      <td>-0.289594</td>\n",
       "      <td>-0.113248</td>\n",
       "      <td>-0.130238</td>\n",
       "      <td>0.042000</td>\n",
       "      <td>-0.829319</td>\n",
       "      <td>-1.105023</td>\n",
       "      <td>-1.347927</td>\n",
       "      <td>0.180751</td>\n",
       "      <td>...</td>\n",
       "      <td>1.926877</td>\n",
       "      <td>0.896786</td>\n",
       "      <td>0.198783</td>\n",
       "      <td>-0.198783</td>\n",
       "      <td>-0.724478</td>\n",
       "      <td>0.315440</td>\n",
       "      <td>0.480710</td>\n",
       "      <td>-1.205273</td>\n",
       "      <td>0.741029</td>\n",
       "      <td>-0.741029</td>\n",
       "    </tr>\n",
       "  </tbody>\n",
       "</table>\n",
       "<p>64800 rows × 183 columns</p>\n",
       "</div>"
      ],
      "text/plain": [
       "            0         1         2         3         4         5         6    \\\n",
       "0     -0.066646 -0.690627  0.485750 -0.197554 -0.321530  0.045072 -0.678207   \n",
       "1     -0.648138  0.265557  0.699973 -0.197554 -0.321530  0.045072  0.130485   \n",
       "2     -0.490831 -0.606445  0.415697 -0.197554 -0.136585  0.142109  0.174399   \n",
       "3     -0.369860 -0.938691  0.617876 -0.278489 -0.506474  0.077417  0.044916   \n",
       "4     -0.994081 -0.398864  0.531921 -0.116618 -0.506474  0.045072  0.791554   \n",
       "...         ...       ...       ...       ...       ...       ...       ...   \n",
       "21595  0.513438  0.603925 -0.180089  0.297147  3.105516  0.042000 -0.227269   \n",
       "21596  0.907318  0.592089 -0.445869 -0.113248  0.020262  0.090191  0.007949   \n",
       "21597  0.974873  0.847782  0.634137  0.297147  0.923263 -0.006191 -0.676312   \n",
       "21598  1.283273  0.862702 -0.289594 -0.113248 -0.130238  0.042000 -0.829319   \n",
       "21599  1.283273  0.862702 -0.289594 -0.113248 -0.130238  0.042000 -0.829319   \n",
       "\n",
       "            7         8         9    ...       173       174       175  \\\n",
       "0      1.381841 -0.233240 -0.939449  ...  0.212532 -0.238351 -0.802309   \n",
       "1      2.422138  1.034120 -0.063093  ...  1.149181 -0.805549 -0.238795   \n",
       "2      1.625248  2.405179  0.646058  ...  1.001076 -0.505047 -0.375062   \n",
       "3      1.589107  1.182479  0.261369  ... -0.604258  0.279663 -1.417694   \n",
       "4      3.374690  1.369616 -0.720281  ... -0.833770 -0.600788 -1.495602   \n",
       "...         ...       ...       ...  ...       ...       ...       ...   \n",
       "21595 -1.331266 -1.337540 -0.340679  ...  0.133635 -0.153358  0.398349   \n",
       "21596 -1.084867 -1.088232 -0.550730  ...  0.557643  0.896786  0.538996   \n",
       "21597 -1.189857 -1.334709 -0.372737  ...  1.704545  0.896786  0.519292   \n",
       "21598 -1.105023 -1.347927  0.180751  ...  1.926877  0.896786  0.198783   \n",
       "21599 -1.105023 -1.347927  0.180751  ...  1.926877  0.896786  0.198783   \n",
       "\n",
       "            176       177       178       179       180       181       182  \n",
       "0      0.802309  1.971968 -1.865146 -0.871820 -0.125381 -2.010804  2.010804  \n",
       "1      0.238795  0.128515 -2.034068  1.645800 -1.186307 -0.356570  0.356570  \n",
       "2      0.375062  1.206077 -1.342231 -0.413092  0.935544 -1.214057  1.214057  \n",
       "3      1.417694  2.761541 -1.909184 -1.740949 -0.125381 -2.830885  2.830885  \n",
       "4      1.495602  1.788389 -2.405526 -0.149813 -0.125381 -1.848910  1.848910  \n",
       "...         ...       ...       ...       ...       ...       ...       ...  \n",
       "21595 -0.398349  0.691443  0.865870 -1.619834  0.838616 -0.358980  0.358980  \n",
       "21596 -0.538996 -1.551074  0.448294  1.343886 -0.183329  1.164834 -1.164834  \n",
       "21597 -0.519292  0.218337  0.504081 -0.776997 -0.183329  0.057197 -0.057197  \n",
       "21598 -0.198783 -0.724478  0.315440  0.480710 -1.205273  0.741029 -0.741029  \n",
       "21599 -0.198783 -0.724478  0.315440  0.480710 -1.205273  0.741029 -0.741029  \n",
       "\n",
       "[64800 rows x 183 columns]"
      ]
     },
     "execution_count": 24,
     "metadata": {},
     "output_type": "execute_result"
    }
   ],
   "source": [
    "X"
   ]
  },
  {
   "cell_type": "code",
   "execution_count": 39,
   "metadata": {},
   "outputs": [],
   "source": [
    "# tuning:\n",
    "lr = [0.05, 0.1]\n",
    "iterations = [100, 300]\n",
    "max_bin  = [255, 510]\n",
    "num_leaves = [31, 51, 71]\n",
    "parameters = [{'classification__learning_rate': lr, \n",
    "              'classification__num_iterations': iterations}]"
   ]
  },
  {
   "cell_type": "code",
   "execution_count": 36,
   "metadata": {},
   "outputs": [],
   "source": [
    "pipe = Pipeline([('PCA', PCA(n_components=90)),\n",
    "                 ('neighbour_features', nf.Neighbour_Features(lag=10)),\n",
    "                 ('classification',lgb.LGBMClassifier(class_weight = 'balanced'))])"
   ]
  },
  {
   "cell_type": "code",
   "execution_count": 37,
   "metadata": {},
   "outputs": [],
   "source": [
    "n_epochs = 21600\n",
    "splits = [(np.r_[0:2*n_epochs], np.r_[2*n_epochs:3*n_epochs]),\n",
    " (np.r_[0:n_epochs, 2*n_epochs:3*n_epochs], np.r_[n_epochs:2*n_epochs]),\n",
    " (np.r_[n_epochs:3*n_epochs], np.r_[0:n_epochs])]"
   ]
  },
  {
   "cell_type": "code",
   "execution_count": null,
   "metadata": {},
   "outputs": [
    {
     "name": "stdout",
     "output_type": "stream",
     "text": [
      "Fitting 3 folds for each of 4 candidates, totalling 12 fits\n",
      "[CV] classification__learning_rate=0.05, classification__num_iterations=100 \n"
     ]
    },
    {
     "name": "stderr",
     "output_type": "stream",
     "text": [
      "[Parallel(n_jobs=1)]: Using backend SequentialBackend with 1 concurrent workers.\n",
      "/opt/conda/lib/python3.7/site-packages/lightgbm/engine.py:151: UserWarning: Found `num_iterations` in params. Will use it instead of argument\n",
      "  warnings.warn(\"Found `{}` in params. Will use it instead of argument\".format(alias))\n"
     ]
    },
    {
     "name": "stdout",
     "output_type": "stream",
     "text": [
      "[CV]  classification__learning_rate=0.05, classification__num_iterations=100, score=0.962, total=  39.0s\n",
      "[CV] classification__learning_rate=0.05, classification__num_iterations=100 \n"
     ]
    },
    {
     "name": "stderr",
     "output_type": "stream",
     "text": [
      "[Parallel(n_jobs=1)]: Done   1 out of   1 | elapsed:   39.0s remaining:    0.0s\n",
      "/opt/conda/lib/python3.7/site-packages/lightgbm/engine.py:151: UserWarning: Found `num_iterations` in params. Will use it instead of argument\n",
      "  warnings.warn(\"Found `{}` in params. Will use it instead of argument\".format(alias))\n"
     ]
    },
    {
     "name": "stdout",
     "output_type": "stream",
     "text": [
      "[CV]  classification__learning_rate=0.05, classification__num_iterations=100, score=0.964, total=  38.1s\n",
      "[CV] classification__learning_rate=0.05, classification__num_iterations=100 \n"
     ]
    },
    {
     "name": "stderr",
     "output_type": "stream",
     "text": [
      "[Parallel(n_jobs=1)]: Done   2 out of   2 | elapsed:  1.3min remaining:    0.0s\n",
      "/opt/conda/lib/python3.7/site-packages/lightgbm/engine.py:151: UserWarning: Found `num_iterations` in params. Will use it instead of argument\n",
      "  warnings.warn(\"Found `{}` in params. Will use it instead of argument\".format(alias))\n"
     ]
    },
    {
     "name": "stdout",
     "output_type": "stream",
     "text": [
      "[CV]  classification__learning_rate=0.05, classification__num_iterations=100, score=0.876, total=  37.3s\n",
      "[CV] classification__learning_rate=0.05, classification__num_iterations=300 \n"
     ]
    },
    {
     "name": "stderr",
     "output_type": "stream",
     "text": [
      "[Parallel(n_jobs=1)]: Done   3 out of   3 | elapsed:  1.9min remaining:    0.0s\n",
      "/opt/conda/lib/python3.7/site-packages/lightgbm/engine.py:151: UserWarning: Found `num_iterations` in params. Will use it instead of argument\n",
      "  warnings.warn(\"Found `{}` in params. Will use it instead of argument\".format(alias))\n"
     ]
    },
    {
     "name": "stdout",
     "output_type": "stream",
     "text": [
      "[CV]  classification__learning_rate=0.05, classification__num_iterations=300, score=0.962, total= 1.6min\n",
      "[CV] classification__learning_rate=0.05, classification__num_iterations=300 \n"
     ]
    },
    {
     "name": "stderr",
     "output_type": "stream",
     "text": [
      "[Parallel(n_jobs=1)]: Done   4 out of   4 | elapsed:  3.5min remaining:    0.0s\n",
      "/opt/conda/lib/python3.7/site-packages/lightgbm/engine.py:151: UserWarning: Found `num_iterations` in params. Will use it instead of argument\n",
      "  warnings.warn(\"Found `{}` in params. Will use it instead of argument\".format(alias))\n"
     ]
    },
    {
     "name": "stdout",
     "output_type": "stream",
     "text": [
      "[CV]  classification__learning_rate=0.05, classification__num_iterations=300, score=0.962, total= 1.6min\n",
      "[CV] classification__learning_rate=0.05, classification__num_iterations=300 \n"
     ]
    },
    {
     "name": "stderr",
     "output_type": "stream",
     "text": [
      "[Parallel(n_jobs=1)]: Done   5 out of   5 | elapsed:  5.2min remaining:    0.0s\n",
      "/opt/conda/lib/python3.7/site-packages/lightgbm/engine.py:151: UserWarning: Found `num_iterations` in params. Will use it instead of argument\n",
      "  warnings.warn(\"Found `{}` in params. Will use it instead of argument\".format(alias))\n"
     ]
    },
    {
     "name": "stdout",
     "output_type": "stream",
     "text": [
      "[CV]  classification__learning_rate=0.05, classification__num_iterations=300, score=0.875, total= 1.6min\n",
      "[CV] classification__learning_rate=0.1, classification__num_iterations=100 \n"
     ]
    },
    {
     "name": "stderr",
     "output_type": "stream",
     "text": [
      "[Parallel(n_jobs=1)]: Done   6 out of   6 | elapsed:  6.7min remaining:    0.0s\n",
      "/opt/conda/lib/python3.7/site-packages/lightgbm/engine.py:151: UserWarning: Found `num_iterations` in params. Will use it instead of argument\n",
      "  warnings.warn(\"Found `{}` in params. Will use it instead of argument\".format(alias))\n"
     ]
    },
    {
     "name": "stdout",
     "output_type": "stream",
     "text": [
      "[CV]  classification__learning_rate=0.1, classification__num_iterations=100, score=0.962, total=  39.2s\n",
      "[CV] classification__learning_rate=0.1, classification__num_iterations=100 \n"
     ]
    },
    {
     "name": "stderr",
     "output_type": "stream",
     "text": [
      "[Parallel(n_jobs=1)]: Done   7 out of   7 | elapsed:  7.4min remaining:    0.0s\n",
      "/opt/conda/lib/python3.7/site-packages/lightgbm/engine.py:151: UserWarning: Found `num_iterations` in params. Will use it instead of argument\n",
      "  warnings.warn(\"Found `{}` in params. Will use it instead of argument\".format(alias))\n"
     ]
    },
    {
     "name": "stdout",
     "output_type": "stream",
     "text": [
      "[CV]  classification__learning_rate=0.1, classification__num_iterations=100, score=0.964, total=  40.0s\n",
      "[CV] classification__learning_rate=0.1, classification__num_iterations=100 \n"
     ]
    },
    {
     "name": "stderr",
     "output_type": "stream",
     "text": [
      "[Parallel(n_jobs=1)]: Done   8 out of   8 | elapsed:  8.1min remaining:    0.0s\n",
      "/opt/conda/lib/python3.7/site-packages/lightgbm/engine.py:151: UserWarning: Found `num_iterations` in params. Will use it instead of argument\n",
      "  warnings.warn(\"Found `{}` in params. Will use it instead of argument\".format(alias))\n"
     ]
    },
    {
     "name": "stdout",
     "output_type": "stream",
     "text": [
      "[CV]  classification__learning_rate=0.1, classification__num_iterations=100, score=0.876, total=  42.0s\n",
      "[CV] classification__learning_rate=0.1, classification__num_iterations=300 \n"
     ]
    },
    {
     "name": "stderr",
     "output_type": "stream",
     "text": [
      "[Parallel(n_jobs=1)]: Done   9 out of   9 | elapsed:  8.8min remaining:    0.0s\n",
      "/opt/conda/lib/python3.7/site-packages/lightgbm/engine.py:151: UserWarning: Found `num_iterations` in params. Will use it instead of argument\n",
      "  warnings.warn(\"Found `{}` in params. Will use it instead of argument\".format(alias))\n"
     ]
    }
   ],
   "source": [
    "clf = GridSearchCV(pipe, parameters,cv=splits,n_jobs=1,scoring='balanced_accuracy', verbose=10)\n",
    "clf.fit(X, y)\n",
    "print(clf.best_params_)\n",
    "print(clf.best_score_)"
   ]
  },
  {
   "cell_type": "code",
   "execution_count": null,
   "metadata": {},
   "outputs": [],
   "source": []
  }
 ],
 "metadata": {
  "environment": {
   "name": "common-cpu.m58",
   "type": "gcloud",
   "uri": "gcr.io/deeplearning-platform-release/base-cpu:m58"
  },
  "kernelspec": {
   "display_name": "Python 3",
   "language": "python",
   "name": "python3"
  },
  "language_info": {
   "codemirror_mode": {
    "name": "ipython",
    "version": 3
   },
   "file_extension": ".py",
   "mimetype": "text/x-python",
   "name": "python",
   "nbconvert_exporter": "python",
   "pygments_lexer": "ipython3",
   "version": "3.7.8"
  }
 },
 "nbformat": 4,
 "nbformat_minor": 4
}
