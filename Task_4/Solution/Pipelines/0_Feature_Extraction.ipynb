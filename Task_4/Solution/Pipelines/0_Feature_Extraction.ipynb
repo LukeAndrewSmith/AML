{
 "cells": [
  {
   "cell_type": "code",
   "execution_count": 31,
   "metadata": {},
   "outputs": [
    {
     "data": {
      "text/plain": [
       "<module 'Components.feature_extraction' from '../Components/feature_extraction.py'>"
      ]
     },
     "execution_count": 31,
     "metadata": {},
     "output_type": "execute_result"
    }
   ],
   "source": [
    "# General\n",
    "import pandas as pd\n",
    "import numpy as np\n",
    "import mne\n",
    "import mne_features\n",
    "from pprint import pprint\n",
    "\n",
    "# Custom\n",
    "import sys,os\n",
    "sys.path.append( '.' )\n",
    "sys.path.append( '..' )\n",
    "import Components.data_fetching as data_fetching\n",
    "import Components.feature_extraction as feature_extraction\n",
    "\n",
    "# CAREFUL:\n",
    "# If you make changes to a custom module, you have to reload it, i.e rerun this cell\n",
    "import importlib\n",
    "importlib.reload(data_fetching)\n",
    "importlib.reload(feature_extraction)"
   ]
  },
  {
   "cell_type": "markdown",
   "metadata": {},
   "source": [
    "# Feature Extraction"
   ]
  },
  {
   "cell_type": "code",
   "execution_count": 83,
   "metadata": {},
   "outputs": [
    {
     "name": "stderr",
     "output_type": "stream",
     "text": [
      "/opt/conda/lib/python3.7/site-packages/IPython/core/interactiveshell.py:3337: DtypeWarning: Columns (243) have mixed types.Specify dtype option on import or set low_memory=False.\n",
      "  if (await self.run_code(code, result,  async_=asy)):\n"
     ]
    }
   ],
   "source": [
    "x_train_eeg_1, x_train_eeg_2, x_train_emg, _ = data_fetching.get_train_data()\n",
    "# X_test = data_fetching.get_test_data()"
   ]
  },
  {
   "cell_type": "markdown",
   "metadata": {},
   "source": [
    "# Data Exploration"
   ]
  },
  {
   "cell_type": "markdown",
   "metadata": {},
   "source": [
    "## Testing MNE"
   ]
  },
  {
   "cell_type": "code",
   "execution_count": 89,
   "metadata": {},
   "outputs": [
    {
     "name": "stdout",
     "output_type": "stream",
     "text": [
      "(30195, 512)\n"
     ]
    }
   ],
   "source": [
    "print(x_train_eeg_1.shape)"
   ]
  },
  {
   "cell_type": "code",
   "execution_count": null,
   "metadata": {},
   "outputs": [],
   "source": [
    "x_train_sub_1 = np.array([np.array([x_train_eeg_1.iloc[i].to_numpy(),x_train_eeg_1.iloc[i].to_numpy(),x_train_emg.iloc[i].to_numpy()]) for i in range(21600)])\n",
    "x_train_sub_2 = np.array([np.array([x_train_eeg_1.iloc[i].to_numpy(),x_train_eeg_1.iloc[i].to_numpy(),x_train_emg.iloc[i].to_numpy()]) for i in range(21600,2*21600)])\n",
    "x_train_sub_3 = np.array([np.array([x_train_eeg_1.iloc[i].to_numpy(),x_train_eeg_1.iloc[i].to_numpy(),x_train_emg.iloc[i].to_numpy()]) for i in range(2*21600,3*21600)])"
   ]
  },
  {
   "cell_type": "code",
   "execution_count": null,
   "metadata": {},
   "outputs": [],
   "source": [
    "extractor = mne_features.feature_extraction.FeatureExtractor()"
   ]
  },
  {
   "cell_type": "code",
   "execution_count": 71,
   "metadata": {},
   "outputs": [
    {
     "name": "stdout",
     "output_type": "stream",
     "text": [
      "Not setting metadata\n",
      "Not setting metadata\n",
      "21600 matching events found\n",
      "No baseline correction applied\n",
      "0 projection items activated\n",
      "0 bad epochs dropped\n"
     ]
    }
   ],
   "source": [
    "# UNUSED\n",
    "info = mne.create_info(['eeg1','eeg2','emg'],128)\n",
    "sub_1_epochs = mne.EpochsArray(x_train_sub_1,info)\n",
    "# sub_1_epochs.plot(picks=['eeg1','eeg2','emg'],n_epochs=1)"
   ]
  },
  {
   "cell_type": "code",
   "execution_count": 82,
   "metadata": {},
   "outputs": [
    {
     "name": "stdout",
     "output_type": "stream",
     "text": [
      "1.1568965517241379\n"
     ]
    }
   ],
   "source": [
    "print(30195/26100)"
   ]
  },
  {
   "cell_type": "code",
   "execution_count": null,
   "metadata": {},
   "outputs": [],
   "source": []
  }
 ],
 "metadata": {
  "environment": {
   "name": "common-cpu.m58",
   "type": "gcloud",
   "uri": "gcr.io/deeplearning-platform-release/base-cpu:m58"
  },
  "kernelspec": {
   "display_name": "Python 3",
   "language": "python",
   "name": "python3"
  },
  "language_info": {
   "codemirror_mode": {
    "name": "ipython",
    "version": 3
   },
   "file_extension": ".py",
   "mimetype": "text/x-python",
   "name": "python",
   "nbconvert_exporter": "python",
   "pygments_lexer": "ipython3",
   "version": "3.7.8"
  }
 },
 "nbformat": 4,
 "nbformat_minor": 4
}
